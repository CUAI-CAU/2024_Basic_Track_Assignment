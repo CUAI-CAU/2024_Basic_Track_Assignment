{
 "cells": [
  {
   "cell_type": "markdown",
   "id": "ce2a6a3f-9f02-4937-9ab4-a44cf8041efd",
   "metadata": {},
   "source": [
    "# **파이썬 머신러닝 완벽 가이드(개정2판)**\n",
    "#### 권철민 저, 위키북스\n",
    "## **01 파이썬 기반의 머신러닝과 생태계 이해**"
   ]
  },
  {
   "cell_type": "markdown",
   "id": "de07c3db-7c99-4deb-8e3c-81e4c64f13aa",
   "metadata": {},
   "source": [
    "### **03 넘파이**\n",
    "#### **넘파이 ndarray 개요**"
   ]
  },
  {
   "cell_type": "code",
   "execution_count": 1,
   "id": "64f79bf0-93cf-4a0d-a9c8-c45f8807b07a",
   "metadata": {},
   "outputs": [],
   "source": [
    "import numpy as np"
   ]
  },
  {
   "cell_type": "markdown",
   "id": "49c659f7-1646-49dd-8ca2-2f4a3aadc3dd",
   "metadata": {},
   "source": [
    "**ndarray** : numpy의 기반 데이터 타입  \n",
    "**np.array()** : 인자를 ndarray로 변환해 반환  \n",
    "**ndarray.shape** : (row #, col #)"
   ]
  },
  {
   "cell_type": "code",
   "execution_count": 2,
   "id": "b150cf83-fd69-40e3-9bc5-83b81ab57b3c",
   "metadata": {},
   "outputs": [
    {
     "name": "stdout",
     "output_type": "stream",
     "text": [
      "array1 type: <class 'numpy.ndarray'>\n",
      "array1 array 형태: (3,)\n",
      "array2 type: <class 'numpy.ndarray'>\n",
      "array2 array 형태: (2, 3)\n",
      "array3 type: <class 'numpy.ndarray'>\n",
      "array3 array 형태: (1, 3)\n"
     ]
    }
   ],
   "source": [
    "array1 = np.array([1,2,3])\n",
    "print('array1 type:', type(array1))\n",
    "print('array1 array 형태:', array1.shape)  # 1차원 array, 3개의 data \n",
    "\n",
    "array2 = np.array([[1,2,3],\n",
    "                   [2,3,4]])\n",
    "print('array2 type:', type(array2))\n",
    "print('array2 array 형태:', array2.shape)  # 2차원 array, 6개의 data\n",
    "\n",
    "array3 = np.array([[1,2,3]])\n",
    "print('array3 type:', type(array3))\n",
    "print('array3 array 형태:', array3.shape)  # 2차원 array, 3개의 data"
   ]
  },
  {
   "cell_type": "code",
   "execution_count": 3,
   "id": "ddf87e3a-3a62-4d46-b8b8-58de04b759f2",
   "metadata": {},
   "outputs": [
    {
     "name": "stdout",
     "output_type": "stream",
     "text": [
      "array1: 1차원, array2: 2차원, array3: 2차원\n"
     ]
    }
   ],
   "source": [
    "print('array1: {0}차원, array2: {1}차원, array3: {2}차원'.format(array1.ndim, array2.ndim, array3.ndim))"
   ]
  },
  {
   "cell_type": "markdown",
   "id": "23f5fae8-9265-4be5-aa21-5be16b316beb",
   "metadata": {},
   "source": [
    "#### <br/>**ndarray의 데이터 타입**  \n",
    "<br/>ndarray내의 데이터 값은 숫자, 문자열, 불 값 등 모두 가능  \n",
    "int(8bit, 16bit, 32bit), unsigned int(8bit, 16bit, 32bit), float(16bit, 32bit, 64bit, 128bit), coplex 가능  \n",
    "ndarray 내의 데이터 타입은 같은 데이터 타입만 가능 (한 개의 ndarray 객체에 int와 float 동시 사용 불가)  \n",
    "**ndarray.dtype** : ndarray 내의 데이터 타입 확인"
   ]
  },
  {
   "cell_type": "code",
   "execution_count": 4,
   "id": "34815f95-49c5-461b-8e4a-1bdb6f0287bb",
   "metadata": {},
   "outputs": [
    {
     "name": "stdout",
     "output_type": "stream",
     "text": [
      "<class 'list'>\n",
      "<class 'numpy.ndarray'>\n",
      "[1 2 3] int32\n"
     ]
    }
   ],
   "source": [
    "list1 = [1,2,3]\n",
    "print(type(list1))\n",
    "array1 = np.array(list1)\n",
    "print(type(array1))\n",
    "print(array1, array1.dtype)"
   ]
  },
  {
   "cell_type": "markdown",
   "id": "927f907c-2576-41c8-9f3b-ab74630923a0",
   "metadata": {},
   "source": [
    "<br/>다른 데이터 유형이 섞여 있는 리스트를 ndarray로 변경할 경우 데이터 크기가 더 큰 데이터 타입으로 일괄 형 변환"
   ]
  },
  {
   "cell_type": "code",
   "execution_count": 5,
   "id": "cd292241-105e-49b4-bca9-19510cf4bf1a",
   "metadata": {},
   "outputs": [
    {
     "name": "stdout",
     "output_type": "stream",
     "text": [
      "['1' '2' 'test'] <U11\n",
      "[1. 2. 3.] float64\n"
     ]
    }
   ],
   "source": [
    "list2 = [1,2,'test']\n",
    "array2 = np.array(list2)\n",
    "print(array2, array2.dtype)  # int형이 유니코드 문자열 값으로 변환됨\n",
    "\n",
    "list3 = [1,2,3.0]\n",
    "array3 = np.array(list3)\n",
    "print(array3, array3.dtype)  # int형이 float64형으로 변환됨"
   ]
  },
  {
   "cell_type": "markdown",
   "id": "049153b9-f111-4d52-841f-13fb5580b898",
   "metadata": {},
   "source": [
    "<br/> **astype()** : ndarray 내 데이터값의 타입 변경  \n",
    "대용량 데이터의 ndarray를 만들 때 메모리 절약"
   ]
  },
  {
   "cell_type": "code",
   "execution_count": 6,
   "id": "9a4f9523-23a3-4dd8-9f9e-c11d7b628bf1",
   "metadata": {},
   "outputs": [
    {
     "name": "stdout",
     "output_type": "stream",
     "text": [
      "[1. 2. 3.] float64\n",
      "[1 2 3] int32\n",
      "[1 2 3] int32\n"
     ]
    }
   ],
   "source": [
    "array_int = np.array([1,2,3])\n",
    "array_float = array_int.astype('float64')\n",
    "print(array_float, array_float.dtype)\n",
    "\n",
    "array_int1 = array_float.astype('int32')\n",
    "print(array_int1, array_int1.dtype)\n",
    "\n",
    "array_float1 = np.array([1.1, 2.1, 3.1])\n",
    "array_int2 = array_float1.astype('int32')\n",
    "print(array_int2, array_int2.dtype)"
   ]
  },
  {
   "cell_type": "markdown",
   "id": "a81e7bbd-6726-4b9f-86a0-d60976c71fe0",
   "metadata": {},
   "source": [
    "#### <br/>**ndarray를 편리하게 생성하기 - arange, zeros, ones**"
   ]
  },
  {
   "cell_type": "markdown",
   "id": "57232a23-c9a6-4a0c-8474-76b145e71788",
   "metadata": {},
   "source": [
    "<br/> **arange()** : array를 range()로 표현하는 것 (default 함수 인자는 stop 값, start 값도 부여 가능)"
   ]
  },
  {
   "cell_type": "code",
   "execution_count": 7,
   "id": "8e1bdafb-ee04-4bb5-bf5e-6cc94811012c",
   "metadata": {},
   "outputs": [
    {
     "name": "stdout",
     "output_type": "stream",
     "text": [
      "[0 1 2 3 4 5 6 7 8 9]\n",
      "int32 (10,)\n"
     ]
    }
   ],
   "source": [
    "sequence_array = np.arange(10)\n",
    "print(sequence_array)\n",
    "print(sequence_array.dtype, sequence_array.shape)"
   ]
  },
  {
   "cell_type": "markdown",
   "id": "ddaf24df-21e1-4168-98f5-b60e35918037",
   "metadata": {},
   "source": [
    "<br/>**zeros()** : 함수 인자로 튜플 형태의 shape 값을 입력하면 모든 값을 0으로 채운 해당 shape을 가진 ndarray 반환  \n",
    "**ones()** : 함수 인자로 튜플 형태의 shape 값을 입력하면 모든 값을 1으로 채운 해당 shape을 가진 ndarray 반환  \n",
    "함수 인자로 dtype을 정해주지 않으면 default로 float64형의 데이터로 ndarray를 채움"
   ]
  },
  {
   "cell_type": "code",
   "execution_count": 8,
   "id": "9865e17e-eca9-4c74-b0a5-489f9ee4afbb",
   "metadata": {},
   "outputs": [
    {
     "name": "stdout",
     "output_type": "stream",
     "text": [
      "[[0 0]\n",
      " [0 0]\n",
      " [0 0]]\n",
      "int32 (3, 2)\n",
      "[[1. 1.]\n",
      " [1. 1.]\n",
      " [1. 1.]]\n",
      "float64 (3, 2)\n"
     ]
    }
   ],
   "source": [
    "zero_array = np.zeros((3,2), dtype='int32')\n",
    "print(zero_array)\n",
    "print(zero_array.dtype, zero_array.shape)\n",
    "\n",
    "one_array = np.ones((3,2))\n",
    "print(one_array)\n",
    "print(one_array.dtype, one_array.shape)"
   ]
  },
  {
   "cell_type": "markdown",
   "id": "8525c55c-5843-4d10-9232-d4511e468302",
   "metadata": {},
   "source": [
    "#### <br/> **ndarray의 차원과 크기를 변경하는 reshape()**  \n",
    "<br/>**reshape()** : ndarray를 특정 차원 및 크기로 변환, 변환을 원하는 크기를 함수 인자로 부여  \n",
    "인자 튜플의 요소의 개수 = 차원"
   ]
  },
  {
   "cell_type": "code",
   "execution_count": 9,
   "id": "baecad1c-0859-447d-81c4-77b9ab850fb1",
   "metadata": {},
   "outputs": [
    {
     "name": "stdout",
     "output_type": "stream",
     "text": [
      "array1:\n",
      " [0 1 2 3 4 5 6 7 8 9]\n",
      "array2:\n",
      " [[0 1 2 3 4]\n",
      " [5 6 7 8 9]]\n",
      "array3:\n",
      " [[0 1]\n",
      " [2 3]\n",
      " [4 5]\n",
      " [6 7]\n",
      " [8 9]]\n"
     ]
    }
   ],
   "source": [
    "array1 = np.arange(10)\n",
    "print('array1:\\n', array1)\n",
    "\n",
    "array2 = array1.reshape(2,5)\n",
    "print('array2:\\n', array2)\n",
    "\n",
    "array3 = array1.reshape(5,2)\n",
    "print('array3:\\n', array3)"
   ]
  },
  {
   "cell_type": "markdown",
   "id": "058631ec-433b-4102-9886-b0aeec921cab",
   "metadata": {},
   "source": [
    "<br/>지정된 사이즈로 변경이 불가능하면 오류 발생"
   ]
  },
  {
   "cell_type": "code",
   "execution_count": 10,
   "id": "c00d51b5-0190-4d86-bdd1-4cdfbecb16a1",
   "metadata": {},
   "outputs": [
    {
     "ename": "ValueError",
     "evalue": "cannot reshape array of size 10 into shape (4,3)",
     "output_type": "error",
     "traceback": [
      "\u001b[1;31m---------------------------------------------------------------------------\u001b[0m",
      "\u001b[1;31mValueError\u001b[0m                                Traceback (most recent call last)",
      "Cell \u001b[1;32mIn[10], line 1\u001b[0m\n\u001b[1;32m----> 1\u001b[0m array1\u001b[38;5;241m.\u001b[39mreshape(\u001b[38;5;241m4\u001b[39m,\u001b[38;5;241m3\u001b[39m)\n",
      "\u001b[1;31mValueError\u001b[0m: cannot reshape array of size 10 into shape (4,3)"
     ]
    }
   ],
   "source": [
    "array1.reshape(4,3)"
   ]
  },
  {
   "cell_type": "markdown",
   "id": "fd8d95f1-32f1-4cad-a9f1-3db0c593bcbd",
   "metadata": {},
   "source": [
    "<br/>-1을 인자로 사용하면 원래 ndarray와 호환되는 새로운 shape로 변환"
   ]
  },
  {
   "cell_type": "code",
   "execution_count": 11,
   "id": "4a85c489-273d-4a83-807f-a2fa6f9c7fdb",
   "metadata": {},
   "outputs": [
    {
     "name": "stdout",
     "output_type": "stream",
     "text": [
      "[0 1 2 3 4 5 6 7 8 9]\n",
      "arrau2 shape: (2, 5)\n",
      "array3 shape: (5, 2)\n"
     ]
    }
   ],
   "source": [
    "array1 = np.arange(10)\n",
    "print(array1)\n",
    "array2 = array1.reshape(-1,5)  # 고정된 5개의 columns에 맞는 row를 자동으로 생성 -> 2x5=10\n",
    "print('arrau2 shape:', array2.shape)\n",
    "array3 = array1.reshape(5,-1)  # 고정된 5개의 rows에 맞는 columns를 자동으로 생성(2) -> 2x5=10\n",
    "print('array3 shape:', array3.shape)"
   ]
  },
  {
   "cell_type": "markdown",
   "id": "fdef748c-da30-4e7e-822a-de8fb0ac9fa4",
   "metadata": {},
   "source": [
    "<br/>호환될 수 없는 형태는 변환 불가"
   ]
  },
  {
   "cell_type": "code",
   "execution_count": 12,
   "id": "9a7981cd-f238-4bc4-a165-9e6957061390",
   "metadata": {},
   "outputs": [
    {
     "ename": "ValueError",
     "evalue": "cannot reshape array of size 10 into shape (4)",
     "output_type": "error",
     "traceback": [
      "\u001b[1;31m---------------------------------------------------------------------------\u001b[0m",
      "\u001b[1;31mValueError\u001b[0m                                Traceback (most recent call last)",
      "Cell \u001b[1;32mIn[12], line 2\u001b[0m\n\u001b[0;32m      1\u001b[0m array1 \u001b[38;5;241m=\u001b[39m np\u001b[38;5;241m.\u001b[39marange(\u001b[38;5;241m10\u001b[39m)\n\u001b[1;32m----> 2\u001b[0m array4 \u001b[38;5;241m=\u001b[39m array1\u001b[38;5;241m.\u001b[39mreshape(\u001b[38;5;241m-\u001b[39m\u001b[38;5;241m1\u001b[39m,\u001b[38;5;241m4\u001b[39m)\n",
      "\u001b[1;31mValueError\u001b[0m: cannot reshape array of size 10 into shape (4)"
     ]
    }
   ],
   "source": [
    "array1 = np.arange(10)\n",
    "array4 = array1.reshape(-1,4)"
   ]
  },
  {
   "cell_type": "markdown",
   "id": "60c27928-eeb0-46c9-bc67-e9afa478ba38",
   "metadata": {},
   "source": [
    "<br/> **reshape(-1,1)** : 원본 ndarray가 어떤 형태이든 1개의 column을 가진 2차원 ndarray로 변환  \n",
    "여러 개의 넘파이 ndarray는 stack이나 concat으로 결합할 때 각각의 ndarray의 형태를 통일해 유용하게 사용 가능  \n",
    "**tolist()** : ndarray를 list 자료형으로 변환 (아래로 너무 길어지면 보기 불편하니까)"
   ]
  },
  {
   "cell_type": "code",
   "execution_count": 13,
   "id": "0c400f0c-9f48-4bc9-a965-80214cfb4d32",
   "metadata": {},
   "outputs": [
    {
     "name": "stdout",
     "output_type": "stream",
     "text": [
      "array3d:\n",
      " [[[0, 1], [2, 3]], [[4, 5], [6, 7]]]\n",
      "array5:\n",
      " [[0], [1], [2], [3], [4], [5], [6], [7]]\n",
      "array5 shape: (8, 1)\n",
      "array6:\n",
      " [[0], [1], [2], [3], [4], [5], [6], [7]]\n",
      "array6 shape: (8, 1)\n"
     ]
    }
   ],
   "source": [
    "array1 = np.arange(8)\n",
    "array3d = array1.reshape((2,2,2))  # 3차원 ndarray로 변환\n",
    "print('array3d:\\n', array3d.tolist())\n",
    "\n",
    "# 3차원 ndarray를 2차원 ndarray로 변환\n",
    "array5 = array3d.reshape(-1,1)\n",
    "print('array5:\\n', array5.tolist())\n",
    "print('array5 shape:', array5.shape)\n",
    "\n",
    "# 1차원 ndarray를 2차원 ndarray로 변환\n",
    "array6 = array1.reshape(-1,1)\n",
    "print('array6:\\n', array6.tolist())\n",
    "print('array6 shape:', array6.shape)"
   ]
  },
  {
   "cell_type": "markdown",
   "id": "c941285a-bdb5-4c72-9f40-940849eb22f5",
   "metadata": {},
   "source": [
    "#### <br/> **넘파이의 ndarray의 데이터 세트 선택하기 - 인덱싱(indexing)**  \n",
    "1. **특정한 데이터만 추출** : 원하는 위치의 인덱스 값을 지정하면 해당 위치의 데이터 반환\n",
    "2. **슬라이싱(Slicing)** : 연속된 인덱스상의 ndarray를 추출. '시작 인덱스 : 종료 인덱스' -> 시작 인덱스부터 종료 인덱스-1까지에 해당하는 ndarray 반환\n",
    "3. **팬시 인덱싱(Fancy Indexint)** : 일정한 인덱싱 집합을 list 또는 ndarray 형태로 지정해 해당 위치에 있는 데이터의 ndarray 반환\n",
    "4. **불린 인덱싱(Boolean Indexing)** : 특정 조건에 해당하는지 여부인 True/False 값 인덱싱 집합을 기반으로 True에 해당하는 인덱스 위치에 있는 데이터의 ndarray 반환"
   ]
  },
  {
   "cell_type": "markdown",
   "id": "1e8237ce-389d-4a5a-9143-afef0555ec8d",
   "metadata": {},
   "source": [
    "<br/> **단일 값 추출**"
   ]
  },
  {
   "cell_type": "markdown",
   "id": "4a79f043-1a20-4b12-b8ef-81bf188b4c95",
   "metadata": {},
   "source": [
    "ndarray[i] : i+1번째 인덱스 위피의 데이터값"
   ]
  },
  {
   "cell_type": "code",
   "execution_count": 14,
   "id": "c369bd44-c961-4c95-bd2e-25d642626fb2",
   "metadata": {},
   "outputs": [
    {
     "name": "stdout",
     "output_type": "stream",
     "text": [
      "array1: [1 2 3 4 5 6 7 8 9]\n",
      "value: 3\n",
      "<class 'numpy.int32'>\n"
     ]
    }
   ],
   "source": [
    "# 1부터 9까지의 1차원 ndarray 생성\n",
    "array1 = np.arange(start=1, stop=10)\n",
    "print('array1:', array1)\n",
    "\n",
    "# index는 0부터 시작하므로 array1[2]는 3번쩨 index 위치의 데이터값을 의미\n",
    "value = array1[2]\n",
    "print('value:', value)\n",
    "print(type(value))"
   ]
  },
  {
   "cell_type": "markdown",
   "id": "75ea7ca1-eb2f-4afe-9c20-a396a7793d9a",
   "metadata": {},
   "source": [
    "<br/>ndarray[-1] : 맨 뒤의 데이터값  \n",
    "ndarray[-2] : 맨 뒤에서 두 번째의 데이터값"
   ]
  },
  {
   "cell_type": "code",
   "execution_count": 15,
   "id": "e24cc9dd-542e-4403-a708-58792b64baaa",
   "metadata": {},
   "outputs": [
    {
     "name": "stdout",
     "output_type": "stream",
     "text": [
      "맨 뒤의 값: 9  맨 뒤에서 두 번째 값: 8\n"
     ]
    }
   ],
   "source": [
    "print('맨 뒤의 값:', array1[-1], ' 맨 뒤에서 두 번째 값:', array1[-2])"
   ]
  },
  {
   "cell_type": "markdown",
   "id": "70c95f27-0fb4-4b23-8263-d871b377a3a4",
   "metadata": {},
   "source": [
    "<br/>단일 인덱스를 이용해 ndarray 내의 데이터값 수정 가능"
   ]
  },
  {
   "cell_type": "code",
   "execution_count": 16,
   "id": "c8ea9acd-f412-4ed9-8f8c-e55f92a4ed0c",
   "metadata": {},
   "outputs": [
    {
     "name": "stdout",
     "output_type": "stream",
     "text": [
      "array1: [9 2 3 4 5 6 7 8 0]\n"
     ]
    }
   ],
   "source": [
    "array1[0] = 9\n",
    "array1[8] = 0\n",
    "print('array1:', array1)"
   ]
  },
  {
   "cell_type": "markdown",
   "id": "07ff0072-01fd-4563-87eb-1e688e582aaa",
   "metadata": {},
   "source": [
    "<br/>다차원 ndarray에서 단일 값 추출 [row, col]  \n",
    "numpy에서는 row, column 사용되지 않음  \n",
    ">**axis 0** = row 방향 축  \n",
    ">**axis 1** = column 방향 축  \n",
    ">[row = 0, col = 1] = [axis 0 = 0, axis1 = 1]\n",
    "\n",
    "n차원 ndarray는 n개의 axis 가짐"
   ]
  },
  {
   "cell_type": "code",
   "execution_count": 17,
   "id": "63257dc2-b17f-49c0-b26d-d0942ee96a4d",
   "metadata": {},
   "outputs": [
    {
     "name": "stdout",
     "output_type": "stream",
     "text": [
      "[[1 2 3]\n",
      " [4 5 6]\n",
      " [7 8 9]]\n",
      "(row=0, col=0) index 가리키는 값: 1\n",
      "(row=0, col=1) index 가리키는 값: 2\n",
      "(row=1, col=0) index 가리키는 값: 4\n",
      "(row=2, col=2) index 가리키는 값: 9\n"
     ]
    }
   ],
   "source": [
    "array1d = np.arange(1,10)\n",
    "array2d = array1d.reshape(3,3)\n",
    "print(array2d)\n",
    "\n",
    "print('(row=0, col=0) index 가리키는 값:', array2d[0,0])\n",
    "print('(row=0, col=1) index 가리키는 값:', array2d[0,1])\n",
    "print('(row=1, col=0) index 가리키는 값:', array2d[1,0])\n",
    "print('(row=2, col=2) index 가리키는 값:', array2d[2,2])"
   ]
  },
  {
   "cell_type": "markdown",
   "id": "acadff77-0c33-4a9a-9c9b-73742302e06a",
   "metadata": {},
   "source": [
    "<br/>**슬라이싱**  \n",
    "<br/>'시작 인덱스 **:** 종료 인덱스' 기호를 이용해 연속한 데이터를 슬라이싱해서 추출\n",
    "시작 인덱스 ~ 종료 인덱스-1의 위치에 있는 ndarray 반환\n",
    "단일 데이터값 추출을 제외하고 슬라이싱, 팬시 인덱싱, 불린 인덱싱으로 추출된 데이터 세트는 모두 ndarray 타입"
   ]
  },
  {
   "cell_type": "code",
   "execution_count": 18,
   "id": "948bf892-f51c-41d0-951d-a736db8c489a",
   "metadata": {},
   "outputs": [
    {
     "name": "stdout",
     "output_type": "stream",
     "text": [
      "[1 2 3]\n",
      "<class 'numpy.ndarray'>\n"
     ]
    }
   ],
   "source": [
    "array1 = np.arange(1,10)\n",
    "array3 = array1[0:3]\n",
    "print(array3)\n",
    "print(type(array3))"
   ]
  },
  {
   "cell_type": "markdown",
   "id": "fa727abd-a2d8-4d58-940c-e46518093b16",
   "metadata": {},
   "source": [
    "<br/>':' 사이의 시작, 종료 인덱스는 생략 가능  \n",
    "1. 시작 인덱스 생략 : 자동으로 맨 처음 인덱스인 0으로 간주\n",
    "2. 종료 인덱스 생략 : 자동으로 맨 마지막 인덱스로 간주\n",
    "3. 시작/종료 인덱스 생략 : 자동으로 맨 처음/마지막 인덱스로 간주 "
   ]
  },
  {
   "cell_type": "code",
   "execution_count": 19,
   "id": "0ae7e5e2-eb8f-4662-bd0f-73e34a9c264b",
   "metadata": {},
   "outputs": [
    {
     "name": "stdout",
     "output_type": "stream",
     "text": [
      "[1 2 3]\n",
      "[4 5 6 7 8 9]\n",
      "[1 2 3 4 5 6 7 8 9]\n"
     ]
    }
   ],
   "source": [
    "array1 = np.arange(1,10)\n",
    "array4 = array1[:3]   # 0 ~ 2\n",
    "print(array4)\n",
    "\n",
    "array5 = array1[3:]   # 3 ~ 8\n",
    "print(array5)\n",
    "\n",
    "array6 = array1[:]    # 0 ~ 8\n",
    "print(array6)"
   ]
  },
  {
   "cell_type": "markdown",
   "id": "8da47a98-b9d8-400c-858c-3a4f67bb0da3",
   "metadata": {},
   "source": [
    "<br/>2차원 ndarray에서 슬라이싱으로 데이터에 접근  \n",
    "콤마(,)로 row와 column 인덱스를 지칭"
   ]
  },
  {
   "cell_type": "code",
   "execution_count": 20,
   "id": "274b2604-7ae7-4ee4-9f2b-30c4bb1e84ad",
   "metadata": {},
   "outputs": [
    {
     "name": "stdout",
     "output_type": "stream",
     "text": [
      "array2d:\n",
      " [[1 2 3]\n",
      " [4 5 6]\n",
      " [7 8 9]]\n",
      "array2d[0:2, 0:2] \n",
      " [[1 2]\n",
      " [4 5]]\n",
      "array2d[1:3, 0:3] \n",
      " [[4 5 6]\n",
      " [7 8 9]]\n",
      "array2d[1:3, :] \n",
      " [[4 5 6]\n",
      " [7 8 9]]\n",
      "array2d[:, :] \n",
      " [[1 2 3]\n",
      " [4 5 6]\n",
      " [7 8 9]]\n",
      "array2d[:2, 1:] \n",
      " [[2 3]\n",
      " [5 6]]\n",
      "array2d[:2, 0] \n",
      " [1 4]\n"
     ]
    }
   ],
   "source": [
    "array1d = np.arange(1,10)\n",
    "array2d = array1d.reshape(3,3)\n",
    "print('array2d:\\n', array2d)\n",
    "\n",
    "print('array2d[0:2, 0:2] \\n', array2d[0:2, 0:2])\n",
    "print('array2d[1:3, 0:3] \\n', array2d[1:3, 0:3])\n",
    "print('array2d[1:3, :] \\n', array2d[1:3, :])\n",
    "print('array2d[:, :] \\n', array2d[:, :])\n",
    "print('array2d[:2, 1:] \\n', array2d[:2, 1:])\n",
    "print('array2d[:2, 0] \\n', array2d[:2, 0])  # row와 column 축 한쪽에만 슬라이싱 적용, 다른 쪽 축에는 단일 값 인덱스 적용"
   ]
  },
  {
   "cell_type": "markdown",
   "id": "836ee43d-b947-4833-98ab-b7416c4f30d1",
   "metadata": {},
   "source": [
    "<br/> 2차원 ndarray에서 뒤에 오는 인덱스를 없애면 1차원 ndarray를 반환함"
   ]
  },
  {
   "cell_type": "code",
   "execution_count": 21,
   "id": "addde2c5-be06-45a6-ae86-74d6be0f0a17",
   "metadata": {},
   "outputs": [
    {
     "name": "stdout",
     "output_type": "stream",
     "text": [
      "array2d[0]: [1 2 3]\n",
      "array2d[1]: [4 5 6]\n",
      "array2d[0] shape: (3,) array2d[1] shape: (3,)\n"
     ]
    }
   ],
   "source": [
    "print('array2d[0]:', array2d[0])  # row축(asix 0)의 첫 번쨰 row ndarray(1차원) 반환\n",
    "print('array2d[1]:', array2d[1])\n",
    "print('array2d[0] shape:', array2d[0].shape, 'array2d[1] shape:', array2d[1].shape)"
   ]
  },
  {
   "cell_type": "markdown",
   "id": "064858d5-ed32-4618-b552-6d9a74597dbe",
   "metadata": {},
   "source": [
    "<br/>**팬시 인덱싱**  \n",
    "<br/>리스트나 ndarray로 인덱스 집합을 지정하면 해당 위치의 인덱스에 해당하는 ndarray 반환"
   ]
  },
  {
   "cell_type": "code",
   "execution_count": 22,
   "id": "a5e2a7c5-1ece-4bf4-b9bf-b2550a3ba801",
   "metadata": {},
   "outputs": [
    {
     "name": "stdout",
     "output_type": "stream",
     "text": [
      "array2d[[0,1],2] => [3, 6]\n",
      "array2d[[0,1],] 0:2] => [[1, 2], [4, 5]]\n",
      "array2d[[0,1]] => [[1, 2, 3], [4, 5, 6]]\n"
     ]
    }
   ],
   "source": [
    "array1d = np.arange(1,10)\n",
    "array2d = array1d.reshape(3,3)\n",
    "\n",
    "array3 = array2d[[0,1],2]  # row축에 팬시 인덱싱 [0,1] 적용, column축에 단일 값 인덱싱 2 적용, (row,col) 인덱스가 (0,2),(1,2)로 적용됨\n",
    "print('array2d[[0,1],2] =>', array3.tolist())\n",
    "\n",
    "array4 = array2d[[0,1], 0:2]  # ((0,0),(0,1),((1,0),(1,1)) 인덱싱 적용\n",
    "print('array2d[[0,1],] 0:2] =>', array4.tolist())\n",
    "\n",
    "array5 = array2d[[0,1]]  # ((0,:),(1,:)) 인덱싱 적용\n",
    "print('array2d[[0,1]] =>', array5.tolist())"
   ]
  },
  {
   "cell_type": "markdown",
   "id": "f5767e45-e450-453f-b8a4-449fb547eb40",
   "metadata": {},
   "source": [
    "<br/> **불린 인덱싱**  \n",
    "<br/>조건 필터링과 검색 동시에 수행 가능  \n",
    "조건문과 반복문보다 훨씬 간단!  \n",
    "[ ] 내에 조건문 그대로 기재"
   ]
  },
  {
   "cell_type": "code",
   "execution_count": 23,
   "id": "50e017ab-5527-437d-a4f5-d76277638d56",
   "metadata": {},
   "outputs": [
    {
     "name": "stdout",
     "output_type": "stream",
     "text": [
      "array1d > 5 불린 인덱싱 결과 값 : [6 7 8 9]\n"
     ]
    }
   ],
   "source": [
    "array1d = np.arange(1,10)\n",
    "# [] 안에 array1d > 5 Boolean indexing을 적용\n",
    "array3 = array1d[array1d > 5]\n",
    "print('array1d > 5 불린 인덱싱 결과 값 :', array3)"
   ]
  },
  {
   "cell_type": "markdown",
   "id": "ac31b176-1651-4581-ab2e-e94ca65a9eca",
   "metadata": {},
   "source": [
    "<br/>내부 로직\n",
    ">**1.** array1d > 5와 같이 ndarray의 필터링 조건을 [ ] 안에 기재  \n",
    ">**2.** False 값은 무시하고 True값에 해당하는 인덱스 값만 저장 (단, True값 자체인 1을 저장하는 것이 아니라 True값을 가진 인덱스를 저장)  \n",
    ">**3.** 저장된 인덱스 데이터 세트로 ndarray 조회"
   ]
  },
  {
   "cell_type": "code",
   "execution_count": 24,
   "id": "c8b03fcf-4aa6-4896-851f-c8ba5a2d587b",
   "metadata": {},
   "outputs": [
    {
     "data": {
      "text/plain": [
       "array([False, False, False, False, False,  True,  True,  True,  True])"
      ]
     },
     "execution_count": 24,
     "metadata": {},
     "output_type": "execute_result"
    }
   ],
   "source": [
    "array1d > 5  # ndarray 객체에 조건식 할당시 False, True로 이루어진 ndarray 객체 반환"
   ]
  },
  {
   "cell_type": "code",
   "execution_count": 25,
   "id": "16b4a905-16e9-47a0-bf9d-1c82aba49601",
   "metadata": {},
   "outputs": [
    {
     "name": "stdout",
     "output_type": "stream",
     "text": [
      "불린 인덱스로 필터링 결과 : [6 7 8 9]\n"
     ]
    }
   ],
   "source": [
    "boolean_indexes = np.array([False, False, False, False, False, True, True, True, True])  # 인덱스 [5,6,7,8]\n",
    "array3 = array1d[boolean_indexes]  # array1d[[5,6,7,8]] = [6,7,8,9]\n",
    "print('불린 인덱스로 필터링 결과 :', array3)"
   ]
  },
  {
   "cell_type": "code",
   "execution_count": 26,
   "id": "ffa83b50-0b8b-4dc0-a111-e7719fbf8cab",
   "metadata": {},
   "outputs": [
    {
     "name": "stdout",
     "output_type": "stream",
     "text": [
      "일반 인덱스로 필터링 결과: [6 7 8 9]\n"
     ]
    }
   ],
   "source": [
    "# 아래와 같이 직접 인덱스 집합을 만들어 대입한 것과 동일\n",
    "indexes = np.array([5,6,7,8])\n",
    "array4 = array1d[indexes]\n",
    "print('일반 인덱스로 필터링 결과:', array4)"
   ]
  },
  {
   "cell_type": "markdown",
   "id": "0a32701d-0baf-4793-b76c-72e6f7521208",
   "metadata": {},
   "source": [
    "#### <br/> **행렬의 정렬 - sort()와 argsort()**  \n",
    "<br/>**행렬 정렬**  \n",
    "<br/>**np.sort()** : 원 행렬은 그대로 유지한 채 원 행렬의 정렬된 행렬을 반환\n",
    "<br/>**ndarray.sort()** : 원 행렬 자체를 정렬한 형태로 반환, 반환 값은 None  "
   ]
  },
  {
   "cell_type": "code",
   "execution_count": 27,
   "id": "0616c9a3-5a64-4a03-a225-1418dd3c01de",
   "metadata": {},
   "outputs": [
    {
     "name": "stdout",
     "output_type": "stream",
     "text": [
      "원본 행렬: [3 1 9 5]\n",
      "np.sort() 호출 후 반환된 행렬 정렬: [1 3 5 9]\n",
      "np.sort() 호풀 후 원본 행렬: [3 1 9 5]\n",
      "org_array.sort() 호출 후 반환된 행렬: None\n",
      "org_array.sort() 호출 후 원본 행렬: [1 3 5 9]\n"
     ]
    }
   ],
   "source": [
    "org_array = np.array([3,1,9,5])\n",
    "print('원본 행렬:', org_array)\n",
    "# np.sort로 정렬\n",
    "sort_array1 = np.sort(org_array)\n",
    "print('np.sort() 호출 후 반환된 행렬 정렬:', sort_array1)\n",
    "print('np.sort() 호풀 후 원본 행렬:', org_array)\n",
    "# ndarray.sort() 로 정렬\n",
    "sort_array2 = org_array.sort()\n",
    "print('org_array.sort() 호출 후 반환된 행렬:', sort_array2)\n",
    "print('org_array.sort() 호출 후 원본 행렬:', org_array)"
   ]
  },
  {
   "cell_type": "markdown",
   "id": "c54154e2-9251-4775-96b6-b1d21f285937",
   "metadata": {},
   "source": [
    "<br/>기본적으로 np.sort()와 ndarray.sort() 모두 오름차운으로 행렬 내 원소를 정렬  \n",
    "내림차순으로 정렬할 때는 [::-1] 적용"
   ]
  },
  {
   "cell_type": "code",
   "execution_count": 28,
   "id": "433e5737-0a42-4569-87c2-ab8b1fbcfbbd",
   "metadata": {},
   "outputs": [
    {
     "name": "stdout",
     "output_type": "stream",
     "text": [
      "내림차순으로 정렬: [9 5 3 1]\n"
     ]
    }
   ],
   "source": [
    "sort_array1_desc = np.sort(org_array)[::-1]  # 내림차순 적용\n",
    "print('내림차순으로 정렬:', sort_array1_desc)"
   ]
  },
  {
   "cell_type": "markdown",
   "id": "9e11c7f4-8895-4d1e-a1fa-978ae2b28f6e",
   "metadata": {},
   "source": [
    "<br/>행렬이 2차원 이상인 경우 axis 축 값 설정으로 통해 row 방향 또는 colmn 방향으로 정렬을 수행"
   ]
  },
  {
   "cell_type": "code",
   "execution_count": 29,
   "id": "0bbd6c81-550c-40b7-a4b4-8e1488e38c78",
   "metadata": {},
   "outputs": [
    {
     "name": "stdout",
     "output_type": "stream",
     "text": [
      "row 방향으로 정렬:\n",
      " [[ 7  1]\n",
      " [ 8 12]]\n",
      "column 방향으로 정렬:\n",
      " [[ 8 12]\n",
      " [ 1  7]]\n"
     ]
    }
   ],
   "source": [
    "array2d = np.array([[8,12],\n",
    "                    [7,1]])\n",
    "\n",
    "sort_array2d_axis0 = np.sort(array2d, axis=0)  # row 방향으로 정렬\n",
    "print('row 방향으로 정렬:\\n', sort_array2d_axis0)\n",
    "\n",
    "sort_array2d_axis1 = np.sort(array2d, axis=1)  # column 방향으로 정렬\n",
    "print('column 방향으로 정렬:\\n', sort_array2d_axis1)"
   ]
  },
  {
   "cell_type": "markdown",
   "id": "0f308e41-e7a7-4e43-807c-2814e5bf4a53",
   "metadata": {},
   "source": [
    "<br/>**정렬된 행렬의 인덱스를 반환하기**  \n",
    "<br/>**np.argsort()** : 정렬 행렬의 원본 행렬 인덱스를 ndarray 형으로 반환  \n",
    "np.argsort(A) 호출 &rarr; 정렬된 행렬의 원본 행렬 인덱스 추출 &rarr; 정렬된 원본의 원본 행렬 인덱스 반환"
   ]
  },
  {
   "cell_type": "code",
   "execution_count": 30,
   "id": "1e1302fd-e59e-43b4-b505-2874992cbf10",
   "metadata": {},
   "outputs": [
    {
     "name": "stdout",
     "output_type": "stream",
     "text": [
      "<class 'numpy.ndarray'>\n",
      "행렬 정렬 시 원본 행렬의 인덱스: [1 0 3 2]\n"
     ]
    }
   ],
   "source": [
    "org_array = np.array([3,1,9,5])\n",
    "sort_indices = np.argsort(org_array)\n",
    "print(type(sort_indices))\n",
    "print('행렬 정렬 시 원본 행렬의 인덱스:', sort_indices)"
   ]
  },
  {
   "cell_type": "markdown",
   "id": "ca08289c-1a1b-4ef1-a638-407bcbfac916",
   "metadata": {},
   "source": [
    "<br/>내림차순으로 정렬 시 원본 행렬의 인덱스를 구할 때 [::-1] 적용"
   ]
  },
  {
   "cell_type": "code",
   "execution_count": 31,
   "id": "6ad4712c-2dd4-4874-849b-cd3f5e939ec3",
   "metadata": {},
   "outputs": [
    {
     "name": "stdout",
     "output_type": "stream",
     "text": [
      "행렬 내림차순 정렬 시 원본 행렬의 인덱스: [2 3 0 1]\n"
     ]
    }
   ],
   "source": [
    "org_array = np.array([3,1,9,5])\n",
    "sort_indices_desc = np.argsort(org_array)[::-1]\n",
    "print('행렬 내림차순 정렬 시 원본 행렬의 인덱스:', sort_indices_desc)"
   ]
  },
  {
   "cell_type": "markdown",
   "id": "bb86601a-aed8-430f-b066-357d46a3c75f",
   "metadata": {},
   "source": [
    "<br/>넘파이의 ndarray는 RDBMS의 TABLE column이나 판다스 DataFrame column과 같은 메타 데이터를 가질 수 없음  \n",
    "&rarr; 실제 값과 그 값이 뜻하는 메타 데이터를 별도의 ndarray로 가져야 함"
   ]
  },
  {
   "cell_type": "code",
   "execution_count": 32,
   "id": "2f5ebcde-1d64-4592-b0d5-c76b685c4d56",
   "metadata": {},
   "outputs": [
    {
     "name": "stdout",
     "output_type": "stream",
     "text": [
      "성적 오름차순 정렬 시 score_array의 인덱스: [0 2 4 1 3]\n",
      "성적 오름차순으로 name_array의 이름 출력: ['John' 'Sarah' 'Samuel' 'Mike' 'Kate']\n"
     ]
    }
   ],
   "source": [
    "# 학생별 시험 성적 데이터\n",
    "import numpy as np\n",
    "\n",
    "name_array = np.array(['John', 'Mike', 'Sarah', 'Kate', 'Samuel'])  # 학생 이름 ndarray\n",
    "score_array = np.array([78,95,84,98,88])  # 학생 성적 ndarray\n",
    "\n",
    "# 시험 성적순으로 학생 이름을 출력\n",
    "sort_indices_asc = np.argsort(score_array)  # 인덱스 반환\n",
    "print('성적 오름차순 정렬 시 score_array의 인덱스:', sort_indices_asc)\n",
    "print('성적 오름차순으로 name_array의 이름 출력:', name_array[sort_indices_asc])  # 반환된 인덱스를 name_array에 팬시 인덱스로 적용해 데이터 추출"
   ]
  },
  {
   "cell_type": "markdown",
   "id": "af1b0f70-0485-41b6-864b-5a40ca6b6307",
   "metadata": {},
   "source": [
    "#### <br/>**선형대수 연산 - 연산 행렬 내적과 전치 행렬 구하기**  \n",
    "<br/>**행렬 내적(행렬 곱)**  \n",
    "<br/>**np.dot(A, B)** : 왼쪽 행렬의 row와 오른쪽 행렬의 column들의 원소들을 순차적으로 곱한 뒤 그 숫자를 모두 더함"
   ]
  },
  {
   "cell_type": "code",
   "execution_count": 33,
   "id": "7b2e42e7-89a1-41b3-85a0-cf8218c36dee",
   "metadata": {},
   "outputs": [
    {
     "name": "stdout",
     "output_type": "stream",
     "text": [
      "행렬 내적 결과:\n",
      " [[ 58  64]\n",
      " [139 154]]\n"
     ]
    }
   ],
   "source": [
    "A = np.array([[1, 2, 3],\n",
    "              [4, 5, 6]])\n",
    "B = np.array([[7, 8],\n",
    "              [9, 10],\n",
    "              [11, 12]])\n",
    "dot_product = np.dot(A,B)\n",
    "print('행렬 내적 결과:\\n', dot_product)"
   ]
  },
  {
   "cell_type": "markdown",
   "id": "07f0af7d-d4bc-4f16-9f1a-a598a5fe7575",
   "metadata": {},
   "source": [
    "<br/>**전치 행렬**  \n",
    "<br/>**transpose()** : 원 행렬에서 행과 열 위치를 교환한 원소로 구성한 전치 행렬 반환"
   ]
  },
  {
   "cell_type": "code",
   "execution_count": 34,
   "id": "ea360cd8-04f7-4f40-8339-ca77359cd3bf",
   "metadata": {},
   "outputs": [
    {
     "name": "stdout",
     "output_type": "stream",
     "text": [
      "A의 전치 행렬:\n",
      " [[1 3]\n",
      " [2 4]]\n"
     ]
    }
   ],
   "source": [
    "A = np.array([[1, 2],\n",
    "              [3, 4]])\n",
    "transpose_mat = np.transpose(A)\n",
    "print('A의 전치 행렬:\\n', transpose_mat)"
   ]
  }
 ],
 "metadata": {
  "kernelspec": {
   "display_name": "Python 3 (ipykernel)",
   "language": "python",
   "name": "python3"
  },
  "language_info": {
   "codemirror_mode": {
    "name": "ipython",
    "version": 3
   },
   "file_extension": ".py",
   "mimetype": "text/x-python",
   "name": "python",
   "nbconvert_exporter": "python",
   "pygments_lexer": "ipython3",
   "version": "3.11.7"
  }
 },
 "nbformat": 4,
 "nbformat_minor": 5
}
