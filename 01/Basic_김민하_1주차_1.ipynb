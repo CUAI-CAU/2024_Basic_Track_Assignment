{
 "cells": [
  {
   "cell_type": "markdown",
   "id": "b32f0123-2eda-44d1-99ba-106605d00c5c",
   "metadata": {},
   "source": [
    "## 03 Numpy"
   ]
  },
  {
   "cell_type": "code",
   "execution_count": 1,
   "id": "2b41f259-060f-4d11-8188-6887864bc4e7",
   "metadata": {},
   "outputs": [],
   "source": [
    "import numpy as np"
   ]
  },
  {
   "cell_type": "markdown",
   "id": "10fd1733-2b39-4a55-9eab-3c5eff6aaf94",
   "metadata": {},
   "source": [
    "#### Numpy 기반 데이터 타입 ndarray\n",
    "- array() : 입력 > ndarray\n",
    "- ndarray.shape : 크기 (행, 열) & 차원\n",
    "- ndarray.ndim : 차원"
   ]
  },
  {
   "cell_type": "code",
   "execution_count": 2,
   "id": "974c8c2a-9c62-444e-ab3d-46111ff32fb2",
   "metadata": {},
   "outputs": [],
   "source": [
    "array1 = np.array([1,2,3])"
   ]
  },
  {
   "cell_type": "code",
   "execution_count": 3,
   "id": "300a58de-26fb-4f8b-a73e-79a5401bef9c",
   "metadata": {},
   "outputs": [
    {
     "name": "stdout",
     "output_type": "stream",
     "text": [
      "array1 type: <class 'numpy.ndarray'>\n"
     ]
    }
   ],
   "source": [
    "print('array1 type:', type(array1))"
   ]
  },
  {
   "cell_type": "code",
   "execution_count": 5,
   "id": "f9428189-391d-4240-adca-823e59291a0f",
   "metadata": {},
   "outputs": [
    {
     "name": "stdout",
     "output_type": "stream",
     "text": [
      "array1 array 형태: (3,)\n"
     ]
    }
   ],
   "source": [
    "print('array1 array 형태:', array1.shape)"
   ]
  },
  {
   "cell_type": "code",
   "execution_count": 6,
   "id": "4e188d3e-aad5-4ece-9e96-9ee863ad9ea2",
   "metadata": {},
   "outputs": [],
   "source": [
    "array2 = np.array([[1,2,3], \n",
    "                   [2,3,4]])"
   ]
  },
  {
   "cell_type": "code",
   "execution_count": 7,
   "id": "42f9d54d-b35a-420f-86ff-75d766cfe336",
   "metadata": {},
   "outputs": [
    {
     "name": "stdout",
     "output_type": "stream",
     "text": [
      "array2 type: <class 'numpy.ndarray'>\n"
     ]
    }
   ],
   "source": [
    "print('array2 type:', type(array2))"
   ]
  },
  {
   "cell_type": "code",
   "execution_count": 8,
   "id": "29307cb3-2da5-4458-b9a8-1d4637fc9e5c",
   "metadata": {},
   "outputs": [
    {
     "name": "stdout",
     "output_type": "stream",
     "text": [
      "array2 array 형태 (2, 3)\n"
     ]
    }
   ],
   "source": [
    "print('array2 array 형태', array2.shape)"
   ]
  },
  {
   "cell_type": "code",
   "execution_count": 9,
   "id": "1811e701-1a78-43dc-8d5d-4b3881ee3715",
   "metadata": {},
   "outputs": [],
   "source": [
    "array3 = np.array([[1,2,3]])"
   ]
  },
  {
   "cell_type": "code",
   "execution_count": 10,
   "id": "6f12bbb0-f4a0-4f9e-bc65-e06ef6bf0aa0",
   "metadata": {},
   "outputs": [
    {
     "name": "stdout",
     "output_type": "stream",
     "text": [
      "array3 type: <class 'numpy.ndarray'>\n"
     ]
    }
   ],
   "source": [
    "print('array3 type:', type(array3))"
   ]
  },
  {
   "cell_type": "code",
   "execution_count": 11,
   "id": "6f37ea60-d4dd-440d-8ec4-7ccb9a2ee797",
   "metadata": {},
   "outputs": [
    {
     "name": "stdout",
     "output_type": "stream",
     "text": [
      "array3 array 형태 (1, 3)\n"
     ]
    }
   ],
   "source": [
    "print('array3 array 형태', array3.shape)"
   ]
  },
  {
   "cell_type": "code",
   "execution_count": 12,
   "id": "d7bea05f-c7bd-47c9-ad94-64b92ec51e0f",
   "metadata": {},
   "outputs": [
    {
     "name": "stdout",
     "output_type": "stream",
     "text": [
      "array1: 1차원, array2: 2차원, array3: 2차원\n"
     ]
    }
   ],
   "source": [
    "print('array1: {0}차원, array2: {1}차원, array3: {2}차원'.format(array1.ndim, array2.ndim, array3.ndim))"
   ]
  },
  {
   "cell_type": "code",
   "execution_count": null,
   "id": "2877802a-b6f5-404b-8b88-2a5209935960",
   "metadata": {},
   "outputs": [],
   "source": [
    "# array1과 array3은 동일한 데이터 건수를 가지고 있지만, 차원이 다르다.\n",
    "# 이로 인해 생기는 오류를 해결하려면, 차원의 차수를 변경해야 한다. > reshape()"
   ]
  },
  {
   "cell_type": "markdown",
   "id": "3f14c000-043e-4098-bf15-44853b57f678",
   "metadata": {},
   "source": [
    "### ndarray 내의 데이터 타입은 연산 특성상 같은 데이터 타입만 가능하다\n",
    "- ndarray.dtype : ndarray 내 데이터 타입 확인\n",
    "- 다른 데이터 유형이 섞여 있는 리스트를 ndarray로 > 데이터 크기가 더 큰 타입으로 일관 형 변환\n",
    "- ndarray.astype() : ndarray 내 데이터값의 타입 변경 (메모리 절약해야 할 때)"
   ]
  },
  {
   "cell_type": "code",
   "execution_count": 15,
   "id": "d932cbb3-a802-4502-8d9f-3786a440a8c9",
   "metadata": {},
   "outputs": [
    {
     "name": "stdout",
     "output_type": "stream",
     "text": [
      "<class 'list'>\n"
     ]
    }
   ],
   "source": [
    "list1 = [1,2,3]\n",
    "print(type(list1))"
   ]
  },
  {
   "cell_type": "code",
   "execution_count": 16,
   "id": "6250e8fe-bc4d-48f7-8a42-895509bb4048",
   "metadata": {},
   "outputs": [
    {
     "name": "stdout",
     "output_type": "stream",
     "text": [
      "<class 'numpy.ndarray'>\n"
     ]
    }
   ],
   "source": [
    "array1 = np.array(list1)\n",
    "print(type(array1))"
   ]
  },
  {
   "cell_type": "code",
   "execution_count": 17,
   "id": "1bd979d4-4825-412e-9cf5-4a33afab5939",
   "metadata": {},
   "outputs": [
    {
     "name": "stdout",
     "output_type": "stream",
     "text": [
      "[1 2 3] int32\n"
     ]
    }
   ],
   "source": [
    "print(array1, array1.dtype)"
   ]
  },
  {
   "cell_type": "code",
   "execution_count": 18,
   "id": "dd9eb270-bb71-4c34-8111-f3ea76c39e0c",
   "metadata": {},
   "outputs": [
    {
     "name": "stdout",
     "output_type": "stream",
     "text": [
      "['1' '2' 'test'] <U11\n"
     ]
    }
   ],
   "source": [
    "list2 = [1,2,'test']\n",
    "array2 = np.array(list2)\n",
    "print(array2, array2.dtype)"
   ]
  },
  {
   "cell_type": "code",
   "execution_count": 19,
   "id": "1ef1dea0-7bd4-45e0-8f06-1e3d8699b120",
   "metadata": {},
   "outputs": [
    {
     "name": "stdout",
     "output_type": "stream",
     "text": [
      "[1. 2. 3.] float64\n"
     ]
    }
   ],
   "source": [
    "list3 = [1,2,3.0]\n",
    "array3 = np.array(list3)\n",
    "print(array3, array3.dtype)"
   ]
  },
  {
   "cell_type": "code",
   "execution_count": 20,
   "id": "dc23935a-cebc-4f00-a14e-d8871de6fcdd",
   "metadata": {},
   "outputs": [
    {
     "name": "stdout",
     "output_type": "stream",
     "text": [
      "[1. 2. 3.] float64\n"
     ]
    }
   ],
   "source": [
    "array_int = np.array([1,2,3])\n",
    "array_float = array_int.astype('float64')\n",
    "print(array_float, array_float.dtype)"
   ]
  },
  {
   "cell_type": "code",
   "execution_count": 21,
   "id": "a7f55425-291b-490e-9af0-b119f6b68eb1",
   "metadata": {},
   "outputs": [
    {
     "name": "stdout",
     "output_type": "stream",
     "text": [
      "[1 2 3] int32\n"
     ]
    }
   ],
   "source": [
    "array_int1 = array_float.astype('int32')\n",
    "print(array_int1, array_int1.dtype)"
   ]
  },
  {
   "cell_type": "code",
   "execution_count": 22,
   "id": "516878c2-058a-4f56-8d5e-f689cccf174d",
   "metadata": {},
   "outputs": [
    {
     "name": "stdout",
     "output_type": "stream",
     "text": [
      "[1 2 3] int32\n"
     ]
    }
   ],
   "source": [
    "array_float1 = np.array([1.1, 2.1, 3.1])\n",
    "array_int2 = array_float1.astype('int32')\n",
    "print(array_int2, array_int2.dtype)"
   ]
  },
  {
   "cell_type": "markdown",
   "id": "0228d205-3f68-4672-b3d4-1a6c9db576bb",
   "metadata": {},
   "source": [
    "### ndarray 편리하게 생성\n",
    "- arange() : range()와 유사\n",
    "- zeros() : 튜플 형태의 shape 입력 > 모두 0으로 채운 ndarray 반환 \n",
    "- ones() : 튜플 형태의 shape 입력 > 모두 1로 채운 ndarray 반환"
   ]
  },
  {
   "cell_type": "code",
   "execution_count": 25,
   "id": "81b741ec-a354-48b3-9f1d-f3cc123696b6",
   "metadata": {},
   "outputs": [
    {
     "name": "stdout",
     "output_type": "stream",
     "text": [
      "[0 1 2 3 4 5 6 7 8 9]\n",
      "int32 (10,)\n"
     ]
    }
   ],
   "source": [
    "sequence_array = np.arange(10)\n",
    "print(sequence_array)\n",
    "print(sequence_array.dtype, sequence_array.shape)"
   ]
  },
  {
   "cell_type": "code",
   "execution_count": 26,
   "id": "72e31536-330a-418b-a4e0-d3ef4c5710b8",
   "metadata": {},
   "outputs": [
    {
     "name": "stdout",
     "output_type": "stream",
     "text": [
      "[[0 0]\n",
      " [0 0]\n",
      " [0 0]]\n",
      "int32 (3, 2)\n"
     ]
    }
   ],
   "source": [
    "zero_array = np.zeros((3,2), dtype='int32')\n",
    "print(zero_array)\n",
    "print(zero_array.dtype, zero_array.shape)"
   ]
  },
  {
   "cell_type": "code",
   "execution_count": 27,
   "id": "fc580c0b-ea68-48e5-853d-489af484fd65",
   "metadata": {},
   "outputs": [
    {
     "name": "stdout",
     "output_type": "stream",
     "text": [
      "[[1. 1.]\n",
      " [1. 1.]\n",
      " [1. 1.]]\n",
      "float64 (3, 2)\n"
     ]
    }
   ],
   "source": [
    "one_array = np.ones((3,2)) # 디폴트 'float64'\n",
    "print(one_array)\n",
    "print(one_array.dtype, one_array.shape)"
   ]
  },
  {
   "cell_type": "markdown",
   "id": "c59578f2-bf51-43a6-a463-10c0a7a46054",
   "metadata": {},
   "source": [
    "### ndarray의 차원과 크기를 변경하는 reshape()\n",
    "- ndarray.reshape()\n",
    "- 지정된 사이즈로 변경 불가하면 오류\n",
    "- -1을 인자로 사용하면?"
   ]
  },
  {
   "cell_type": "code",
   "execution_count": 30,
   "id": "524ef6d9-019e-4cb3-895b-058be64c3950",
   "metadata": {},
   "outputs": [
    {
     "name": "stdout",
     "output_type": "stream",
     "text": [
      "array1:\n",
      " [0 1 2 3 4 5 6 7 8 9]\n",
      "array2:\n",
      " [[0 1 2 3 4]\n",
      " [5 6 7 8 9]]\n",
      "array3:\n",
      " [[0 1]\n",
      " [2 3]\n",
      " [4 5]\n",
      " [6 7]\n",
      " [8 9]]\n"
     ]
    }
   ],
   "source": [
    "array1 = np.arange(10)\n",
    "print('array1:\\n', array1)\n",
    "\n",
    "array2 = array1.reshape(2,5)\n",
    "print('array2:\\n', array2)\n",
    "\n",
    "array3 = array1.reshape(5,2)\n",
    "print('array3:\\n', array3)"
   ]
  },
  {
   "cell_type": "code",
   "execution_count": 31,
   "id": "3fe998eb-d29a-4a21-ba94-73adcd80706a",
   "metadata": {},
   "outputs": [
    {
     "ename": "ValueError",
     "evalue": "cannot reshape array of size 10 into shape (4,3)",
     "output_type": "error",
     "traceback": [
      "\u001b[1;31m---------------------------------------------------------------------------\u001b[0m",
      "\u001b[1;31mValueError\u001b[0m                                Traceback (most recent call last)",
      "Cell \u001b[1;32mIn[31], line 1\u001b[0m\n\u001b[1;32m----> 1\u001b[0m array1\u001b[38;5;241m.\u001b[39mreshape(\u001b[38;5;241m4\u001b[39m,\u001b[38;5;241m3\u001b[39m)\n",
      "\u001b[1;31mValueError\u001b[0m: cannot reshape array of size 10 into shape (4,3)"
     ]
    }
   ],
   "source": [
    "array1.reshape(4,3)"
   ]
  },
  {
   "cell_type": "code",
   "execution_count": 32,
   "id": "c0fc98c9-3c9b-444c-8312-fde7f4896a2d",
   "metadata": {},
   "outputs": [
    {
     "name": "stdout",
     "output_type": "stream",
     "text": [
      "[0 1 2 3 4 5 6 7 8 9]\n",
      "array2 shape: (2, 5)\n",
      "array3 shape: (5, 2)\n"
     ]
    }
   ],
   "source": [
    "array1 = np.arange(10)\n",
    "print(array1)\n",
    "\n",
    "# -1을 인자\n",
    "array2 = array1.reshape(-1,5) # 고정된 5개 컬럼에 맞는 로우를 자동으로 생성해 변환\n",
    "print('array2 shape:', array2.shape)\n",
    "array3 = array1.reshape(5,-1)\n",
    "print('array3 shape:', array3.shape)"
   ]
  },
  {
   "cell_type": "code",
   "execution_count": 33,
   "id": "bbd751f6-e8e4-4fcd-b130-9801ec006d6e",
   "metadata": {},
   "outputs": [
    {
     "ename": "ValueError",
     "evalue": "cannot reshape array of size 10 into shape (4)",
     "output_type": "error",
     "traceback": [
      "\u001b[1;31m---------------------------------------------------------------------------\u001b[0m",
      "\u001b[1;31mValueError\u001b[0m                                Traceback (most recent call last)",
      "Cell \u001b[1;32mIn[33], line 2\u001b[0m\n\u001b[0;32m      1\u001b[0m array1 \u001b[38;5;241m=\u001b[39m np\u001b[38;5;241m.\u001b[39marange(\u001b[38;5;241m10\u001b[39m)\n\u001b[1;32m----> 2\u001b[0m array4 \u001b[38;5;241m=\u001b[39m array1\u001b[38;5;241m.\u001b[39mreshape(\u001b[38;5;241m-\u001b[39m\u001b[38;5;241m1\u001b[39m,\u001b[38;5;241m4\u001b[39m)\n",
      "\u001b[1;31mValueError\u001b[0m: cannot reshape array of size 10 into shape (4)"
     ]
    }
   ],
   "source": [
    "array1 = np.arange(10)\n",
    "array4 = array1.reshape(-1,4) # 변경 불가하면 오류"
   ]
  },
  {
   "cell_type": "code",
   "execution_count": 34,
   "id": "e5f421aa-2a27-4aba-8aab-65573ce9e47f",
   "metadata": {},
   "outputs": [],
   "source": [
    "## reshape(-1,1) : 원본 ndarray의 형태와 관계 없이, 2차원 + 반드시 1개의 컬럼을 가진 ndarray로 변환\n",
    "# 여러 ndarray의 형태를 통일할 때 유용\n",
    "# ndarray.tolist() : ndarray > list"
   ]
  },
  {
   "cell_type": "code",
   "execution_count": 35,
   "id": "de86fc51-e020-403d-88d5-8e23c11de8b7",
   "metadata": {},
   "outputs": [
    {
     "name": "stdout",
     "output_type": "stream",
     "text": [
      "array3d:\n",
      " [[[0, 1], [2, 3]], [[4, 5], [6, 7]]]\n"
     ]
    }
   ],
   "source": [
    "array1 = np.arange(8)\n",
    "array3d = array1.reshape((2,2,2))\n",
    "print('array3d:\\n', array3d.tolist())"
   ]
  },
  {
   "cell_type": "code",
   "execution_count": 36,
   "id": "ded1914a-c6a1-42c0-bf35-03f16b41319e",
   "metadata": {},
   "outputs": [
    {
     "name": "stdout",
     "output_type": "stream",
     "text": [
      "array5:\n",
      " [[0], [1], [2], [3], [4], [5], [6], [7]]\n",
      "array5 shape: (8, 1)\n"
     ]
    }
   ],
   "source": [
    "# 3차원 ndarray를 2차원 ndarray로\n",
    "array5 = array3d.reshape(-1,1)\n",
    "print('array5:\\n', array5.tolist())\n",
    "print('array5 shape:', array5.shape)"
   ]
  },
  {
   "cell_type": "code",
   "execution_count": 37,
   "id": "c9b95631-c6d3-4c2d-8e40-11361cdc691a",
   "metadata": {},
   "outputs": [
    {
     "name": "stdout",
     "output_type": "stream",
     "text": [
      "array6:\n",
      " [[0], [1], [2], [3], [4], [5], [6], [7]]\n",
      "array6 shape: (8, 1)\n"
     ]
    }
   ],
   "source": [
    "# 1차원 ndarray를 2차원 ndarray로\n",
    "array6 = array1.reshape(-1,1)\n",
    "print('array6:\\n', array6.tolist())\n",
    "print('array6 shape:', array6.shape)"
   ]
  },
  {
   "cell_type": "markdown",
   "id": "dbb8f896-706a-4a49-9aaa-5852222592dd",
   "metadata": {},
   "source": [
    "### 인덱싱 (Indexing)\n",
    "- 특정 데이터만 추출\n",
    "- 슬라이싱 (Slicing)\n",
    "- 팬시 인덱싱 (Fancy Indexing)\n",
    "- 불린 인덱싱 (Boolean Indexing)"
   ]
  },
  {
   "cell_type": "markdown",
   "id": "abb4ac54-91d5-424a-a9fb-fb9b67f46dfc",
   "metadata": {},
   "source": [
    "#### 특정 데이터만 추출"
   ]
  },
  {
   "cell_type": "code",
   "execution_count": 40,
   "id": "6618a511-7d63-4e94-b994-9645b54dbade",
   "metadata": {},
   "outputs": [
    {
     "name": "stdout",
     "output_type": "stream",
     "text": [
      "array1: [1 2 3 4 5 6 7 8 9]\n",
      "value: 3\n",
      "<class 'numpy.int32'>\n",
      "맨 뒤의 값: 9  맨 뒤에서 두 번째 값: 8\n"
     ]
    }
   ],
   "source": [
    "# 단일 인덱스\n",
    "array1 = np.arange(1, 10)\n",
    "print('array1:', array1)\n",
    "\n",
    "# index는 0부터 시작 > array1[2] : 3번째 index 위치의 데이터값\n",
    "value = array1[2]\n",
    "print('value:', value)\n",
    "print(type(value))\n",
    "\n",
    "print('맨 뒤의 값:', array1[-1], ' 맨 뒤에서 두 번째 값:', array1[-2])"
   ]
  },
  {
   "cell_type": "code",
   "execution_count": 41,
   "id": "627c0042-e5b2-42aa-aef7-1902c56b65f9",
   "metadata": {},
   "outputs": [
    {
     "name": "stdout",
     "output_type": "stream",
     "text": [
      "array1: [9 2 3 4 5 6 7 8 0]\n"
     ]
    }
   ],
   "source": [
    "# 단일 인덱스로 ndarray 내의 데이터값 수정\n",
    "array1[0] = 9\n",
    "array1[8] = 0\n",
    "print('array1:', array1)"
   ]
  },
  {
   "cell_type": "code",
   "execution_count": 42,
   "id": "fa8e34cf-8cee-431e-bc40-d0882aba9b76",
   "metadata": {},
   "outputs": [
    {
     "name": "stdout",
     "output_type": "stream",
     "text": [
      "[[1 2 3]\n",
      " [4 5 6]\n",
      " [7 8 9]]\n"
     ]
    }
   ],
   "source": [
    "# 2차원 ndarray에서 특정 데이터 추출 : [row, col] = [axis0, axis1]\n",
    "# 축 기반의 연산에서 axis가 생략 > axis 0 의미\n",
    "array1d = np.arange(1, 10)\n",
    "array2d = array1d.reshape(3,3)\n",
    "print(array2d)"
   ]
  },
  {
   "cell_type": "code",
   "execution_count": 43,
   "id": "48cfcf3c-f1ef-4307-946d-c240daef9b0d",
   "metadata": {},
   "outputs": [
    {
     "name": "stdout",
     "output_type": "stream",
     "text": [
      "(row=0, col=0) index 가리키는 값: 1\n",
      "(row=0, col=1) index 가리키는 값: 2\n",
      "(row=1, col=0) index 가리키는 값: 4\n",
      "(row=2, col=2) index 가리키는 값: 9\n"
     ]
    }
   ],
   "source": [
    "print('(row=0, col=0) index 가리키는 값:', array2d[0,0])\n",
    "print('(row=0, col=1) index 가리키는 값:', array2d[0,1])\n",
    "print('(row=1, col=0) index 가리키는 값:', array2d[1,0])\n",
    "print('(row=2, col=2) index 가리키는 값:', array2d[2,2])"
   ]
  },
  {
   "cell_type": "markdown",
   "id": "a4ad36ff-1903-4f1a-860e-30035893d763",
   "metadata": {},
   "source": [
    "#### 슬라이싱\n",
    "- ndarray 반환\n",
    "- array2d[:2, 0] : 한 축에는 슬라이싱 + 다른 축에는 단일 값 인덱스"
   ]
  },
  {
   "cell_type": "code",
   "execution_count": 44,
   "id": "ebe538b5-0b1d-4aa4-9b5f-54bc9df1b465",
   "metadata": {},
   "outputs": [
    {
     "name": "stdout",
     "output_type": "stream",
     "text": [
      "[1 2 3]\n",
      "<class 'numpy.ndarray'>\n"
     ]
    }
   ],
   "source": [
    "array1 = np.arange(1,10)\n",
    "array3 = array1[0:3]\n",
    "print(array3)\n",
    "print(type(array3))"
   ]
  },
  {
   "cell_type": "code",
   "execution_count": 45,
   "id": "214780e5-0a83-41d8-a9b3-862634019050",
   "metadata": {},
   "outputs": [
    {
     "name": "stdout",
     "output_type": "stream",
     "text": [
      "[1 2 3]\n"
     ]
    }
   ],
   "source": [
    "array1 = np.arange(1,10)\n",
    "array4 = array1[:3]\n",
    "print(array4)"
   ]
  },
  {
   "cell_type": "code",
   "execution_count": 46,
   "id": "1038fbad-3a84-4f73-b655-b12f6754d920",
   "metadata": {},
   "outputs": [
    {
     "name": "stdout",
     "output_type": "stream",
     "text": [
      "[4 5 6 7 8 9]\n"
     ]
    }
   ],
   "source": [
    "array5 = array1[3:]\n",
    "print(array5)"
   ]
  },
  {
   "cell_type": "code",
   "execution_count": 47,
   "id": "08aef79b-f526-4682-b3e0-797638f0f1d7",
   "metadata": {},
   "outputs": [
    {
     "name": "stdout",
     "output_type": "stream",
     "text": [
      "[1 2 3 4 5 6 7 8 9]\n"
     ]
    }
   ],
   "source": [
    "array6 = array1[:]\n",
    "print(array6)"
   ]
  },
  {
   "cell_type": "code",
   "execution_count": 48,
   "id": "86abd694-d4a2-4fc9-9d9a-084221bd169a",
   "metadata": {},
   "outputs": [
    {
     "name": "stdout",
     "output_type": "stream",
     "text": [
      "array2d:\n",
      " [[1 2 3]\n",
      " [4 5 6]\n",
      " [7 8 9]]\n"
     ]
    }
   ],
   "source": [
    "# 2차원 ndarray에서의 슬라이싱\n",
    "array1d = np.arange(1,10)\n",
    "array2d = array1d.reshape(3,3)\n",
    "print('array2d:\\n', array2d)"
   ]
  },
  {
   "cell_type": "code",
   "execution_count": 49,
   "id": "c9e4e9e3-c885-4a29-8c7c-2afb98010283",
   "metadata": {},
   "outputs": [
    {
     "name": "stdout",
     "output_type": "stream",
     "text": [
      "array2d[0:2, 0:2] \n",
      " [[1 2]\n",
      " [4 5]]\n",
      "array2d[1:3, 0:3] \n",
      " [[4 5 6]\n",
      " [7 8 9]]\n",
      "array2d[1:3, :] \n",
      " [[4 5 6]\n",
      " [7 8 9]]\n",
      "array2d[:, :] \n",
      " [[1 2 3]\n",
      " [4 5 6]\n",
      " [7 8 9]]\n",
      "array2d[:2, 1:] \n",
      " [[2 3]\n",
      " [5 6]]\n",
      "array2d[:2, 0] \n",
      " [1 4]\n"
     ]
    }
   ],
   "source": [
    "print('array2d[0:2, 0:2] \\n', array2d[0:2, 0:2])\n",
    "print('array2d[1:3, 0:3] \\n', array2d[1:3, 0:3])\n",
    "print('array2d[1:3, :] \\n', array2d[1:3, :])\n",
    "print('array2d[:, :] \\n', array2d[:, :])\n",
    "print('array2d[:2, 1:] \\n', array2d[:2, 1:])\n",
    "print('array2d[:2, 0] \\n', array2d[:2, 0])"
   ]
  },
  {
   "cell_type": "code",
   "execution_count": 51,
   "id": "1a15ada5-0726-421b-bb70-5898ac12b488",
   "metadata": {},
   "outputs": [
    {
     "name": "stdout",
     "output_type": "stream",
     "text": [
      "[1 2 3]\n",
      "[4 5 6]\n",
      "array2d[0] shape: (3,) array2d[1] shape: (3,)\n"
     ]
    }
   ],
   "source": [
    "print(array2d[0])\n",
    "print(array2d[1])\n",
    "print('array2d[0] shape:', array2d[0].shape, 'array2d[1] shape:', array2d[1].shape)"
   ]
  },
  {
   "cell_type": "markdown",
   "id": "4bcb4689-0dd1-4bf8-a041-6edf6418410e",
   "metadata": {},
   "source": [
    "#### 팬시 인덱싱\n",
    "- 리스트나 ndarray로 인덱스 집합을 지정하면 해당 위치의 인덱스에 해당하는 ndarray를 반환"
   ]
  },
  {
   "cell_type": "code",
   "execution_count": 52,
   "id": "f8dbff3c-f290-4e85-842e-073386e9badb",
   "metadata": {},
   "outputs": [],
   "source": [
    "array1d = np.arange(1,10)\n",
    "array2d = array1d.reshape(3,3)"
   ]
  },
  {
   "cell_type": "code",
   "execution_count": 54,
   "id": "80fb575a-bd0c-488d-80b9-28524d8bfb73",
   "metadata": {},
   "outputs": [
    {
     "name": "stdout",
     "output_type": "stream",
     "text": [
      "array2d[[0,1], 2] =>  [3, 6]\n"
     ]
    }
   ],
   "source": [
    "array3 = array2d[[0,1], 2]\n",
    "print('array2d[[0,1], 2] => ', array3.tolist())"
   ]
  },
  {
   "cell_type": "code",
   "execution_count": 55,
   "id": "651f9dc9-124c-4ceb-874f-1ef43d04936c",
   "metadata": {},
   "outputs": [
    {
     "name": "stdout",
     "output_type": "stream",
     "text": [
      "array2d[[0,1], 0:2] =>  [[1, 2], [4, 5]]\n"
     ]
    }
   ],
   "source": [
    "array4 = array2d[[0,1], 0:2]\n",
    "print('array2d[[0,1], 0:2] => ', array4.tolist())"
   ]
  },
  {
   "cell_type": "code",
   "execution_count": 56,
   "id": "20bb6f31-d46e-4101-ae2b-341a8255bdc0",
   "metadata": {},
   "outputs": [
    {
     "name": "stdout",
     "output_type": "stream",
     "text": [
      "array2d[[0,1]] =>  [[1, 2, 3], [4, 5, 6]]\n"
     ]
    }
   ],
   "source": [
    "array5 = array2d[[0,1]]\n",
    "print('array2d[[0,1]] => ', array5.tolist())"
   ]
  },
  {
   "cell_type": "markdown",
   "id": "9bafdfa2-a7b1-4250-9a0c-14b88fd776ea",
   "metadata": {},
   "source": [
    "#### 불린 인덱싱 : 조건 필터링과 검색을 동시에"
   ]
  },
  {
   "cell_type": "code",
   "execution_count": 58,
   "id": "a4e89b2f-b6dc-4974-8492-0c3ba56f4313",
   "metadata": {},
   "outputs": [
    {
     "name": "stdout",
     "output_type": "stream",
     "text": [
      "[False False False False False  True  True  True  True]\n",
      "array1d > 5 불린 인덱싱 결과 값 : [6 7 8 9]\n"
     ]
    }
   ],
   "source": [
    "array1d = np.arange(1,10)\n",
    "print(array1d > 5)\n",
    "array3 = array1d[array1d > 5]\n",
    "print('array1d > 5 불린 인덱싱 결과 값 :', array3)"
   ]
  },
  {
   "cell_type": "code",
   "execution_count": 60,
   "id": "2c3b1b49-5258-4177-bfa3-4058182d8344",
   "metadata": {},
   "outputs": [
    {
     "name": "stdout",
     "output_type": "stream",
     "text": [
      "불린 인덱스로 필터링 결과 : [6 7 8 9]\n"
     ]
    }
   ],
   "source": [
    "boolean_indexes = np.array([False, False, False, False, False, True, True, True, True])\n",
    "array3 = array1d[boolean_indexes]\n",
    "print('불린 인덱스로 필터링 결과 :', array3)"
   ]
  },
  {
   "cell_type": "code",
   "execution_count": 61,
   "id": "13979ccb-d683-46c9-ae89-fa5c8edc610f",
   "metadata": {},
   "outputs": [
    {
     "name": "stdout",
     "output_type": "stream",
     "text": [
      "일반 인덱스로 필터링 결과 : [6 7 8 9]\n"
     ]
    }
   ],
   "source": [
    "indexes = np.array([5,6,7,8])\n",
    "array4 = array1d[indexes]\n",
    "print('일반 인덱스로 필터링 결과 :', array4)"
   ]
  },
  {
   "cell_type": "markdown",
   "id": "a4523e05-87b3-438f-8484-6d9fd6f1e6ec",
   "metadata": {},
   "source": [
    "### 행렬의 정렬\n",
    "- sort()\n",
    "    - np.sort() : 원 행렬 유지 & 정렬된 행렬 반환\n",
    "    - ndarray.sort() : 원 행렬 정렬 & None 반환\n",
    "- argsort() : 정렬 행렬의 원본 행렬 인덱스를 ndarray형으로 반환"
   ]
  },
  {
   "cell_type": "code",
   "execution_count": null,
   "id": "a073c111-3c32-4603-9503-f73a0bba161a",
   "metadata": {},
   "outputs": [],
   "source": [
    "# sort()"
   ]
  },
  {
   "cell_type": "code",
   "execution_count": 62,
   "id": "2cd44e3b-39b4-47b8-b980-c2f7298d8277",
   "metadata": {},
   "outputs": [
    {
     "name": "stdout",
     "output_type": "stream",
     "text": [
      "원본 행렬:  [3 1 9 5]\n",
      "np.sort() 후 반환된 정렬 행렬:  [1 3 5 9]\n",
      "np.sort() 후 원본 행렬:  [3 1 9 5]\n",
      "org_array.sort() 후 반환된 행렬:  None\n",
      "org_array.sort() 후 원본 행렬:  [1 3 5 9]\n"
     ]
    }
   ],
   "source": [
    "org_array = np.array([3,1,9,5])\n",
    "print('원본 행렬: ', org_array)\n",
    "\n",
    "# np.sort()\n",
    "sort_array1 = np.sort(org_array)\n",
    "print('np.sort() 후 반환된 정렬 행렬: ', sort_array1)\n",
    "print('np.sort() 후 원본 행렬: ', org_array)\n",
    "\n",
    "# ndarray.sort()\n",
    "sort_array2 = org_array.sort()\n",
    "print('org_array.sort() 후 반환된 행렬: ', sort_array2)\n",
    "print('org_array.sort() 후 원본 행렬: ', org_array)"
   ]
  },
  {
   "cell_type": "code",
   "execution_count": 63,
   "id": "9b88dcd6-0a05-4754-8c46-15fac1c7f75d",
   "metadata": {},
   "outputs": [
    {
     "name": "stdout",
     "output_type": "stream",
     "text": [
      "내림차순으로 정렬:  [9 5 3 1]\n"
     ]
    }
   ],
   "source": [
    "# 내림차순 정렬\n",
    "sort_array1_desc = np.sort(org_array)[::-1]\n",
    "print('내림차순으로 정렬: ', sort_array1_desc)"
   ]
  },
  {
   "cell_type": "code",
   "execution_count": 64,
   "id": "6119f5f2-155f-4ea5-9488-1ab1cd6dfe6e",
   "metadata": {},
   "outputs": [
    {
     "name": "stdout",
     "output_type": "stream",
     "text": [
      "로우 방향으로 정렬: \n",
      " [[ 7  1]\n",
      " [ 8 12]]\n",
      "칼럼 방향으로 정렬: \n",
      " [[ 8 12]\n",
      " [ 1  7]]\n"
     ]
    }
   ],
   "source": [
    "# 2차원 행렬 정렬\n",
    "array2d = np.array([[8,12],\n",
    "                    [7,1]])\n",
    "sort_array2d_axis0 = np.sort(array2d, axis=0)\n",
    "print('로우 방향으로 정렬: \\n', sort_array2d_axis0)\n",
    "\n",
    "sort_array2d_axis1 = np.sort(array2d, axis=1)\n",
    "print('칼럼 방향으로 정렬: \\n', sort_array2d_axis1)"
   ]
  },
  {
   "cell_type": "code",
   "execution_count": null,
   "id": "33573192-2ba8-4ddb-8537-fbfffefbaa50",
   "metadata": {},
   "outputs": [],
   "source": [
    "# argsort()"
   ]
  },
  {
   "cell_type": "code",
   "execution_count": 65,
   "id": "1d075f77-00b0-4628-96fb-fb2f318cd1fe",
   "metadata": {},
   "outputs": [
    {
     "name": "stdout",
     "output_type": "stream",
     "text": [
      "<class 'numpy.ndarray'>\n",
      "행렬 정렬 시 원본 행렬의 인덱스:  [1 0 3 2]\n"
     ]
    }
   ],
   "source": [
    "org_array = np.array([3,1,9,5])\n",
    "sort_indices = np.argsort(org_array)\n",
    "print(type(sort_indices))\n",
    "print('행렬 정렬 시 원본 행렬의 인덱스: ', sort_indices)"
   ]
  },
  {
   "cell_type": "code",
   "execution_count": 66,
   "id": "4342b2d1-739f-40e2-a27a-cfb5622f3b06",
   "metadata": {},
   "outputs": [
    {
     "name": "stdout",
     "output_type": "stream",
     "text": [
      "행렬 내림차순 정렬 시 원본 행렬의 인덱스:  [2 3 0 1]\n"
     ]
    }
   ],
   "source": [
    "# 내림차순 정렬의 경우\n",
    "org_array = np.array([3,1,9,5])\n",
    "sort_indices_desc = np.argsort(org_array)[::-1]\n",
    "print('행렬 내림차순 정렬 시 원본 행렬의 인덱스: ', sort_indices_desc)"
   ]
  },
  {
   "cell_type": "code",
   "execution_count": 69,
   "id": "33a3b10b-8677-44b1-807b-0fb8eeb902cf",
   "metadata": {},
   "outputs": [
    {
     "name": "stdout",
     "output_type": "stream",
     "text": [
      "성적 오름차순 정렬 시 socre_array 인덱스:  [0 2 4 1 3]\n",
      "성적 오름차순으로 name_array 이름 출력:  ['John' 'Sarah' 'Samuel' 'Mike' 'Kate']\n"
     ]
    }
   ],
   "source": [
    "# argsort()의 활용\n",
    "import numpy as np\n",
    "\n",
    "name_array = np.array(['John', 'Mike', 'Sarah', 'Kate', 'Samuel'])\n",
    "score_array = np.array([78, 95, 84, 98, 88])\n",
    "\n",
    "sort_indices_asc = np.argsort(score_array)\n",
    "print('성적 오름차순 정렬 시 socre_array 인덱스: ', sort_indices_asc)\n",
    "print('성적 오름차순으로 name_array 이름 출력: ', name_array[sort_indices_asc])"
   ]
  },
  {
   "cell_type": "markdown",
   "id": "f42b3052-e9b1-4126-8141-b7aa67f8fb4d",
   "metadata": {},
   "source": [
    "### 행렬 내적과 전치 행렬\n",
    "- np.dot() : 행렬 내적\n",
    "- np.transpose() : 전치 행렬"
   ]
  },
  {
   "cell_type": "code",
   "execution_count": null,
   "id": "bb692fa1-300b-4cc5-81c6-9b8a238cab6a",
   "metadata": {},
   "outputs": [],
   "source": [
    "# np.dot()"
   ]
  },
  {
   "cell_type": "code",
   "execution_count": 70,
   "id": "c4a7ab86-3bb3-4731-8849-a3b6610ecff2",
   "metadata": {},
   "outputs": [
    {
     "name": "stdout",
     "output_type": "stream",
     "text": [
      "행렬 내적 결과:\n",
      " [[ 58  64]\n",
      " [139 154]]\n"
     ]
    }
   ],
   "source": [
    "A = np.array([[1,2,3],\n",
    "              [4,5,6]])\n",
    "B = np.array([[7,8],\n",
    "              [9,10],\n",
    "              [11,12]])\n",
    "doc_product = np.dot(A,B)\n",
    "print('행렬 내적 결과:\\n', doc_product)"
   ]
  },
  {
   "cell_type": "code",
   "execution_count": 71,
   "id": "20d3e4e0-77c9-4cf7-a190-ef10194f6b86",
   "metadata": {},
   "outputs": [],
   "source": [
    "# np.transpose()"
   ]
  },
  {
   "cell_type": "code",
   "execution_count": 72,
   "id": "811146a9-6b1e-4e96-9785-8bd759bb52ea",
   "metadata": {},
   "outputs": [
    {
     "name": "stdout",
     "output_type": "stream",
     "text": [
      "A의 전치 행렬:\n",
      " [[1 3]\n",
      " [2 4]]\n"
     ]
    }
   ],
   "source": [
    "A = np.array([[1,2],\n",
    "              [3,4]])\n",
    "transpose_mat = np.transpose(A)\n",
    "print('A의 전치 행렬:\\n', transpose_mat)"
   ]
  },
  {
   "cell_type": "code",
   "execution_count": null,
   "id": "bed7ef5b-7b5a-4338-a737-442885ef57b8",
   "metadata": {},
   "outputs": [],
   "source": []
  }
 ],
 "metadata": {
  "kernelspec": {
   "display_name": "Python 3 (ipykernel)",
   "language": "python",
   "name": "python3"
  },
  "language_info": {
   "codemirror_mode": {
    "name": "ipython",
    "version": 3
   },
   "file_extension": ".py",
   "mimetype": "text/x-python",
   "name": "python",
   "nbconvert_exporter": "python",
   "pygments_lexer": "ipython3",
   "version": "3.11.7"
  }
 },
 "nbformat": 4,
 "nbformat_minor": 5
}
