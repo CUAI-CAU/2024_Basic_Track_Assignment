{
 "cells": [
  {
   "cell_type": "markdown",
   "id": "2485be8b-4a2f-491f-8648-0ee2f6ce93ca",
   "metadata": {},
   "source": [
    "# Ch01. 파이썬 기반의 머신러닝과 생태계 이해"
   ]
  },
  {
   "cell_type": "markdown",
   "id": "cea094b3-7785-4943-90f1-99261d2fe6b8",
   "metadata": {},
   "source": [
    "## 3. 넘파이"
   ]
  },
  {
   "cell_type": "markdown",
   "id": "a2b57ebc-7e6d-4ac0-bfc5-23150b00ed6b",
   "metadata": {},
   "source": [
    "### Numpy ndarray 개요\n",
    "- 넘파이의 기반 데이터 타입은 ndarrray\n",
    "- 다차원 배열 생성, 다양한 연산 수행"
   ]
  },
  {
   "cell_type": "code",
   "execution_count": 2,
   "id": "a95fbd54-bb80-48e6-860f-7fb911b0506d",
   "metadata": {},
   "outputs": [],
   "source": [
    "# 넘파이 모듈 임포트\n",
    "import numpy as np"
   ]
  },
  {
   "cell_type": "markdown",
   "id": "75aee518-c8c3-4c7a-b0b1-1fd0c5715a4a",
   "metadata": {},
   "source": [
    "- **np.array()**: 객체를 인자로 입력하면 ndarray로 반환\n",
    "- **ndarray.shape**: ndarray의 행과 열의 수를 튜플 형태로 저장\n",
    "- **ndarray.ndim**: ndarray의 차원"
   ]
  },
  {
   "cell_type": "code",
   "execution_count": 3,
   "id": "086885b7-6fac-407c-9564-a631663733b2",
   "metadata": {},
   "outputs": [
    {
     "name": "stdout",
     "output_type": "stream",
     "text": [
      "array1 type: <class 'numpy.ndarray'>\n",
      "array1 array 형태: (3,)\n",
      "array2 type: <class 'numpy.ndarray'>\n",
      "array2 array 형태: (2, 3)\n",
      "array3 type: <class 'numpy.ndarray'>\n",
      "array3 array 형태: (1, 3)\n"
     ]
    }
   ],
   "source": [
    "array1 = np.array([1, 2, 3])\n",
    "print('array1 type:', type(array1)) # 타입: ndarray\n",
    "print('array1 array 형태:', array1.shape) # 1차원 array, 데이터가 3개\n",
    "\n",
    "array2 = np.array([[1, 2, 3],\n",
    "                   [2, 3, 4]])\n",
    "print('array2 type:', type(array2)) # 타입: ndarray\n",
    "print('array2 array 형태:', array2.shape) # 2차원 array, row: 2개, col: 3개\n",
    "\n",
    "array3 = np.array([[1, 2, 3]])\n",
    "print('array3 type:', type(array3)) # 타입: ndarray\n",
    "print('array3 array 형태:', array3.shape) # 2차원 array, row: 1개, col: 3개"
   ]
  },
  {
   "cell_type": "code",
   "execution_count": 4,
   "id": "6622ae9c-207e-43b1-8bb7-808880725a79",
   "metadata": {},
   "outputs": [
    {
     "name": "stdout",
     "output_type": "stream",
     "text": [
      "array1: 1차원, array2: 2차원, array3: 2차원\n"
     ]
    }
   ],
   "source": [
    "print('array1: {0}차원, array2: {1}차원, array3: {2}차원'.format(array1.ndim, array2.ndim, array3.ndim))"
   ]
  },
  {
   "cell_type": "markdown",
   "id": "328de7d1-1e15-4ae1-8348-2a5f33158215",
   "metadata": {},
   "source": [
    "### ndarray의 데이터 타입\n",
    "- ndarray 내의 데이터값은 숫자 값, 문자열 값, 불 값 등 모두 가능\n",
    "- ndarray 내에서 같은 데이터 타입만 가능"
   ]
  },
  {
   "cell_type": "markdown",
   "id": "93ec8992-20a4-462e-bc4d-9e90e63ce0b0",
   "metadata": {},
   "source": [
    "- **ndarray.dtype**: ndarray 내의 데이터 타입\n",
    "- 다른 데이터 유형이 섞인 리스트를 ndarray로 변경하면 데이터 크기가 더 큰 데이터 타입으로 형 변환\n",
    "- **ndarray.astype()**: ndarray 내의 데이터 타입 변경, 인자로 원하는 타입을 문자열로 지정"
   ]
  },
  {
   "cell_type": "code",
   "execution_count": 5,
   "id": "7a090c48-db31-46c0-9d23-5eda0904ecf3",
   "metadata": {},
   "outputs": [
    {
     "name": "stdout",
     "output_type": "stream",
     "text": [
      "<class 'list'>\n",
      "<class 'numpy.ndarray'>\n",
      "[1 2 3] int32\n"
     ]
    }
   ],
   "source": [
    "list1 = [1, 2, 3]\n",
    "print(type(list1)) # 타입: list\n",
    "array1 = np.array(list1)\n",
    "print(type(array1)) # 타입: ndarray\n",
    "print(array1, array1.dtype) # 데이터 타입: int형"
   ]
  },
  {
   "cell_type": "code",
   "execution_count": 6,
   "id": "08cc5c3d-3f63-44ce-90fc-02ae7f70b154",
   "metadata": {},
   "outputs": [
    {
     "name": "stdout",
     "output_type": "stream",
     "text": [
      "['1' '2' 'test'] <U11\n",
      "[1. 2. 3.] float64\n"
     ]
    }
   ],
   "source": [
    "list2 = [1, 2, 'test'] # list2: int형 + 문자열\n",
    "array2 = np.array(list2)\n",
    "print(array2, array2.dtype) # 데이터 타입: 유니코드 문자열\n",
    "\n",
    "list3 = [1, 2, 3.0] # list3: int형 + float형\n",
    "array3 = np.array(list3)\n",
    "print(array3, array3.dtype) # 데이터 타입: float형"
   ]
  },
  {
   "cell_type": "code",
   "execution_count": 7,
   "id": "eec27df5-8030-4d7e-b000-7158d045542b",
   "metadata": {},
   "outputs": [
    {
     "name": "stdout",
     "output_type": "stream",
     "text": [
      "[1. 2. 3.] float64\n",
      "[1 2 3] int32\n",
      "[1 2 3] int32\n"
     ]
    }
   ],
   "source": [
    "array_int = np.array([1, 2, 3])\n",
    "array_float = array_int.astype('float64') # float형으로 변환\n",
    "print(array_float, array_float.dtype)\n",
    "\n",
    "array_int1 = array_float.astype('int32') # int형으로 변환\n",
    "print(array_int1, array_int1.dtype)\n",
    "\n",
    "array_float1 = np.array([1.1, 2.1, 3.1])\n",
    "array_int2 = array_float1.astype('int32') # float형을 int형으로 변경할 때 소수점 이하는 버림\n",
    "print(array_int2, array_int2.dtype)"
   ]
  },
  {
   "cell_type": "markdown",
   "id": "229546ad-bbaf-4ed2-a22e-ed66b667d182",
   "metadata": {},
   "source": [
    "### ndarray를 편리하게 생성하기 - arange, zeros, ones\n",
    "- 주로 테스트용으로 데이터를 만들거나 대규모의 데이터를 일괄적으로 초기화할 경우에 사용"
   ]
  },
  {
   "cell_type": "markdown",
   "id": "38c88263-2716-4c7d-8f65-ffd2c7889928",
   "metadata": {},
   "source": [
    "- **np.arange()**: 0부터 함수 인자 값 -1까지의 값을 순차적으로 ndarray 값으로 변환 (start 값도 부여해 다른 값부터 시작한 연속 값 부여 가능)\n",
    "- **np.zeros()**: 함수 인자로 튜플 형태의 shape 값을 입력하면 모든 값을 **0**으로 채운 ndarray를 반환\n",
    "- **np.ones()**: 함수 인자로 튜플 형태의 shape 값을 입력하면 모든 값을 **1**으로 채운 ndarray를 반환\n",
    "- 디폴트는 flaot64형, 함수 인자로 dtype을 정해줄 수 있음"
   ]
  },
  {
   "cell_type": "code",
   "execution_count": 8,
   "id": "ddf3d77a-d5f8-48d9-913b-31e60e45fe51",
   "metadata": {},
   "outputs": [
    {
     "name": "stdout",
     "output_type": "stream",
     "text": [
      "[0 1 2 3 4 5 6 7 8 9]\n",
      "int32 (10,)\n"
     ]
    }
   ],
   "source": [
    "sequence_array = np.arange(10)\n",
    "print(sequence_array)\n",
    "print(sequence_array.dtype, sequence_array.shape) # 데이터 타입: int형, 데이터가 10개인 1차원 array"
   ]
  },
  {
   "cell_type": "code",
   "execution_count": 9,
   "id": "0f2d83ec-01ba-41aa-9d0d-dfb75df95a30",
   "metadata": {},
   "outputs": [
    {
     "name": "stdout",
     "output_type": "stream",
     "text": [
      "[[0 0]\n",
      " [0 0]\n",
      " [0 0]]\n",
      "int32 (3, 2)\n",
      "[[1. 1.]\n",
      " [1. 1.]\n",
      " [1. 1.]]\n",
      "float64 (3, 2)\n"
     ]
    }
   ],
   "source": [
    "zero_array = np.zeros((3, 2), dtype='int32')\n",
    "print(zero_array)\n",
    "print(zero_array.dtype, zero_array.shape) # 데이터 타입: int형, row: 3개, col: 2개\n",
    "\n",
    "one_array = np.ones((3, 2))\n",
    "print(one_array)\n",
    "print(one_array.dtype, one_array.shape) # 데이터 타입: float형, row: 3개, col: 2개"
   ]
  },
  {
   "cell_type": "markdown",
   "id": "daf29c37-b7ed-4080-ae71-869e0f947901",
   "metadata": {},
   "source": [
    "### ndarray의 차원과 크기를 변경하는 reshape()\n",
    "- **ndarray.reshape()**: ndarray를 함수 인자로 부여한 특정 차원 및 크기로 변환\n",
    "- -1을 인자로 사용하면 원래 ndarray와 호환되는 새로운 shape로 변환\n",
    "- reshape(-1, 1)은 각각의 ndarray를 2차원으로 형태를 통일할 때 유용하게 사용\n",
    "- **ndarray.tolist()**: ndarray를 list 자료형으로 변환"
   ]
  },
  {
   "cell_type": "code",
   "execution_count": 10,
   "id": "0161ee7a-69db-4616-930d-59bd7afb4cec",
   "metadata": {},
   "outputs": [
    {
     "name": "stdout",
     "output_type": "stream",
     "text": [
      "array1:\n",
      " [0 1 2 3 4 5 6 7 8 9]\n",
      "array2:\n",
      " [[0 1 2 3 4]\n",
      " [5 6 7 8 9]]\n",
      "array3:\n",
      " [[0 1]\n",
      " [2 3]\n",
      " [4 5]\n",
      " [6 7]\n",
      " [8 9]]\n"
     ]
    }
   ],
   "source": [
    "array1 = np.arange(10) # array1: 0~9까지의 1차원 array\n",
    "print('array1:\\n', array1)\n",
    "\n",
    "array2 = array1.reshape(2, 5) # array1을 2*5의 2차원 array로 변환\n",
    "print('array2:\\n', array2)\n",
    "\n",
    "array3 = array1.reshape(5, 2) # array1을 5*2의 2차원 array로 변환\n",
    "print('array3:\\n', array3)"
   ]
  },
  {
   "cell_type": "code",
   "execution_count": 11,
   "id": "2e90f779-35c9-4960-adb0-a7f98800426b",
   "metadata": {},
   "outputs": [
    {
     "ename": "ValueError",
     "evalue": "cannot reshape array of size 10 into shape (4,3)",
     "output_type": "error",
     "traceback": [
      "\u001b[1;31m---------------------------------------------------------------------------\u001b[0m",
      "\u001b[1;31mValueError\u001b[0m                                Traceback (most recent call last)",
      "Cell \u001b[1;32mIn[11], line 1\u001b[0m\n\u001b[1;32m----> 1\u001b[0m array1\u001b[38;5;241m.\u001b[39mreshape(\u001b[38;5;241m4\u001b[39m, \u001b[38;5;241m3\u001b[39m)\n",
      "\u001b[1;31mValueError\u001b[0m: cannot reshape array of size 10 into shape (4,3)"
     ]
    }
   ],
   "source": [
    "array1.reshape(4, 3) # 지정된 사이즈로 변경이 불가능하므로 오류 발생"
   ]
  },
  {
   "cell_type": "code",
   "execution_count": 12,
   "id": "8266c1cd-404d-4380-a690-c426a1de1265",
   "metadata": {},
   "outputs": [
    {
     "name": "stdout",
     "output_type": "stream",
     "text": [
      "[0 1 2 3 4 5 6 7 8 9]\n",
      "array2 shape: (2, 5)\n",
      "array3 shape: (5, 2)\n"
     ]
    }
   ],
   "source": [
    "array1 = np.arange(10) # 1차원 array, 0~9\n",
    "print(array1)\n",
    "\n",
    "array2 = array1.reshape(-1,5) # 고정된 5개의 칼럼에 맞게 2*5의 2차원 array로 reshape\n",
    "print('array2 shape:',array2.shape)\n",
    "\n",
    "array3 = array1.reshape(5,-1) # 고정된 5개의 로우에 맞게 5*2의 2차원 array로 reshape\n",
    "print('array3 shape:',array3.shape)"
   ]
  },
  {
   "cell_type": "code",
   "execution_count": 13,
   "id": "27a32247-e88a-4abb-95a8-ccecf65ae3e4",
   "metadata": {},
   "outputs": [
    {
     "ename": "ValueError",
     "evalue": "cannot reshape array of size 10 into shape (4)",
     "output_type": "error",
     "traceback": [
      "\u001b[1;31m---------------------------------------------------------------------------\u001b[0m",
      "\u001b[1;31mValueError\u001b[0m                                Traceback (most recent call last)",
      "Cell \u001b[1;32mIn[13], line 2\u001b[0m\n\u001b[0;32m      1\u001b[0m array1 \u001b[38;5;241m=\u001b[39m np\u001b[38;5;241m.\u001b[39marange(\u001b[38;5;241m10\u001b[39m)\n\u001b[1;32m----> 2\u001b[0m array4 \u001b[38;5;241m=\u001b[39m array1\u001b[38;5;241m.\u001b[39mreshape(\u001b[38;5;241m-\u001b[39m\u001b[38;5;241m1\u001b[39m,\u001b[38;5;241m4\u001b[39m)\n",
      "\u001b[1;31mValueError\u001b[0m: cannot reshape array of size 10 into shape (4)"
     ]
    }
   ],
   "source": [
    "array1 = np.arange(10)\n",
    "array4 = array1.reshape(-1,4) # 10개의 1차원 데이터를 고정된 4개의 칼럼을 가진 로우로 변경 불가능"
   ]
  },
  {
   "cell_type": "code",
   "execution_count": 14,
   "id": "840f1c7f-a5c0-4ec9-9694-40c8b1664476",
   "metadata": {},
   "outputs": [
    {
     "name": "stdout",
     "output_type": "stream",
     "text": [
      "array3d:\n",
      " [[[0, 1], [2, 3]], [[4, 5], [6, 7]]]\n",
      "array5:\n",
      " [[0], [1], [2], [3], [4], [5], [6], [7]]\n",
      "array5 shape: (8, 1)\n",
      "array6:\n",
      " [[0], [1], [2], [3], [4], [5], [6], [7]]\n",
      "array6 shape: (8, 1)\n"
     ]
    }
   ],
   "source": [
    "array1 = np.arange(8)\n",
    "array3d = array1.reshape((2,2,2)) # 3차원 array\n",
    "print('array3d:\\n',array3d.tolist())\n",
    "\n",
    "# 3차원 ndarray를 2차원 ndarray로 변환\n",
    "array5 = array3d.reshape(-1,1)\n",
    "print('array5:\\n',array5.tolist())\n",
    "print('array5 shape:',array5.shape) # row: 8개, col: 1개\n",
    "\n",
    "# 1차원 ndarray를 2차원 ndarray로 변환\n",
    "array6 = array1.reshape(-1,1)\n",
    "print('array6:\\n',array6.tolist())\n",
    "print('array6 shape:',array6.shape) # row: 8개, col: 1개"
   ]
  },
  {
   "cell_type": "markdown",
   "id": "d069d313-a52b-4a21-9a42-de76bb65b02a",
   "metadata": {},
   "source": [
    "### 넘파이의 ndarray의 데이터 세트 선택하기 - 인덱싱(Indexing)\n",
    "1) 단일 값 추출\n",
    "   - 원하는 위치의 인덱스 값을 지정하면 해당 위치의 데이터가 반환\n",
    "   - 단일 인덱스를 이용해 ndarray 내의 데이터 값 수정 가능\n",
    "   - 2차원 ndarray에서의 데이터 접근은 콤마(,)로 분리된 로우와 칼럼 위치의 인덱스를 통해 접근\n",
    "   - 넘파이의 다차원 ndarray는 axis 구분을 가짐(로우: axis 0, 칼럼: axis 1)\n",
    "   - 축 기반 연산에서 axis가 생략되면 axis 0을 의미"
   ]
  },
  {
   "cell_type": "code",
   "execution_count": 15,
   "id": "daa55d3a-5f33-4ceb-8085-873beb2ec84c",
   "metadata": {},
   "outputs": [
    {
     "name": "stdout",
     "output_type": "stream",
     "text": [
      "array1: [1 2 3 4 5 6 7 8 9]\n",
      "value: 3\n",
      "<class 'numpy.int32'>\n"
     ]
    }
   ],
   "source": [
    "# 1에서 부터 9 까지의 1차원 ndarray 생성 \n",
    "array1 = np.arange(start=1, stop=10)\n",
    "print('array1:',array1)\n",
    "# index는 0 부터 시작하므로 array1[2]는 3번째 index 위치의 데이터 값을 의미\n",
    "value = array1[2]\n",
    "print('value:',value) # 3\n",
    "print(type(value)) # 데이터 타입: int형"
   ]
  },
  {
   "cell_type": "code",
   "execution_count": 16,
   "id": "16dbc049-ada3-4a30-b70e-c5fc2dc28896",
   "metadata": {},
   "outputs": [
    {
     "name": "stdout",
     "output_type": "stream",
     "text": [
      "맨 뒤의 값: 9 , 맨 뒤에서 두번째 값: 8\n"
     ]
    }
   ],
   "source": [
    "print('맨 뒤의 값:',array1[-1], ', 맨 뒤에서 두번째 값:',array1[-2]) # 9, 8"
   ]
  },
  {
   "cell_type": "code",
   "execution_count": 17,
   "id": "4578499c-8ffc-4917-844d-e5fe2ddcb7f5",
   "metadata": {},
   "outputs": [
    {
     "name": "stdout",
     "output_type": "stream",
     "text": [
      "array1: [9 2 3 4 5 6 7 8 0]\n"
     ]
    }
   ],
   "source": [
    "array1[0] = 9 # 0번째 인덱스 위치의 데이터 값을 9로 수정\n",
    "array1[8] = 0 # 8번째 인덱스 위치의 데이터 값을 0로 수정\n",
    "print('array1:',array1)"
   ]
  },
  {
   "cell_type": "code",
   "execution_count": 18,
   "id": "3f4ff29c-909b-4e17-9078-4c53a51a3ac0",
   "metadata": {},
   "outputs": [
    {
     "name": "stdout",
     "output_type": "stream",
     "text": [
      "[[1 2 3]\n",
      " [4 5 6]\n",
      " [7 8 9]]\n",
      "(row=0,col=0) index 가리키는 값: 1\n",
      "(row=0,col=1) index 가리키는 값: 2\n",
      "(row=1,col=0) index 가리키는 값: 4\n",
      "(row=2,col=2) index 가리키는 값: 9\n"
     ]
    }
   ],
   "source": [
    "array1d = np.arange(start=1, stop=10)\n",
    "array2d = array1d.reshape(3,3)\n",
    "print(array2d)\n",
    "\n",
    "print('(row=0,col=0) index 가리키는 값:', array2d[0,0]) # 1\n",
    "print('(row=0,col=1) index 가리키는 값:', array2d[0,1]) # 2\n",
    "print('(row=1,col=0) index 가리키는 값:', array2d[1,0]) # 4\n",
    "print('(row=2,col=2) index 가리키는 값:', array2d[2,2]) # 9"
   ]
  },
  {
   "cell_type": "markdown",
   "id": "06fc83b9-ff63-47c2-b0ef-d91e339bdf7a",
   "metadata": {},
   "source": [
    "2) 슬라이싱\n",
    "   - 시작 인덱스에서 종료 인덱스-1 위치에 있는 데이터의 ndarray를 반환\n",
    "   - 시작/종료 인덱스 생략 가능"
   ]
  },
  {
   "cell_type": "code",
   "execution_count": 19,
   "id": "5ff06a43-768a-4aa6-b59a-413f11690d9d",
   "metadata": {},
   "outputs": [
    {
     "name": "stdout",
     "output_type": "stream",
     "text": [
      "[1 2 3]\n",
      "<class 'numpy.ndarray'>\n"
     ]
    }
   ],
   "source": [
    "array1 = np.arange(start=1, stop=10)\n",
    "array3 = array1[0:3]\n",
    "print(array3)\n",
    "print(type(array3)) # 타입: ndarray"
   ]
  },
  {
   "cell_type": "code",
   "execution_count": 20,
   "id": "17fa218d-3a28-4a2c-b2a4-58f4ce5905de",
   "metadata": {},
   "outputs": [
    {
     "name": "stdout",
     "output_type": "stream",
     "text": [
      "[1 2 3]\n",
      "[4 5 6 7 8 9]\n",
      "[1 2 3 4 5 6 7 8 9]\n"
     ]
    }
   ],
   "source": [
    "array1 = np.arange(start=1, stop=10)\n",
    "array4 = array1[:3] # 시작 인덱스를 생략하면 맨 처음 인덱스로 간주\n",
    "print(array4)\n",
    "\n",
    "array5 = array1[3:] # 종료 인덱스를 생략하면 맨 마지막 인덱스로 간주\n",
    "print(array5)\n",
    "\n",
    "array6 = array1[:] # 시작/종료 인덱스를 생략하면 맨 처음/맨 마지막 인덱스로 간주\n",
    "print(array6)"
   ]
  },
  {
   "cell_type": "code",
   "execution_count": 21,
   "id": "30eb6b88-119d-408f-ba73-923f44a6fe4f",
   "metadata": {},
   "outputs": [
    {
     "name": "stdout",
     "output_type": "stream",
     "text": [
      "array2d:\n",
      " [[1 2 3]\n",
      " [4 5 6]\n",
      " [7 8 9]]\n",
      "array2d[0:2, 0:2] \n",
      " [[1 2]\n",
      " [4 5]]\n",
      "array2d[1:3, 0:3] \n",
      " [[4 5 6]\n",
      " [7 8 9]]\n",
      "array2d[1:3, :] \n",
      " [[4 5 6]\n",
      " [7 8 9]]\n",
      "array2d[:, :] \n",
      " [[1 2 3]\n",
      " [4 5 6]\n",
      " [7 8 9]]\n",
      "array2d[:2, 1:] \n",
      " [[2 3]\n",
      " [5 6]]\n",
      "array2d[:2, 0] \n",
      " [1 4]\n"
     ]
    }
   ],
   "source": [
    "array1d = np.arange(start=1, stop=10)\n",
    "array2d = array1d.reshape(3,3)\n",
    "print('array2d:\\n',array2d)\n",
    "\n",
    "print('array2d[0:2, 0:2] \\n', array2d[0:2, 0:2])\n",
    "print('array2d[1:3, 0:3] \\n', array2d[1:3, 0:3])\n",
    "print('array2d[1:3, :] \\n', array2d[1:3, :])\n",
    "print('array2d[:, :] \\n', array2d[:, :])\n",
    "print('array2d[:2, 1:] \\n', array2d[:2, 1:])\n",
    "print('array2d[:2, 0] \\n', array2d[:2, 0]) # 로우 축 한쪽에만 슬라이싱을 적용하고, 칼럼 충에는 단일 값 인덱스를 적용"
   ]
  },
  {
   "cell_type": "code",
   "execution_count": 22,
   "id": "b31be005-dfc7-489e-b713-3db49cb96b2f",
   "metadata": {},
   "outputs": [
    {
     "name": "stdout",
     "output_type": "stream",
     "text": [
      "[1 2 3]\n",
      "[4 5 6]\n",
      "array2d[0] shape: (3,) array2d[1] shape: (3,)\n"
     ]
    }
   ],
   "source": [
    "# 2차원에서 뒤에 오는 인덱스를 없애면 1차원 array를 반환\n",
    "# 3차원에서 뒤에 오는 인덱스를 없애면 2차원 array를 반환\n",
    "\n",
    "print(array2d[0]) # 로우 축(axis 0)의 첫 번째 로우 ndarray를 반환\n",
    "print(array2d[1]) # 로우 축(axis 0)의 두 번째 로우 ndarray를 반환\n",
    "print('array2d[0] shape:', array2d[0].shape, 'array2d[1] shape:', array2d[1].shape)"
   ]
  },
  {
   "cell_type": "markdown",
   "id": "f27e8926-0546-425b-bd08-4343b9ea8da4",
   "metadata": {},
   "source": [
    "3) 팬시 인덱싱\n",
    "   - 일정한 인덱싱 집합을 리스트 또는 ndarray 형태로 지정해 해당 위치에 있는 데이터의 ndarray를 반환"
   ]
  },
  {
   "cell_type": "code",
   "execution_count": 23,
   "id": "4e822511-f8b3-4792-b3e8-e29a0f5cd82a",
   "metadata": {},
   "outputs": [
    {
     "name": "stdout",
     "output_type": "stream",
     "text": [
      "array2d[[0,1], 2] =>  [3, 6]\n",
      "array2d[[0,1], 0:2] =>  [[1, 2], [4, 5]]\n",
      "array2d[[0,1]] =>  [[1, 2, 3], [4, 5, 6]]\n"
     ]
    }
   ],
   "source": [
    "array1d = np.arange(start=1, stop=10)\n",
    "array2d = array1d.reshape(3,3)\n",
    "\n",
    "array3 = array2d[[0,1], 2] # (0,2), (1,2)\n",
    "print('array2d[[0,1], 2] => ',array3.tolist())\n",
    "\n",
    "array4 = array2d[[0,1], 0:2] # ((0,0), (0,1)), ((1,0), (1,1))\n",
    "print('array2d[[0,1], 0:2] => ',array4.tolist())\n",
    "\n",
    "array5 = array2d[[0,1]] # ((0,:), (1,:))\n",
    "print('array2d[[0,1]] => ',array5.tolist())"
   ]
  },
  {
   "cell_type": "markdown",
   "id": "d20a7034-3c5d-4170-8ef0-ea21f68825d6",
   "metadata": {},
   "source": [
    "4) 불린 인덱싱\n",
    "   - True에 해당하는 인덱스 위치에 있는 데이터의 ndarray를 반환\n",
    "   - ndarray의 필터링 조건을 []안에 기재하면 True 값에 해당하는 **인덱스값** 데이터 세트로 ndarray 조회 "
   ]
  },
  {
   "cell_type": "code",
   "execution_count": 24,
   "id": "2d40db09-75ce-40e6-bcdf-db727cec2a48",
   "metadata": {},
   "outputs": [
    {
     "name": "stdout",
     "output_type": "stream",
     "text": [
      "array1d > 5 불린 인덱싱 결과 값 : [6 7 8 9]\n"
     ]
    }
   ],
   "source": [
    "array1d = np.arange(start=1, stop=10)\n",
    "# [ ] 안에 array1d > 5 Boolean indexing을 적용 \n",
    "array3 = array1d[array1d > 5]\n",
    "print('array1d > 5 불린 인덱싱 결과 값 :', array3)"
   ]
  },
  {
   "cell_type": "code",
   "execution_count": 25,
   "id": "9381c834-f11e-46bc-bb55-e1f5a4e57ba3",
   "metadata": {},
   "outputs": [
    {
     "data": {
      "text/plain": [
       "array([False, False, False, False, False,  True,  True,  True,  True])"
      ]
     },
     "execution_count": 25,
     "metadata": {},
     "output_type": "execute_result"
    }
   ],
   "source": [
    "array1d > 5 # ndarray 객체에 조건식을 할당하면 True/False로 이루어진 ndarray 객체를 반환"
   ]
  },
  {
   "cell_type": "code",
   "execution_count": 26,
   "id": "171d7f7d-5c00-48db-974b-888d8aa257e6",
   "metadata": {},
   "outputs": [
    {
     "name": "stdout",
     "output_type": "stream",
     "text": [
      "불린 인덱스로 필터링 결과 : [6 7 8 9]\n"
     ]
    }
   ],
   "source": [
    "boolean_indexes = np.array([False, False, False, False, False,  True,  True,  True,  True])\n",
    "array3 = array1d[boolean_indexes] # True 값이 있는 위치 인덱스 값으로 자동 변환해 해당하는 인덱스 위치의 데이터만 반환\n",
    "print('불린 인덱스로 필터링 결과 :', array3)"
   ]
  },
  {
   "cell_type": "code",
   "execution_count": 27,
   "id": "29c4e920-dc65-4796-b912-6233d54c10df",
   "metadata": {},
   "outputs": [
    {
     "name": "stdout",
     "output_type": "stream",
     "text": [
      "일반 인덱스로 필터링 결과 : [6 7 8 9]\n"
     ]
    }
   ],
   "source": [
    "indexes = np.array([5,6,7,8])\n",
    "array4 = array1d[ indexes ]\n",
    "print('일반 인덱스로 필터링 결과 :',array4)"
   ]
  },
  {
   "cell_type": "markdown",
   "id": "a1d489aa-a410-4cb4-9da3-f14c851d81f2",
   "metadata": {},
   "source": [
    "### 행렬의 정렬 - sort()와 argsort()\n",
    "1) 행렬 정렬\n",
    "   - **np.sort()**: 원 행렬은 그대로 유지한 채 원 행렬의 정렬된 행렬을 반환\n",
    "   - **ndarray.sort()**: 원 행렬 자체를 정렬한 형태로 변환하며 반환 값은 None\n",
    "   - 기본적으로 오름차순으로 행렬 내 원소 정렬, 내림차순으로 정렬할 경우 [::-1]을 적용\n",
    "   - 행렬이 2차원 이상일 경우, axis 축 값 설정을 통해 로우/칼럼 방향으로 정렬 수행"
   ]
  },
  {
   "cell_type": "code",
   "execution_count": 28,
   "id": "8c374a69-5b8d-460a-a39b-f29ae0728621",
   "metadata": {},
   "outputs": [
    {
     "name": "stdout",
     "output_type": "stream",
     "text": [
      "원본 행렬: [3 1 9 5]\n",
      "np.sort( ) 호출 후 반환된 정렬 행렬: [1 3 5 9]\n",
      "np.sort( ) 호출 후 원본 행렬: [3 1 9 5]\n",
      "org_array.sort( ) 호출 후 반환된 행렬: None\n",
      "org_array.sort( ) 호출 후 원본 행렬: [1 3 5 9]\n"
     ]
    }
   ],
   "source": [
    "org_array = np.array([3, 1, 9, 5]) \n",
    "print('원본 행렬:', org_array)\n",
    "# np.sort( )로 정렬 \n",
    "sort_array1 = np.sort(org_array)         \n",
    "print ('np.sort( ) 호출 후 반환된 정렬 행렬:', sort_array1) \n",
    "print('np.sort( ) 호출 후 원본 행렬:', org_array)\n",
    "# ndarray.sort( )로 정렬\n",
    "sort_array2 = org_array.sort()\n",
    "print('org_array.sort( ) 호출 후 반환된 행렬:', sort_array2) # None\n",
    "print('org_array.sort( ) 호출 후 원본 행렬:', org_array)"
   ]
  },
  {
   "cell_type": "code",
   "execution_count": 29,
   "id": "d1434deb-2b3a-4f8e-bdd1-872296d46ddc",
   "metadata": {},
   "outputs": [
    {
     "name": "stdout",
     "output_type": "stream",
     "text": [
      "내림차순으로 정렬: [9 5 3 1]\n"
     ]
    }
   ],
   "source": [
    "sort_array1_desc = np.sort(org_array)[::-1]\n",
    "print ('내림차순으로 정렬:', sort_array1_desc) "
   ]
  },
  {
   "cell_type": "code",
   "execution_count": 30,
   "id": "3467def5-faf4-4a38-a31c-034a42876211",
   "metadata": {},
   "outputs": [
    {
     "name": "stdout",
     "output_type": "stream",
     "text": [
      "로우 방향으로 정렬:\n",
      " [[ 7  1]\n",
      " [ 8 12]]\n",
      "컬럼 방향으로 정렬:\n",
      " [[ 8 12]\n",
      " [ 1  7]]\n"
     ]
    }
   ],
   "source": [
    "array2d = np.array([[8, 12], \n",
    "                   [7, 1 ]])\n",
    "\n",
    "sort_array2d_axis0 = np.sort(array2d, axis=0)\n",
    "print('로우 방향으로 정렬:\\n', sort_array2d_axis0)\n",
    "\n",
    "sort_array2d_axis1 = np.sort(array2d, axis=1)\n",
    "print('컬럼 방향으로 정렬:\\n', sort_array2d_axis1)"
   ]
  },
  {
   "cell_type": "markdown",
   "id": "b77597ba-8252-408b-9552-b440da877524",
   "metadata": {},
   "source": [
    "2) 정렬된 행렬의 인덱스를 반환하기\n",
    "   - **np.argsort()**: 정렬 행렬의 원본 행렬 인덱스를 ndarray 형으로 반환"
   ]
  },
  {
   "cell_type": "code",
   "execution_count": 31,
   "id": "c90d25c1-3f9b-4a5f-9c2b-30ec7438dd4c",
   "metadata": {},
   "outputs": [
    {
     "name": "stdout",
     "output_type": "stream",
     "text": [
      "<class 'numpy.ndarray'>\n",
      "행렬 정렬 시 원본 행렬의 인덱스: [1 0 3 2]\n"
     ]
    }
   ],
   "source": [
    "org_array = np.array([ 3, 1, 9, 5]) \n",
    "sort_indices = np.argsort(org_array)\n",
    "print(type(sort_indices)) # 타입: ndarray\n",
    "print('행렬 정렬 시 원본 행렬의 인덱스:', sort_indices)"
   ]
  },
  {
   "cell_type": "code",
   "execution_count": 32,
   "id": "51628460-d33b-4831-a3f4-30c505c25ebb",
   "metadata": {},
   "outputs": [
    {
     "name": "stdout",
     "output_type": "stream",
     "text": [
      "행렬 내림차순 정렬 시 원본 행렬의 인덱스: [2 3 0 1]\n"
     ]
    }
   ],
   "source": [
    "org_array = np.array([ 3, 1, 9, 5]) \n",
    "sort_indices_desc = np.argsort(org_array)[::-1]\n",
    "print('행렬 내림차순 정렬 시 원본 행렬의 인덱스:', sort_indices_desc)"
   ]
  },
  {
   "cell_type": "code",
   "execution_count": 33,
   "id": "10990f90-6bb2-4728-8261-048aa7582d0a",
   "metadata": {},
   "outputs": [
    {
     "name": "stdout",
     "output_type": "stream",
     "text": [
      "성적 오름차순 정렬 시 score_array의 인덱스: [0 2 4 1 3]\n",
      "성적 오름차순으로 name_array의 이름 출력: ['John' 'Sarah' 'Samuel' 'Mike' 'Kate']\n"
     ]
    }
   ],
   "source": [
    "import numpy as np\n",
    "\n",
    "name_array = np.array(['John', 'Mike', 'Sarah', 'Kate', 'Samuel'])\n",
    "score_array= np.array([78, 95, 84, 98, 88])\n",
    "\n",
    "sort_indices_asc = np.argsort(score_array)\n",
    "print('성적 오름차순 정렬 시 score_array의 인덱스:', sort_indices_asc)\n",
    "print('성적 오름차순으로 name_array의 이름 출력:', name_array[sort_indices_asc]) # 시험 성적 순으로 반환된 인덱스를 name_array에 팬시 인덱스로 적용해 추출"
   ]
  },
  {
   "cell_type": "markdown",
   "id": "85dff2c4-d60f-443a-8bb0-5a3592498b1b",
   "metadata": {},
   "source": [
    "### 선형대수 연산 - 행렬 내적과 전치 행렬 구하기\n",
    "1) 행렬 내적(행렬 곱)\n",
    "   - **np.dot()**"
   ]
  },
  {
   "cell_type": "code",
   "execution_count": 34,
   "id": "2c2b608d-0b98-4811-84c2-3dc86443a759",
   "metadata": {},
   "outputs": [
    {
     "name": "stdout",
     "output_type": "stream",
     "text": [
      "행렬 내적 결과:\n",
      " [[ 58  64]\n",
      " [139 154]]\n"
     ]
    }
   ],
   "source": [
    "A = np.array([[1, 2, 3],\n",
    "              [4, 5, 6]])\n",
    "B = np.array([[7, 8],\n",
    "              [9, 10],\n",
    "              [11, 12]])\n",
    "\n",
    "dot_product = np.dot(A, B)\n",
    "print('행렬 내적 결과:\\n', dot_product)"
   ]
  },
  {
   "cell_type": "markdown",
   "id": "2f3f414a-4906-4411-bbba-89f224fad436",
   "metadata": {},
   "source": [
    "2) 전치 행렬\n",
    "   - **np.transpose()**"
   ]
  },
  {
   "cell_type": "code",
   "execution_count": 35,
   "id": "79d03d6f-ee88-47d0-bab5-45b0eb493f52",
   "metadata": {},
   "outputs": [
    {
     "name": "stdout",
     "output_type": "stream",
     "text": [
      "A의 전치 행렬:\n",
      " [[1 3]\n",
      " [2 4]]\n"
     ]
    }
   ],
   "source": [
    "A = np.array([[1, 2],\n",
    "              [3, 4]])\n",
    "transpose_mat = np.transpose(A)\n",
    "print('A의 전치 행렬:\\n', transpose_mat)"
   ]
  },
  {
   "cell_type": "code",
   "execution_count": null,
   "id": "dd01ebc6-98c2-4ed0-bf13-600b87145a14",
   "metadata": {},
   "outputs": [],
   "source": []
  }
 ],
 "metadata": {
  "kernelspec": {
   "display_name": "Python 3 (ipykernel)",
   "language": "python",
   "name": "python3"
  },
  "language_info": {
   "codemirror_mode": {
    "name": "ipython",
    "version": 3
   },
   "file_extension": ".py",
   "mimetype": "text/x-python",
   "name": "python",
   "nbconvert_exporter": "python",
   "pygments_lexer": "ipython3",
   "version": "3.11.7"
  }
 },
 "nbformat": 4,
 "nbformat_minor": 5
}
