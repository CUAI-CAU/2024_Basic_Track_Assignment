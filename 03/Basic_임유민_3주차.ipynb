{
  "nbformat": 4,
  "nbformat_minor": 0,
  "metadata": {
    "colab": {
      "provenance": []
    },
    "kernelspec": {
      "name": "python3",
      "display_name": "Python 3"
    },
    "language_info": {
      "name": "python"
    }
  },
  "cells": [
    {
      "cell_type": "markdown",
      "source": [
        "# 평가\n",
        "\n",
        "\n",
        "*   머신러닝의 기본 프로세스\n",
        "    * 데이터 가공/변환 -> 모델 학습/예측 -> 평가\n",
        "\n",
        "\n",
        "*   회귀 모델에서의 평가지표\n",
        "    * 실제값과 예측값의 오차 평균값에 기반\n",
        "\n",
        "*  분류 모델에서의 평가지표\n",
        "    * 정확도\n",
        "    * 오차행렬\n",
        "    * 정밀도\n",
        "    * 재현율\n",
        "    * F1 스코어\n",
        "    * ROC AUC"
      ],
      "metadata": {
        "id": "BNXfbkjtNZuS"
      }
    },
    {
      "cell_type": "markdown",
      "source": [
        "# 정확도\n",
        "실제 데이터에서 예측 데이터가 얼마나 같은지를 판단하는 지표\n",
        "\n",
        "*  정확도(Accuracy) = 예측 결과가 동일한 데이터 건 / 전체 예측 데이터 건수\n",
        "*  이진 분류의 경우 데이터의 구성에 따라 ML 모델의 성능을 왜곡할 수 있기에 여러가지 수치를 고려하여 정확도를 측정함"
      ],
      "metadata": {
        "id": "Iw2kOTu5Om9P"
      }
    },
    {
      "cell_type": "code",
      "execution_count": 3,
      "metadata": {
        "id": "hVBR0UmvM-mY"
      },
      "outputs": [],
      "source": [
        "from sklearn.base import BaseEstimator\n",
        "import numpy as np\n",
        "\n",
        "class MyDummyClassifier(BaseEstimator):\n",
        "    # fit() 는 아무것도 학습하지 않음\n",
        "    def fit(self, X, y=None):\n",
        "        pass\n",
        "\n",
        "    # 만약 입력 데이터 X의 'Sex' 특성이 1이면 0을, 그렇지 않으면 1을 예측값으로 합니다.\n",
        "    def predict(self, X):\n",
        "        # 입력 데이터 X의 행 개수만큼 0으로 초기화된 배열을 생성. 이 배열은 예측 결과를 저장하기 위한 것.\n",
        "        pred = np.zeros((X.shape[0], 1))\n",
        "\n",
        "        # X의 모든 행에 대해서 반복.\n",
        "        for i in range(X.shape[0]):\n",
        "            # 만약 현재 행의 'Sex' 값이 1이면, 예측값을 0으로 설정.\n",
        "            if X['Sex'].iloc[i] == 1:\n",
        "                pred[i] = 0\n",
        "            # 그렇지 않으면, 예측값을 1로 설정.\n",
        "            else:\n",
        "                pred[i] = 1\n",
        "\n",
        "        return pred\n"
      ]
    },
    {
      "cell_type": "code",
      "source": [
        "from sklearn.preprocessing import LabelEncoder\n",
        "\n",
        "# Null 처리 함수\n",
        "def fillna(df):\n",
        "    df['Age'].fillna(df['Age'].mean(), inplace=True)\n",
        "    df['Cabin'].fillna('N', inplace=True)\n",
        "    df['Embarked'].fillna('N', inplace=True)\n",
        "    df['Fare'].fillna(0, inplace=True)\n",
        "    return df\n",
        "\n",
        "# 머신러닝 알고리즘에 불필요한 피처 제거\n",
        "def drop_features(df):\n",
        "    df.drop(['PassengerId', 'Name', 'Ticket'], axis=1, inplace=True)\n",
        "    return df\n",
        "\n",
        "# 레이블 인코딩\n",
        "def format_features(df):\n",
        "    df['Cabin'] = df['Cabin'].str[:1]\n",
        "    features = ['Cabin', 'Sex', 'Embarked']\n",
        "    for feature in features:\n",
        "        le = LabelEncoder()\n",
        "        le = le.fit(df[feature])\n",
        "        df[feature] = le.transform(df[feature])\n",
        "    return df\n",
        "\n",
        "# 앞에서 설정한 데이터 전처리 함수 호출\n",
        "def transform_features(df):\n",
        "    df = fillna(df)\n",
        "    df = drop_features(df)\n",
        "    df = format_features(df)\n",
        "    return df"
      ],
      "metadata": {
        "id": "omEvc7Zg0nB0"
      },
      "execution_count": 4,
      "outputs": []
    },
    {
      "cell_type": "markdown",
      "source": [],
      "metadata": {
        "id": "S3t2ZCk4S6-V"
      }
    },
    {
      "cell_type": "code",
      "source": [
        "import pandas as pd\n",
        "from sklearn.model_selection import train_test_split\n",
        "from sklearn.metrics import accuracy_score\n",
        "\n",
        "# 원본 데이터를 재로딩, 데이터 가공, 학습 데이터/테스트 데이터 분할.\n",
        "titanic_df = pd.read_csv('/content/titanic_train.csv')\n",
        "y_titanic_df = titanic_df['Survived']\n",
        "X_titanic_df= titanic_df.drop('Survived', axis=1)\n",
        "X_titanic_df = transform_features(X_titanic_df)\n",
        "X_train, X_test, y_train, y_test=train_test_split(X_titanic_df, y_titanic_df,\n",
        "                                                  test_size=0.2, random_state=0)\n",
        "\n",
        "# 위에서 생성한 Dummy Classifier를 이용해 학습/예측/평가 수행.\n",
        "myclf = MyDummyClassifier()\n",
        "myclf.fit(X_train, y_train)\n",
        "\n",
        "mypredictions = myclf.predict(X_test)\n",
        "print('Dummy Classifier의 정확도는: {0:.4f}'.format(accuracy_score(y_test, mypredictions)))"
      ],
      "metadata": {
        "colab": {
          "base_uri": "https://localhost:8080/"
        },
        "id": "m8bOkbc1S8Fc",
        "outputId": "d225ab56-1029-4027-baf5-abf7c6fc7f25"
      },
      "execution_count": 5,
      "outputs": [
        {
          "output_type": "stream",
          "name": "stdout",
          "text": [
            "Dummy Classifier의 정확도는: 0.7877\n"
          ]
        }
      ]
    },
    {
      "cell_type": "markdown",
      "source": [
        "*  여성이면 생존, 남성이면 사망의 결과를 내는 로직의 단순한 Classifier 의 정확도는 0.7877로 꽤 높게 나온다. 즉 분류 모델의 정확도를 평가지표를 사용해야 할 때는 매우 신중해야한다.\n",
        "\n",
        "*  불균형한 레이블 값 분포에서 ML모델의 성능을 평가할 경우, 적합한 평가지표가 아니다."
      ],
      "metadata": {
        "id": "mUSFsYxoUsJx"
      }
    },
    {
      "cell_type": "code",
      "source": [
        "# MNIST 데이터셋을 multi classification에서 binary classification 으로 변경 (7만true, 나머지는 fasle -> 불균형한 데이터셋으로 변경)\n",
        "from sklearn.datasets import load_digits\n",
        "from sklearn.model_selection import train_test_split\n",
        "from sklearn.base import BaseEstimator\n",
        "from sklearn.metrics import accuracy_score\n",
        "import numpy as np\n",
        "import pandas as pd\n",
        "\n",
        "class MyFakeClassifier(BaseEstimator):\n",
        "    def fit(self,X,y):\n",
        "        pass\n",
        "\n",
        "    # 입력값으로 들어오는 X 데이터 셋의 크기만큼 모두 0값으로 만들어서 반환\n",
        "    def predict(self,X):\n",
        "        return np.zeros( (len(X), 1) , dtype=bool)\n",
        "\n",
        "# 사이킷런의 내장 데이터 셋인 load_digits( )를 이용하여 MNIST 데이터 로딩\n",
        "digits = load_digits()\n",
        "\n",
        "# digits번호가 7번이면 True이고 이를 astype(int)로 1로 변환, 7번이 아니면 False이고 0으로 변환.\n",
        "y = (digits.target == 7).astype(int)\n",
        "X_train, X_test, y_train, y_test = train_test_split( digits.data, y, random_state=11)"
      ],
      "metadata": {
        "id": "SB--1twVVnRN"
      },
      "execution_count": 6,
      "outputs": []
    },
    {
      "cell_type": "code",
      "source": [
        "# 불균형한 레이블 데이터 분포도 확인.\n",
        "print('레이블 테스트 세트 크기 :', y_test.shape)\n",
        "print('테스트 세트 레이블 0 과 1의 분포도')\n",
        "print(pd.Series(y_test).value_counts())\n",
        "\n",
        "# Dummy Classifier로 학습/예측/정확도 평가\n",
        "fakeclf = MyFakeClassifier()\n",
        "fakeclf.fit(X_train , y_train)\n",
        "fakepred = fakeclf.predict(X_test)\n",
        "print('모든 예측을 0으로 하여도 정확도는:{:.3f}'.format(accuracy_score(y_test , fakepred)))"
      ],
      "metadata": {
        "colab": {
          "base_uri": "https://localhost:8080/"
        },
        "id": "slu083RfZOm7",
        "outputId": "65b54334-88bc-4f47-9017-1b0e126e0b01"
      },
      "execution_count": 7,
      "outputs": [
        {
          "output_type": "stream",
          "name": "stdout",
          "text": [
            "레이블 테스트 세트 크기 : (450,)\n",
            "테스트 세트 레이블 0 과 1의 분포도\n",
            "0    405\n",
            "1     45\n",
            "dtype: int64\n",
            "모든 예측을 0으로 하여도 정확도는:0.900\n"
          ]
        }
      ]
    },
    {
      "cell_type": "markdown",
      "source": [
        "모든 예측값을 0으로 해도 정확도가 90%가 나온다. 이처럼 레이블 데이터 분포가 불균형할 경우 정확도를 평가지표를 사용해서는 안된다.\n"
      ],
      "metadata": {
        "id": "5whiXNS8ZWbY"
      }
    },
    {
      "cell_type": "markdown",
      "source": [
        "# 오차행렬\n",
        "*  오차행렬: 이진 분류의 예측 오류가 얼마인지와 더불어 어떠한 유형의 예측 오류가 발생하고 있는지를 함께 나타내는 지표이다\n",
        "\n",
        "![평가지표.JPG](data:image/jpeg;base64,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![F1_SCORE.JPG](data:image/jpeg;base64,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![평가지표.JPG](data:image/jpeg;base64,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))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)\n",
        "\n",
        "  * TN : 예측값을 Negative 값 0으로 예측했고 실제 값 역시 Negative 값 0\n",
        "  * FP : 예측값을 Positive 값 1로 예측했는데 실제 값은 역시 Negative 값 0\n",
        "  * FN : 예측값을 Negative 값 0으로 예측했는데 실제 값은 Positive값 1\n",
        "  * TP : 예측값을 Positive 값 1로 예측했는데 실제 값 역시 Positive 값 1"
      ],
      "metadata": {
        "id": "lEDd_0AHZr_E"
      }
    },
    {
      "cell_type": "code",
      "source": [
        "# confusion_matrix() API를 제공함.\n",
        "from sklearn.metrics import confusion_matrix\n",
        "\n",
        "confusion_matrix(y_test , fakepred)"
      ],
      "metadata": {
        "colab": {
          "base_uri": "https://localhost:8080/"
        },
        "id": "0leBBungbN9Z",
        "outputId": "1faea7f7-934b-4264-86da-03423687af0b"
      },
      "execution_count": 8,
      "outputs": [
        {
          "output_type": "execute_result",
          "data": {
            "text/plain": [
              "array([[405,   0],\n",
              "       [ 45,   0]])"
            ]
          },
          "metadata": {},
          "execution_count": 8
        }
      ]
    },
    {
      "cell_type": "markdown",
      "source": [
        "출력된 오차 행렬은 ndarray 형태\n",
        "\n",
        "\n",
        "이진 분류의 TN, FP, FN, FP 상단 도표와 동일한 위츠를 가지고 array 에서 가져올 수 있다.\n",
        "*   TN : array[0,0]\n",
        "*   FP : array[0,1]\n",
        "*   FN : array[1,0]\n",
        "*   FF : array[1,1]\n",
        "\n",
        "TN, FP, FN, FP 값을 조합해 정확도, 정밀도, 재현율 값을 알 수 있다.\n"
      ],
      "metadata": {
        "id": "4Q0Z0Zx3eImO"
      }
    },
    {
      "cell_type": "markdown",
      "source": [
        "*  정확도 : 예측 결과와 실제 값이 동일한 건수 / 전체 데이터 수 = (TN + TP)/(TN + FP +FN + TP)\n",
        "# *  하지만 분균형한 데이터 세트에서 정확도만으로는 모델 신뢰도가 떨어질 수 있음"
      ],
      "metadata": {
        "id": "M2H2c7OyfF6A"
      }
    },
    {
      "cell_type": "markdown",
      "source": [
        "[링크 텍스트](https://)# 정밀도와 재현율\n",
        "*  정밀도 : TP / (FP + TP)\n",
        "    *  예측을 Positive로 한 대상 중에 예측과 실제 값이 Positive로 일치한 데이터의 비율\n",
        "    * 분모(FP + TP) : 예측을 Positive로 한 모든 데이터의 건수\n",
        "    * 분자(TP) : 예측과 실제 값이 Positive로 일치한 데이터 건수\n",
        "    * **재현율이 상대적으로 더 중요한 지표인 경우는 실제 Positive 양성인 데이터 예측을 Negative로 잘못 판단하게 되면 업무상 큰 영향이 발생하는 경우**\n",
        "    * FN 을 낮추고 TP를 높이는데 초점\n",
        "    \n",
        "*  재현율 = TP / (FN + TP)\n",
        "    *  실제 값이 Positive인 대상 중에 예측과 실제 값이 Positive로 일치한 데이터의 비율\n",
        "    * 분모(FP + TP) : 실제 값이 Positive 인 데이터의 건수\n",
        "    * 분자(TP) : 예측과 실제 값이 Positive로 일치한 데이터 건수\n",
        "    * **정밀도가 상대적으로 더 중유한 지표인 경우는 실제 Negative 음성인 데이터 에측을 Positive 양성으로 잘못 판단하게 되면 업무상 큰 영향이 발생하는 경우**'\n",
        "    * FP 을 낮추고 TP를 높이는데 초점"
      ],
      "metadata": {
        "id": "wgrWm3Y8gFJd"
      }
    },
    {
      "cell_type": "code",
      "source": [
        "# confusion matrix, accuracy, precision, recall 등의 평가를 한꺼번에 호출하는 함수 작성\n",
        "\n",
        "from sklearn.metrics import accuracy_score, precision_score , recall_score , confusion_matrix\n",
        "\n",
        "def get_clf_eval(y_test , pred):\n",
        "    confusion = confusion_matrix( y_test, pred)\n",
        "    accuracy = accuracy_score(y_test , pred)\n",
        "    precision = precision_score(y_test , pred) # 정밀도 계산 precision_score()\n",
        "    recall = recall_score(y_test , pred) # 정밀도 계산 recall_score()\n",
        "    print('오차 행렬')\n",
        "    print(confusion)\n",
        "    print('정확도: {0:.4f}, 정밀도: {1:.4f}, 재현율: {2:.4f}'.format(accuracy , precision ,recall))"
      ],
      "metadata": {
        "id": "wWb_y5fJlQiy"
      },
      "execution_count": 9,
      "outputs": []
    },
    {
      "cell_type": "code",
      "source": [
        "import numpy as np\n",
        "import pandas as pd\n",
        "\n",
        "from sklearn.model_selection import train_test_split\n",
        "from sklearn.linear_model import LogisticRegression\n",
        "\n",
        "# 원본 데이터를 재로딩, 데이터 가공, 학습데이터/테스트 데이터 분할.\n",
        "titanic_df = pd.read_csv('./titanic_train.csv')\n",
        "y_titanic_df = titanic_df['Survived']\n",
        "X_titanic_df= titanic_df.drop('Survived', axis=1)\n",
        "X_titanic_df = transform_features(X_titanic_df)\n",
        "\n",
        "X_train, X_test, y_train, y_test = train_test_split(X_titanic_df, y_titanic_df, \\\n",
        "                                                    test_size=0.20, random_state=11)\n",
        "\n",
        "lr_clf = LogisticRegression(solver='liblinear')\n",
        "\n",
        "lr_clf.fit(X_train , y_train)\n",
        "pred = lr_clf.predict(X_test)\n",
        "get_clf_eval(y_test , pred)"
      ],
      "metadata": {
        "colab": {
          "base_uri": "https://localhost:8080/"
        },
        "id": "K2bDZyf_yNQQ",
        "outputId": "21e0677a-d486-49ca-f6bf-6e974c960ab1"
      },
      "execution_count": 10,
      "outputs": [
        {
          "output_type": "stream",
          "name": "stdout",
          "text": [
            "오차 행렬\n",
            "[[108  10]\n",
            " [ 14  47]]\n",
            "정확도: 0.8659, 정밀도: 0.8246, 재현율: 0.7705\n"
          ]
        }
      ]
    },
    {
      "cell_type": "markdown",
      "source": [
        "### 정밀도/재현율 트레이드오프\n",
        "정밀도/재현율 트레이드오프:  정밀도와 재현율은 분류의 결점 임계값을 조정해 강조되어야할 한쪽의 수치를 올리거나 내릴 수 있음. 두 지표 사이의 균형을 맞추는 문제로, 하나를 높이려고 하면 다른 하나가 감소하는 경향이 있음"
      ],
      "metadata": {
        "id": "ljr1_fmhlQ4F"
      }
    },
    {
      "cell_type": "markdown",
      "source": [
        "predict_proba()\n",
        "\n",
        "\n",
        "*   파라미터 : 테스트 피처 데이터 세트\n",
        "*   반환값: 개별 클래스의 예측 확률을 ndarray m x n형태로 반환(m: 입력값의 레코드 수(표본 수), n: 클래스 값 유형)\n",
        "* 첫번째 칼럼 : 0 negative 확류률, 두번째 칼럼: 1 positive 확률\n",
        "\n"
      ],
      "metadata": {
        "id": "a6wYVe2QgTbh"
      }
    },
    {
      "cell_type": "code",
      "source": [
        "# predict_proba()\n",
        "\n",
        "pred_proba = lr_clf.predict_proba(X_test)\n",
        "pred  = lr_clf.predict(X_test)\n",
        "print('pred_proba()결과 Shape : {0}'.format(pred_proba.shape))\n",
        "print('pred_proba array에서 앞 3개만 샘플로 추출 \\n:', pred_proba[:3])\n",
        "\n",
        "# 예측 확률 array 와 예측 결과값 array 를 concatenate 하여 예측 확률과 결과값을 한눈에 확인\n",
        "pred_proba_result = np.concatenate([pred_proba , pred.reshape(-1,1)],axis=1)\n",
        "print('두개의 class 중에서 더 큰 확률을 클래스 값으로 예측 \\n',pred_proba_result[:3])"
      ],
      "metadata": {
        "colab": {
          "base_uri": "https://localhost:8080/"
        },
        "id": "0JFQ23-62r7b",
        "outputId": "f76ce56e-faf1-4b56-b73b-4ebe5acd8324"
      },
      "execution_count": 11,
      "outputs": [
        {
          "output_type": "stream",
          "name": "stdout",
          "text": [
            "pred_proba()결과 Shape : (179, 2)\n",
            "pred_proba array에서 앞 3개만 샘플로 추출 \n",
            ": [[0.44935227 0.55064773]\n",
            " [0.86335512 0.13664488]\n",
            " [0.86429645 0.13570355]]\n",
            "두개의 class 중에서 더 큰 확률을 클래스 값으로 예측 \n",
            " [[0.44935227 0.55064773 1.        ]\n",
            " [0.86335512 0.13664488 0.        ]\n",
            " [0.86429645 0.13570355 0.        ]]\n"
          ]
        }
      ]
    },
    {
      "cell_type": "markdown",
      "source": [
        "predict() 는 predict_proba() 메서드에 기반해서 만든 api.\n",
        "predict_proba() 에서 반환된 결과를 predict() 가 더 큰 확률쪽으로 예측을 함"
      ],
      "metadata": {
        "id": "IOJiM2an31Fc"
      }
    },
    {
      "cell_type": "code",
      "source": [
        "#Binarizer 메서드 사용\n",
        "\n",
        "from sklearn.preprocessing import Binarizer\n",
        "\n",
        "X = [[ 1, -1,  2],\n",
        "     [ 2,  0,  0],\n",
        "     [ 0,  1.1, 1.2]]\n",
        "\n",
        "# threshold 기준값보다 같거나 작으면 0을, 크면 1을 반환\n",
        "binarizer = Binarizer(threshold=1.1) #임계값 : 1.1\n",
        "print(binarizer.fit_transform(X)) # fit_transform() 메서드로 입력된 임계값 기준으로 분류해서 결과 반환"
      ],
      "metadata": {
        "colab": {
          "base_uri": "https://localhost:8080/"
        },
        "id": "2RMSVmjS31Ml",
        "outputId": "6edfbea1-4881-4fb8-a157-091ae255d7ec"
      },
      "execution_count": 12,
      "outputs": [
        {
          "output_type": "stream",
          "name": "stdout",
          "text": [
            "[[0. 0. 1.]\n",
            " [1. 0. 0.]\n",
            " [0. 0. 1.]]\n"
          ]
        }
      ]
    },
    {
      "cell_type": "code",
      "source": [
        "from sklearn.preprocessing import Binarizer\n",
        "\n",
        "#Binarizer의 threshold 설정값. 분류 결정 임곗값임.\n",
        "custom_threshold = 0.5\n",
        "\n",
        "# predict_proba( ) 반환값의 두번째 컬럼 , 즉 Positive 클래스 컬럼 하나만 추출하여 Binarizer를 적용\n",
        "pred_proba_1 = pred_proba[:,1].reshape(-1,1)\n",
        "\n",
        "binarizer = Binarizer(threshold=custom_threshold).fit(pred_proba_1)\n",
        "custom_predict = binarizer.transform(pred_proba_1)\n",
        "\n",
        "get_clf_eval(y_test, custom_predict)"
      ],
      "metadata": {
        "colab": {
          "base_uri": "https://localhost:8080/"
        },
        "id": "7RTMUurG4pPJ",
        "outputId": "768e5202-ecd2-4cc8-fffc-7a7f9da1b25b"
      },
      "execution_count": 13,
      "outputs": [
        {
          "output_type": "stream",
          "name": "stdout",
          "text": [
            "오차 행렬\n",
            "[[108  10]\n",
            " [ 14  47]]\n",
            "정확도: 0.8659, 정밀도: 0.8246, 재현율: 0.7705\n"
          ]
        }
      ]
    },
    {
      "cell_type": "code",
      "source": [
        "# Binarizer의 threshold 설정값을 0.4로 설정. 즉 분류 결정 임곗값을 0.5에서 0.4로 낮춤\n",
        "custom_threshold = 0.4\n",
        "pred_proba_1 = pred_proba[:,1].reshape(-1,1)\n",
        "binarizer = Binarizer(threshold=custom_threshold).fit(pred_proba_1)\n",
        "custom_predict = binarizer.transform(pred_proba_1)\n",
        "\n",
        "get_clf_eval(y_test , custom_predict)"
      ],
      "metadata": {
        "colab": {
          "base_uri": "https://localhost:8080/"
        },
        "id": "g5Q_x9V54tau",
        "outputId": "601a9ee8-a87f-444e-93d0-c6f5e7cbb6fb"
      },
      "execution_count": 14,
      "outputs": [
        {
          "output_type": "stream",
          "name": "stdout",
          "text": [
            "오차 행렬\n",
            "[[97 21]\n",
            " [11 50]]\n",
            "정확도: 0.8212, 정밀도: 0.7042, 재현율: 0.8197\n"
          ]
        }
      ]
    },
    {
      "cell_type": "markdown",
      "source": [
        "*  임계값을 낮추니 재현율 값이 올라가고 정밀도가 떨어짐\n",
        "    *  -> 임계값을 낮추니 true로 예측하는 정도가 너그러워짐 -> 재현율은 실제값이 positive 대상중에 예측과 실제값이 positive로 일치한 비율임.\n",
        "    *  positive 예측값이 많아지면 양성 예측이 많아지고, 이는 양성을 음성으로 예측하는 횟수가 줄어들기 때문 (임계값이 높아지면, TN, FN 은 줄어들고 FP, TP 는 증가 -> 재현율 증가)"
      ],
      "metadata": {
        "id": "FXk21CM64tRw"
      }
    },
    {
      "cell_type": "code",
      "source": [
        "# 테스트를 수행할 모든 임곗값을 리스트 객체로 저장. -> 0.4, 0.45, 0.50, 0.55, 0.60 임계값을 점점 높혀가면서 정확도, 정밀도, 재현율의 변동을 확인\n",
        "thresholds = [0.4, 0.45, 0.50, 0.55, 0.60]\n",
        "\n",
        "def get_eval_by_threshold(y_test , pred_proba_c1, thresholds):\n",
        "    # thresholds list객체내의 값을 차례로 iteration하면서 Evaluation 수행.\n",
        "    for custom_threshold in thresholds:\n",
        "        binarizer = Binarizer(threshold=custom_threshold).fit(pred_proba_c1)\n",
        "        custom_predict = binarizer.transform(pred_proba_c1)\n",
        "        print('임곗값:',custom_threshold)\n",
        "        get_clf_eval(y_test , custom_predict)\n",
        "\n",
        "get_eval_by_threshold(y_test ,pred_proba[:,1].reshape(-1,1), thresholds )"
      ],
      "metadata": {
        "colab": {
          "base_uri": "https://localhost:8080/"
        },
        "id": "X3OCY0CB8cqc",
        "outputId": "af66914b-fae4-46fa-fc8b-0b29310ccbcc"
      },
      "execution_count": 15,
      "outputs": [
        {
          "output_type": "stream",
          "name": "stdout",
          "text": [
            "임곗값: 0.4\n",
            "오차 행렬\n",
            "[[97 21]\n",
            " [11 50]]\n",
            "정확도: 0.8212, 정밀도: 0.7042, 재현율: 0.8197\n",
            "임곗값: 0.45\n",
            "오차 행렬\n",
            "[[105  13]\n",
            " [ 13  48]]\n",
            "정확도: 0.8547, 정밀도: 0.7869, 재현율: 0.7869\n",
            "임곗값: 0.5\n",
            "오차 행렬\n",
            "[[108  10]\n",
            " [ 14  47]]\n",
            "정확도: 0.8659, 정밀도: 0.8246, 재현율: 0.7705\n",
            "임곗값: 0.55\n",
            "오차 행렬\n",
            "[[111   7]\n",
            " [ 16  45]]\n",
            "정확도: 0.8715, 정밀도: 0.8654, 재현율: 0.7377\n",
            "임곗값: 0.6\n",
            "오차 행렬\n",
            "[[113   5]\n",
            " [ 17  44]]\n",
            "정확도: 0.8771, 정밀도: 0.8980, 재현율: 0.7213\n"
          ]
        }
      ]
    },
    {
      "cell_type": "markdown",
      "source": [
        "**precision_recall_curve( ) api**\n",
        "*  입력 파라미터\n",
        "    *  y_true: 실제 클래스 값 배열(배열 크기=[데이터 건수])\n",
        "    *  probas_pred: positive 칼럼의 예측 확률 배열\n",
        "\n",
        "*  반환 값\n",
        "    *  정밀도: 임곗값별 정밀도 값을 배열로 변환\n",
        "    *  반환값: 임곗값별 재현율 값을 배열로 반환"
      ],
      "metadata": {
        "id": "ZQVyyIEsm21M"
      }
    },
    {
      "cell_type": "code",
      "source": [
        "# precision_recall_curve( )\n",
        "\n",
        "from sklearn.metrics import precision_recall_curve\n",
        "\n",
        "# 레이블 값이 1일때의 예측 확률을 추출\n",
        "pred_proba_class1 = lr_clf.predict_proba(X_test)[:, 1]\n",
        "\n",
        "# 실제값 데이터 셋과 레이블 값이 1일 때의 예측 확률을 precision_recall_curve 인자로 입력\n",
        "precisions, recalls, thresholds = precision_recall_curve(y_test, pred_proba_class1 )\n",
        "print('반환된 분류 결정 임곗값 배열의 Shape:', thresholds.shape)\n",
        "print('반환된 precisions 배열의 Shape:', precisions.shape)\n",
        "print('반환된 recalls 배열의 Shape:', recalls.shape)\n",
        "\n",
        "print(\"thresholds 5 sample:\", thresholds[:5])\n",
        "print(\"precisions 5 sample:\", precisions[:5])\n",
        "print(\"recalls 5 sample:\", recalls[:5])\n",
        "\n",
        "#반환된 임계값 배열 로우가 147건이므로 샘플로 10건만 추출하되, 임곗값을 15 Step으로 추출\n",
        "  # precision_recall_curve에서는 0.11 ~ 0.95 정도의 임곗값을 담은 넘파이 ndarray와 이 임곗값에 해당되는 정밀도 및 재현율 값을 담은 넘파이 ndarray를 반환함 -> 147 개의 임곗값으로 너무 많기에 15단계씩 10개로 임곗값을 추출하여 정밀도와 재현율 비교\n",
        "thr_index = np.arange(0, thresholds.shape[0], 15) # -> 처음 값부터 15씩 증가\n",
        "print('샘플 추출을 위한 임계값 배열의 index 10개:', thr_index)\n",
        "print('샘플용 10개의 임곗값: ', np.round(thresholds[thr_index], 2))\n",
        "\n",
        "# 15 step 단위로 추출된 임계값에 따른 정밀도와 재현율 값\n",
        "print('샘플 임계값별 정밀도: ', np.round(precisions[thr_index], 3))\n",
        "print('샘플 임계값별 재현율: ', np.round(recalls[thr_index], 3))"
      ],
      "metadata": {
        "colab": {
          "base_uri": "https://localhost:8080/"
        },
        "id": "0MvVi8RP8h6J",
        "outputId": "cd025d19-92d8-4c7d-8db2-43a5367c158d"
      },
      "execution_count": 16,
      "outputs": [
        {
          "output_type": "stream",
          "name": "stdout",
          "text": [
            "반환된 분류 결정 임곗값 배열의 Shape: (165,)\n",
            "반환된 precisions 배열의 Shape: (166,)\n",
            "반환된 recalls 배열의 Shape: (166,)\n",
            "thresholds 5 sample: [0.01974988 0.06956414 0.08402808 0.08474207 0.08920161]\n",
            "precisions 5 sample: [0.34078212 0.34269663 0.34463277 0.34659091 0.34857143]\n",
            "recalls 5 sample: [1. 1. 1. 1. 1.]\n",
            "샘플 추출을 위한 임계값 배열의 index 10개: [  0  15  30  45  60  75  90 105 120 135 150]\n",
            "샘플용 10개의 임곗값:  [0.02 0.11 0.13 0.14 0.16 0.24 0.32 0.45 0.62 0.73 0.87]\n",
            "샘플 임계값별 정밀도:  [0.341 0.372 0.401 0.44  0.505 0.598 0.688 0.774 0.915 0.968 0.938]\n",
            "샘플 임계값별 재현율:  [1.    1.    0.967 0.902 0.902 0.902 0.869 0.787 0.705 0.492 0.246]\n"
          ]
        }
      ]
    },
    {
      "cell_type": "code",
      "source": [
        "# precision_recall_curve( )를 통한 재현율, 정밀도 임곗값별 변화 시각화\n",
        "\n",
        "import matplotlib.pyplot as plt\n",
        "import matplotlib.ticker as ticker\n",
        "%matplotlib inline\n",
        "\n",
        "def precision_recall_curve_plot(y_test , pred_proba_c1):\n",
        "    # threshold ndarray와 이 threshold에 따른 정밀도, 재현율 ndarray 추출.\n",
        "    precisions, recalls, thresholds = precision_recall_curve( y_test, pred_proba_c1)\n",
        "\n",
        "    # X축을 threshold값으로, Y축은 정밀도, 재현율 값으로 각각 Plot 수행. 정밀도는 점선으로 표시\n",
        "    plt.figure(figsize=(8,6))\n",
        "    threshold_boundary = thresholds.shape[0]\n",
        "    plt.plot(thresholds, precisions[0:threshold_boundary], linestyle='--', label='precision')\n",
        "    plt.plot(thresholds, recalls[0:threshold_boundary],label='recall')\n",
        "\n",
        "    # threshold 값 X 축의 Scale을 0.1 단위로 변경\n",
        "    start, end = plt.xlim()\n",
        "    plt.xticks(np.round(np.arange(start, end, 0.1),2))\n",
        "\n",
        "    # x축, y축 label과 legend, 그리고 grid 설정\n",
        "    plt.xlabel('Threshold value'); plt.ylabel('Precision and Recall value')\n",
        "    plt.legend(); plt.grid()\n",
        "    plt.show()\n",
        "\n",
        "precision_recall_curve_plot( y_test, lr_clf.predict_proba(X_test)[:, 1] )"
      ],
      "metadata": {
        "colab": {
          "base_uri": "https://localhost:8080/",
          "height": 542
        },
        "id": "62R_xjV-8h-p",
        "outputId": "799806df-97d5-4892-ad3d-f37bb2756d8f"
      },
      "execution_count": 17,
      "outputs": [
        {
          "output_type": "display_data",
          "data": {
            "text/plain": [
              "<Figure size 800x600 with 1 Axes>"
            ],
            "image/png": "[encoded data removed]"
          },
          "metadata": {}
        }
      ]
    },
    {
      "cell_type": "markdown",
      "source": [
        "# 정밀도와 재현율의 맹점\n",
        "임계값의 변경은 업무 환경에 맞게 두개의 수치를 상호 보완할 수 있는 수준에서 적용되어야함\n",
        "*  정밀도가 100% 되는 방법\n",
        "    *  확실한 기준이 되는 경우만 positive로 예측하고 나머지는 negative 로 예측\n",
        "    * -> FP 가 0 이 되기에 정확도가 100%가 됨\n",
        "*  재현율이 100%가 되는 방법\n",
        "    *  모든 환자를 positive 로 예측하면 된다.\n",
        "    *  -> FN 이 0 이 되기에 재현율이 100%가 됨"
      ],
      "metadata": {
        "id": "34UuQXkKo3NQ"
      }
    },
    {
      "cell_type": "markdown",
      "source": [],
      "metadata": {
        "id": "Uu4lFM7yo3QG"
      }
    },
    {
      "cell_type": "markdown",
      "source": [
        "# F1 스코어\n",
        "정밀도와 재현율을 결합한 지표, F1 스코어는 정밀도와 재현율이 어느 한쪽으로 치우치지 않는 수치를 나타낼 때 상대적으로 높은 값을 가짐\n"
      ],
      "metadata": {
        "id": "Pn81nMCUo3SP"
      }
    },
    {
      "cell_type": "code",
      "source": [
        "# 타이타닉 생존자 모델의 F1 스코어\n",
        "from sklearn.metrics import f1_score\n",
        "f1 = f1_score(y_test , pred)\n",
        "print('F1 스코어: {0:.4f}'.format(f1))"
      ],
      "metadata": {
        "colab": {
          "base_uri": "https://localhost:8080/"
        },
        "id": "vjVy6wRLqKit",
        "outputId": "7f0cc5b2-cc47-416b-fcc2-9bc7d682cca6"
      },
      "execution_count": 18,
      "outputs": [
        {
          "output_type": "stream",
          "name": "stdout",
          "text": [
            "F1 스코어: 0.7966\n"
          ]
        }
      ]
    },
    {
      "cell_type": "code",
      "source": [
        "# 임계값이 0.4 , 0.45 , 0.50 , 0.55 , 0.60 일때의 오차행렬, 정확도, 정밀도, 재현율, F1 스코어 반환\n",
        "def get_clf_eval(y_test , pred):\n",
        "    confusion = confusion_matrix( y_test, pred)\n",
        "    accuracy = accuracy_score(y_test , pred)\n",
        "    precision = precision_score(y_test , pred)\n",
        "    recall = recall_score(y_test , pred)\n",
        "    # F1 스코어 추가\n",
        "    f1 = f1_score(y_test,pred)\n",
        "    print('오차 행렬')\n",
        "    print(confusion)\n",
        "    # f1 score print 추가\n",
        "    print('정확도: {0:.4f}, 정밀도: {1:.4f}, 재현율: {2:.4f}, F1:{3:.4f}'.format(accuracy, precision, recall, f1))\n",
        "\n",
        "thresholds = [0.4 , 0.45 , 0.50 , 0.55 , 0.60]\n",
        "pred_proba = lr_clf.predict_proba(X_test)\n",
        "get_eval_by_threshold(y_test, pred_proba[:,1].reshape(-1,1), thresholds)\n",
        "\n",
        "# 임곗값이 0.6일때 F1 스코어가 제일 좋음"
      ],
      "metadata": {
        "colab": {
          "base_uri": "https://localhost:8080/"
        },
        "id": "JwNH04kuqb1H",
        "outputId": "764ff9ae-04da-4c9b-daec-dfce19cd7328"
      },
      "execution_count": 19,
      "outputs": [
        {
          "output_type": "stream",
          "name": "stdout",
          "text": [
            "임곗값: 0.4\n",
            "오차 행렬\n",
            "[[97 21]\n",
            " [11 50]]\n",
            "정확도: 0.8212, 정밀도: 0.7042, 재현율: 0.8197, F1:0.7576\n",
            "임곗값: 0.45\n",
            "오차 행렬\n",
            "[[105  13]\n",
            " [ 13  48]]\n",
            "정확도: 0.8547, 정밀도: 0.7869, 재현율: 0.7869, F1:0.7869\n",
            "임곗값: 0.5\n",
            "오차 행렬\n",
            "[[108  10]\n",
            " [ 14  47]]\n",
            "정확도: 0.8659, 정밀도: 0.8246, 재현율: 0.7705, F1:0.7966\n",
            "임곗값: 0.55\n",
            "오차 행렬\n",
            "[[111   7]\n",
            " [ 16  45]]\n",
            "정확도: 0.8715, 정밀도: 0.8654, 재현율: 0.7377, F1:0.7965\n",
            "임곗값: 0.6\n",
            "오차 행렬\n",
            "[[113   5]\n",
            " [ 17  44]]\n",
            "정확도: 0.8771, 정밀도: 0.8980, 재현율: 0.7213, F1:0.8000\n"
          ]
        }
      ]
    },
    {
      "cell_type": "markdown",
      "source": [
        "# ROC 곡선과 AUC\n",
        "ROC 곡선: 수신자 판단 곡선. FPR 이 변할때 TPR이 어떻게 변화하는지 나타내는 곡선-> 곡선이 가운데 직선에 가까울수록 성능이 떨어지는 것을 의미.\n",
        "\n",
        "\n",
        "*   TPR: 민감도, Positive가 정확히 예측되어야 하는 수준을 나타냄\n",
        "    *  TN/(FP + TN)\n",
        "*   FPR: 특이성, Negative 가 정확히 예측되어야 하는 수준을 나타냄\n",
        "    *  FP/(FP + TN) = 1 - TPR\n",
        "\n",
        "*   ROC 곡선은 FPR을 0~1까지 변화시키면서 TPR의 변화값을 구함\n",
        "    *  FPR 0 만들기: 임곗값을 1로 지정 -> FP 가 0 이 되기에 FPR 은 0이 된다\n",
        "    *  FPR 1 만들기: TN 을 0으로 만들면 된다 -> 임계값을 0으로 설정"
      ],
      "metadata": {
        "id": "X7i49OihrLjJ"
      }
    },
    {
      "cell_type": "markdown",
      "source": [
        "**ROC 곡선을 구하기 위한 roc_curver() api**\n",
        "*  입력 파라미터\n",
        "    *  y_true: 실제 클래스 값 array\n",
        "    *  y_score: predict_proba()의 반환값에서 positive 칼럼의 예측확률 (2번째 열)\n",
        "*  반환 값\n",
        "    *  fpr: fpr 값을 array로 반환\n",
        "    *  tpr: tpr 값을 array로 반환\n",
        "    *  thresholds: threshold값 array"
      ],
      "metadata": {
        "id": "JTGtJsSqstVs"
      }
    },
    {
      "cell_type": "code",
      "source": [
        "from sklearn.metrics import roc_curve\n",
        "\n",
        "# 레이블 값이 1일때의 예측 확률을 추출\n",
        "pred_proba_class1 = lr_clf.predict_proba(X_test)[:, 1]\n",
        "\n",
        "fprs , tprs , thresholds = roc_curve(y_test, pred_proba_class1)\n",
        "# 반환된 임곗값 배열에서 샘플로 데이터를 추출하되, 임곗값을 5 Step으로 추출.\n",
        "# thresholds[0]은 max(예측확률)+1로 임의 설정됨. 이를 제외하기 위해 np.arange는 1부터 시작\n",
        "thr_index = np.arange(1, thresholds.shape[0], 5)\n",
        "print('샘플 추출을 위한 임곗값 배열의 index:', thr_index)\n",
        "print('샘플 index로 추출한 임곗값: ', np.round(thresholds[thr_index], 2))\n",
        "\n",
        "# 5 step 단위로 추출된 임계값에 따른 FPR, TPR 값\n",
        "print('샘플 임곗값별 FPR: ', np.round(fprs[thr_index], 3))\n",
        "print('샘플 임곗값별 TPR: ', np.round(tprs[thr_index], 3))"
      ],
      "metadata": {
        "colab": {
          "base_uri": "https://localhost:8080/"
        },
        "id": "bPD-185-tUx7",
        "outputId": "671911ec-1bf5-435b-e69d-38bf74db85c1"
      },
      "execution_count": 20,
      "outputs": [
        {
          "output_type": "stream",
          "name": "stdout",
          "text": [
            "샘플 추출을 위한 임곗값 배열의 index: [ 1  6 11 16 21 26 31 36 41 46]\n",
            "샘플 index로 추출한 임곗값:  [0.94 0.73 0.62 0.52 0.44 0.28 0.15 0.14 0.13 0.12]\n",
            "샘플 임곗값별 FPR:  [0.    0.008 0.025 0.076 0.127 0.254 0.576 0.61  0.746 0.847]\n",
            "샘플 임곗값별 TPR:  [0.016 0.492 0.705 0.738 0.803 0.885 0.902 0.951 0.967 1.   ]\n"
          ]
        }
      ]
    },
    {
      "cell_type": "code",
      "source": [
        "# 레이블 값이 1일때의 예측 확률을 추출\n",
        "print(pred_proba_class1)"
      ],
      "metadata": {
        "colab": {
          "base_uri": "https://localhost:8080/"
        },
        "id": "m1gXFVXZt-qQ",
        "outputId": "d20db364-7a20-4129-bb13-94fde261d917"
      },
      "execution_count": 24,
      "outputs": [
        {
          "output_type": "stream",
          "name": "stdout",
          "text": [
            "[0.55064773 0.13664488 0.13570355 0.1503148  0.17656589 0.15768776\n",
            " 0.1290451  0.72771397 0.21814871 0.66814006 0.13821236 0.12941901\n",
            " 0.13574048 0.12934055 0.43966454 0.14996976 0.11045826 0.25749268\n",
            " 0.28879775 0.76223726 0.24315893 0.37571831 0.15344752 0.17288742\n",
            " 0.1317437  0.22996172 0.17053651 0.0966387  0.26627952 0.31152612\n",
            " 0.92353131 0.7746788  0.12838059 0.75924584 0.37288266 0.22996172\n",
            " 0.09445724 0.59397424 0.06956414 0.12349478 0.30202577 0.10335406\n",
            " 0.78006622 0.6843429  0.62057771 0.62067108 0.9283872  0.44222428\n",
            " 0.92085513 0.13196917 0.4920994  0.12934055 0.14423594 0.6512987\n",
            " 0.28441583 0.21146798 0.2538079  0.13570998 0.15920996 0.40161937\n",
            " 0.26467919 0.11294402 0.45447199 0.44673659 0.37416474 0.11636721\n",
            " 0.64818744 0.60096648 0.91699187 0.14927476 0.13221179 0.16929075\n",
            " 0.12350957 0.94040086 0.21264241 0.12934055 0.283459   0.20840196\n",
            " 0.79696903 0.13570998 0.7599495  0.62876418 0.91630375 0.15981388\n",
            " 0.92233282 0.91026752 0.15276922 0.13758468 0.83460272 0.12934055\n",
            " 0.12934055 0.22996172 0.24583258 0.12934055 0.62067108 0.1011611\n",
            " 0.92638598 0.12102773 0.39802172 0.93261004 0.52051722 0.09530728\n",
            " 0.94326279 0.11819211 0.54412033 0.13866562 0.15025069 0.14927301\n",
            " 0.4449725  0.11573102 0.15252581 0.12730436 0.32461309 0.51724751\n",
            " 0.1317437  0.08402808 0.15805796 0.21127162 0.88858247 0.09465144\n",
            " 0.12928355 0.1309456  0.08474207 0.41803181 0.01974988 0.12928355\n",
            " 0.1278098  0.2880536  0.65651104 0.29773303 0.93261004 0.40194454\n",
            " 0.67114658 0.51355251 0.57135185 0.43653443 0.74146856 0.22356775\n",
            " 0.12367551 0.84990727 0.86565305 0.14927301 0.13227897 0.10371244\n",
            " 0.1138666  0.6520237  0.10082951 0.2700266  0.87778554 0.18280309\n",
            " 0.3813489  0.626297   0.61651658 0.13536701 0.74838703 0.8961167\n",
            " 0.42351941 0.1452315  0.68584876 0.66092027 0.1565228  0.76738873\n",
            " 0.11140726 0.64779432 0.41445141 0.63856712 0.86365942 0.32202997\n",
            " 0.11399915 0.86053885 0.1290451  0.79383979 0.23280097 0.22562755\n",
            " 0.49675968 0.08920161 0.15029261 0.45125912 0.51807933]\n"
          ]
        }
      ]
    },
    {
      "cell_type": "code",
      "source": [
        "print(fprs)"
      ],
      "metadata": {
        "colab": {
          "base_uri": "https://localhost:8080/"
        },
        "id": "XtxrbLPouFUw",
        "outputId": "2dd6be10-b8d1-42e4-c24e-6b218c4b908c"
      },
      "execution_count": 27,
      "outputs": [
        {
          "output_type": "stream",
          "name": "stdout",
          "text": [
            "[0.         0.         0.         0.         0.         0.00847458\n",
            " 0.00847458 0.01694915 0.01694915 0.02542373 0.02542373 0.02542373\n",
            " 0.04237288 0.04237288 0.05932203 0.05932203 0.07627119 0.07627119\n",
            " 0.10169492 0.10169492 0.12711864 0.12711864 0.16949153 0.16949153\n",
            " 0.20338983 0.20338983 0.25423729 0.25423729 0.3220339  0.34745763\n",
            " 0.55932203 0.57627119 0.59322034 0.59322034 0.60169492 0.60169492\n",
            " 0.61016949 0.61864407 0.66101695 0.6779661  0.69491525 0.74576271\n",
            " 0.77966102 0.8220339  0.8220339  0.84745763 0.84745763 1.        ]\n"
          ]
        }
      ]
    },
    {
      "cell_type": "code",
      "source": [],
      "metadata": {
        "id": "nc-2nINovqN5"
      },
      "execution_count": null,
      "outputs": []
    },
    {
      "cell_type": "code",
      "source": [
        "print(thresholds) #-> 첫번째 값이 1보다 큰값 따라서 [1] 부터 시작\n",
        "# 모든 샘플을 양성으로 분류하기 위한 설정으로 roc 곡선이 0,0 부터 시작할 수 있기 위해 1번째 값이 큰 값으로 반환됨"
      ],
      "metadata": {
        "colab": {
          "base_uri": "https://localhost:8080/"
        },
        "id": "1g7PKljMuRG_",
        "outputId": "0b4e9287-58e3-49a3-8dd0-60590a5aed4f"
      },
      "execution_count": 31,
      "outputs": [
        {
          "output_type": "stream",
          "name": "stdout",
          "text": [
            "[1.94326279 0.94326279 0.94040086 0.93261004 0.87778554 0.86565305\n",
            " 0.72771397 0.68584876 0.64779432 0.63856712 0.626297   0.62067108\n",
            " 0.61651658 0.60096648 0.57135185 0.55064773 0.52051722 0.51724751\n",
            " 0.4920994  0.45447199 0.4449725  0.44222428 0.41445141 0.40194454\n",
            " 0.37571831 0.32202997 0.28441583 0.283459   0.23280097 0.22996172\n",
            " 0.14927476 0.14927301 0.14423594 0.13866562 0.13821236 0.13664488\n",
            " 0.13574048 0.13570998 0.13196917 0.1317437  0.12941901 0.12934055\n",
            " 0.1290451  0.12350957 0.12349478 0.11636721 0.11573102 0.01974988]\n"
          ]
        }
      ]
    },
    {
      "cell_type": "code",
      "source": [
        "# roc 곡선 시각화\n",
        "def roc_curve_plot(y_test , pred_proba_c1):\n",
        "    # 임곗값에 따른 FPR, TPR 값을 반환 받음.\n",
        "    fprs , tprs , thresholds = roc_curve(y_test ,pred_proba_c1)\n",
        "\n",
        "    # ROC Curve를 plot 곡선으로 그림.\n",
        "    plt.plot(fprs , tprs, label='ROC')\n",
        "    # 가운데 대각선 직선을 그림.\n",
        "    plt.plot([0, 1], [0, 1], 'k--', label='Random')\n",
        "\n",
        "    # FPR X 축의 Scale을 0.1 단위로 변경, X,Y 축명 설정등\n",
        "    start, end = plt.xlim()\n",
        "    plt.xticks(np.round(np.arange(start, end, 0.1),2))\n",
        "    plt.xlim(0,1); plt.ylim(0,1)\n",
        "    plt.xlabel('FPR( 1 - Sensitivity )'); plt.ylabel('TPR( Recall )')\n",
        "    plt.legend()\n",
        "    plt.show()\n",
        "\n",
        "roc_curve_plot(y_test, lr_clf.predict_proba(X_test)[:, 1] )"
      ],
      "metadata": {
        "colab": {
          "base_uri": "https://localhost:8080/",
          "height": 455
        },
        "id": "VrpB3eI4tVFi",
        "outputId": "4aec4dd1-25a3-4fcb-ff1f-e448370cc906"
      },
      "execution_count": 23,
      "outputs": [
        {
          "output_type": "display_data",
          "data": {
            "text/plain": [
              "<Figure size 640x480 with 1 Axes>"
            ],
            "image/png": "[encoded data removed]"
          },
          "metadata": {}
        }
      ]
    },
    {
      "cell_type": "markdown",
      "source": [
        "### AUC\n",
        "성능지표로 사용되는 ROC 곡선 면적에 기반한 AUC 값으로 결정됨. -> 일반적으로 1에 가까울 수록 좋은 수치, 가장 안좋은 수치는 0.5\n"
      ],
      "metadata": {
        "id": "ku1YGBdMthk6"
      }
    },
    {
      "cell_type": "code",
      "source": [
        "from sklearn.metrics import roc_auc_score\n",
        "pred_proba = lr_clf.predict_proba(X_test)[:, 1]\n",
        "roc_score = roc_auc_score(y_test, pred_proba)\n",
        "print('ROC AUC 값: {0:.4f}'.format(roc_score))"
      ],
      "metadata": {
        "colab": {
          "base_uri": "https://localhost:8080/"
        },
        "id": "6xkU60J0thz8",
        "outputId": "1669d6bc-6496-43f7-9d54-f1ab17534ad8"
      },
      "execution_count": 21,
      "outputs": [
        {
          "output_type": "stream",
          "name": "stdout",
          "text": [
            "ROC AUC 값: 0.8987\n"
          ]
        }
      ]
    },
    {
      "cell_type": "code",
      "source": [
        "# roc_auc_score()를 이용하여 ROC AUC 측정하는 로직 추가, y_test와 pred_proba를 인자로 받아, 모델의 ROC AUC 값을 계산.\n",
        "\n",
        "def get_clf_eval(y_test, pred=None, pred_proba=None):\n",
        "    confusion = confusion_matrix( y_test, pred)\n",
        "    accuracy = accuracy_score(y_test , pred)\n",
        "    precision = precision_score(y_test , pred)\n",
        "    recall = recall_score(y_test , pred)\n",
        "    f1 = f1_score(y_test,pred)\n",
        "    # ROC-AUC 추가\n",
        "    roc_auc = roc_auc_score(y_test, pred_proba)\n",
        "    print('오차 행렬')\n",
        "    print(confusion)\n",
        "    # ROC-AUC print 추가\n",
        "    print('정확도: {0:.4f}, 정밀도: {1:.4f}, 재현율: {2:.4f},\\\n",
        "          F1: {3:.4f}, AUC:{4:.4f}'.format(accuracy, precision, recall, f1, roc_auc))"
      ],
      "metadata": {
        "id": "frYzfaW0tknl"
      },
      "execution_count": 33,
      "outputs": []
    },
    {
      "cell_type": "markdown",
      "source": [
        "#피마 인디언 당뇨병 예측"
      ],
      "metadata": {
        "id": "RwPlfakex78I"
      }
    },
    {
      "cell_type": "code",
      "source": [
        "#피마 인디언 데이터 불러오기\n",
        "import numpy as np\n",
        "import pandas as pd\n",
        "import matplotlib.pyplot as plt\n",
        "%matplotlib inline\n",
        "\n",
        "from sklearn.model_selection import train_test_split\n",
        "from sklearn.metrics import accuracy_score, precision_score, recall_score, roc_auc_score\n",
        "from sklearn.metrics import f1_score, confusion_matrix, precision_recall_curve, roc_curve\n",
        "from sklearn.preprocessing import StandardScaler\n",
        "from sklearn.linear_model import LogisticRegression\n",
        "\n",
        "diabetes_data = pd.read_csv('diabetes.csv')\n",
        "print(diabetes_data['Outcome'].value_counts())\n",
        "diabetes_data.head(3)\n",
        "\n",
        "    # negative 값이 상대적으로 많음"
      ],
      "metadata": {
        "colab": {
          "base_uri": "https://localhost:8080/",
          "height": 199
        },
        "id": "lQdKcIBMx7sf",
        "outputId": "0fadb70c-f827-45eb-b432-81916a25d052"
      },
      "execution_count": 34,
      "outputs": [
        {
          "output_type": "stream",
          "name": "stdout",
          "text": [
            "0    500\n",
            "1    268\n",
            "Name: Outcome, dtype: int64\n"
          ]
        },
        {
          "output_type": "execute_result",
          "data": {
            "text/plain": [
              "   Pregnancies  Glucose  BloodPressure  SkinThickness  Insulin   BMI  \\\n",
              "0            6      148             72             35        0  33.6   \n",
              "1            1       85             66             29        0  26.6   \n",
              "2            8      183             64              0        0  23.3   \n",
              "\n",
              "   DiabetesPedigreeFunction  Age  Outcome  \n",
              "0                     0.627   50        1  \n",
              "1                     0.351   31        0  \n",
              "2                     0.672   32        1  "
            ],
            "text/html": [
              "\n",
              "  <div id=\"df-df1758dd-4f9f-4bd5-bf8b-4ee44784d149\" class=\"colab-df-container\">\n",
              "    <div>\n",
              "<style scoped>\n",
              "    .dataframe tbody tr th:only-of-type {\n",
              "        vertical-align: middle;\n",
              "    }\n",
              "\n",
              "    .dataframe tbody tr th {\n",
              "        vertical-align: top;\n",
              "    }\n",
              "\n",
              "    .dataframe thead th {\n",
              "        text-align: right;\n",
              "    }\n",
              "</style>\n",
              "<table border=\"1\" class=\"dataframe\">\n",
              "  <thead>\n",
              "    <tr style=\"text-align: right;\">\n",
              "      <th></th>\n",
              "      <th>Pregnancies</th>\n",
              "      <th>Glucose</th>\n",
              "      <th>BloodPressure</th>\n",
              "      <th>SkinThickness</th>\n",
              "      <th>Insulin</th>\n",
              "      <th>BMI</th>\n",
              "      <th>DiabetesPedigreeFunction</th>\n",
              "      <th>Age</th>\n",
              "      <th>Outcome</th>\n",
              "    </tr>\n",
              "  </thead>\n",
              "  <tbody>\n",
              "    <tr>\n",
              "      <th>0</th>\n",
              "      <td>6</td>\n",
              "      <td>148</td>\n",
              "      <td>72</td>\n",
              "      <td>35</td>\n",
              "      <td>0</td>\n",
              "      <td>33.6</td>\n",
              "      <td>0.627</td>\n",
              "      <td>50</td>\n",
              "      <td>1</td>\n",
              "    </tr>\n",
              "    <tr>\n",
              "      <th>1</th>\n",
              "      <td>1</td>\n",
              "      <td>85</td>\n",
              "      <td>66</td>\n",
              "      <td>29</td>\n",
              "      <td>0</td>\n",
              "      <td>26.6</td>\n",
              "      <td>0.351</td>\n",
              "      <td>31</td>\n",
              "      <td>0</td>\n",
              "    </tr>\n",
              "    <tr>\n",
              "      <th>2</th>\n",
              "      <td>8</td>\n",
              "      <td>183</td>\n",
              "      <td>64</td>\n",
              "      <td>0</td>\n",
              "      <td>0</td>\n",
              "      <td>23.3</td>\n",
              "      <td>0.672</td>\n",
              "      <td>32</td>\n",
              "      <td>1</td>\n",
              "    </tr>\n",
              "  </tbody>\n",
              "</table>\n",
              "</div>\n",
              "    <div class=\"colab-df-buttons\">\n",
              "\n",
              "  <div class=\"colab-df-container\">\n",
              "    <button class=\"colab-df-convert\" onclick=\"convertToInteractive('df-df1758dd-4f9f-4bd5-bf8b-4ee44784d149')\"\n",
              "            title=\"Convert this dataframe to an interactive table.\"\n",
              "            style=\"display:none;\">\n",
              "\n",
              "  <svg xmlns=\"http://www.w3.org/2000/svg\" height=\"24px\" viewBox=\"0 -960 960 960\">\n",
              "    <path d=\"M120-120v-720h720v720H120Zm60-500h600v-160H180v160Zm220 220h160v-160H400v160Zm0 220h160v-160H400v160ZM180-400h160v-160H180v160Zm440 0h160v-160H620v160ZM180-180h160v-160H180v160Zm440 0h160v-160H620v160Z\"/>\n",
              "  </svg>\n",
              "    </button>\n",
              "\n",
              "  <style>\n",
              "    .colab-df-container {\n",
              "      display:flex;\n",
              "      gap: 12px;\n",
              "    }\n",
              "\n",
              "    .colab-df-convert {\n",
              "      background-color: #E8F0FE;\n",
              "      border: none;\n",
              "      border-radius: 50%;\n",
              "      cursor: pointer;\n",
              "      display: none;\n",
              "      fill: #1967D2;\n",
              "      height: 32px;\n",
              "      padding: 0 0 0 0;\n",
              "      width: 32px;\n",
              "    }\n",
              "\n",
              "    .colab-df-convert:hover {\n",
              "      background-color: #E2EBFA;\n",
              "      box-shadow: 0px 1px 2px rgba(60, 64, 67, 0.3), 0px 1px 3px 1px rgba(60, 64, 67, 0.15);\n",
              "      fill: #174EA6;\n",
              "    }\n",
              "\n",
              "    .colab-df-buttons div {\n",
              "      margin-bottom: 4px;\n",
              "    }\n",
              "\n",
              "    [theme=dark] .colab-df-convert {\n",
              "      background-color: #3B4455;\n",
              "      fill: #D2E3FC;\n",
              "    }\n",
              "\n",
              "    [theme=dark] .colab-df-convert:hover {\n",
              "      background-color: #434B5C;\n",
              "      box-shadow: 0px 1px 3px 1px rgba(0, 0, 0, 0.15);\n",
              "      filter: drop-shadow(0px 1px 2px rgba(0, 0, 0, 0.3));\n",
              "      fill: #FFFFFF;\n",
              "    }\n",
              "  </style>\n",
              "\n",
              "    <script>\n",
              "      const buttonEl =\n",
              "        document.querySelector('#df-df1758dd-4f9f-4bd5-bf8b-4ee44784d149 button.colab-df-convert');\n",
              "      buttonEl.style.display =\n",
              "        google.colab.kernel.accessAllowed ? 'block' : 'none';\n",
              "\n",
              "      async function convertToInteractive(key) {\n",
              "        const element = document.querySelector('#df-df1758dd-4f9f-4bd5-bf8b-4ee44784d149');\n",
              "        const dataTable =\n",
              "          await google.colab.kernel.invokeFunction('convertToInteractive',\n",
              "                                                    [key], {});\n",
              "        if (!dataTable) return;\n",
              "\n",
              "        const docLinkHtml = 'Like what you see? Visit the ' +\n",
              "          '<a target=\"_blank\" href=https://colab.research.google.com/notebooks/data_table.ipynb>data table notebook</a>'\n",
              "          + ' to learn more about interactive tables.';\n",
              "        element.innerHTML = '';\n",
              "        dataTable['output_type'] = 'display_data';\n",
              "        await google.colab.output.renderOutput(dataTable, element);\n",
              "        const docLink = document.createElement('div');\n",
              "        docLink.innerHTML = docLinkHtml;\n",
              "        element.appendChild(docLink);\n",
              "      }\n",
              "    </script>\n",
              "  </div>\n",
              "\n",
              "\n",
              "<div id=\"df-7161e89a-3106-45f5-aa20-60d8c936c6e7\">\n",
              "  <button class=\"colab-df-quickchart\" onclick=\"quickchart('df-7161e89a-3106-45f5-aa20-60d8c936c6e7')\"\n",
              "            title=\"Suggest charts\"\n",
              "            style=\"display:none;\">\n",
              "\n",
              "<svg xmlns=\"http://www.w3.org/2000/svg\" height=\"24px\"viewBox=\"0 0 24 24\"\n",
              "     width=\"24px\">\n",
              "    <g>\n",
              "        <path d=\"M19 3H5c-1.1 0-2 .9-2 2v14c0 1.1.9 2 2 2h14c1.1 0 2-.9 2-2V5c0-1.1-.9-2-2-2zM9 17H7v-7h2v7zm4 0h-2V7h2v10zm4 0h-2v-4h2v4z\"/>\n",
              "    </g>\n",
              "</svg>\n",
              "  </button>\n",
              "\n",
              "<style>\n",
              "  .colab-df-quickchart {\n",
              "      --bg-color: #E8F0FE;\n",
              "      --fill-color: #1967D2;\n",
              "      --hover-bg-color: #E2EBFA;\n",
              "      --hover-fill-color: #174EA6;\n",
              "      --disabled-fill-color: #AAA;\n",
              "      --disabled-bg-color: #DDD;\n",
              "  }\n",
              "\n",
              "  [theme=dark] .colab-df-quickchart {\n",
              "      --bg-color: #3B4455;\n",
              "      --fill-color: #D2E3FC;\n",
              "      --hover-bg-color: #434B5C;\n",
              "      --hover-fill-color: #FFFFFF;\n",
              "      --disabled-bg-color: #3B4455;\n",
              "      --disabled-fill-color: #666;\n",
              "  }\n",
              "\n",
              "  .colab-df-quickchart {\n",
              "    background-color: var(--bg-color);\n",
              "    border: none;\n",
              "    border-radius: 50%;\n",
              "    cursor: pointer;\n",
              "    display: none;\n",
              "    fill: var(--fill-color);\n",
              "    height: 32px;\n",
              "    padding: 0;\n",
              "    width: 32px;\n",
              "  }\n",
              "\n",
              "  .colab-df-quickchart:hover {\n",
              "    background-color: var(--hover-bg-color);\n",
              "    box-shadow: 0 1px 2px rgba(60, 64, 67, 0.3), 0 1px 3px 1px rgba(60, 64, 67, 0.15);\n",
              "    fill: var(--button-hover-fill-color);\n",
              "  }\n",
              "\n",
              "  .colab-df-quickchart-complete:disabled,\n",
              "  .colab-df-quickchart-complete:disabled:hover {\n",
              "    background-color: var(--disabled-bg-color);\n",
              "    fill: var(--disabled-fill-color);\n",
              "    box-shadow: none;\n",
              "  }\n",
              "\n",
              "  .colab-df-spinner {\n",
              "    border: 2px solid var(--fill-color);\n",
              "    border-color: transparent;\n",
              "    border-bottom-color: var(--fill-color);\n",
              "    animation:\n",
              "      spin 1s steps(1) infinite;\n",
              "  }\n",
              "\n",
              "  @keyframes spin {\n",
              "    0% {\n",
              "      border-color: transparent;\n",
              "      border-bottom-color: var(--fill-color);\n",
              "      border-left-color: var(--fill-color);\n",
              "    }\n",
              "    20% {\n",
              "      border-color: transparent;\n",
              "      border-left-color: var(--fill-color);\n",
              "      border-top-color: var(--fill-color);\n",
              "    }\n",
              "    30% {\n",
              "      border-color: transparent;\n",
              "      border-left-color: var(--fill-color);\n",
              "      border-top-color: var(--fill-color);\n",
              "      border-right-color: var(--fill-color);\n",
              "    }\n",
              "    40% {\n",
              "      border-color: transparent;\n",
              "      border-right-color: var(--fill-color);\n",
              "      border-top-color: var(--fill-color);\n",
              "    }\n",
              "    60% {\n",
              "      border-color: transparent;\n",
              "      border-right-color: var(--fill-color);\n",
              "    }\n",
              "    80% {\n",
              "      border-color: transparent;\n",
              "      border-right-color: var(--fill-color);\n",
              "      border-bottom-color: var(--fill-color);\n",
              "    }\n",
              "    90% {\n",
              "      border-color: transparent;\n",
              "      border-bottom-color: var(--fill-color);\n",
              "    }\n",
              "  }\n",
              "</style>\n",
              "\n",
              "  <script>\n",
              "    async function quickchart(key) {\n",
              "      const quickchartButtonEl =\n",
              "        document.querySelector('#' + key + ' button');\n",
              "      quickchartButtonEl.disabled = true;  // To prevent multiple clicks.\n",
              "      quickchartButtonEl.classList.add('colab-df-spinner');\n",
              "      try {\n",
              "        const charts = await google.colab.kernel.invokeFunction(\n",
              "            'suggestCharts', [key], {});\n",
              "      } catch (error) {\n",
              "        console.error('Error during call to suggestCharts:', error);\n",
              "      }\n",
              "      quickchartButtonEl.classList.remove('colab-df-spinner');\n",
              "      quickchartButtonEl.classList.add('colab-df-quickchart-complete');\n",
              "    }\n",
              "    (() => {\n",
              "      let quickchartButtonEl =\n",
              "        document.querySelector('#df-7161e89a-3106-45f5-aa20-60d8c936c6e7 button');\n",
              "      quickchartButtonEl.style.display =\n",
              "        google.colab.kernel.accessAllowed ? 'block' : 'none';\n",
              "    })();\n",
              "  </script>\n",
              "</div>\n",
              "\n",
              "    </div>\n",
              "  </div>\n"
            ],
            "application/vnd.google.colaboratory.intrinsic+json": {
              "type": "dataframe",
              "variable_name": "diabetes_data",
              "summary": "{\n  \"name\": \"diabetes_data\",\n  \"rows\": 768,\n  \"fields\": [\n    {\n      \"column\": \"Pregnancies\",\n      \"properties\": {\n        \"dtype\": \"number\",\n        \"std\": 3,\n        \"min\": 0,\n        \"max\": 17,\n        \"num_unique_values\": 17,\n        \"samples\": [\n          6,\n          1,\n          3\n        ],\n        \"semantic_type\": \"\",\n        \"description\": \"\"\n      }\n    },\n    {\n      \"column\": \"Glucose\",\n      \"properties\": {\n        \"dtype\": \"number\",\n        \"std\": 31,\n        \"min\": 0,\n        \"max\": 199,\n        \"num_unique_values\": 136,\n        \"samples\": [\n          151,\n          101,\n          112\n        ],\n        \"semantic_type\": \"\",\n        \"description\": \"\"\n      }\n    },\n    {\n      \"column\": \"BloodPressure\",\n      \"properties\": {\n        \"dtype\": \"number\",\n        \"std\": 19,\n        \"min\": 0,\n        \"max\": 122,\n        \"num_unique_values\": 47,\n        \"samples\": [\n          86,\n          46,\n          85\n        ],\n        \"semantic_type\": \"\",\n        \"description\": \"\"\n      }\n    },\n    {\n      \"column\": \"SkinThickness\",\n      \"properties\": {\n        \"dtype\": \"number\",\n        \"std\": 15,\n        \"min\": 0,\n        \"max\": 99,\n        \"num_unique_values\": 51,\n        \"samples\": [\n          7,\n          12,\n          48\n        ],\n        \"semantic_type\": \"\",\n        \"description\": \"\"\n      }\n    },\n    {\n      \"column\": \"Insulin\",\n      \"properties\": {\n        \"dtype\": \"number\",\n        \"std\": 115,\n        \"min\": 0,\n        \"max\": 846,\n        \"num_unique_values\": 186,\n        \"samples\": [\n          52,\n          41,\n          183\n        ],\n        \"semantic_type\": \"\",\n        \"description\": \"\"\n      }\n    },\n    {\n      \"column\": \"BMI\",\n      \"properties\": {\n        \"dtype\": \"number\",\n        \"std\": 7.884160320375446,\n        \"min\": 0.0,\n        \"max\": 67.1,\n        \"num_unique_values\": 248,\n        \"samples\": [\n          19.9,\n          31.0,\n          38.1\n        ],\n        \"semantic_type\": \"\",\n        \"description\": \"\"\n      }\n    },\n    {\n      \"column\": \"DiabetesPedigreeFunction\",\n      \"properties\": {\n        \"dtype\": \"number\",\n        \"std\": 0.3313285950127749,\n        \"min\": 0.078,\n        \"max\": 2.42,\n        \"num_unique_values\": 517,\n        \"samples\": [\n          1.731,\n          0.426,\n          0.138\n        ],\n        \"semantic_type\": \"\",\n        \"description\": \"\"\n      }\n    },\n    {\n      \"column\": \"Age\",\n      \"properties\": {\n        \"dtype\": \"number\",\n        \"std\": 11,\n        \"min\": 21,\n        \"max\": 81,\n        \"num_unique_values\": 52,\n        \"samples\": [\n          60,\n          47,\n          72\n        ],\n        \"semantic_type\": \"\",\n        \"description\": \"\"\n      }\n    },\n    {\n      \"column\": \"Outcome\",\n      \"properties\": {\n        \"dtype\": \"number\",\n        \"std\": 0,\n        \"min\": 0,\n        \"max\": 1,\n        \"num_unique_values\": 2,\n        \"samples\": [\n          0,\n          1\n        ],\n        \"semantic_type\": \"\",\n        \"description\": \"\"\n      }\n    }\n  ]\n}"
            }
          },
          "metadata": {},
          "execution_count": 34
        }
      ]
    },
    {
      "cell_type": "code",
      "source": [
        "# 데이터 정보 확인하기\n",
        "diabetes_data.info( )\n",
        "    # null 값은 없음"
      ],
      "metadata": {
        "colab": {
          "base_uri": "https://localhost:8080/"
        },
        "id": "ON_7G93yzz9z",
        "outputId": "0a470ff9-80cc-4476-ad04-60b7f0d8a266"
      },
      "execution_count": 35,
      "outputs": [
        {
          "output_type": "stream",
          "name": "stdout",
          "text": [
            "<class 'pandas.core.frame.DataFrame'>\n",
            "RangeIndex: 768 entries, 0 to 767\n",
            "Data columns (total 9 columns):\n",
            " #   Column                    Non-Null Count  Dtype  \n",
            "---  ------                    --------------  -----  \n",
            " 0   Pregnancies               768 non-null    int64  \n",
            " 1   Glucose                   768 non-null    int64  \n",
            " 2   BloodPressure             768 non-null    int64  \n",
            " 3   SkinThickness             768 non-null    int64  \n",
            " 4   Insulin                   768 non-null    int64  \n",
            " 5   BMI                       768 non-null    float64\n",
            " 6   DiabetesPedigreeFunction  768 non-null    float64\n",
            " 7   Age                       768 non-null    int64  \n",
            " 8   Outcome                   768 non-null    int64  \n",
            "dtypes: float64(2), int64(7)\n",
            "memory usage: 54.1 KB\n"
          ]
        }
      ]
    },
    {
      "cell_type": "code",
      "source": [
        "# 피처 데이터 세트 X, 레이블 데이터 세트 y를 추출.\n",
        "# 맨 끝이 Outcome 컬럼으로 레이블 값임. 컬럼 위치 -1을 이용해 추출\n",
        "X = diabetes_data.iloc[:, :-1] # 마지막 열을 제외한 모든 열\n",
        "y = diabetes_data.iloc[:, -1]\n",
        "\n",
        "X_train, X_test, y_train, y_test = train_test_split(X, y, test_size = 0.2, random_state = 156, stratify=y)\n",
        "\n",
        "# 로지스틱 회귀로 학습,예측 및 평가 수행.\n",
        "lr_clf = LogisticRegression(solver='liblinear')\n",
        "lr_clf.fit(X_train , y_train)\n",
        "pred = lr_clf.predict(X_test)\n",
        "pred_proba = lr_clf.predict_proba(X_test)[:, 1]\n",
        "\n",
        "get_clf_eval(y_test , pred, pred_proba)"
      ],
      "metadata": {
        "colab": {
          "base_uri": "https://localhost:8080/"
        },
        "id": "LOdLU5ZG0IdG",
        "outputId": "d23eea53-afd2-449f-8156-f4c9a255790f"
      },
      "execution_count": 37,
      "outputs": [
        {
          "output_type": "stream",
          "name": "stdout",
          "text": [
            "오차 행렬\n",
            "[[87 13]\n",
            " [22 32]]\n",
            "정확도: 0.7727, 정밀도: 0.7111, 재현율: 0.5926,          F1: 0.6465, AUC:0.8083\n"
          ]
        }
      ]
    },
    {
      "cell_type": "code",
      "source": [
        "#정밀도-재현율 곡선 그리기\n",
        "pred_proba_c1 = lr_clf.predict_proba(X_test)[:, 1] # -> 각 데이터가 Positive 에 속할 확률\n",
        "precision_recall_curve_plot(y_test, pred_proba_c1)"
      ],
      "metadata": {
        "colab": {
          "base_uri": "https://localhost:8080/",
          "height": 542
        },
        "id": "6e_8ObzZ0h_a",
        "outputId": "6232a758-fcdf-46a1-9a93-0662d893dfcd"
      },
      "execution_count": 38,
      "outputs": [
        {
          "output_type": "display_data",
          "data": {
            "text/plain": [
              "<Figure size 800x600 with 1 Axes>"
            ],
            "image/png": "[encoded data removed]"
          },
          "metadata": {}
        }
      ]
    },
    {
      "cell_type": "markdown",
      "source": [
        "임계값을 0.42 정도로 맞추면 되지만 그래도 두 지표의 값이 낮기에 데이터 값을 다시 점검"
      ],
      "metadata": {
        "id": "k1Adtj0W2Ab9"
      }
    },
    {
      "cell_type": "code",
      "source": [
        "diabetes_data.describe() # -> 시리즈 객체의 요약통계 제공\n",
        "    # 0 값을 min 으로 가지고 있는 피처 발견"
      ],
      "metadata": {
        "colab": {
          "base_uri": "https://localhost:8080/",
          "height": 300
        },
        "id": "VyeJqFVi1s-Q",
        "outputId": "a88e4016-a9f9-44e7-ce2b-871ea783c704"
      },
      "execution_count": 47,
      "outputs": [
        {
          "output_type": "execute_result",
          "data": {
            "text/plain": [
              "       Pregnancies     Glucose  BloodPressure  SkinThickness     Insulin  \\\n",
              "count   768.000000  768.000000     768.000000     768.000000  768.000000   \n",
              "mean      3.845052  121.681605      72.254807      26.606479  118.660163   \n",
              "std       3.369578   30.436016      12.115932       9.631241   93.080358   \n",
              "min       0.000000   44.000000      24.000000       7.000000   14.000000   \n",
              "25%       1.000000   99.750000      64.000000      20.536458   79.799479   \n",
              "50%       3.000000  117.000000      72.000000      23.000000   79.799479   \n",
              "75%       6.000000  140.250000      80.000000      32.000000  127.250000   \n",
              "max      17.000000  199.000000     122.000000      99.000000  846.000000   \n",
              "\n",
              "              BMI  DiabetesPedigreeFunction         Age     Outcome  \n",
              "count  768.000000                768.000000  768.000000  768.000000  \n",
              "mean    32.450805                  0.471876   33.240885    0.348958  \n",
              "std      6.875374                  0.331329   11.760232    0.476951  \n",
              "min     18.200000                  0.078000   21.000000    0.000000  \n",
              "25%     27.500000                  0.243750   24.000000    0.000000  \n",
              "50%     32.000000                  0.372500   29.000000    0.000000  \n",
              "75%     36.600000                  0.626250   41.000000    1.000000  \n",
              "max     67.100000                  2.420000   81.000000    1.000000  "
            ],
            "text/html": [
              "\n",
              "  <div id=\"df-06ffa2f0-19e8-435f-b66d-7294f89be567\" class=\"colab-df-container\">\n",
              "    <div>\n",
              "<style scoped>\n",
              "    .dataframe tbody tr th:only-of-type {\n",
              "        vertical-align: middle;\n",
              "    }\n",
              "\n",
              "    .dataframe tbody tr th {\n",
              "        vertical-align: top;\n",
              "    }\n",
              "\n",
              "    .dataframe thead th {\n",
              "        text-align: right;\n",
              "    }\n",
              "</style>\n",
              "<table border=\"1\" class=\"dataframe\">\n",
              "  <thead>\n",
              "    <tr style=\"text-align: right;\">\n",
              "      <th></th>\n",
              "      <th>Pregnancies</th>\n",
              "      <th>Glucose</th>\n",
              "      <th>BloodPressure</th>\n",
              "      <th>SkinThickness</th>\n",
              "      <th>Insulin</th>\n",
              "      <th>BMI</th>\n",
              "      <th>DiabetesPedigreeFunction</th>\n",
              "      <th>Age</th>\n",
              "      <th>Outcome</th>\n",
              "    </tr>\n",
              "  </thead>\n",
              "  <tbody>\n",
              "    <tr>\n",
              "      <th>count</th>\n",
              "      <td>768.000000</td>\n",
              "      <td>768.000000</td>\n",
              "      <td>768.000000</td>\n",
              "      <td>768.000000</td>\n",
              "      <td>768.000000</td>\n",
              "      <td>768.000000</td>\n",
              "      <td>768.000000</td>\n",
              "      <td>768.000000</td>\n",
              "      <td>768.000000</td>\n",
              "    </tr>\n",
              "    <tr>\n",
              "      <th>mean</th>\n",
              "      <td>3.845052</td>\n",
              "      <td>121.681605</td>\n",
              "      <td>72.254807</td>\n",
              "      <td>26.606479</td>\n",
              "      <td>118.660163</td>\n",
              "      <td>32.450805</td>\n",
              "      <td>0.471876</td>\n",
              "      <td>33.240885</td>\n",
              "      <td>0.348958</td>\n",
              "    </tr>\n",
              "    <tr>\n",
              "      <th>std</th>\n",
              "      <td>3.369578</td>\n",
              "      <td>30.436016</td>\n",
              "      <td>12.115932</td>\n",
              "      <td>9.631241</td>\n",
              "      <td>93.080358</td>\n",
              "      <td>6.875374</td>\n",
              "      <td>0.331329</td>\n",
              "      <td>11.760232</td>\n",
              "      <td>0.476951</td>\n",
              "    </tr>\n",
              "    <tr>\n",
              "      <th>min</th>\n",
              "      <td>0.000000</td>\n",
              "      <td>44.000000</td>\n",
              "      <td>24.000000</td>\n",
              "      <td>7.000000</td>\n",
              "      <td>14.000000</td>\n",
              "      <td>18.200000</td>\n",
              "      <td>0.078000</td>\n",
              "      <td>21.000000</td>\n",
              "      <td>0.000000</td>\n",
              "    </tr>\n",
              "    <tr>\n",
              "      <th>25%</th>\n",
              "      <td>1.000000</td>\n",
              "      <td>99.750000</td>\n",
              "      <td>64.000000</td>\n",
              "      <td>20.536458</td>\n",
              "      <td>79.799479</td>\n",
              "      <td>27.500000</td>\n",
              "      <td>0.243750</td>\n",
              "      <td>24.000000</td>\n",
              "      <td>0.000000</td>\n",
              "    </tr>\n",
              "    <tr>\n",
              "      <th>50%</th>\n",
              "      <td>3.000000</td>\n",
              "      <td>117.000000</td>\n",
              "      <td>72.000000</td>\n",
              "      <td>23.000000</td>\n",
              "      <td>79.799479</td>\n",
              "      <td>32.000000</td>\n",
              "      <td>0.372500</td>\n",
              "      <td>29.000000</td>\n",
              "      <td>0.000000</td>\n",
              "    </tr>\n",
              "    <tr>\n",
              "      <th>75%</th>\n",
              "      <td>6.000000</td>\n",
              "      <td>140.250000</td>\n",
              "      <td>80.000000</td>\n",
              "      <td>32.000000</td>\n",
              "      <td>127.250000</td>\n",
              "      <td>36.600000</td>\n",
              "      <td>0.626250</td>\n",
              "      <td>41.000000</td>\n",
              "      <td>1.000000</td>\n",
              "    </tr>\n",
              "    <tr>\n",
              "      <th>max</th>\n",
              "      <td>17.000000</td>\n",
              "      <td>199.000000</td>\n",
              "      <td>122.000000</td>\n",
              "      <td>99.000000</td>\n",
              "      <td>846.000000</td>\n",
              "      <td>67.100000</td>\n",
              "      <td>2.420000</td>\n",
              "      <td>81.000000</td>\n",
              "      <td>1.000000</td>\n",
              "    </tr>\n",
              "  </tbody>\n",
              "</table>\n",
              "</div>\n",
              "    <div class=\"colab-df-buttons\">\n",
              "\n",
              "  <div class=\"colab-df-container\">\n",
              "    <button class=\"colab-df-convert\" onclick=\"convertToInteractive('df-06ffa2f0-19e8-435f-b66d-7294f89be567')\"\n",
              "            title=\"Convert this dataframe to an interactive table.\"\n",
              "            style=\"display:none;\">\n",
              "\n",
              "  <svg xmlns=\"http://www.w3.org/2000/svg\" height=\"24px\" viewBox=\"0 -960 960 960\">\n",
              "    <path d=\"M120-120v-720h720v720H120Zm60-500h600v-160H180v160Zm220 220h160v-160H400v160Zm0 220h160v-160H400v160ZM180-400h160v-160H180v160Zm440 0h160v-160H620v160ZM180-180h160v-160H180v160Zm440 0h160v-160H620v160Z\"/>\n",
              "  </svg>\n",
              "    </button>\n",
              "\n",
              "  <style>\n",
              "    .colab-df-container {\n",
              "      display:flex;\n",
              "      gap: 12px;\n",
              "    }\n",
              "\n",
              "    .colab-df-convert {\n",
              "      background-color: #E8F0FE;\n",
              "      border: none;\n",
              "      border-radius: 50%;\n",
              "      cursor: pointer;\n",
              "      display: none;\n",
              "      fill: #1967D2;\n",
              "      height: 32px;\n",
              "      padding: 0 0 0 0;\n",
              "      width: 32px;\n",
              "    }\n",
              "\n",
              "    .colab-df-convert:hover {\n",
              "      background-color: #E2EBFA;\n",
              "      box-shadow: 0px 1px 2px rgba(60, 64, 67, 0.3), 0px 1px 3px 1px rgba(60, 64, 67, 0.15);\n",
              "      fill: #174EA6;\n",
              "    }\n",
              "\n",
              "    .colab-df-buttons div {\n",
              "      margin-bottom: 4px;\n",
              "    }\n",
              "\n",
              "    [theme=dark] .colab-df-convert {\n",
              "      background-color: #3B4455;\n",
              "      fill: #D2E3FC;\n",
              "    }\n",
              "\n",
              "    [theme=dark] .colab-df-convert:hover {\n",
              "      background-color: #434B5C;\n",
              "      box-shadow: 0px 1px 3px 1px rgba(0, 0, 0, 0.15);\n",
              "      filter: drop-shadow(0px 1px 2px rgba(0, 0, 0, 0.3));\n",
              "      fill: #FFFFFF;\n",
              "    }\n",
              "  </style>\n",
              "\n",
              "    <script>\n",
              "      const buttonEl =\n",
              "        document.querySelector('#df-06ffa2f0-19e8-435f-b66d-7294f89be567 button.colab-df-convert');\n",
              "      buttonEl.style.display =\n",
              "        google.colab.kernel.accessAllowed ? 'block' : 'none';\n",
              "\n",
              "      async function convertToInteractive(key) {\n",
              "        const element = document.querySelector('#df-06ffa2f0-19e8-435f-b66d-7294f89be567');\n",
              "        const dataTable =\n",
              "          await google.colab.kernel.invokeFunction('convertToInteractive',\n",
              "                                                    [key], {});\n",
              "        if (!dataTable) return;\n",
              "\n",
              "        const docLinkHtml = 'Like what you see? Visit the ' +\n",
              "          '<a target=\"_blank\" href=https://colab.research.google.com/notebooks/data_table.ipynb>data table notebook</a>'\n",
              "          + ' to learn more about interactive tables.';\n",
              "        element.innerHTML = '';\n",
              "        dataTable['output_type'] = 'display_data';\n",
              "        await google.colab.output.renderOutput(dataTable, element);\n",
              "        const docLink = document.createElement('div');\n",
              "        docLink.innerHTML = docLinkHtml;\n",
              "        element.appendChild(docLink);\n",
              "      }\n",
              "    </script>\n",
              "  </div>\n",
              "\n",
              "\n",
              "<div id=\"df-8556520b-971e-437a-addd-e7b8dd51fdc9\">\n",
              "  <button class=\"colab-df-quickchart\" onclick=\"quickchart('df-8556520b-971e-437a-addd-e7b8dd51fdc9')\"\n",
              "            title=\"Suggest charts\"\n",
              "            style=\"display:none;\">\n",
              "\n",
              "<svg xmlns=\"http://www.w3.org/2000/svg\" height=\"24px\"viewBox=\"0 0 24 24\"\n",
              "     width=\"24px\">\n",
              "    <g>\n",
              "        <path d=\"M19 3H5c-1.1 0-2 .9-2 2v14c0 1.1.9 2 2 2h14c1.1 0 2-.9 2-2V5c0-1.1-.9-2-2-2zM9 17H7v-7h2v7zm4 0h-2V7h2v10zm4 0h-2v-4h2v4z\"/>\n",
              "    </g>\n",
              "</svg>\n",
              "  </button>\n",
              "\n",
              "<style>\n",
              "  .colab-df-quickchart {\n",
              "      --bg-color: #E8F0FE;\n",
              "      --fill-color: #1967D2;\n",
              "      --hover-bg-color: #E2EBFA;\n",
              "      --hover-fill-color: #174EA6;\n",
              "      --disabled-fill-color: #AAA;\n",
              "      --disabled-bg-color: #DDD;\n",
              "  }\n",
              "\n",
              "  [theme=dark] .colab-df-quickchart {\n",
              "      --bg-color: #3B4455;\n",
              "      --fill-color: #D2E3FC;\n",
              "      --hover-bg-color: #434B5C;\n",
              "      --hover-fill-color: #FFFFFF;\n",
              "      --disabled-bg-color: #3B4455;\n",
              "      --disabled-fill-color: #666;\n",
              "  }\n",
              "\n",
              "  .colab-df-quickchart {\n",
              "    background-color: var(--bg-color);\n",
              "    border: none;\n",
              "    border-radius: 50%;\n",
              "    cursor: pointer;\n",
              "    display: none;\n",
              "    fill: var(--fill-color);\n",
              "    height: 32px;\n",
              "    padding: 0;\n",
              "    width: 32px;\n",
              "  }\n",
              "\n",
              "  .colab-df-quickchart:hover {\n",
              "    background-color: var(--hover-bg-color);\n",
              "    box-shadow: 0 1px 2px rgba(60, 64, 67, 0.3), 0 1px 3px 1px rgba(60, 64, 67, 0.15);\n",
              "    fill: var(--button-hover-fill-color);\n",
              "  }\n",
              "\n",
              "  .colab-df-quickchart-complete:disabled,\n",
              "  .colab-df-quickchart-complete:disabled:hover {\n",
              "    background-color: var(--disabled-bg-color);\n",
              "    fill: var(--disabled-fill-color);\n",
              "    box-shadow: none;\n",
              "  }\n",
              "\n",
              "  .colab-df-spinner {\n",
              "    border: 2px solid var(--fill-color);\n",
              "    border-color: transparent;\n",
              "    border-bottom-color: var(--fill-color);\n",
              "    animation:\n",
              "      spin 1s steps(1) infinite;\n",
              "  }\n",
              "\n",
              "  @keyframes spin {\n",
              "    0% {\n",
              "      border-color: transparent;\n",
              "      border-bottom-color: var(--fill-color);\n",
              "      border-left-color: var(--fill-color);\n",
              "    }\n",
              "    20% {\n",
              "      border-color: transparent;\n",
              "      border-left-color: var(--fill-color);\n",
              "      border-top-color: var(--fill-color);\n",
              "    }\n",
              "    30% {\n",
              "      border-color: transparent;\n",
              "      border-left-color: var(--fill-color);\n",
              "      border-top-color: var(--fill-color);\n",
              "      border-right-color: var(--fill-color);\n",
              "    }\n",
              "    40% {\n",
              "      border-color: transparent;\n",
              "      border-right-color: var(--fill-color);\n",
              "      border-top-color: var(--fill-color);\n",
              "    }\n",
              "    60% {\n",
              "      border-color: transparent;\n",
              "      border-right-color: var(--fill-color);\n",
              "    }\n",
              "    80% {\n",
              "      border-color: transparent;\n",
              "      border-right-color: var(--fill-color);\n",
              "      border-bottom-color: var(--fill-color);\n",
              "    }\n",
              "    90% {\n",
              "      border-color: transparent;\n",
              "      border-bottom-color: var(--fill-color);\n",
              "    }\n",
              "  }\n",
              "</style>\n",
              "\n",
              "  <script>\n",
              "    async function quickchart(key) {\n",
              "      const quickchartButtonEl =\n",
              "        document.querySelector('#' + key + ' button');\n",
              "      quickchartButtonEl.disabled = true;  // To prevent multiple clicks.\n",
              "      quickchartButtonEl.classList.add('colab-df-spinner');\n",
              "      try {\n",
              "        const charts = await google.colab.kernel.invokeFunction(\n",
              "            'suggestCharts', [key], {});\n",
              "      } catch (error) {\n",
              "        console.error('Error during call to suggestCharts:', error);\n",
              "      }\n",
              "      quickchartButtonEl.classList.remove('colab-df-spinner');\n",
              "      quickchartButtonEl.classList.add('colab-df-quickchart-complete');\n",
              "    }\n",
              "    (() => {\n",
              "      let quickchartButtonEl =\n",
              "        document.querySelector('#df-8556520b-971e-437a-addd-e7b8dd51fdc9 button');\n",
              "      quickchartButtonEl.style.display =\n",
              "        google.colab.kernel.accessAllowed ? 'block' : 'none';\n",
              "    })();\n",
              "  </script>\n",
              "</div>\n",
              "\n",
              "    </div>\n",
              "  </div>\n"
            ],
            "application/vnd.google.colaboratory.intrinsic+json": {
              "type": "dataframe",
              "summary": "{\n  \"name\": \"diabetes_data\",\n  \"rows\": 8,\n  \"fields\": [\n    {\n      \"column\": \"Pregnancies\",\n      \"properties\": {\n        \"dtype\": \"number\",\n        \"std\": 269.85223453356366,\n        \"min\": 0.0,\n        \"max\": 768.0,\n        \"num_unique_values\": 8,\n        \"samples\": [\n          3.8450520833333335,\n          3.0,\n          768.0\n        ],\n        \"semantic_type\": \"\",\n        \"description\": \"\"\n      }\n    },\n    {\n      \"column\": \"Glucose\",\n      \"properties\": {\n        \"dtype\": \"number\",\n        \"std\": 239.510868070369,\n        \"min\": 30.436015643897115,\n        \"max\": 768.0,\n        \"num_unique_values\": 8,\n        \"samples\": [\n          121.68160502115886,\n          117.0,\n          768.0\n        ],\n        \"semantic_type\": \"\",\n        \"description\": \"\"\n      }\n    },\n    {\n      \"column\": \"BloodPressure\",\n      \"properties\": {\n        \"dtype\": \"number\",\n        \"std\": 251.28086638098014,\n        \"min\": 12.115931598253855,\n        \"max\": 768.0,\n        \"num_unique_values\": 8,\n        \"samples\": [\n          72.25480651855469,\n          72.0,\n          768.0\n        ],\n        \"semantic_type\": \"\",\n        \"description\": \"\"\n      }\n    },\n    {\n      \"column\": \"SkinThickness\",\n      \"properties\": {\n        \"dtype\": \"number\",\n        \"std\": 262.12880430873116,\n        \"min\": 7.0,\n        \"max\": 768.0,\n        \"num_unique_values\": 8,\n        \"samples\": [\n          26.606479220920136,\n          23.0,\n          768.0\n        ],\n        \"semantic_type\": \"\",\n        \"description\": \"\"\n      }\n    },\n    {\n      \"column\": \"Insulin\",\n      \"properties\": {\n        \"dtype\": \"number\",\n        \"std\": 336.39067678365507,\n        \"min\": 14.0,\n        \"max\": 846.0,\n        \"num_unique_values\": 7,\n        \"samples\": [\n          768.0,\n          118.66016303168404,\n          127.25\n        ],\n        \"semantic_type\": \"\",\n        \"description\": \"\"\n      }\n    },\n    {\n      \"column\": \"BMI\",\n      \"properties\": {\n        \"dtype\": \"number\",\n        \"std\": 260.9543894108279,\n        \"min\": 6.8753735074183835,\n        \"max\": 768.0,\n        \"num_unique_values\": 8,\n        \"samples\": [\n          32.4508051554362,\n          32.0,\n          768.0\n        ],\n        \"semantic_type\": \"\",\n        \"description\": \"\"\n      }\n    },\n    {\n      \"column\": \"DiabetesPedigreeFunction\",\n      \"properties\": {\n        \"dtype\": \"number\",\n        \"std\": 271.3005221658502,\n        \"min\": 0.078,\n        \"max\": 768.0,\n        \"num_unique_values\": 8,\n        \"samples\": [\n          0.47187630208333325,\n          0.3725,\n          768.0\n        ],\n        \"semantic_type\": \"\",\n        \"description\": \"\"\n      }\n    },\n    {\n      \"column\": \"Age\",\n      \"properties\": {\n        \"dtype\": \"number\",\n        \"std\": 260.1941178528413,\n        \"min\": 11.760231540678685,\n        \"max\": 768.0,\n        \"num_unique_values\": 8,\n        \"samples\": [\n          33.240885416666664,\n          29.0,\n          768.0\n        ],\n        \"semantic_type\": \"\",\n        \"description\": \"\"\n      }\n    },\n    {\n      \"column\": \"Outcome\",\n      \"properties\": {\n        \"dtype\": \"number\",\n        \"std\": 271.3865920388932,\n        \"min\": 0.0,\n        \"max\": 768.0,\n        \"num_unique_values\": 5,\n        \"samples\": [\n          0.3489583333333333,\n          1.0,\n          0.47695137724279896\n        ],\n        \"semantic_type\": \"\",\n        \"description\": \"\"\n      }\n    }\n  ]\n}"
            }
          },
          "metadata": {},
          "execution_count": 47
        }
      ]
    },
    {
      "cell_type": "code",
      "source": [
        "# Glucose 피처 값의 분포도 -> 0값으로 가지고 있는 데이터 5개 발견\n",
        "plt.hist(diabetes_data['Glucose'], bins=100)\n",
        "plt.show()"
      ],
      "metadata": {
        "colab": {
          "base_uri": "https://localhost:8080/",
          "height": 430
        },
        "id": "9hJ8yf-k1tCF",
        "outputId": "bf5fd3e4-6790-4505-dc2d-cac29119872f"
      },
      "execution_count": 40,
      "outputs": [
        {
          "output_type": "display_data",
          "data": {
            "text/plain": [
              "<Figure size 640x480 with 1 Axes>"
            ],
            "image/png": "[encoded data removed]"
          },
          "metadata": {}
        }
      ]
    },
    {
      "cell_type": "code",
      "source": [
        "# 0값을 검사할 피처명 리스트 객체 설정\n",
        "zero_features = ['Glucose', 'BloodPressure','SkinThickness','Insulin','BMI']\n",
        "\n",
        "# 전체 데이터 건수\n",
        "total_count = diabetes_data['Glucose'].count()\n",
        "\n",
        "# 피처별로 반복 하면서 데이터 값이 0 인 데이터 건수 추출하고, 퍼센트 계산\n",
        "for feature in zero_features:\n",
        "    zero_count = diabetes_data[diabetes_data[feature] == 0][feature].count()\n",
        "    print('{0} 0 건수는 {1}, 퍼센트는 {2:.2f} %'.format(feature, zero_count, 100*zero_count/total_count))"
      ],
      "metadata": {
        "colab": {
          "base_uri": "https://localhost:8080/"
        },
        "id": "uJLtitOQ1tEq",
        "outputId": "f639b023-40a9-4464-b207-f647fb6b22c5"
      },
      "execution_count": 41,
      "outputs": [
        {
          "output_type": "stream",
          "name": "stdout",
          "text": [
            "Glucose 0 건수는 5, 퍼센트는 0.65 %\n",
            "BloodPressure 0 건수는 35, 퍼센트는 4.56 %\n",
            "SkinThickness 0 건수는 227, 퍼센트는 29.56 %\n",
            "Insulin 0 건수는 374, 퍼센트는 48.70 %\n",
            "BMI 0 건수는 11, 퍼센트는 1.43 %\n"
          ]
        }
      ]
    },
    {
      "cell_type": "markdown",
      "source": [
        "Insulin, SkinThickness 피처는 0 값이 전체 데이터늬 48.7%, 29.56% 로 상당히 많음 -> 0 값을 평균값으로 대체"
      ],
      "metadata": {
        "id": "k21SmcKV24CH"
      }
    },
    {
      "cell_type": "code",
      "source": [
        "# zero_features 리스트 내부에 저장된 개별 피처들에 대해서 0값을 평균 값으로 대체\n",
        "mean_zero_features = diabetes_data[zero_features].mean()\n",
        "diabetes_data[zero_features]=diabetes_data[zero_features].replace(0, mean_zero_features) # 0 데이터를 mean_zero_features에 있는 각 피처별 평균값으로 대체"
      ],
      "metadata": {
        "id": "FxFDdUHX10-c"
      },
      "execution_count": 42,
      "outputs": []
    },
    {
      "cell_type": "code",
      "source": [
        "X = diabetes_data.iloc[:, :-1]\n",
        "y = diabetes_data.iloc[:, -1]\n",
        "\n",
        "# StandardScaler 클래스를 이용해 피처 데이터 세트에 일괄적으로 스케일링 적용\n",
        "scaler = StandardScaler( )\n",
        "X_scaled = scaler.fit_transform(X)\n",
        "\n",
        "X_train, X_test, y_train, y_test = train_test_split(X_scaled, y, test_size = 0.2, random_state = 156, stratify=y)\n",
        "\n",
        "# 로지스틱 회귀로 학습, 예측 및 평가 수행.\n",
        "lr_clf = LogisticRegression()\n",
        "lr_clf.fit(X_train , y_train)\n",
        "pred = lr_clf.predict(X_test)\n",
        "pred_proba = lr_clf.predict_proba(X_test)[:, 1]\n",
        "\n",
        "get_clf_eval(y_test , pred, pred_proba)\n",
        "\n",
        "    # 이후 다시 평가를 해보면, 성능수치가 일정 수준으로 개선이 되었음"
      ],
      "metadata": {
        "colab": {
          "base_uri": "https://localhost:8080/"
        },
        "id": "ju2RiG1z11BK",
        "outputId": "93727dec-3ac4-42ee-edf4-5c1e4cd34d7b"
      },
      "execution_count": 43,
      "outputs": [
        {
          "output_type": "stream",
          "name": "stdout",
          "text": [
            "오차 행렬\n",
            "[[90 10]\n",
            " [21 33]]\n",
            "정확도: 0.7987, 정밀도: 0.7674, 재현율: 0.6111,          F1: 0.6804, AUC:0.8433\n"
          ]
        }
      ]
    },
    {
      "cell_type": "code",
      "source": [
        "thresholds = [0.3 , 0.33 ,0.36,0.39, 0.42 , 0.45 ,0.48, 0.50]\n",
        "pred_proba = lr_clf.predict_proba(X_test)\n",
        "get_eval_by_threshold(y_test, pred_proba[:,1].reshape(-1,1), thresholds )"
      ],
      "metadata": {
        "colab": {
          "base_uri": "https://localhost:8080/"
        },
        "id": "UQi2UVjc11Gc",
        "outputId": "23f3a0e9-e74a-40ab-96ea-d0004ffeae5a"
      },
      "execution_count": 48,
      "outputs": [
        {
          "output_type": "stream",
          "name": "stdout",
          "text": [
            "임곗값: 0.3\n",
            "오차 행렬\n",
            "[[67 33]\n",
            " [11 43]]\n",
            "정확도: 0.7143, 정밀도: 0.5658, 재현율: 0.7963,          F1: 0.6615, AUC:0.8433\n",
            "임곗값: 0.33\n",
            "오차 행렬\n",
            "[[72 28]\n",
            " [12 42]]\n",
            "정확도: 0.7403, 정밀도: 0.6000, 재현율: 0.7778,          F1: 0.6774, AUC:0.8433\n",
            "임곗값: 0.36\n",
            "오차 행렬\n",
            "[[76 24]\n",
            " [15 39]]\n",
            "정확도: 0.7468, 정밀도: 0.6190, 재현율: 0.7222,          F1: 0.6667, AUC:0.8433\n",
            "임곗값: 0.39\n",
            "오차 행렬\n",
            "[[78 22]\n",
            " [16 38]]\n",
            "정확도: 0.7532, 정밀도: 0.6333, 재현율: 0.7037,          F1: 0.6667, AUC:0.8433\n",
            "임곗값: 0.42\n",
            "오차 행렬\n",
            "[[84 16]\n",
            " [18 36]]\n",
            "정확도: 0.7792, 정밀도: 0.6923, 재현율: 0.6667,          F1: 0.6792, AUC:0.8433\n",
            "임곗값: 0.45\n",
            "오차 행렬\n",
            "[[85 15]\n",
            " [18 36]]\n",
            "정확도: 0.7857, 정밀도: 0.7059, 재현율: 0.6667,          F1: 0.6857, AUC:0.8433\n",
            "임곗값: 0.48\n",
            "오차 행렬\n",
            "[[88 12]\n",
            " [19 35]]\n",
            "정확도: 0.7987, 정밀도: 0.7447, 재현율: 0.6481,          F1: 0.6931, AUC:0.8433\n",
            "임곗값: 0.5\n",
            "오차 행렬\n",
            "[[90 10]\n",
            " [21 33]]\n",
            "정확도: 0.7987, 정밀도: 0.7674, 재현율: 0.6111,          F1: 0.6804, AUC:0.8433\n"
          ]
        }
      ]
    },
    {
      "cell_type": "markdown",
      "source": [
        "임곗값이 0.48일때 f1 스코어도 가장 높으며, 재현유르, 정밀도 수치도 조화로움 -? 임곗값을 0.48로 낮춘 상태에서 다시 로지스틱 회귀모델을 이용해 예측 진행"
      ],
      "metadata": {
        "id": "ZOekBsVh3v5I"
      }
    },
    {
      "cell_type": "code",
      "source": [
        "# 임곗값를 0.48로 설정한 Binarizer 생성\n",
        "binarizer = Binarizer(threshold=0.48)\n",
        "\n",
        "# 위에서 구한 lr_clf의 predict_proba() 예측 확률 array에서 1에 해당하는 컬럼값을 Binarizer변환.\n",
        "pred_th_048 = binarizer.fit_transform(pred_proba[:, 1].reshape(-1,1))\n",
        "\n",
        "get_clf_eval(y_test , pred_th_048, pred_proba[:, 1])"
      ],
      "metadata": {
        "colab": {
          "base_uri": "https://localhost:8080/"
        },
        "id": "tApq-dkC11JS",
        "outputId": "53109ada-c418-42d3-9a3d-59f54e483fec"
      },
      "execution_count": 46,
      "outputs": [
        {
          "output_type": "stream",
          "name": "stdout",
          "text": [
            "오차 행렬\n",
            "[[88 12]\n",
            " [19 35]]\n",
            "정확도: 0.7987, 정밀도: 0.7447, 재현율: 0.6481,          F1: 0.6931, AUC:0.8433\n"
          ]
        }
      ]
    }
  ]
}