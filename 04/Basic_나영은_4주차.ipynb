{
  "cells": [
    {
      "cell_type": "markdown",
      "metadata": {
        "id": "vus6FcPHBTBS"
      },
      "source": [
        "# 4.1 분류의 개요\n",
        "- 지도학습: 레이블, 즉 명시적인 정답이 있는 데이터가 주어진 상태에서 학습하는 머신러닝 방식\n",
        "- 지도학습 - 분류 : 학습 데이터로 주어진 데이터의 피처와 레이블값을 머신러닝 알고리즘으로 학습해 모델 생성, 모델에 새로운 데이터 값이 주어졌을 때 미지의 레이블 값을 예측\n",
        "- 분류의 머신러닝 알고리즘 : 베이즈, 로지스틱 회귀, 결정 트리, 서포트 벡텉 머신, 최소 근접, 신경망, 앙상블\n",
        "- 앙상블: 서로 다른 또는 같은 머신러닝 알고리즘을 결합\n",
        "- 앙상블 -> 배깅 : 랜덤 포레스트\n",
        "       -> 부스팅: 그래디언트 부스팅\n",
        "        +최신 기법 (xgboost, lightgbm) 스태킹\n",
        "        기본 알고리즘: 결정트리\n",
        "- 결정트리: 매우 쉽고 유연하게 적용, 사전 가공의 영향 적어, 과적합의 한계 -> 앙상블에서는 오히려 장점\n"
      ]
    },
    {
      "cell_type": "markdown",
      "metadata": {
        "id": "86Sw0fiKBTBU"
      },
      "source": [
        "# 4.2 결정 트리\n",
        "- 결정트리: 데이터에 있는 규칙을 학습을 통해 자동으로 찾아내 트리 기반의 분류 규칙을 만드는 것\n",
        "- 데이터의 어떤 기준을 바탕으로 규칙을 만들어야 가장 효율적 분류가 될 것인가가 성능을 좌우\n",
        "- 결정 트리의 구조\n",
        "- 트리의 깊이가 깊을수록 예측 성능 저하 - 과적합\n",
        "- 어떻게 split할 것인가 중요 , 최대한 균일한 데이터 세트를 구성할수 있도록 분할하는 게 중요\n",
        "- 엔트로피 : 주어진 데이터 집합의 혼잡도 - 서로 다른 값 : 높 -> 정보 이득 지수 낮\n",
        "- 서로 같은 값 엔트로피 낮 -> 정보 이득 지수 높\n",
        "- 정보 이득 지수 : 1- 엔트로피 진수 : 결정트리 분할 기준 -> 정보 이득이 높은 속성을 기준으로 분할\n",
        "- 지니 계수 : 낮을수록 데이터 균일도 높아 , 낮은 속성을 기준으로 분할\n",
        "- 결정트리 모델 특징: 단점 : 과적합에 성능 떨어져 -> 사전에 트리의 크기를 제한하는 튜닝 필요\n",
        "- 결정 트리 파라미터\n",
        "- 결정 트리 모델의 시각화"
      ]
    },
    {
      "cell_type": "markdown",
      "metadata": {
        "id": "b_oUL2-HBTBU"
      },
      "source": [
        "### 결정 트리 모델의 시각화(Decision Tree Visualization)"
      ]
    },
    {
      "cell_type": "code",
      "execution_count": null,
      "metadata": {
        "id": "HAN-t6cYBTBV",
        "outputId": "53e438b6-017d-4226-9f84-df98151d0ddb"
      },
      "outputs": [
        {
          "data": {
            "text/html": [
              "<style>#sk-container-id-2 {color: black;}#sk-container-id-2 pre{padding: 0;}#sk-container-id-2 div.sk-toggleable {background-color: white;}#sk-container-id-2 label.sk-toggleable__label {cursor: pointer;display: block;width: 100%;margin-bottom: 0;padding: 0.3em;box-sizing: border-box;text-align: center;}#sk-container-id-2 label.sk-toggleable__label-arrow:before {content: \"▸\";float: left;margin-right: 0.25em;color: #696969;}#sk-container-id-2 label.sk-toggleable__label-arrow:hover:before {color: black;}#sk-container-id-2 div.sk-estimator:hover label.sk-toggleable__label-arrow:before {color: black;}#sk-container-id-2 div.sk-toggleable__content {max-height: 0;max-width: 0;overflow: hidden;text-align: left;background-color: #f0f8ff;}#sk-container-id-2 div.sk-toggleable__content pre {margin: 0.2em;color: black;border-radius: 0.25em;background-color: #f0f8ff;}#sk-container-id-2 input.sk-toggleable__control:checked~div.sk-toggleable__content {max-height: 200px;max-width: 100%;overflow: auto;}#sk-container-id-2 input.sk-toggleable__control:checked~label.sk-toggleable__label-arrow:before {content: \"▾\";}#sk-container-id-2 div.sk-estimator input.sk-toggleable__control:checked~label.sk-toggleable__label {background-color: #d4ebff;}#sk-container-id-2 div.sk-label input.sk-toggleable__control:checked~label.sk-toggleable__label {background-color: #d4ebff;}#sk-container-id-2 input.sk-hidden--visually {border: 0;clip: rect(1px 1px 1px 1px);clip: rect(1px, 1px, 1px, 1px);height: 1px;margin: -1px;overflow: hidden;padding: 0;position: absolute;width: 1px;}#sk-container-id-2 div.sk-estimator {font-family: monospace;background-color: #f0f8ff;border: 1px dotted black;border-radius: 0.25em;box-sizing: border-box;margin-bottom: 0.5em;}#sk-container-id-2 div.sk-estimator:hover {background-color: #d4ebff;}#sk-container-id-2 div.sk-parallel-item::after {content: \"\";width: 100%;border-bottom: 1px solid gray;flex-grow: 1;}#sk-container-id-2 div.sk-label:hover label.sk-toggleable__label {background-color: #d4ebff;}#sk-container-id-2 div.sk-serial::before {content: \"\";position: absolute;border-left: 1px solid gray;box-sizing: border-box;top: 0;bottom: 0;left: 50%;z-index: 0;}#sk-container-id-2 div.sk-serial {display: flex;flex-direction: column;align-items: center;background-color: white;padding-right: 0.2em;padding-left: 0.2em;position: relative;}#sk-container-id-2 div.sk-item {position: relative;z-index: 1;}#sk-container-id-2 div.sk-parallel {display: flex;align-items: stretch;justify-content: center;background-color: white;position: relative;}#sk-container-id-2 div.sk-item::before, #sk-container-id-2 div.sk-parallel-item::before {content: \"\";position: absolute;border-left: 1px solid gray;box-sizing: border-box;top: 0;bottom: 0;left: 50%;z-index: -1;}#sk-container-id-2 div.sk-parallel-item {display: flex;flex-direction: column;z-index: 1;position: relative;background-color: white;}#sk-container-id-2 div.sk-parallel-item:first-child::after {align-self: flex-end;width: 50%;}#sk-container-id-2 div.sk-parallel-item:last-child::after {align-self: flex-start;width: 50%;}#sk-container-id-2 div.sk-parallel-item:only-child::after {width: 0;}#sk-container-id-2 div.sk-dashed-wrapped {border: 1px dashed gray;margin: 0 0.4em 0.5em 0.4em;box-sizing: border-box;padding-bottom: 0.4em;background-color: white;}#sk-container-id-2 div.sk-label label {font-family: monospace;font-weight: bold;display: inline-block;line-height: 1.2em;}#sk-container-id-2 div.sk-label-container {text-align: center;}#sk-container-id-2 div.sk-container {/* jupyter's `normalize.less` sets `[hidden] { display: none; }` but bootstrap.min.css set `[hidden] { display: none !important; }` so we also need the `!important` here to be able to override the default hidden behavior on the sphinx rendered scikit-learn.org. See: https://github.com/scikit-learn/scikit-learn/issues/21755 */display: inline-block !important;position: relative;}#sk-container-id-2 div.sk-text-repr-fallback {display: none;}</style><div id=\"sk-container-id-2\" class=\"sk-top-container\"><div class=\"sk-text-repr-fallback\"><pre>DecisionTreeClassifier(random_state=156)</pre><b>In a Jupyter environment, please rerun this cell to show the HTML representation or trust the notebook. <br />On GitHub, the HTML representation is unable to render, please try loading this page with nbviewer.org.</b></div><div class=\"sk-container\" hidden><div class=\"sk-item\"><div class=\"sk-estimator sk-toggleable\"><input class=\"sk-toggleable__control sk-hidden--visually\" id=\"sk-estimator-id-2\" type=\"checkbox\" checked><label for=\"sk-estimator-id-2\" class=\"sk-toggleable__label sk-toggleable__label-arrow\">DecisionTreeClassifier</label><div class=\"sk-toggleable__content\"><pre>DecisionTreeClassifier(random_state=156)</pre></div></div></div></div></div>"
            ],
            "text/plain": [
              "DecisionTreeClassifier(random_state=156)"
            ]
          },
          "execution_count": 4,
          "metadata": {},
          "output_type": "execute_result"
        }
      ],
      "source": [
        "from sklearn.tree import DecisionTreeClassifier\n",
        "from sklearn.datasets import load_iris\n",
        "from sklearn.model_selection import train_test_split\n",
        "import warnings\n",
        "warnings.filterwarnings('ignore')\n",
        "\n",
        "# DecisionTree Classifier 생성\n",
        "dt_clf = DecisionTreeClassifier(random_state=156)\n",
        "\n",
        "# 붓꽃 데이터를 로딩하고, 학습과 테스트 데이터 셋으로 분리\n",
        "iris_data = load_iris()\n",
        "X_train , X_test , y_train , y_test = train_test_split(iris_data.data, iris_data.target,\n",
        "                                                       test_size=0.2,  random_state=11)\n",
        "\n",
        "# DecisionTreeClassifer 학습.\n",
        "dt_clf.fit(X_train , y_train)"
      ]
    },
    {
      "cell_type": "code",
      "execution_count": null,
      "metadata": {
        "id": "46appwG2BTBW"
      },
      "outputs": [],
      "source": [
        "from sklearn.tree import export_graphviz\n",
        "\n",
        "# export_graphviz()의 호출 결과로 out_file로 지정된 tree.dot 파일을 생성함.\n",
        "export_graphviz(dt_clf, out_file=\"tree.dot\", class_names=iris_data.target_names , \\\n",
        "feature_names = iris_data.feature_names, impurity=True, filled=True)"
      ]
    },
    {
      "cell_type": "code",
      "execution_count": null,
      "metadata": {
        "scrolled": false,
        "id": "mVFLGcu6BTBW",
        "outputId": "bb122d5a-53ef-4f2f-abdb-1b200fe73825"
      },
      "outputs": [
        {
          "data": {
            "image/svg+xml": [
              "<?xml version=\"1.0\" encoding=\"UTF-8\" standalone=\"no\"?>\n",
              "<!DOCTYPE svg PUBLIC \"-//W3C//DTD SVG 1.1//EN\"\n",
              " \"http://www.w3.org/Graphics/SVG/1.1/DTD/svg11.dtd\">\n",
              "<!-- Generated by graphviz version 2.50.0 (0)\n",
              " -->\n",
              "<!-- Title: Tree Pages: 1 -->\n",
              "<svg width=\"784pt\" height=\"671pt\"\n",
              " viewBox=\"0.00 0.00 784.00 671.00\" xmlns=\"http://www.w3.org/2000/svg\" xmlns:xlink=\"http://www.w3.org/1999/xlink\">\n",
              "<g id=\"graph0\" class=\"graph\" transform=\"scale(1 1) rotate(0) translate(4 667)\">\n",
              "<title>Tree</title>\n",
              "<polygon fill=\"white\" stroke=\"transparent\" points=\"-4,4 -4,-667 780,-667 780,4 -4,4\"/>\n",
              "<!-- 0 -->\n",
              "<g id=\"node1\" class=\"node\">\n",
              "<title>0</title>\n",
              "<polygon fill=\"#fffdfd\" stroke=\"black\" points=\"286.5,-663 118.5,-663 118.5,-580 286.5,-580 286.5,-663\"/>\n",
              "<text text-anchor=\"middle\" x=\"202.5\" y=\"-647.8\" font-family=\"Helvetica,sans-Serif\" font-size=\"14.00\">petal length (cm) &lt;= 2.45</text>\n",
              "<text text-anchor=\"middle\" x=\"202.5\" y=\"-632.8\" font-family=\"Helvetica,sans-Serif\" font-size=\"14.00\">gini = 0.667</text>\n",
              "<text text-anchor=\"middle\" x=\"202.5\" y=\"-617.8\" font-family=\"Helvetica,sans-Serif\" font-size=\"14.00\">samples = 120</text>\n",
              "<text text-anchor=\"middle\" x=\"202.5\" y=\"-602.8\" font-family=\"Helvetica,sans-Serif\" font-size=\"14.00\">value = [41, 40, 39]</text>\n",
              "<text text-anchor=\"middle\" x=\"202.5\" y=\"-587.8\" font-family=\"Helvetica,sans-Serif\" font-size=\"14.00\">class = setosa</text>\n",
              "</g>\n",
              "<!-- 1 -->\n",
              "<g id=\"node2\" class=\"node\">\n",
              "<title>1</title>\n",
              "<polygon fill=\"#e58139\" stroke=\"black\" points=\"182,-536.5 65,-536.5 65,-468.5 182,-468.5 182,-536.5\"/>\n",
              "<text text-anchor=\"middle\" x=\"123.5\" y=\"-521.3\" font-family=\"Helvetica,sans-Serif\" font-size=\"14.00\">gini = 0.0</text>\n",
              "<text text-anchor=\"middle\" x=\"123.5\" y=\"-506.3\" font-family=\"Helvetica,sans-Serif\" font-size=\"14.00\">samples = 41</text>\n",
              "<text text-anchor=\"middle\" x=\"123.5\" y=\"-491.3\" font-family=\"Helvetica,sans-Serif\" font-size=\"14.00\">value = [41, 0, 0]</text>\n",
              "<text text-anchor=\"middle\" x=\"123.5\" y=\"-476.3\" font-family=\"Helvetica,sans-Serif\" font-size=\"14.00\">class = setosa</text>\n",
              "</g>\n",
              "<!-- 0&#45;&gt;1 -->\n",
              "<g id=\"edge1\" class=\"edge\">\n",
              "<title>0&#45;&gt;1</title>\n",
              "<path fill=\"none\" stroke=\"black\" d=\"M175.09,-579.91C167.49,-568.65 159.23,-556.42 151.59,-545.11\"/>\n",
              "<polygon fill=\"black\" stroke=\"black\" points=\"154.39,-543 145.89,-536.67 148.59,-546.91 154.39,-543\"/>\n",
              "<text text-anchor=\"middle\" x=\"141.14\" y=\"-557.51\" font-family=\"Helvetica,sans-Serif\" font-size=\"14.00\">True</text>\n",
              "</g>\n",
              "<!-- 2 -->\n",
              "<g id=\"node3\" class=\"node\">\n",
              "<title>2</title>\n",
              "<polygon fill=\"#fafefc\" stroke=\"black\" points=\"363,-544 200,-544 200,-461 363,-461 363,-544\"/>\n",
              "<text text-anchor=\"middle\" x=\"281.5\" y=\"-528.8\" font-family=\"Helvetica,sans-Serif\" font-size=\"14.00\">petal width (cm) &lt;= 1.55</text>\n",
              "<text text-anchor=\"middle\" x=\"281.5\" y=\"-513.8\" font-family=\"Helvetica,sans-Serif\" font-size=\"14.00\">gini = 0.5</text>\n",
              "<text text-anchor=\"middle\" x=\"281.5\" y=\"-498.8\" font-family=\"Helvetica,sans-Serif\" font-size=\"14.00\">samples = 79</text>\n",
              "<text text-anchor=\"middle\" x=\"281.5\" y=\"-483.8\" font-family=\"Helvetica,sans-Serif\" font-size=\"14.00\">value = [0, 40, 39]</text>\n",
              "<text text-anchor=\"middle\" x=\"281.5\" y=\"-468.8\" font-family=\"Helvetica,sans-Serif\" font-size=\"14.00\">class = versicolor</text>\n",
              "</g>\n",
              "<!-- 0&#45;&gt;2 -->\n",
              "<g id=\"edge2\" class=\"edge\">\n",
              "<title>0&#45;&gt;2</title>\n",
              "<path fill=\"none\" stroke=\"black\" d=\"M229.91,-579.91C235.91,-571.01 242.33,-561.51 248.53,-552.33\"/>\n",
              "<polygon fill=\"black\" stroke=\"black\" points=\"251.44,-554.27 254.14,-544.02 245.64,-550.35 251.44,-554.27\"/>\n",
              "<text text-anchor=\"middle\" x=\"258.9\" y=\"-564.86\" font-family=\"Helvetica,sans-Serif\" font-size=\"14.00\">False</text>\n",
              "</g>\n",
              "<!-- 3 -->\n",
              "<g id=\"node4\" class=\"node\">\n",
              "<title>3</title>\n",
              "<polygon fill=\"#3ee684\" stroke=\"black\" points=\"273.5,-425 105.5,-425 105.5,-342 273.5,-342 273.5,-425\"/>\n",
              "<text text-anchor=\"middle\" x=\"189.5\" y=\"-409.8\" font-family=\"Helvetica,sans-Serif\" font-size=\"14.00\">petal length (cm) &lt;= 5.25</text>\n",
              "<text text-anchor=\"middle\" x=\"189.5\" y=\"-394.8\" font-family=\"Helvetica,sans-Serif\" font-size=\"14.00\">gini = 0.051</text>\n",
              "<text text-anchor=\"middle\" x=\"189.5\" y=\"-379.8\" font-family=\"Helvetica,sans-Serif\" font-size=\"14.00\">samples = 38</text>\n",
              "<text text-anchor=\"middle\" x=\"189.5\" y=\"-364.8\" font-family=\"Helvetica,sans-Serif\" font-size=\"14.00\">value = [0, 37, 1]</text>\n",
              "<text text-anchor=\"middle\" x=\"189.5\" y=\"-349.8\" font-family=\"Helvetica,sans-Serif\" font-size=\"14.00\">class = versicolor</text>\n",
              "</g>\n",
              "<!-- 2&#45;&gt;3 -->\n",
              "<g id=\"edge3\" class=\"edge\">\n",
              "<title>2&#45;&gt;3</title>\n",
              "<path fill=\"none\" stroke=\"black\" d=\"M249.58,-460.91C242.52,-451.92 234.96,-442.32 227.68,-433.05\"/>\n",
              "<polygon fill=\"black\" stroke=\"black\" points=\"230.3,-430.72 221.36,-425.02 224.79,-435.05 230.3,-430.72\"/>\n",
              "</g>\n",
              "<!-- 6 -->\n",
              "<g id=\"node7\" class=\"node\">\n",
              "<title>6</title>\n",
              "<polygon fill=\"#8b49e7\" stroke=\"black\" points=\"455,-425 292,-425 292,-342 455,-342 455,-425\"/>\n",
              "<text text-anchor=\"middle\" x=\"373.5\" y=\"-409.8\" font-family=\"Helvetica,sans-Serif\" font-size=\"14.00\">petal width (cm) &lt;= 1.75</text>\n",
              "<text text-anchor=\"middle\" x=\"373.5\" y=\"-394.8\" font-family=\"Helvetica,sans-Serif\" font-size=\"14.00\">gini = 0.136</text>\n",
              "<text text-anchor=\"middle\" x=\"373.5\" y=\"-379.8\" font-family=\"Helvetica,sans-Serif\" font-size=\"14.00\">samples = 41</text>\n",
              "<text text-anchor=\"middle\" x=\"373.5\" y=\"-364.8\" font-family=\"Helvetica,sans-Serif\" font-size=\"14.00\">value = [0, 3, 38]</text>\n",
              "<text text-anchor=\"middle\" x=\"373.5\" y=\"-349.8\" font-family=\"Helvetica,sans-Serif\" font-size=\"14.00\">class = virginica</text>\n",
              "</g>\n",
              "<!-- 2&#45;&gt;6 -->\n",
              "<g id=\"edge6\" class=\"edge\">\n",
              "<title>2&#45;&gt;6</title>\n",
              "<path fill=\"none\" stroke=\"black\" d=\"M313.42,-460.91C320.48,-451.92 328.04,-442.32 335.32,-433.05\"/>\n",
              "<polygon fill=\"black\" stroke=\"black\" points=\"338.21,-435.05 341.64,-425.02 332.7,-430.72 338.21,-435.05\"/>\n",
              "</g>\n",
              "<!-- 4 -->\n",
              "<g id=\"node5\" class=\"node\">\n",
              "<title>4</title>\n",
              "<polygon fill=\"#39e581\" stroke=\"black\" points=\"121,-298.5 0,-298.5 0,-230.5 121,-230.5 121,-298.5\"/>\n",
              "<text text-anchor=\"middle\" x=\"60.5\" y=\"-283.3\" font-family=\"Helvetica,sans-Serif\" font-size=\"14.00\">gini = 0.0</text>\n",
              "<text text-anchor=\"middle\" x=\"60.5\" y=\"-268.3\" font-family=\"Helvetica,sans-Serif\" font-size=\"14.00\">samples = 37</text>\n",
              "<text text-anchor=\"middle\" x=\"60.5\" y=\"-253.3\" font-family=\"Helvetica,sans-Serif\" font-size=\"14.00\">value = [0, 37, 0]</text>\n",
              "<text text-anchor=\"middle\" x=\"60.5\" y=\"-238.3\" font-family=\"Helvetica,sans-Serif\" font-size=\"14.00\">class = versicolor</text>\n",
              "</g>\n",
              "<!-- 3&#45;&gt;4 -->\n",
              "<g id=\"edge4\" class=\"edge\">\n",
              "<title>3&#45;&gt;4</title>\n",
              "<path fill=\"none\" stroke=\"black\" d=\"M144.74,-341.91C131.73,-330.1 117.52,-317.22 104.55,-305.45\"/>\n",
              "<polygon fill=\"black\" stroke=\"black\" points=\"106.83,-302.79 97.07,-298.67 102.12,-307.98 106.83,-302.79\"/>\n",
              "</g>\n",
              "<!-- 5 -->\n",
              "<g id=\"node6\" class=\"node\">\n",
              "<title>5</title>\n",
              "<polygon fill=\"#8139e5\" stroke=\"black\" points=\"252,-298.5 139,-298.5 139,-230.5 252,-230.5 252,-298.5\"/>\n",
              "<text text-anchor=\"middle\" x=\"195.5\" y=\"-283.3\" font-family=\"Helvetica,sans-Serif\" font-size=\"14.00\">gini = 0.0</text>\n",
              "<text text-anchor=\"middle\" x=\"195.5\" y=\"-268.3\" font-family=\"Helvetica,sans-Serif\" font-size=\"14.00\">samples = 1</text>\n",
              "<text text-anchor=\"middle\" x=\"195.5\" y=\"-253.3\" font-family=\"Helvetica,sans-Serif\" font-size=\"14.00\">value = [0, 0, 1]</text>\n",
              "<text text-anchor=\"middle\" x=\"195.5\" y=\"-238.3\" font-family=\"Helvetica,sans-Serif\" font-size=\"14.00\">class = virginica</text>\n",
              "</g>\n",
              "<!-- 3&#45;&gt;5 -->\n",
              "<g id=\"edge5\" class=\"edge\">\n",
              "<title>3&#45;&gt;5</title>\n",
              "<path fill=\"none\" stroke=\"black\" d=\"M191.58,-341.91C192.13,-331.2 192.72,-319.62 193.28,-308.78\"/>\n",
              "<polygon fill=\"black\" stroke=\"black\" points=\"196.78,-308.83 193.8,-298.67 189.79,-308.47 196.78,-308.83\"/>\n",
              "</g>\n",
              "<!-- 7 -->\n",
              "<g id=\"node8\" class=\"node\">\n",
              "<title>7</title>\n",
              "<polygon fill=\"#ffffff\" stroke=\"black\" points=\"453,-306 282,-306 282,-223 453,-223 453,-306\"/>\n",
              "<text text-anchor=\"middle\" x=\"367.5\" y=\"-290.8\" font-family=\"Helvetica,sans-Serif\" font-size=\"14.00\">sepal length (cm) &lt;= 5.45</text>\n",
              "<text text-anchor=\"middle\" x=\"367.5\" y=\"-275.8\" font-family=\"Helvetica,sans-Serif\" font-size=\"14.00\">gini = 0.5</text>\n",
              "<text text-anchor=\"middle\" x=\"367.5\" y=\"-260.8\" font-family=\"Helvetica,sans-Serif\" font-size=\"14.00\">samples = 4</text>\n",
              "<text text-anchor=\"middle\" x=\"367.5\" y=\"-245.8\" font-family=\"Helvetica,sans-Serif\" font-size=\"14.00\">value = [0, 2, 2]</text>\n",
              "<text text-anchor=\"middle\" x=\"367.5\" y=\"-230.8\" font-family=\"Helvetica,sans-Serif\" font-size=\"14.00\">class = versicolor</text>\n",
              "</g>\n",
              "<!-- 6&#45;&gt;7 -->\n",
              "<g id=\"edge7\" class=\"edge\">\n",
              "<title>6&#45;&gt;7</title>\n",
              "<path fill=\"none\" stroke=\"black\" d=\"M371.42,-341.91C370.99,-333.56 370.53,-324.67 370.09,-316.02\"/>\n",
              "<polygon fill=\"black\" stroke=\"black\" points=\"373.59,-315.83 369.58,-306.02 366.59,-316.19 373.59,-315.83\"/>\n",
              "</g>\n",
              "<!-- 12 -->\n",
              "<g id=\"node13\" class=\"node\">\n",
              "<title>12</title>\n",
              "<polygon fill=\"#843ee6\" stroke=\"black\" points=\"639.5,-306 471.5,-306 471.5,-223 639.5,-223 639.5,-306\"/>\n",
              "<text text-anchor=\"middle\" x=\"555.5\" y=\"-290.8\" font-family=\"Helvetica,sans-Serif\" font-size=\"14.00\">petal length (cm) &lt;= 4.85</text>\n",
              "<text text-anchor=\"middle\" x=\"555.5\" y=\"-275.8\" font-family=\"Helvetica,sans-Serif\" font-size=\"14.00\">gini = 0.053</text>\n",
              "<text text-anchor=\"middle\" x=\"555.5\" y=\"-260.8\" font-family=\"Helvetica,sans-Serif\" font-size=\"14.00\">samples = 37</text>\n",
              "<text text-anchor=\"middle\" x=\"555.5\" y=\"-245.8\" font-family=\"Helvetica,sans-Serif\" font-size=\"14.00\">value = [0, 1, 36]</text>\n",
              "<text text-anchor=\"middle\" x=\"555.5\" y=\"-230.8\" font-family=\"Helvetica,sans-Serif\" font-size=\"14.00\">class = virginica</text>\n",
              "</g>\n",
              "<!-- 6&#45;&gt;12 -->\n",
              "<g id=\"edge12\" class=\"edge\">\n",
              "<title>6&#45;&gt;12</title>\n",
              "<path fill=\"none\" stroke=\"black\" d=\"M436.64,-341.91C451.89,-332.11 468.29,-321.56 483.89,-311.53\"/>\n",
              "<polygon fill=\"black\" stroke=\"black\" points=\"485.95,-314.37 492.47,-306.02 482.16,-308.48 485.95,-314.37\"/>\n",
              "</g>\n",
              "<!-- 8 -->\n",
              "<g id=\"node9\" class=\"node\">\n",
              "<title>8</title>\n",
              "<polygon fill=\"#8139e5\" stroke=\"black\" points=\"265,-179.5 152,-179.5 152,-111.5 265,-111.5 265,-179.5\"/>\n",
              "<text text-anchor=\"middle\" x=\"208.5\" y=\"-164.3\" font-family=\"Helvetica,sans-Serif\" font-size=\"14.00\">gini = 0.0</text>\n",
              "<text text-anchor=\"middle\" x=\"208.5\" y=\"-149.3\" font-family=\"Helvetica,sans-Serif\" font-size=\"14.00\">samples = 1</text>\n",
              "<text text-anchor=\"middle\" x=\"208.5\" y=\"-134.3\" font-family=\"Helvetica,sans-Serif\" font-size=\"14.00\">value = [0, 0, 1]</text>\n",
              "<text text-anchor=\"middle\" x=\"208.5\" y=\"-119.3\" font-family=\"Helvetica,sans-Serif\" font-size=\"14.00\">class = virginica</text>\n",
              "</g>\n",
              "<!-- 7&#45;&gt;8 -->\n",
              "<g id=\"edge8\" class=\"edge\">\n",
              "<title>7&#45;&gt;8</title>\n",
              "<path fill=\"none\" stroke=\"black\" d=\"M312.34,-222.91C295.99,-210.88 278.13,-197.73 261.9,-185.79\"/>\n",
              "<polygon fill=\"black\" stroke=\"black\" points=\"263.7,-182.77 253.57,-179.67 259.55,-188.41 263.7,-182.77\"/>\n",
              "</g>\n",
              "<!-- 9 -->\n",
              "<g id=\"node10\" class=\"node\">\n",
              "<title>9</title>\n",
              "<polygon fill=\"#9cf2c0\" stroke=\"black\" points=\"451.5,-187 283.5,-187 283.5,-104 451.5,-104 451.5,-187\"/>\n",
              "<text text-anchor=\"middle\" x=\"367.5\" y=\"-171.8\" font-family=\"Helvetica,sans-Serif\" font-size=\"14.00\">petal length (cm) &lt;= 5.45</text>\n",
              "<text text-anchor=\"middle\" x=\"367.5\" y=\"-156.8\" font-family=\"Helvetica,sans-Serif\" font-size=\"14.00\">gini = 0.444</text>\n",
              "<text text-anchor=\"middle\" x=\"367.5\" y=\"-141.8\" font-family=\"Helvetica,sans-Serif\" font-size=\"14.00\">samples = 3</text>\n",
              "<text text-anchor=\"middle\" x=\"367.5\" y=\"-126.8\" font-family=\"Helvetica,sans-Serif\" font-size=\"14.00\">value = [0, 2, 1]</text>\n",
              "<text text-anchor=\"middle\" x=\"367.5\" y=\"-111.8\" font-family=\"Helvetica,sans-Serif\" font-size=\"14.00\">class = versicolor</text>\n",
              "</g>\n",
              "<!-- 7&#45;&gt;9 -->\n",
              "<g id=\"edge9\" class=\"edge\">\n",
              "<title>7&#45;&gt;9</title>\n",
              "<path fill=\"none\" stroke=\"black\" d=\"M367.5,-222.91C367.5,-214.65 367.5,-205.86 367.5,-197.3\"/>\n",
              "<polygon fill=\"black\" stroke=\"black\" points=\"371,-197.02 367.5,-187.02 364,-197.02 371,-197.02\"/>\n",
              "</g>\n",
              "<!-- 10 -->\n",
              "<g id=\"node11\" class=\"node\">\n",
              "<title>10</title>\n",
              "<polygon fill=\"#39e581\" stroke=\"black\" points=\"306,-68 185,-68 185,0 306,0 306,-68\"/>\n",
              "<text text-anchor=\"middle\" x=\"245.5\" y=\"-52.8\" font-family=\"Helvetica,sans-Serif\" font-size=\"14.00\">gini = 0.0</text>\n",
              "<text text-anchor=\"middle\" x=\"245.5\" y=\"-37.8\" font-family=\"Helvetica,sans-Serif\" font-size=\"14.00\">samples = 2</text>\n",
              "<text text-anchor=\"middle\" x=\"245.5\" y=\"-22.8\" font-family=\"Helvetica,sans-Serif\" font-size=\"14.00\">value = [0, 2, 0]</text>\n",
              "<text text-anchor=\"middle\" x=\"245.5\" y=\"-7.8\" font-family=\"Helvetica,sans-Serif\" font-size=\"14.00\">class = versicolor</text>\n",
              "</g>\n",
              "<!-- 9&#45;&gt;10 -->\n",
              "<g id=\"edge10\" class=\"edge\">\n",
              "<title>9&#45;&gt;10</title>\n",
              "<path fill=\"none\" stroke=\"black\" d=\"M322.07,-103.73C311.6,-94.33 300.48,-84.35 290.05,-74.99\"/>\n",
              "<polygon fill=\"black\" stroke=\"black\" points=\"292.38,-72.37 282.6,-68.3 287.71,-77.58 292.38,-72.37\"/>\n",
              "</g>\n",
              "<!-- 11 -->\n",
              "<g id=\"node12\" class=\"node\">\n",
              "<title>11</title>\n",
              "<polygon fill=\"#8139e5\" stroke=\"black\" points=\"437,-68 324,-68 324,0 437,0 437,-68\"/>\n",
              "<text text-anchor=\"middle\" x=\"380.5\" y=\"-52.8\" font-family=\"Helvetica,sans-Serif\" font-size=\"14.00\">gini = 0.0</text>\n",
              "<text text-anchor=\"middle\" x=\"380.5\" y=\"-37.8\" font-family=\"Helvetica,sans-Serif\" font-size=\"14.00\">samples = 1</text>\n",
              "<text text-anchor=\"middle\" x=\"380.5\" y=\"-22.8\" font-family=\"Helvetica,sans-Serif\" font-size=\"14.00\">value = [0, 0, 1]</text>\n",
              "<text text-anchor=\"middle\" x=\"380.5\" y=\"-7.8\" font-family=\"Helvetica,sans-Serif\" font-size=\"14.00\">class = virginica</text>\n",
              "</g>\n",
              "<!-- 9&#45;&gt;11 -->\n",
              "<g id=\"edge11\" class=\"edge\">\n",
              "<title>9&#45;&gt;11</title>\n",
              "<path fill=\"none\" stroke=\"black\" d=\"M372.34,-103.73C373.33,-95.43 374.37,-86.67 375.36,-78.28\"/>\n",
              "<polygon fill=\"black\" stroke=\"black\" points=\"378.84,-78.64 376.55,-68.3 371.89,-77.82 378.84,-78.64\"/>\n",
              "</g>\n",
              "<!-- 13 -->\n",
              "<g id=\"node14\" class=\"node\">\n",
              "<title>13</title>\n",
              "<polygon fill=\"#c09cf2\" stroke=\"black\" points=\"641,-187 470,-187 470,-104 641,-104 641,-187\"/>\n",
              "<text text-anchor=\"middle\" x=\"555.5\" y=\"-171.8\" font-family=\"Helvetica,sans-Serif\" font-size=\"14.00\">sepal length (cm) &lt;= 5.95</text>\n",
              "<text text-anchor=\"middle\" x=\"555.5\" y=\"-156.8\" font-family=\"Helvetica,sans-Serif\" font-size=\"14.00\">gini = 0.444</text>\n",
              "<text text-anchor=\"middle\" x=\"555.5\" y=\"-141.8\" font-family=\"Helvetica,sans-Serif\" font-size=\"14.00\">samples = 3</text>\n",
              "<text text-anchor=\"middle\" x=\"555.5\" y=\"-126.8\" font-family=\"Helvetica,sans-Serif\" font-size=\"14.00\">value = [0, 1, 2]</text>\n",
              "<text text-anchor=\"middle\" x=\"555.5\" y=\"-111.8\" font-family=\"Helvetica,sans-Serif\" font-size=\"14.00\">class = virginica</text>\n",
              "</g>\n",
              "<!-- 12&#45;&gt;13 -->\n",
              "<g id=\"edge13\" class=\"edge\">\n",
              "<title>12&#45;&gt;13</title>\n",
              "<path fill=\"none\" stroke=\"black\" d=\"M555.5,-222.91C555.5,-214.65 555.5,-205.86 555.5,-197.3\"/>\n",
              "<polygon fill=\"black\" stroke=\"black\" points=\"559,-197.02 555.5,-187.02 552,-197.02 559,-197.02\"/>\n",
              "</g>\n",
              "<!-- 16 -->\n",
              "<g id=\"node17\" class=\"node\">\n",
              "<title>16</title>\n",
              "<polygon fill=\"#8139e5\" stroke=\"black\" points=\"776,-179.5 659,-179.5 659,-111.5 776,-111.5 776,-179.5\"/>\n",
              "<text text-anchor=\"middle\" x=\"717.5\" y=\"-164.3\" font-family=\"Helvetica,sans-Serif\" font-size=\"14.00\">gini = 0.0</text>\n",
              "<text text-anchor=\"middle\" x=\"717.5\" y=\"-149.3\" font-family=\"Helvetica,sans-Serif\" font-size=\"14.00\">samples = 34</text>\n",
              "<text text-anchor=\"middle\" x=\"717.5\" y=\"-134.3\" font-family=\"Helvetica,sans-Serif\" font-size=\"14.00\">value = [0, 0, 34]</text>\n",
              "<text text-anchor=\"middle\" x=\"717.5\" y=\"-119.3\" font-family=\"Helvetica,sans-Serif\" font-size=\"14.00\">class = virginica</text>\n",
              "</g>\n",
              "<!-- 12&#45;&gt;16 -->\n",
              "<g id=\"edge16\" class=\"edge\">\n",
              "<title>12&#45;&gt;16</title>\n",
              "<path fill=\"none\" stroke=\"black\" d=\"M611.71,-222.91C628.36,-210.88 646.56,-197.73 663.1,-185.79\"/>\n",
              "<polygon fill=\"black\" stroke=\"black\" points=\"665.52,-188.36 671.58,-179.67 661.42,-182.68 665.52,-188.36\"/>\n",
              "</g>\n",
              "<!-- 14 -->\n",
              "<g id=\"node15\" class=\"node\">\n",
              "<title>14</title>\n",
              "<polygon fill=\"#39e581\" stroke=\"black\" points=\"602,-68 481,-68 481,0 602,0 602,-68\"/>\n",
              "<text text-anchor=\"middle\" x=\"541.5\" y=\"-52.8\" font-family=\"Helvetica,sans-Serif\" font-size=\"14.00\">gini = 0.0</text>\n",
              "<text text-anchor=\"middle\" x=\"541.5\" y=\"-37.8\" font-family=\"Helvetica,sans-Serif\" font-size=\"14.00\">samples = 1</text>\n",
              "<text text-anchor=\"middle\" x=\"541.5\" y=\"-22.8\" font-family=\"Helvetica,sans-Serif\" font-size=\"14.00\">value = [0, 1, 0]</text>\n",
              "<text text-anchor=\"middle\" x=\"541.5\" y=\"-7.8\" font-family=\"Helvetica,sans-Serif\" font-size=\"14.00\">class = versicolor</text>\n",
              "</g>\n",
              "<!-- 13&#45;&gt;14 -->\n",
              "<g id=\"edge14\" class=\"edge\">\n",
              "<title>13&#45;&gt;14</title>\n",
              "<path fill=\"none\" stroke=\"black\" d=\"M550.29,-103.73C549.23,-95.43 548.11,-86.67 547.03,-78.28\"/>\n",
              "<polygon fill=\"black\" stroke=\"black\" points=\"550.5,-77.77 545.76,-68.3 543.55,-78.66 550.5,-77.77\"/>\n",
              "</g>\n",
              "<!-- 15 -->\n",
              "<g id=\"node16\" class=\"node\">\n",
              "<title>15</title>\n",
              "<polygon fill=\"#8139e5\" stroke=\"black\" points=\"733,-68 620,-68 620,0 733,0 733,-68\"/>\n",
              "<text text-anchor=\"middle\" x=\"676.5\" y=\"-52.8\" font-family=\"Helvetica,sans-Serif\" font-size=\"14.00\">gini = 0.0</text>\n",
              "<text text-anchor=\"middle\" x=\"676.5\" y=\"-37.8\" font-family=\"Helvetica,sans-Serif\" font-size=\"14.00\">samples = 2</text>\n",
              "<text text-anchor=\"middle\" x=\"676.5\" y=\"-22.8\" font-family=\"Helvetica,sans-Serif\" font-size=\"14.00\">value = [0, 0, 2]</text>\n",
              "<text text-anchor=\"middle\" x=\"676.5\" y=\"-7.8\" font-family=\"Helvetica,sans-Serif\" font-size=\"14.00\">class = virginica</text>\n",
              "</g>\n",
              "<!-- 13&#45;&gt;15 -->\n",
              "<g id=\"edge15\" class=\"edge\">\n",
              "<title>13&#45;&gt;15</title>\n",
              "<path fill=\"none\" stroke=\"black\" d=\"M600.56,-103.73C610.84,-94.42 621.75,-84.54 632.01,-75.26\"/>\n",
              "<polygon fill=\"black\" stroke=\"black\" points=\"634.64,-77.6 639.7,-68.3 629.94,-72.41 634.64,-77.6\"/>\n",
              "</g>\n",
              "</g>\n",
              "</svg>\n"
            ],
            "text/plain": [
              "<graphviz.sources.Source at 0x1529f2090>"
            ]
          },
          "execution_count": 3,
          "metadata": {},
          "output_type": "execute_result"
        }
      ],
      "source": [
        "import graphviz\n",
        "\n",
        "# 위에서 생성된 tree.dot 파일을 Graphviz 읽어서 Jupyter Notebook상에서 시각화\n",
        "with open(\"tree.dot\") as f:\n",
        "    dot_graph = f.read()\n",
        "graphviz.Source(dot_graph)\n",
        "\n",
        "\n",
        "#petal length (cm) <= 2.45: 규칙 조건 - 없으면 리프 노드\n",
        "# gini = 0.667: value = [41, 40, 39] 로 주어진 데이터 분포에서의 지니 계수\n",
        "# samples: 현 규칙에 해당하는 데이터 건수\n",
        "# value=[]: 클래스 값 기반의 데이터 건수\n",
        "# 노드 색깔: 붓꽃 데이터의 레이블 값 , 색깔이 짙을수록 지니계수가 낮고 해당 레이블에 속하는 샘플 데이터가 많다는 뜻\n"
      ]
    },
    {
      "cell_type": "markdown",
      "metadata": {
        "id": "QSzLUZq6BTBW"
      },
      "source": [
        "1. max_Depth 하이퍼 파라미터\n",
        "2. min_samples_Split 하이퍼 파라미터 : 예) min_samples_spilt= 4 이면 샘플 데이터가 3개 남아있으면 split 안함\n",
        "3. min_Samples_leaf: 왼쪽, 오른쪽 자식 노드 중 하나라도 4 이상이면 분할 멈춰 (min_samples_leaf=4)"
      ]
    },
    {
      "cell_type": "markdown",
      "metadata": {
        "id": "CsLKAMRYBTBX"
      },
      "source": [
        "- feature_importances: 피처가 분할 시 정보 이득이나 지니 계수를 얼마나 효율적으로 잘 개선시켰는지 정규화된 값으로 표현한 것\n",
        "- 값이 높을수록 피처의 중요도 높아"
      ]
    },
    {
      "cell_type": "code",
      "execution_count": null,
      "metadata": {
        "id": "vK2p8ej5BTBX",
        "outputId": "82b54ca8-e25b-465e-8fe9-50ea2cc07d65"
      },
      "outputs": [
        {
          "name": "stdout",
          "output_type": "stream",
          "text": [
            "Feature importances:\n",
            "[0.025 0.    0.555 0.42 ]\n",
            "sepal length (cm) : 0.025\n",
            "sepal width (cm) : 0.000\n",
            "petal length (cm) : 0.555\n",
            "petal width (cm) : 0.420\n"
          ]
        },
        {
          "data": {
            "text/plain": [
              "<Axes: >"
            ]
          },
          "execution_count": 6,
          "metadata": {},
          "output_type": "execute_result"
        },
        {
          "data": {
            "image/png": "[encoded data removed]",
            "text/plain": [
              "<Figure size 640x480 with 1 Axes>"
            ]
          },
          "metadata": {},
          "output_type": "display_data"
        }
      ],
      "source": [
        "import seaborn as sns\n",
        "import numpy as np\n",
        "%matplotlib inline\n",
        "\n",
        "# feature importance 추출\n",
        "print(\"Feature importances:\\n{0}\".format(np.round(dt_clf.feature_importances_, 3)))\n",
        "\n",
        "# feature별 importance 매핑\n",
        "for name, value in zip(iris_data.feature_names , dt_clf.feature_importances_):\n",
        "    print('{0} : {1:.3f}'.format(name, value))\n",
        "\n",
        "# feature importance를 column 별로 시각화 하기\n",
        "sns.barplot(x=dt_clf.feature_importances_ , y=iris_data.feature_names)\n",
        "\n",
        "#petal length 중요도 가장 높음\n"
      ]
    },
    {
      "cell_type": "markdown",
      "metadata": {
        "id": "X4ADKmnxBTBX"
      },
      "source": [
        "### 결정 트리(Decision TREE) 과적합(Overfitting)"
      ]
    },
    {
      "cell_type": "code",
      "execution_count": null,
      "metadata": {
        "id": "LyV98SKvBTBX",
        "outputId": "1221ec62-bbd5-42c1-f086-77d46803e8e7"
      },
      "outputs": [
        {
          "data": {
            "text/plain": [
              "<matplotlib.collections.PathCollection at 0x15c5cb3d0>"
            ]
          },
          "execution_count": 1,
          "metadata": {},
          "output_type": "execute_result"
        },
        {
          "data": {
            "image/png": "[encoded data removed]",
            "text/plain": [
              "<Figure size 640x480 with 1 Axes>"
            ]
          },
          "metadata": {},
          "output_type": "display_data"
        }
      ],
      "source": [
        "from sklearn.datasets import make_classification\n",
        "import matplotlib.pyplot as plt\n",
        "%matplotlib inline\n",
        "\n",
        "plt.title(\"3 Class values with 2 Features Sample data creation\")\n",
        "\n",
        "# 2차원 시각화를 위해서 feature는 2개, 결정값 클래스는 3가지 유형의 classification 샘플 데이터 생성.\n",
        "X_features, y_labels = make_classification(n_features=2, n_redundant=0, n_informative=2,\n",
        "                             n_classes=3, n_clusters_per_class=1,random_state=0)\n",
        "\n",
        "# plot 형태로 2개의 feature로 2차원 좌표 시각화, 각 클래스값은 다른 색깔로 표시됨.\n",
        "plt.scatter(X_features[:, 0], X_features[:, 1], marker='o', c=y_labels, s=25, cmap='rainbow', edgecolor='k')"
      ]
    },
    {
      "cell_type": "code",
      "execution_count": null,
      "metadata": {
        "id": "PbP1V4wfBTBY"
      },
      "outputs": [],
      "source": [
        "import numpy as np\n",
        "\n",
        "# Classifier의 Decision Boundary를 시각화 하는 함수\n",
        "def visualize_boundary(model, X, y):\n",
        "    fig,ax = plt.subplots()\n",
        "\n",
        "    # 학습 데이타 scatter plot으로 나타내기\n",
        "    ax.scatter(X[:, 0], X[:, 1], c=y, s=25, cmap='rainbow', edgecolor='k',\n",
        "               clim=(y.min(), y.max()), zorder=3)\n",
        "    ax.axis('tight')\n",
        "    ax.axis('off')\n",
        "    xlim_start , xlim_end = ax.get_xlim()\n",
        "    ylim_start , ylim_end = ax.get_ylim()\n",
        "\n",
        "    # 호출 파라미터로 들어온 training 데이타로 model 학습 .\n",
        "    model.fit(X, y)\n",
        "    # meshgrid 형태인 모든 좌표값으로 예측 수행.\n",
        "    xx, yy = np.meshgrid(np.linspace(xlim_start,xlim_end, num=200),np.linspace(ylim_start,ylim_end, num=200))\n",
        "    Z = model.predict(np.c_[xx.ravel(), yy.ravel()]).reshape(xx.shape)\n",
        "\n",
        "    # contourf() 를 이용하여 class boundary 를 visualization 수행.\n",
        "    n_classes = len(np.unique(y))\n",
        "    contours = ax.contourf(xx, yy, Z, alpha=0.3,\n",
        "                           levels=np.arange(n_classes + 1) - 0.5,\n",
        "                           cmap='rainbow', clim=(y.min(), y.max()),\n",
        "                           zorder=1)"
      ]
    },
    {
      "cell_type": "code",
      "execution_count": null,
      "metadata": {
        "id": "dIxegi6VBTBY",
        "outputId": "acd2a298-af2d-4f34-a19e-63fa84447489"
      },
      "outputs": [
        {
          "name": "stderr",
          "output_type": "stream",
          "text": [
            "/var/folders/tg/ntvm9wc94h937xqtzftck9xc0000gn/T/ipykernel_1287/1016789203.py:23: UserWarning: The following kwargs were not used by contour: 'clim'\n",
            "  contours = ax.contourf(xx, yy, Z, alpha=0.3,\n"
          ]
        },
        {
          "data": {
            "image/png": "[encoded data removed]",
            "text/plain": [
              "<Figure size 640x480 with 1 Axes>"
            ]
          },
          "metadata": {},
          "output_type": "display_data"
        }
      ],
      "source": [
        "from sklearn.tree import DecisionTreeClassifier\n",
        "\n",
        "# 특정한 트리 생성 제약없는 결정 트리의 Decsion Boundary 시각화.\n",
        "dt_clf = DecisionTreeClassifier(random_state=156).fit(X_features, y_labels)\n",
        "visualize_boundary(dt_clf, X_features, y_labels)\n",
        "\n",
        "#복잡한 모델은 학습 데이터와 약간만 다른 형태의 데이터 세트를 예측하면 예측 정확도 떨어져\n"
      ]
    },
    {
      "cell_type": "code",
      "execution_count": null,
      "metadata": {
        "scrolled": true,
        "id": "75bot6UeBTBY",
        "outputId": "464bf0f2-8a57-4c6c-bc5d-700456fcd373"
      },
      "outputs": [
        {
          "name": "stderr",
          "output_type": "stream",
          "text": [
            "/var/folders/tg/ntvm9wc94h937xqtzftck9xc0000gn/T/ipykernel_1287/1016789203.py:23: UserWarning: The following kwargs were not used by contour: 'clim'\n",
            "  contours = ax.contourf(xx, yy, Z, alpha=0.3,\n"
          ]
        },
        {
          "data": {
            "image/png": "[encoded data removed]",
            "text/plain": [
              "<Figure size 640x480 with 1 Axes>"
            ]
          },
          "metadata": {},
          "output_type": "display_data"
        }
      ],
      "source": [
        "# min_samples_leaf=6 으로 트리 생성 조건을 제약한 Decision Boundary 시각화\n",
        "dt_clf = DecisionTreeClassifier(min_samples_leaf=6, random_state=156).fit(X_features, y_labels)\n",
        "visualize_boundary(dt_clf, X_features, y_labels)\n",
        "#위보다 성능 나음"
      ]
    },
    {
      "cell_type": "markdown",
      "metadata": {
        "id": "X2BRzAnsBTBY"
      },
      "source": [
        "### 결정 트리 실습 - Human Activity Recognition"
      ]
    },
    {
      "cell_type": "code",
      "execution_count": null,
      "metadata": {
        "scrolled": true,
        "id": "mGKLJn3mBTBY",
        "outputId": "bcf1e990-7a1c-4161-a140-ca33f6abf9b9"
      },
      "outputs": [
        {
          "name": "stdout",
          "output_type": "stream",
          "text": [
            "전체 피처명에서 10개만 추출: ['tBodyAcc-mean()-X', 'tBodyAcc-mean()-Y', 'tBodyAcc-mean()-Z', 'tBodyAcc-std()-X', 'tBodyAcc-std()-Y', 'tBodyAcc-std()-Z', 'tBodyAcc-mad()-X', 'tBodyAcc-mad()-Y', 'tBodyAcc-mad()-Z', 'tBodyAcc-max()-X']\n"
          ]
        }
      ],
      "source": [
        "import pandas as pd\n",
        "import matplotlib.pyplot as plt\n",
        "%matplotlib inline\n",
        "\n",
        "# features.txt 파일에는 피처 이름 index와 피처명이 공백으로 분리되어 있음. 이를 DataFrame으로 로드.\n",
        "feature_name_df = pd.read_csv('/Users/nayeong-eun/Downloads/human+activity+recognition+using+smartphones/human_activity/features.txt',sep='\\s+',\n",
        "                        header=None,names=['column_index','column_name'])\n",
        "\n",
        "# 피처명 index를 제거하고, 피처명만 리스트 객체로 생성한 뒤 샘플로 10개만 추출\n",
        "feature_name = feature_name_df.iloc[:, 1].values.tolist()\n",
        "print('전체 피처명에서 10개만 추출:', feature_name[:10])\n"
      ]
    },
    {
      "cell_type": "markdown",
      "metadata": {
        "id": "2QLWPXOTBTBY"
      },
      "source": [
        "**중복된 피처명을 확인**"
      ]
    },
    {
      "cell_type": "code",
      "execution_count": null,
      "metadata": {
        "id": "w4MkYROEBTBY",
        "outputId": "0ed96c9c-b2fd-49b9-c3f2-2e7e7b70e32a"
      },
      "outputs": [
        {
          "name": "stdout",
          "output_type": "stream",
          "text": [
            "column_index    42\n",
            "dtype: int64\n"
          ]
        },
        {
          "data": {
            "text/html": [
              "<div>\n",
              "<style scoped>\n",
              "    .dataframe tbody tr th:only-of-type {\n",
              "        vertical-align: middle;\n",
              "    }\n",
              "\n",
              "    .dataframe tbody tr th {\n",
              "        vertical-align: top;\n",
              "    }\n",
              "\n",
              "    .dataframe thead th {\n",
              "        text-align: right;\n",
              "    }\n",
              "</style>\n",
              "<table border=\"1\" class=\"dataframe\">\n",
              "  <thead>\n",
              "    <tr style=\"text-align: right;\">\n",
              "      <th></th>\n",
              "      <th>column_index</th>\n",
              "    </tr>\n",
              "    <tr>\n",
              "      <th>column_name</th>\n",
              "      <th></th>\n",
              "    </tr>\n",
              "  </thead>\n",
              "  <tbody>\n",
              "    <tr>\n",
              "      <th>fBodyAcc-bandsEnergy()-1,16</th>\n",
              "      <td>3</td>\n",
              "    </tr>\n",
              "    <tr>\n",
              "      <th>fBodyAcc-bandsEnergy()-1,24</th>\n",
              "      <td>3</td>\n",
              "    </tr>\n",
              "    <tr>\n",
              "      <th>fBodyAcc-bandsEnergy()-1,8</th>\n",
              "      <td>3</td>\n",
              "    </tr>\n",
              "    <tr>\n",
              "      <th>fBodyAcc-bandsEnergy()-17,24</th>\n",
              "      <td>3</td>\n",
              "    </tr>\n",
              "    <tr>\n",
              "      <th>fBodyAcc-bandsEnergy()-17,32</th>\n",
              "      <td>3</td>\n",
              "    </tr>\n",
              "  </tbody>\n",
              "</table>\n",
              "</div>"
            ],
            "text/plain": [
              "                              column_index\n",
              "column_name                               \n",
              "fBodyAcc-bandsEnergy()-1,16              3\n",
              "fBodyAcc-bandsEnergy()-1,24              3\n",
              "fBodyAcc-bandsEnergy()-1,8               3\n",
              "fBodyAcc-bandsEnergy()-17,24             3\n",
              "fBodyAcc-bandsEnergy()-17,32             3"
            ]
          },
          "execution_count": 3,
          "metadata": {},
          "output_type": "execute_result"
        }
      ],
      "source": [
        "feature_dup_df = feature_name_df.groupby('column_name').count()\n",
        "print(feature_dup_df[feature_dup_df['column_index'] > 1].count())\n",
        "feature_dup_df[feature_dup_df['column_index'] > 1].head()"
      ]
    },
    {
      "cell_type": "markdown",
      "metadata": {
        "id": "YOmdI-g3BTBZ"
      },
      "source": [
        "**원본 데이터에 중복된 Feature 명으로 인하여 신규 버전의 Pandas에서 Duplicate name 에러를 발생.**  \n",
        "**중복 feature명에 대해서 원본 feature 명에 '_1(또는2)'를 추가로 부여하는 함수인 get_new_feature_name_df() 생성**"
      ]
    },
    {
      "cell_type": "code",
      "execution_count": null,
      "metadata": {
        "id": "9it8FTiTBTBZ"
      },
      "outputs": [],
      "source": [
        "def get_new_feature_name_df(old_feature_name_df):\n",
        "    feature_dup_df = pd.DataFrame(data=old_feature_name_df.groupby('column_name').cumcount(),\n",
        "                                  columns=['dup_cnt'])\n",
        "    feature_dup_df = feature_dup_df.reset_index()\n",
        "    new_feature_name_df = pd.merge(old_feature_name_df.reset_index(), feature_dup_df, how='outer')\n",
        "    new_feature_name_df['column_name'] = new_feature_name_df[['column_name', 'dup_cnt']].apply(lambda x : x[0]+'_'+str(x[1])\n",
        "                                                                                         if x[1] >0 else x[0] ,  axis=1)\n",
        "    new_feature_name_df = new_feature_name_df.drop(['index'], axis=1)\n",
        "    return new_feature_name_df"
      ]
    },
    {
      "cell_type": "code",
      "execution_count": null,
      "metadata": {
        "id": "7dBbdwF2BTBZ"
      },
      "outputs": [],
      "source": [
        "import pandas as pd\n",
        "\n",
        "def get_human_dataset( ):\n",
        "\n",
        "    # 각 데이터 파일들은 공백으로 분리되어 있으므로 read_csv에서 공백 문자를 sep으로 할당.\n",
        "    feature_name_df = pd.read_csv('/Users/nayeong-eun/Downloads/human+activity+recognition+using+smartphones/human_activity/features.txt',sep='\\s+',\n",
        "                        header=None,names=['column_index','column_name'])\n",
        "\n",
        "    # 중복된 피처명을 수정하는 get_new_feature_name_df()를 이용, 신규 피처명 DataFrame생성.\n",
        "    new_feature_name_df = get_new_feature_name_df(feature_name_df)\n",
        "\n",
        "    # DataFrame에 피처명을 컬럼으로 부여하기 위해 리스트 객체로 다시 변환\n",
        "    feature_name = new_feature_name_df.iloc[:, 1].values.tolist()\n",
        "\n",
        "    # 학습 피처 데이터 셋과 테스트 피처 데이터을 DataFrame으로 로딩. 컬럼명은 feature_name 적용\n",
        "    X_train = pd.read_csv('/Users/nayeong-eun/Downloads/human+activity+recognition+using+smartphones/human_activity/train/X_train.txt',sep='\\s+', names=feature_name )\n",
        "    X_test = pd.read_csv('/Users/nayeong-eun/Downloads/human+activity+recognition+using+smartphones/human_activity/test/X_test.txt',sep='\\s+', names=feature_name)\n",
        "\n",
        "    # 학습 레이블과 테스트 레이블 데이터을 DataFrame으로 로딩하고 컬럼명은 action으로 부여\n",
        "    y_train = pd.read_csv('/Users/nayeong-eun/Downloads/human+activity+recognition+using+smartphones/human_activity/train/y_train.txt',sep='\\s+',header=None,names=['action'])\n",
        "    y_test = pd.read_csv('/Users/nayeong-eun/Downloads/human+activity+recognition+using+smartphones/human_activity/test/y_test.txt',sep='\\s+',header=None,names=['action'])\n",
        "\n",
        "    # 로드된 학습/테스트용 DataFrame을 모두 반환\n",
        "    return X_train, X_test, y_train, y_test\n",
        "\n",
        "\n",
        "X_train, X_test, y_train, y_test = get_human_dataset()"
      ]
    },
    {
      "cell_type": "code",
      "execution_count": null,
      "metadata": {
        "id": "ylaY1X34BTBZ",
        "outputId": "cbe82d37-471b-4f2f-dd0e-ceb6e97f6ff3"
      },
      "outputs": [
        {
          "name": "stdout",
          "output_type": "stream",
          "text": [
            "## 학습 피처 데이터셋 info()\n",
            "<class 'pandas.core.frame.DataFrame'>\n",
            "RangeIndex: 7352 entries, 0 to 7351\n",
            "Columns: 561 entries, tBodyAcc-mean()-X to angle(Z,gravityMean)\n",
            "dtypes: float64(561)\n",
            "memory usage: 31.5 MB\n",
            "None\n"
          ]
        }
      ],
      "source": [
        "print('## 학습 피처 데이터셋 info()')\n",
        "print(X_train.info()) # 7352개 레코드로 561 개의 피처"
      ]
    },
    {
      "cell_type": "code",
      "execution_count": null,
      "metadata": {
        "id": "bx2umiNcBTBZ",
        "outputId": "2eb9eb06-5a91-48b6-95d8-ffeb943959f1"
      },
      "outputs": [
        {
          "data": {
            "text/html": [
              "<div>\n",
              "<style scoped>\n",
              "    .dataframe tbody tr th:only-of-type {\n",
              "        vertical-align: middle;\n",
              "    }\n",
              "\n",
              "    .dataframe tbody tr th {\n",
              "        vertical-align: top;\n",
              "    }\n",
              "\n",
              "    .dataframe thead th {\n",
              "        text-align: right;\n",
              "    }\n",
              "</style>\n",
              "<table border=\"1\" class=\"dataframe\">\n",
              "  <thead>\n",
              "    <tr style=\"text-align: right;\">\n",
              "      <th></th>\n",
              "      <th>tBodyAcc-mean()-X</th>\n",
              "      <th>tBodyAcc-mean()-Y</th>\n",
              "      <th>tBodyAcc-mean()-Z</th>\n",
              "      <th>tBodyAcc-std()-X</th>\n",
              "      <th>tBodyAcc-std()-Y</th>\n",
              "      <th>tBodyAcc-std()-Z</th>\n",
              "      <th>tBodyAcc-mad()-X</th>\n",
              "      <th>tBodyAcc-mad()-Y</th>\n",
              "      <th>tBodyAcc-mad()-Z</th>\n",
              "      <th>tBodyAcc-max()-X</th>\n",
              "      <th>...</th>\n",
              "      <th>fBodyBodyGyroJerkMag-meanFreq()</th>\n",
              "      <th>fBodyBodyGyroJerkMag-skewness()</th>\n",
              "      <th>fBodyBodyGyroJerkMag-kurtosis()</th>\n",
              "      <th>angle(tBodyAccMean,gravity)</th>\n",
              "      <th>angle(tBodyAccJerkMean),gravityMean)</th>\n",
              "      <th>angle(tBodyGyroMean,gravityMean)</th>\n",
              "      <th>angle(tBodyGyroJerkMean,gravityMean)</th>\n",
              "      <th>angle(X,gravityMean)</th>\n",
              "      <th>angle(Y,gravityMean)</th>\n",
              "      <th>angle(Z,gravityMean)</th>\n",
              "    </tr>\n",
              "  </thead>\n",
              "  <tbody>\n",
              "    <tr>\n",
              "      <th>0</th>\n",
              "      <td>0.288585</td>\n",
              "      <td>-0.020294</td>\n",
              "      <td>-0.132905</td>\n",
              "      <td>-0.995279</td>\n",
              "      <td>-0.983111</td>\n",
              "      <td>-0.913526</td>\n",
              "      <td>-0.995112</td>\n",
              "      <td>-0.983185</td>\n",
              "      <td>-0.923527</td>\n",
              "      <td>-0.934724</td>\n",
              "      <td>...</td>\n",
              "      <td>-0.074323</td>\n",
              "      <td>-0.298676</td>\n",
              "      <td>-0.710304</td>\n",
              "      <td>-0.112754</td>\n",
              "      <td>0.030400</td>\n",
              "      <td>-0.464761</td>\n",
              "      <td>-0.018446</td>\n",
              "      <td>-0.841247</td>\n",
              "      <td>0.179941</td>\n",
              "      <td>-0.058627</td>\n",
              "    </tr>\n",
              "    <tr>\n",
              "      <th>1</th>\n",
              "      <td>0.278419</td>\n",
              "      <td>-0.016411</td>\n",
              "      <td>-0.123520</td>\n",
              "      <td>-0.998245</td>\n",
              "      <td>-0.975300</td>\n",
              "      <td>-0.960322</td>\n",
              "      <td>-0.998807</td>\n",
              "      <td>-0.974914</td>\n",
              "      <td>-0.957686</td>\n",
              "      <td>-0.943068</td>\n",
              "      <td>...</td>\n",
              "      <td>0.158075</td>\n",
              "      <td>-0.595051</td>\n",
              "      <td>-0.861499</td>\n",
              "      <td>0.053477</td>\n",
              "      <td>-0.007435</td>\n",
              "      <td>-0.732626</td>\n",
              "      <td>0.703511</td>\n",
              "      <td>-0.844788</td>\n",
              "      <td>0.180289</td>\n",
              "      <td>-0.054317</td>\n",
              "    </tr>\n",
              "    <tr>\n",
              "      <th>2</th>\n",
              "      <td>0.279653</td>\n",
              "      <td>-0.019467</td>\n",
              "      <td>-0.113462</td>\n",
              "      <td>-0.995380</td>\n",
              "      <td>-0.967187</td>\n",
              "      <td>-0.978944</td>\n",
              "      <td>-0.996520</td>\n",
              "      <td>-0.963668</td>\n",
              "      <td>-0.977469</td>\n",
              "      <td>-0.938692</td>\n",
              "      <td>...</td>\n",
              "      <td>0.414503</td>\n",
              "      <td>-0.390748</td>\n",
              "      <td>-0.760104</td>\n",
              "      <td>-0.118559</td>\n",
              "      <td>0.177899</td>\n",
              "      <td>0.100699</td>\n",
              "      <td>0.808529</td>\n",
              "      <td>-0.848933</td>\n",
              "      <td>0.180637</td>\n",
              "      <td>-0.049118</td>\n",
              "    </tr>\n",
              "    <tr>\n",
              "      <th>3</th>\n",
              "      <td>0.279174</td>\n",
              "      <td>-0.026201</td>\n",
              "      <td>-0.123283</td>\n",
              "      <td>-0.996091</td>\n",
              "      <td>-0.983403</td>\n",
              "      <td>-0.990675</td>\n",
              "      <td>-0.997099</td>\n",
              "      <td>-0.982750</td>\n",
              "      <td>-0.989302</td>\n",
              "      <td>-0.938692</td>\n",
              "      <td>...</td>\n",
              "      <td>0.404573</td>\n",
              "      <td>-0.117290</td>\n",
              "      <td>-0.482845</td>\n",
              "      <td>-0.036788</td>\n",
              "      <td>-0.012892</td>\n",
              "      <td>0.640011</td>\n",
              "      <td>-0.485366</td>\n",
              "      <td>-0.848649</td>\n",
              "      <td>0.181935</td>\n",
              "      <td>-0.047663</td>\n",
              "    </tr>\n",
              "    <tr>\n",
              "      <th>4</th>\n",
              "      <td>0.276629</td>\n",
              "      <td>-0.016570</td>\n",
              "      <td>-0.115362</td>\n",
              "      <td>-0.998139</td>\n",
              "      <td>-0.980817</td>\n",
              "      <td>-0.990482</td>\n",
              "      <td>-0.998321</td>\n",
              "      <td>-0.979672</td>\n",
              "      <td>-0.990441</td>\n",
              "      <td>-0.942469</td>\n",
              "      <td>...</td>\n",
              "      <td>0.087753</td>\n",
              "      <td>-0.351471</td>\n",
              "      <td>-0.699205</td>\n",
              "      <td>0.123320</td>\n",
              "      <td>0.122542</td>\n",
              "      <td>0.693578</td>\n",
              "      <td>-0.615971</td>\n",
              "      <td>-0.847865</td>\n",
              "      <td>0.185151</td>\n",
              "      <td>-0.043892</td>\n",
              "    </tr>\n",
              "  </tbody>\n",
              "</table>\n",
              "<p>5 rows × 561 columns</p>\n",
              "</div>"
            ],
            "text/plain": [
              "   tBodyAcc-mean()-X  tBodyAcc-mean()-Y  tBodyAcc-mean()-Z  tBodyAcc-std()-X  \\\n",
              "0           0.288585          -0.020294          -0.132905         -0.995279   \n",
              "1           0.278419          -0.016411          -0.123520         -0.998245   \n",
              "2           0.279653          -0.019467          -0.113462         -0.995380   \n",
              "3           0.279174          -0.026201          -0.123283         -0.996091   \n",
              "4           0.276629          -0.016570          -0.115362         -0.998139   \n",
              "\n",
              "   tBodyAcc-std()-Y  tBodyAcc-std()-Z  tBodyAcc-mad()-X  tBodyAcc-mad()-Y  \\\n",
              "0         -0.983111         -0.913526         -0.995112         -0.983185   \n",
              "1         -0.975300         -0.960322         -0.998807         -0.974914   \n",
              "2         -0.967187         -0.978944         -0.996520         -0.963668   \n",
              "3         -0.983403         -0.990675         -0.997099         -0.982750   \n",
              "4         -0.980817         -0.990482         -0.998321         -0.979672   \n",
              "\n",
              "   tBodyAcc-mad()-Z  tBodyAcc-max()-X  ...  fBodyBodyGyroJerkMag-meanFreq()  \\\n",
              "0         -0.923527         -0.934724  ...                        -0.074323   \n",
              "1         -0.957686         -0.943068  ...                         0.158075   \n",
              "2         -0.977469         -0.938692  ...                         0.414503   \n",
              "3         -0.989302         -0.938692  ...                         0.404573   \n",
              "4         -0.990441         -0.942469  ...                         0.087753   \n",
              "\n",
              "   fBodyBodyGyroJerkMag-skewness()  fBodyBodyGyroJerkMag-kurtosis()  \\\n",
              "0                        -0.298676                        -0.710304   \n",
              "1                        -0.595051                        -0.861499   \n",
              "2                        -0.390748                        -0.760104   \n",
              "3                        -0.117290                        -0.482845   \n",
              "4                        -0.351471                        -0.699205   \n",
              "\n",
              "   angle(tBodyAccMean,gravity)  angle(tBodyAccJerkMean),gravityMean)  \\\n",
              "0                    -0.112754                              0.030400   \n",
              "1                     0.053477                             -0.007435   \n",
              "2                    -0.118559                              0.177899   \n",
              "3                    -0.036788                             -0.012892   \n",
              "4                     0.123320                              0.122542   \n",
              "\n",
              "   angle(tBodyGyroMean,gravityMean)  angle(tBodyGyroJerkMean,gravityMean)  \\\n",
              "0                         -0.464761                             -0.018446   \n",
              "1                         -0.732626                              0.703511   \n",
              "2                          0.100699                              0.808529   \n",
              "3                          0.640011                             -0.485366   \n",
              "4                          0.693578                             -0.615971   \n",
              "\n",
              "   angle(X,gravityMean)  angle(Y,gravityMean)  angle(Z,gravityMean)  \n",
              "0             -0.841247              0.179941             -0.058627  \n",
              "1             -0.844788              0.180289             -0.054317  \n",
              "2             -0.848933              0.180637             -0.049118  \n",
              "3             -0.848649              0.181935             -0.047663  \n",
              "4             -0.847865              0.185151             -0.043892  \n",
              "\n",
              "[5 rows x 561 columns]"
            ]
          },
          "execution_count": 7,
          "metadata": {},
          "output_type": "execute_result"
        }
      ],
      "source": [
        "X_train.head()"
      ]
    },
    {
      "cell_type": "code",
      "execution_count": null,
      "metadata": {
        "scrolled": true,
        "id": "O_kCqvjmBTBZ",
        "outputId": "2e7f3fae-a9a2-4b7a-cf60-4a810eef9d48"
      },
      "outputs": [
        {
          "name": "stdout",
          "output_type": "stream",
          "text": [
            "action\n",
            "6    1407\n",
            "5    1374\n",
            "4    1286\n",
            "1    1226\n",
            "2    1073\n",
            "3     986\n",
            "Name: count, dtype: int64\n"
          ]
        }
      ],
      "source": [
        "print(y_train['action'].value_counts())"
      ]
    },
    {
      "cell_type": "code",
      "execution_count": null,
      "metadata": {
        "id": "ss_5sVDcBTBZ",
        "outputId": "c5845cf7-699c-4cec-db80-97884f0b6db7"
      },
      "outputs": [
        {
          "name": "stdout",
          "output_type": "stream",
          "text": [
            "결정 트리 예측 정확도: 0.8548\n",
            "DecisionTreeClassifier 기본 하이퍼 파라미터:\n",
            " {'ccp_alpha': 0.0, 'class_weight': None, 'criterion': 'gini', 'max_depth': None, 'max_features': None, 'max_leaf_nodes': None, 'min_impurity_decrease': 0.0, 'min_samples_leaf': 1, 'min_samples_split': 2, 'min_weight_fraction_leaf': 0.0, 'random_state': 156, 'splitter': 'best'}\n"
          ]
        }
      ],
      "source": [
        "from sklearn.tree import DecisionTreeClassifier\n",
        "from sklearn.metrics import accuracy_score\n",
        "\n",
        "# 예제 반복 시 마다 동일한 예측 결과 도출을 위해 random_state 설정\n",
        "dt_clf = DecisionTreeClassifier(random_state=156)\n",
        "dt_clf.fit(X_train , y_train)\n",
        "pred = dt_clf.predict(X_test)\n",
        "accuracy = accuracy_score(y_test , pred)\n",
        "print('결정 트리 예측 정확도: {0:.4f}'.format(accuracy))\n",
        "\n",
        "# DecisionTreeClassifier의 하이퍼 파라미터 추출\n",
        "print('DecisionTreeClassifier 기본 하이퍼 파라미터:\\n', dt_clf.get_params())"
      ]
    },
    {
      "cell_type": "code",
      "execution_count": null,
      "metadata": {
        "id": "2H-ixNNxBTBZ",
        "outputId": "0d09f049-dbc9-4f11-f5b7-ae45c99fed75"
      },
      "outputs": [
        {
          "name": "stdout",
          "output_type": "stream",
          "text": [
            "Fitting 5 folds for each of 7 candidates, totalling 35 fits\n",
            "GridSearchCV 최고 평균 정확도 수치:0.8513\n",
            "GridSearchCV 최적 하이퍼 파라미터: {'max_depth': 16}\n"
          ]
        }
      ],
      "source": [
        "#max_Depth 바꾸면서 예측 확인\n",
        "from sklearn.model_selection import GridSearchCV\n",
        "\n",
        "params = {\n",
        "    'max_depth' : [ 6, 8 ,10, 12, 16 ,20, 24]\n",
        "}\n",
        "\n",
        "grid_cv = GridSearchCV(dt_clf, param_grid=params, scoring='accuracy', cv=5, verbose=1 )\n",
        "grid_cv.fit(X_train , y_train)\n",
        "print('GridSearchCV 최고 평균 정확도 수치:{0:.4f}'.format(grid_cv.best_score_))\n",
        "print('GridSearchCV 최적 하이퍼 파라미터:', grid_cv.best_params_)\n"
      ]
    },
    {
      "cell_type": "code",
      "execution_count": null,
      "metadata": {
        "id": "y88igXuGBTBa",
        "outputId": "7984cbff-50a2-4ca3-bf6f-f0120a3107c2"
      },
      "outputs": [
        {
          "data": {
            "text/html": [
              "<div>\n",
              "<style scoped>\n",
              "    .dataframe tbody tr th:only-of-type {\n",
              "        vertical-align: middle;\n",
              "    }\n",
              "\n",
              "    .dataframe tbody tr th {\n",
              "        vertical-align: top;\n",
              "    }\n",
              "\n",
              "    .dataframe thead th {\n",
              "        text-align: right;\n",
              "    }\n",
              "</style>\n",
              "<table border=\"1\" class=\"dataframe\">\n",
              "  <thead>\n",
              "    <tr style=\"text-align: right;\">\n",
              "      <th></th>\n",
              "      <th>param_max_depth</th>\n",
              "      <th>mean_test_score</th>\n",
              "    </tr>\n",
              "  </thead>\n",
              "  <tbody>\n",
              "    <tr>\n",
              "      <th>0</th>\n",
              "      <td>6</td>\n",
              "      <td>0.850791</td>\n",
              "    </tr>\n",
              "    <tr>\n",
              "      <th>1</th>\n",
              "      <td>8</td>\n",
              "      <td>0.851069</td>\n",
              "    </tr>\n",
              "    <tr>\n",
              "      <th>2</th>\n",
              "      <td>10</td>\n",
              "      <td>0.851209</td>\n",
              "    </tr>\n",
              "    <tr>\n",
              "      <th>3</th>\n",
              "      <td>12</td>\n",
              "      <td>0.844135</td>\n",
              "    </tr>\n",
              "    <tr>\n",
              "      <th>4</th>\n",
              "      <td>16</td>\n",
              "      <td>0.851344</td>\n",
              "    </tr>\n",
              "    <tr>\n",
              "      <th>5</th>\n",
              "      <td>20</td>\n",
              "      <td>0.850800</td>\n",
              "    </tr>\n",
              "    <tr>\n",
              "      <th>6</th>\n",
              "      <td>24</td>\n",
              "      <td>0.849440</td>\n",
              "    </tr>\n",
              "  </tbody>\n",
              "</table>\n",
              "</div>"
            ],
            "text/plain": [
              "  param_max_depth  mean_test_score\n",
              "0               6         0.850791\n",
              "1               8         0.851069\n",
              "2              10         0.851209\n",
              "3              12         0.844135\n",
              "4              16         0.851344\n",
              "5              20         0.850800\n",
              "6              24         0.849440"
            ]
          },
          "execution_count": 11,
          "metadata": {},
          "output_type": "execute_result"
        }
      ],
      "source": [
        "# GridSearchCV객체의 cv_results_ 속성을 DataFrame으로 생성.\n",
        "cv_results_df = pd.DataFrame(grid_cv.cv_results_)\n",
        "\n",
        "# max_depth 파라미터 값과 그때의 테스트(Evaluation)셋, 학습 데이터 셋의 정확도 수치 추출\n",
        "cv_results_df[['param_max_depth', 'mean_test_score']]\n",
        "# 정점 0.854... max_depth = 8\n",
        "#깊어진 트리는 과적합으로 오히려 성능 저하"
      ]
    },
    {
      "cell_type": "code",
      "execution_count": null,
      "metadata": {
        "id": "MRvA4a_5BTBa",
        "outputId": "9c5e0200-dcf0-453f-b4fe-28455efe91ed"
      },
      "outputs": [
        {
          "name": "stdout",
          "output_type": "stream",
          "text": [
            "max_depth = 6 정확도: 0.8551\n",
            "max_depth = 8 정확도: 0.8717\n",
            "max_depth = 10 정확도: 0.8599\n",
            "max_depth = 12 정확도: 0.8571\n",
            "max_depth = 16 정확도: 0.8599\n",
            "max_depth = 20 정확도: 0.8565\n",
            "max_depth = 24 정확도: 0.8565\n"
          ]
        }
      ],
      "source": [
        "# min_samples_split=16으로 고정\n",
        "max_depths = [ 6, 8 ,10, 12, 16 ,20, 24]\n",
        "# max_depth 값을 변화 시키면서 그때마다 학습과 테스트 셋에서의 예측 성능 측정\n",
        "for depth in max_depths:\n",
        "    dt_clf = DecisionTreeClassifier(max_depth=depth, min_samples_split=16, random_state=156)\n",
        "    dt_clf.fit(X_train , y_train)\n",
        "    pred = dt_clf.predict(X_test)\n",
        "    accuracy = accuracy_score(y_test , pred)\n",
        "    print('max_depth = {0} 정확도: {1:.4f}'.format(depth , accuracy))\n",
        "# max_depth =  8 정확도: 0.8717 일때 정점찍고 내려가 - 과적합"
      ]
    },
    {
      "cell_type": "code",
      "execution_count": null,
      "metadata": {
        "id": "bLapNqlKBTBa",
        "outputId": "9537a5fe-edda-4525-f65e-2539bf6d878d"
      },
      "outputs": [
        {
          "name": "stdout",
          "output_type": "stream",
          "text": [
            "Fitting 5 folds for each of 8 candidates, totalling 40 fits\n",
            "GridSearchCV 최고 평균 정확도 수치: 0.8549\n",
            "GridSearchCV 최적 하이퍼 파라미터: {'max_depth': 8, 'min_samples_split': 16}\n"
          ]
        }
      ],
      "source": [
        "params = {\n",
        "    'max_depth' : [ 8 , 12, 16 ,20],\n",
        "    'min_samples_split' : [16, 24],\n",
        "}\n",
        "\n",
        "grid_cv = GridSearchCV(dt_clf, param_grid=params, scoring='accuracy', cv=5, verbose=1 )\n",
        "grid_cv.fit(X_train , y_train)\n",
        "print('GridSearchCV 최고 평균 정확도 수치: {0:.4f}'.format(grid_cv.best_score_))\n",
        "print('GridSearchCV 최적 하이퍼 파라미터:', grid_cv.best_params_)\n",
        "# max_depth= 8, 'min_samples_split= 16일 때 최고 정확도"
      ]
    },
    {
      "cell_type": "code",
      "execution_count": null,
      "metadata": {
        "id": "8P9Ak_CRBTBa"
      },
      "outputs": [],
      "source": [
        "best_df_clf = grid_cv.best_estimator_\n",
        "pred1 = best_df_clf.predict(X_test)\n",
        "accuracy = accuracy_score(y_test , pred1)\n",
        "print('결정 트리 예측 정확도:{0:.4f}'.format(accuracy))\n",
        "#위의 결과로 예측 수행"
      ]
    },
    {
      "cell_type": "code",
      "execution_count": null,
      "metadata": {
        "id": "-XSj0ua-BTBa"
      },
      "outputs": [],
      "source": [
        "import seaborn as sns\n",
        "\n",
        "ftr_importances_values = best_df_clf.feature_importances_\n",
        "# Top 중요도로 정렬을 쉽게 하고, 시본(Seaborn)의 막대그래프로 쉽게 표현하기 위해 Series변환\n",
        "ftr_importances = pd.Series(ftr_importances_values, index=X_train.columns  )\n",
        "# 중요도값 순으로 Series를 정렬\n",
        "ftr_top20 = ftr_importances.sort_values(ascending=False)[:20]\n",
        "plt.figure(figsize=(8,6))\n",
        "plt.title('Feature importances Top 20')\n",
        "sns.barplot(x=ftr_top20 , y = ftr_top20.index)\n",
        "plt.show()\n",
        "#feature_importances_ 중요도 확인"
      ]
    },
    {
      "cell_type": "markdown",
      "source": [],
      "metadata": {
        "id": "H8mdiDCCBWqC"
      }
    },
    {
      "cell_type": "markdown",
      "metadata": {
        "id": "zW6u7yDZBYc6"
      },
      "source": [
        "## 4.3 앙상블 학습 개요"
      ]
    },
    {
      "cell_type": "markdown",
      "metadata": {
        "id": "d2Q3-O_OBYc7"
      },
      "source": [
        "- 보팅 : 서로 다른 알고리즘 가진 분류기를 결합\n",
        "- 배깅: 각각 분류기 모두 같은 유형의 알고리즘 기반, 데이터 샘플링 다르게 가져가(부트 스트래핑 분할 방식)  ex. 랜덤 포레스트 알고리즘\n",
        "- 부스팅 : 여러 개의 분류기가 순차적으로 학습 수행, 앞 학습한 분류기가 예측이 틀린 경우 올바르게 예측하도록 다음 분류기에는 가중치를 부여하면서 학습- 예측 진행\n",
        "- 보팅 유형 2: 하드(다수결)  , 소프트 (평균)\n"
      ]
    },
    {
      "cell_type": "markdown",
      "metadata": {
        "id": "tXD2FHUtBYc7"
      },
      "source": [
        "### Voting Classifier"
      ]
    },
    {
      "cell_type": "code",
      "execution_count": null,
      "metadata": {
        "id": "H3DAcyEcBYc7",
        "outputId": "360d3c8d-3bed-419d-cc62-11457879c98c"
      },
      "outputs": [
        {
          "data": {
            "text/html": [
              "<div>\n",
              "<style scoped>\n",
              "    .dataframe tbody tr th:only-of-type {\n",
              "        vertical-align: middle;\n",
              "    }\n",
              "\n",
              "    .dataframe tbody tr th {\n",
              "        vertical-align: top;\n",
              "    }\n",
              "\n",
              "    .dataframe thead th {\n",
              "        text-align: right;\n",
              "    }\n",
              "</style>\n",
              "<table border=\"1\" class=\"dataframe\">\n",
              "  <thead>\n",
              "    <tr style=\"text-align: right;\">\n",
              "      <th></th>\n",
              "      <th>mean radius</th>\n",
              "      <th>mean texture</th>\n",
              "      <th>mean perimeter</th>\n",
              "      <th>mean area</th>\n",
              "      <th>mean smoothness</th>\n",
              "      <th>mean compactness</th>\n",
              "      <th>mean concavity</th>\n",
              "      <th>mean concave points</th>\n",
              "      <th>mean symmetry</th>\n",
              "      <th>mean fractal dimension</th>\n",
              "      <th>...</th>\n",
              "      <th>worst radius</th>\n",
              "      <th>worst texture</th>\n",
              "      <th>worst perimeter</th>\n",
              "      <th>worst area</th>\n",
              "      <th>worst smoothness</th>\n",
              "      <th>worst compactness</th>\n",
              "      <th>worst concavity</th>\n",
              "      <th>worst concave points</th>\n",
              "      <th>worst symmetry</th>\n",
              "      <th>worst fractal dimension</th>\n",
              "    </tr>\n",
              "  </thead>\n",
              "  <tbody>\n",
              "    <tr>\n",
              "      <th>0</th>\n",
              "      <td>17.99</td>\n",
              "      <td>10.38</td>\n",
              "      <td>122.8</td>\n",
              "      <td>1001.0</td>\n",
              "      <td>0.11840</td>\n",
              "      <td>0.27760</td>\n",
              "      <td>0.3001</td>\n",
              "      <td>0.14710</td>\n",
              "      <td>0.2419</td>\n",
              "      <td>0.07871</td>\n",
              "      <td>...</td>\n",
              "      <td>25.38</td>\n",
              "      <td>17.33</td>\n",
              "      <td>184.6</td>\n",
              "      <td>2019.0</td>\n",
              "      <td>0.1622</td>\n",
              "      <td>0.6656</td>\n",
              "      <td>0.7119</td>\n",
              "      <td>0.2654</td>\n",
              "      <td>0.4601</td>\n",
              "      <td>0.11890</td>\n",
              "    </tr>\n",
              "    <tr>\n",
              "      <th>1</th>\n",
              "      <td>20.57</td>\n",
              "      <td>17.77</td>\n",
              "      <td>132.9</td>\n",
              "      <td>1326.0</td>\n",
              "      <td>0.08474</td>\n",
              "      <td>0.07864</td>\n",
              "      <td>0.0869</td>\n",
              "      <td>0.07017</td>\n",
              "      <td>0.1812</td>\n",
              "      <td>0.05667</td>\n",
              "      <td>...</td>\n",
              "      <td>24.99</td>\n",
              "      <td>23.41</td>\n",
              "      <td>158.8</td>\n",
              "      <td>1956.0</td>\n",
              "      <td>0.1238</td>\n",
              "      <td>0.1866</td>\n",
              "      <td>0.2416</td>\n",
              "      <td>0.1860</td>\n",
              "      <td>0.2750</td>\n",
              "      <td>0.08902</td>\n",
              "    </tr>\n",
              "    <tr>\n",
              "      <th>2</th>\n",
              "      <td>19.69</td>\n",
              "      <td>21.25</td>\n",
              "      <td>130.0</td>\n",
              "      <td>1203.0</td>\n",
              "      <td>0.10960</td>\n",
              "      <td>0.15990</td>\n",
              "      <td>0.1974</td>\n",
              "      <td>0.12790</td>\n",
              "      <td>0.2069</td>\n",
              "      <td>0.05999</td>\n",
              "      <td>...</td>\n",
              "      <td>23.57</td>\n",
              "      <td>25.53</td>\n",
              "      <td>152.5</td>\n",
              "      <td>1709.0</td>\n",
              "      <td>0.1444</td>\n",
              "      <td>0.4245</td>\n",
              "      <td>0.4504</td>\n",
              "      <td>0.2430</td>\n",
              "      <td>0.3613</td>\n",
              "      <td>0.08758</td>\n",
              "    </tr>\n",
              "  </tbody>\n",
              "</table>\n",
              "<p>3 rows × 30 columns</p>\n",
              "</div>"
            ],
            "text/plain": [
              "   mean radius  mean texture  mean perimeter  mean area  mean smoothness  \\\n",
              "0        17.99         10.38           122.8     1001.0          0.11840   \n",
              "1        20.57         17.77           132.9     1326.0          0.08474   \n",
              "2        19.69         21.25           130.0     1203.0          0.10960   \n",
              "\n",
              "   mean compactness  mean concavity  mean concave points  mean symmetry  \\\n",
              "0           0.27760          0.3001              0.14710         0.2419   \n",
              "1           0.07864          0.0869              0.07017         0.1812   \n",
              "2           0.15990          0.1974              0.12790         0.2069   \n",
              "\n",
              "   mean fractal dimension  ...  worst radius  worst texture  worst perimeter  \\\n",
              "0                 0.07871  ...         25.38          17.33            184.6   \n",
              "1                 0.05667  ...         24.99          23.41            158.8   \n",
              "2                 0.05999  ...         23.57          25.53            152.5   \n",
              "\n",
              "   worst area  worst smoothness  worst compactness  worst concavity  \\\n",
              "0      2019.0            0.1622             0.6656           0.7119   \n",
              "1      1956.0            0.1238             0.1866           0.2416   \n",
              "2      1709.0            0.1444             0.4245           0.4504   \n",
              "\n",
              "   worst concave points  worst symmetry  worst fractal dimension  \n",
              "0                0.2654          0.4601                  0.11890  \n",
              "1                0.1860          0.2750                  0.08902  \n",
              "2                0.2430          0.3613                  0.08758  \n",
              "\n",
              "[3 rows x 30 columns]"
            ]
          },
          "execution_count": 3,
          "metadata": {},
          "output_type": "execute_result"
        }
      ],
      "source": [
        "import pandas as pd\n",
        "\n",
        "from sklearn.ensemble import VotingClassifier\n",
        "from sklearn.linear_model import LogisticRegression\n",
        "from sklearn.neighbors import KNeighborsClassifier\n",
        "from sklearn.datasets import load_breast_cancer\n",
        "from sklearn.model_selection import train_test_split\n",
        "from sklearn.metrics import accuracy_score\n",
        "\n",
        "cancer = load_breast_cancer()\n",
        "\n",
        "data_df = pd.DataFrame(cancer.data, columns=cancer.feature_names)\n",
        "data_df.head(3)\n",
        "\n"
      ]
    },
    {
      "cell_type": "code",
      "execution_count": null,
      "metadata": {
        "id": "sO7EgSkPBYc7",
        "outputId": "4984ded0-1f66-41b2-c376-ea1877bcbdb5"
      },
      "outputs": [
        {
          "name": "stdout",
          "output_type": "stream",
          "text": [
            "Voting 분류기 정확도: 0.9561\n",
            "LogisticRegression 정확도: 0.9474\n",
            "KNeighborsClassifier 정확도: 0.9386\n"
          ]
        }
      ],
      "source": [
        "# 개별 모델은 로지스틱 회귀와 KNN 임.\n",
        "lr_clf = LogisticRegression(solver='liblinear')\n",
        "knn_clf = KNeighborsClassifier(n_neighbors=8)\n",
        "\n",
        "# 개별 모델을 소프트 보팅 기반의 앙상블 모델로 구현한 분류기\n",
        "vo_clf = VotingClassifier( estimators=[('LR',lr_clf),('KNN',knn_clf)] , voting='soft' )\n",
        "\n",
        "X_train, X_test, y_train, y_test = train_test_split(cancer.data, cancer.target,\n",
        "                                                    test_size=0.2 , random_state= 156)\n",
        "\n",
        "# VotingClassifier 학습/예측/평가.\n",
        "vo_clf.fit(X_train , y_train)\n",
        "pred = vo_clf.predict(X_test)\n",
        "print('Voting 분류기 정확도: {0:.4f}'.format(accuracy_score(y_test , pred)))\n",
        "\n",
        "# 개별 모델의 학습/예측/평가.\n",
        "classifiers = [lr_clf, knn_clf]\n",
        "for classifier in classifiers:\n",
        "    classifier.fit(X_train , y_train)\n",
        "    pred = classifier.predict(X_test)\n",
        "    class_name= classifier.__class__.__name__\n",
        "    print('{0} 정확도: {1:.4f}'.format(class_name, accuracy_score(y_test , pred)))"
      ]
    },
    {
      "cell_type": "markdown",
      "metadata": {
        "id": "U3d5w8t_BYc8"
      },
      "source": [
        "## 4.4 Random Forest"
      ]
    },
    {
      "cell_type": "markdown",
      "metadata": {
        "id": "Z_G_CUvjBYc8"
      },
      "source": [
        "- 배깅: 같은 알고리즘으로 여러 개의 분류기를 만들어\n",
        "- 랜덤 포레스트: 여러 개의 결정 트리 분류기가 전체 데이터에서 배깅 방식으로 각자 데이터를 샘플링해 개별적으로 학습 후 최종 모든 분류기가 보팅을 통해 예측 결정\n",
        "- 일부 중첩되게 샘플링 : 부트스트래핑\n"
      ]
    },
    {
      "cell_type": "code",
      "execution_count": null,
      "metadata": {
        "id": "if83QLyQBYc8"
      },
      "outputs": [],
      "source": [
        "def get_new_feature_name_df(old_feature_name_df):\n",
        "    feature_dup_df = pd.DataFrame(data=old_feature_name_df.groupby('column_name').cumcount(),\n",
        "                                  columns=['dup_cnt'])\n",
        "    feature_dup_df = feature_dup_df.reset_index()\n",
        "    new_feature_name_df = pd.merge(old_feature_name_df.reset_index(), feature_dup_df, how='outer')\n",
        "    new_feature_name_df['column_name'] = new_feature_name_df[['column_name', 'dup_cnt']].apply(lambda x : x[0]+'_'+str(x[1])\n",
        "                                                                                         if x[1] >0 else x[0] ,  axis=1)\n",
        "    new_feature_name_df = new_feature_name_df.drop(['index'], axis=1)\n",
        "    return new_feature_name_df"
      ]
    },
    {
      "cell_type": "code",
      "execution_count": null,
      "metadata": {
        "id": "lKP7u-iqBYc8"
      },
      "outputs": [],
      "source": [
        "import pandas as pd\n",
        "\n",
        "def get_human_dataset( ):\n",
        "\n",
        "    # 각 데이터 파일들은 공백으로 분리되어 있으므로 read_csv에서 공백 문자를 sep으로 할당.\n",
        "    feature_name_df = pd.read_csv('/Users/nayeong-eun/Downloads/human+activity+recognition+using+smartphones/human_activity/features.txt',sep='\\s+',\n",
        "                        header=None,names=['column_index','column_name'])\n",
        "\n",
        "    # 중복된 피처명을 수정하는 get_new_feature_name_df()를 이용, 신규 피처명 DataFrame생성.\n",
        "    new_feature_name_df = get_new_feature_name_df(feature_name_df)\n",
        "\n",
        "    # DataFrame에 피처명을 컬럼으로 부여하기 위해 리스트 객체로 다시 변환\n",
        "    feature_name = new_feature_name_df.iloc[:, 1].values.tolist()\n",
        "\n",
        "    # 학습 피처 데이터 셋과 테스트 피처 데이터을 DataFrame으로 로딩. 컬럼명은 feature_name 적용\n",
        "    X_train = pd.read_csv('/Users/nayeong-eun/Downloads/human+activity+recognition+using+smartphones/human_activity/train/X_train.txt',sep='\\s+', names=feature_name )\n",
        "    X_test = pd.read_csv('/Users/nayeong-eun/Downloads/human+activity+recognition+using+smartphones/human_activity/test/X_test.txt',sep='\\s+', names=feature_name)\n",
        "\n",
        "    # 학습 레이블과 테스트 레이블 데이터을 DataFrame으로 로딩하고 컬럼명은 action으로 부여\n",
        "    y_train = pd.read_csv('/Users/nayeong-eun/Downloads/human+activity+recognition+using+smartphones/human_activity/train/y_train.txt',sep='\\s+',header=None,names=['action'])\n",
        "    y_test = pd.read_csv('/Users/nayeong-eun/Downloads/human+activity+recognition+using+smartphones/human_activity/test/y_test.txt',sep='\\s+',header=None,names=['action'])\n",
        "\n",
        "    # 로드된 학습/테스트용 DataFrame을 모두 반환\n",
        "    return X_train, X_test, y_train, y_test\n",
        "\n",
        "\n",
        "X_train, X_test, y_train, y_test = get_human_dataset()"
      ]
    },
    {
      "cell_type": "code",
      "execution_count": null,
      "metadata": {
        "id": "fz_XJJzCBYc8",
        "outputId": "dc9369a5-d4d2-45c0-fdf6-84dd60d48861"
      },
      "outputs": [
        {
          "name": "stdout",
          "output_type": "stream",
          "text": [
            "랜덤 포레스트 정확도: 0.9237\n"
          ]
        }
      ],
      "source": [
        "from sklearn.ensemble import RandomForestClassifier\n",
        "from sklearn.metrics import accuracy_score\n",
        "import pandas as pd\n",
        "import warnings\n",
        "warnings.filterwarnings('ignore')\n",
        "\n",
        "# 결정 트리에서 사용한 get_human_dataset( )을 이용해 학습/테스트용 DataFrame 반환\n",
        "X_train, X_test, y_train, y_test = get_human_dataset()\n",
        "\n",
        "# 랜덤 포레스트 학습 및 별도의 테스트 셋으로 예측 성능 평가\n",
        "rf_clf = RandomForestClassifier(random_state=0)\n",
        "rf_clf.fit(X_train , y_train)\n",
        "pred = rf_clf.predict(X_test)\n",
        "accuracy = accuracy_score(y_test , pred)\n",
        "print('랜덤 포레스트 정확도: {0:.4f}'.format(accuracy))"
      ]
    },
    {
      "cell_type": "markdown",
      "metadata": {
        "id": "qc2FARWnBYc8"
      },
      "source": [
        "- 랜덤 포레스트 하이퍼 파라미터 및 튜닝: 트리 기반 앙상블 알고리즘 단점: 하이퍼 파라미터 너무 많고 시간 소모 많아\n",
        "        - 트리 기반 중 그나마 랜덤 포레스토가 적은 편"
      ]
    },
    {
      "cell_type": "code",
      "execution_count": null,
      "metadata": {
        "id": "6Vif6dN_BYc8",
        "outputId": "6e4bb334-6dff-4a1d-e51b-d4c2eba54b81"
      },
      "outputs": [
        {
          "name": "stderr",
          "output_type": "stream",
          "text": [
            "/Users/nayeong-eun/anaconda3/lib/python3.11/site-packages/sklearn/base.py:1151: DataConversionWarning: A column-vector y was passed when a 1d array was expected. Please change the shape of y to (n_samples,), for example using ravel().\n",
            "  return fit_method(estimator, *args, **kwargs)\n",
            "/Users/nayeong-eun/anaconda3/lib/python3.11/site-packages/sklearn/base.py:1151: DataConversionWarning: A column-vector y was passed when a 1d array was expected. Please change the shape of y to (n_samples,), for example using ravel().\n",
            "  return fit_method(estimator, *args, **kwargs)\n",
            "/Users/nayeong-eun/anaconda3/lib/python3.11/site-packages/sklearn/base.py:1151: DataConversionWarning: A column-vector y was passed when a 1d array was expected. Please change the shape of y to (n_samples,), for example using ravel().\n",
            "  return fit_method(estimator, *args, **kwargs)\n",
            "/Users/nayeong-eun/anaconda3/lib/python3.11/site-packages/sklearn/base.py:1151: DataConversionWarning: A column-vector y was passed when a 1d array was expected. Please change the shape of y to (n_samples,), for example using ravel().\n",
            "  return fit_method(estimator, *args, **kwargs)\n",
            "/Users/nayeong-eun/anaconda3/lib/python3.11/site-packages/sklearn/base.py:1151: DataConversionWarning: A column-vector y was passed when a 1d array was expected. Please change the shape of y to (n_samples,), for example using ravel().\n",
            "  return fit_method(estimator, *args, **kwargs)\n",
            "/Users/nayeong-eun/anaconda3/lib/python3.11/site-packages/sklearn/base.py:1151: DataConversionWarning: A column-vector y was passed when a 1d array was expected. Please change the shape of y to (n_samples,), for example using ravel().\n",
            "  return fit_method(estimator, *args, **kwargs)\n",
            "/Users/nayeong-eun/anaconda3/lib/python3.11/site-packages/sklearn/base.py:1151: DataConversionWarning: A column-vector y was passed when a 1d array was expected. Please change the shape of y to (n_samples,), for example using ravel().\n",
            "  return fit_method(estimator, *args, **kwargs)\n",
            "/Users/nayeong-eun/anaconda3/lib/python3.11/site-packages/sklearn/base.py:1151: DataConversionWarning: A column-vector y was passed when a 1d array was expected. Please change the shape of y to (n_samples,), for example using ravel().\n",
            "  return fit_method(estimator, *args, **kwargs)\n",
            "/Users/nayeong-eun/anaconda3/lib/python3.11/site-packages/sklearn/base.py:1151: DataConversionWarning: A column-vector y was passed when a 1d array was expected. Please change the shape of y to (n_samples,), for example using ravel().\n",
            "  return fit_method(estimator, *args, **kwargs)\n",
            "/Users/nayeong-eun/anaconda3/lib/python3.11/site-packages/sklearn/base.py:1151: DataConversionWarning: A column-vector y was passed when a 1d array was expected. Please change the shape of y to (n_samples,), for example using ravel().\n",
            "  return fit_method(estimator, *args, **kwargs)\n",
            "/Users/nayeong-eun/anaconda3/lib/python3.11/site-packages/sklearn/base.py:1151: DataConversionWarning: A column-vector y was passed when a 1d array was expected. Please change the shape of y to (n_samples,), for example using ravel().\n",
            "  return fit_method(estimator, *args, **kwargs)\n",
            "/Users/nayeong-eun/anaconda3/lib/python3.11/site-packages/sklearn/base.py:1151: DataConversionWarning: A column-vector y was passed when a 1d array was expected. Please change the shape of y to (n_samples,), for example using ravel().\n",
            "  return fit_method(estimator, *args, **kwargs)\n",
            "/Users/nayeong-eun/anaconda3/lib/python3.11/site-packages/sklearn/base.py:1151: DataConversionWarning: A column-vector y was passed when a 1d array was expected. Please change the shape of y to (n_samples,), for example using ravel().\n",
            "  return fit_method(estimator, *args, **kwargs)\n",
            "/Users/nayeong-eun/anaconda3/lib/python3.11/site-packages/sklearn/base.py:1151: DataConversionWarning: A column-vector y was passed when a 1d array was expected. Please change the shape of y to (n_samples,), for example using ravel().\n",
            "  return fit_method(estimator, *args, **kwargs)\n",
            "/Users/nayeong-eun/anaconda3/lib/python3.11/site-packages/sklearn/base.py:1151: DataConversionWarning: A column-vector y was passed when a 1d array was expected. Please change the shape of y to (n_samples,), for example using ravel().\n",
            "  return fit_method(estimator, *args, **kwargs)\n",
            "/Users/nayeong-eun/anaconda3/lib/python3.11/site-packages/sklearn/base.py:1151: DataConversionWarning: A column-vector y was passed when a 1d array was expected. Please change the shape of y to (n_samples,), for example using ravel().\n",
            "  return fit_method(estimator, *args, **kwargs)\n",
            "/Users/nayeong-eun/anaconda3/lib/python3.11/site-packages/sklearn/base.py:1151: DataConversionWarning: A column-vector y was passed when a 1d array was expected. Please change the shape of y to (n_samples,), for example using ravel().\n",
            "  return fit_method(estimator, *args, **kwargs)\n",
            "/Users/nayeong-eun/anaconda3/lib/python3.11/site-packages/sklearn/base.py:1151: DataConversionWarning: A column-vector y was passed when a 1d array was expected. Please change the shape of y to (n_samples,), for example using ravel().\n",
            "  return fit_method(estimator, *args, **kwargs)\n",
            "/Users/nayeong-eun/anaconda3/lib/python3.11/site-packages/sklearn/base.py:1151: DataConversionWarning: A column-vector y was passed when a 1d array was expected. Please change the shape of y to (n_samples,), for example using ravel().\n",
            "  return fit_method(estimator, *args, **kwargs)\n",
            "/Users/nayeong-eun/anaconda3/lib/python3.11/site-packages/sklearn/base.py:1151: DataConversionWarning: A column-vector y was passed when a 1d array was expected. Please change the shape of y to (n_samples,), for example using ravel().\n",
            "  return fit_method(estimator, *args, **kwargs)\n",
            "/Users/nayeong-eun/anaconda3/lib/python3.11/site-packages/sklearn/base.py:1151: DataConversionWarning: A column-vector y was passed when a 1d array was expected. Please change the shape of y to (n_samples,), for example using ravel().\n",
            "  return fit_method(estimator, *args, **kwargs)\n",
            "/Users/nayeong-eun/anaconda3/lib/python3.11/site-packages/sklearn/base.py:1151: DataConversionWarning: A column-vector y was passed when a 1d array was expected. Please change the shape of y to (n_samples,), for example using ravel().\n",
            "  return fit_method(estimator, *args, **kwargs)\n",
            "/Users/nayeong-eun/anaconda3/lib/python3.11/site-packages/sklearn/base.py:1151: DataConversionWarning: A column-vector y was passed when a 1d array was expected. Please change the shape of y to (n_samples,), for example using ravel().\n",
            "  return fit_method(estimator, *args, **kwargs)\n",
            "/Users/nayeong-eun/anaconda3/lib/python3.11/site-packages/sklearn/base.py:1151: DataConversionWarning: A column-vector y was passed when a 1d array was expected. Please change the shape of y to (n_samples,), for example using ravel().\n",
            "  return fit_method(estimator, *args, **kwargs)\n",
            "/Users/nayeong-eun/anaconda3/lib/python3.11/site-packages/sklearn/base.py:1151: DataConversionWarning: A column-vector y was passed when a 1d array was expected. Please change the shape of y to (n_samples,), for example using ravel().\n",
            "  return fit_method(estimator, *args, **kwargs)\n",
            "/Users/nayeong-eun/anaconda3/lib/python3.11/site-packages/sklearn/base.py:1151: DataConversionWarning: A column-vector y was passed when a 1d array was expected. Please change the shape of y to (n_samples,), for example using ravel().\n",
            "  return fit_method(estimator, *args, **kwargs)\n",
            "/Users/nayeong-eun/anaconda3/lib/python3.11/site-packages/sklearn/base.py:1151: DataConversionWarning: A column-vector y was passed when a 1d array was expected. Please change the shape of y to (n_samples,), for example using ravel().\n",
            "  return fit_method(estimator, *args, **kwargs)\n",
            "/Users/nayeong-eun/anaconda3/lib/python3.11/site-packages/sklearn/base.py:1151: DataConversionWarning: A column-vector y was passed when a 1d array was expected. Please change the shape of y to (n_samples,), for example using ravel().\n",
            "  return fit_method(estimator, *args, **kwargs)\n",
            "/Users/nayeong-eun/anaconda3/lib/python3.11/site-packages/sklearn/base.py:1151: DataConversionWarning: A column-vector y was passed when a 1d array was expected. Please change the shape of y to (n_samples,), for example using ravel().\n",
            "  return fit_method(estimator, *args, **kwargs)\n",
            "/Users/nayeong-eun/anaconda3/lib/python3.11/site-packages/sklearn/base.py:1151: DataConversionWarning: A column-vector y was passed when a 1d array was expected. Please change the shape of y to (n_samples,), for example using ravel().\n",
            "  return fit_method(estimator, *args, **kwargs)\n"
          ]
        },
        {
          "name": "stderr",
          "output_type": "stream",
          "text": [
            "/Users/nayeong-eun/anaconda3/lib/python3.11/site-packages/sklearn/base.py:1151: DataConversionWarning: A column-vector y was passed when a 1d array was expected. Please change the shape of y to (n_samples,), for example using ravel().\n",
            "  return fit_method(estimator, *args, **kwargs)\n",
            "/Users/nayeong-eun/anaconda3/lib/python3.11/site-packages/sklearn/base.py:1151: DataConversionWarning: A column-vector y was passed when a 1d array was expected. Please change the shape of y to (n_samples,), for example using ravel().\n",
            "  return fit_method(estimator, *args, **kwargs)\n",
            "/Users/nayeong-eun/anaconda3/lib/python3.11/site-packages/sklearn/base.py:1151: DataConversionWarning: A column-vector y was passed when a 1d array was expected. Please change the shape of y to (n_samples,), for example using ravel().\n",
            "  return fit_method(estimator, *args, **kwargs)\n",
            "/Users/nayeong-eun/anaconda3/lib/python3.11/site-packages/sklearn/base.py:1151: DataConversionWarning: A column-vector y was passed when a 1d array was expected. Please change the shape of y to (n_samples,), for example using ravel().\n",
            "  return fit_method(estimator, *args, **kwargs)\n",
            "/Users/nayeong-eun/anaconda3/lib/python3.11/site-packages/sklearn/base.py:1151: DataConversionWarning: A column-vector y was passed when a 1d array was expected. Please change the shape of y to (n_samples,), for example using ravel().\n",
            "  return fit_method(estimator, *args, **kwargs)\n",
            "/Users/nayeong-eun/anaconda3/lib/python3.11/site-packages/sklearn/base.py:1151: DataConversionWarning: A column-vector y was passed when a 1d array was expected. Please change the shape of y to (n_samples,), for example using ravel().\n",
            "  return fit_method(estimator, *args, **kwargs)\n",
            "/Users/nayeong-eun/anaconda3/lib/python3.11/site-packages/sklearn/base.py:1151: DataConversionWarning: A column-vector y was passed when a 1d array was expected. Please change the shape of y to (n_samples,), for example using ravel().\n",
            "  return fit_method(estimator, *args, **kwargs)\n",
            "/Users/nayeong-eun/anaconda3/lib/python3.11/site-packages/sklearn/base.py:1151: DataConversionWarning: A column-vector y was passed when a 1d array was expected. Please change the shape of y to (n_samples,), for example using ravel().\n",
            "  return fit_method(estimator, *args, **kwargs)\n",
            "/Users/nayeong-eun/anaconda3/lib/python3.11/site-packages/sklearn/base.py:1151: DataConversionWarning: A column-vector y was passed when a 1d array was expected. Please change the shape of y to (n_samples,), for example using ravel().\n",
            "  return fit_method(estimator, *args, **kwargs)\n",
            "/Users/nayeong-eun/anaconda3/lib/python3.11/site-packages/sklearn/base.py:1151: DataConversionWarning: A column-vector y was passed when a 1d array was expected. Please change the shape of y to (n_samples,), for example using ravel().\n",
            "  return fit_method(estimator, *args, **kwargs)\n",
            "/Users/nayeong-eun/anaconda3/lib/python3.11/site-packages/sklearn/base.py:1151: DataConversionWarning: A column-vector y was passed when a 1d array was expected. Please change the shape of y to (n_samples,), for example using ravel().\n",
            "  return fit_method(estimator, *args, **kwargs)\n",
            "/Users/nayeong-eun/anaconda3/lib/python3.11/site-packages/sklearn/base.py:1151: DataConversionWarning: A column-vector y was passed when a 1d array was expected. Please change the shape of y to (n_samples,), for example using ravel().\n",
            "  return fit_method(estimator, *args, **kwargs)\n",
            "/Users/nayeong-eun/anaconda3/lib/python3.11/site-packages/sklearn/base.py:1151: DataConversionWarning: A column-vector y was passed when a 1d array was expected. Please change the shape of y to (n_samples,), for example using ravel().\n",
            "  return fit_method(estimator, *args, **kwargs)\n",
            "/Users/nayeong-eun/anaconda3/lib/python3.11/site-packages/sklearn/base.py:1151: DataConversionWarning: A column-vector y was passed when a 1d array was expected. Please change the shape of y to (n_samples,), for example using ravel().\n",
            "  return fit_method(estimator, *args, **kwargs)\n",
            "/Users/nayeong-eun/anaconda3/lib/python3.11/site-packages/sklearn/base.py:1151: DataConversionWarning: A column-vector y was passed when a 1d array was expected. Please change the shape of y to (n_samples,), for example using ravel().\n",
            "  return fit_method(estimator, *args, **kwargs)\n",
            "/Users/nayeong-eun/anaconda3/lib/python3.11/site-packages/sklearn/base.py:1151: DataConversionWarning: A column-vector y was passed when a 1d array was expected. Please change the shape of y to (n_samples,), for example using ravel().\n",
            "  return fit_method(estimator, *args, **kwargs)\n",
            "/Users/nayeong-eun/anaconda3/lib/python3.11/site-packages/sklearn/base.py:1151: DataConversionWarning: A column-vector y was passed when a 1d array was expected. Please change the shape of y to (n_samples,), for example using ravel().\n",
            "  return fit_method(estimator, *args, **kwargs)\n",
            "/Users/nayeong-eun/anaconda3/lib/python3.11/site-packages/sklearn/base.py:1151: DataConversionWarning: A column-vector y was passed when a 1d array was expected. Please change the shape of y to (n_samples,), for example using ravel().\n",
            "  return fit_method(estimator, *args, **kwargs)\n",
            "/Users/nayeong-eun/anaconda3/lib/python3.11/site-packages/sklearn/base.py:1151: DataConversionWarning: A column-vector y was passed when a 1d array was expected. Please change the shape of y to (n_samples,), for example using ravel().\n",
            "  return fit_method(estimator, *args, **kwargs)\n",
            "/Users/nayeong-eun/anaconda3/lib/python3.11/site-packages/sklearn/base.py:1151: DataConversionWarning: A column-vector y was passed when a 1d array was expected. Please change the shape of y to (n_samples,), for example using ravel().\n",
            "  return fit_method(estimator, *args, **kwargs)\n",
            "/Users/nayeong-eun/anaconda3/lib/python3.11/site-packages/sklearn/base.py:1151: DataConversionWarning: A column-vector y was passed when a 1d array was expected. Please change the shape of y to (n_samples,), for example using ravel().\n",
            "  return fit_method(estimator, *args, **kwargs)\n",
            "/Users/nayeong-eun/anaconda3/lib/python3.11/site-packages/sklearn/base.py:1151: DataConversionWarning: A column-vector y was passed when a 1d array was expected. Please change the shape of y to (n_samples,), for example using ravel().\n",
            "  return fit_method(estimator, *args, **kwargs)\n",
            "/Users/nayeong-eun/anaconda3/lib/python3.11/site-packages/sklearn/base.py:1151: DataConversionWarning: A column-vector y was passed when a 1d array was expected. Please change the shape of y to (n_samples,), for example using ravel().\n",
            "  return fit_method(estimator, *args, **kwargs)\n",
            "/Users/nayeong-eun/anaconda3/lib/python3.11/site-packages/sklearn/base.py:1151: DataConversionWarning: A column-vector y was passed when a 1d array was expected. Please change the shape of y to (n_samples,), for example using ravel().\n",
            "  return fit_method(estimator, *args, **kwargs)\n",
            "/Users/nayeong-eun/anaconda3/lib/python3.11/site-packages/sklearn/base.py:1151: DataConversionWarning: A column-vector y was passed when a 1d array was expected. Please change the shape of y to (n_samples,), for example using ravel().\n",
            "  return fit_method(estimator, *args, **kwargs)\n",
            "/Users/nayeong-eun/anaconda3/lib/python3.11/site-packages/sklearn/base.py:1151: DataConversionWarning: A column-vector y was passed when a 1d array was expected. Please change the shape of y to (n_samples,), for example using ravel().\n",
            "  return fit_method(estimator, *args, **kwargs)\n",
            "/Users/nayeong-eun/anaconda3/lib/python3.11/site-packages/sklearn/base.py:1151: DataConversionWarning: A column-vector y was passed when a 1d array was expected. Please change the shape of y to (n_samples,), for example using ravel().\n",
            "  return fit_method(estimator, *args, **kwargs)\n",
            "/Users/nayeong-eun/anaconda3/lib/python3.11/site-packages/sklearn/base.py:1151: DataConversionWarning: A column-vector y was passed when a 1d array was expected. Please change the shape of y to (n_samples,), for example using ravel().\n",
            "  return fit_method(estimator, *args, **kwargs)\n",
            "/Users/nayeong-eun/anaconda3/lib/python3.11/site-packages/sklearn/base.py:1151: DataConversionWarning: A column-vector y was passed when a 1d array was expected. Please change the shape of y to (n_samples,), for example using ravel().\n",
            "  return fit_method(estimator, *args, **kwargs)\n"
          ]
        },
        {
          "name": "stderr",
          "output_type": "stream",
          "text": [
            "/Users/nayeong-eun/anaconda3/lib/python3.11/site-packages/sklearn/base.py:1151: DataConversionWarning: A column-vector y was passed when a 1d array was expected. Please change the shape of y to (n_samples,), for example using ravel().\n",
            "  return fit_method(estimator, *args, **kwargs)\n",
            "/Users/nayeong-eun/anaconda3/lib/python3.11/site-packages/sklearn/base.py:1151: DataConversionWarning: A column-vector y was passed when a 1d array was expected. Please change the shape of y to (n_samples,), for example using ravel().\n",
            "  return fit_method(estimator, *args, **kwargs)\n",
            "/Users/nayeong-eun/anaconda3/lib/python3.11/site-packages/sklearn/base.py:1151: DataConversionWarning: A column-vector y was passed when a 1d array was expected. Please change the shape of y to (n_samples,), for example using ravel().\n",
            "  return fit_method(estimator, *args, **kwargs)\n",
            "/Users/nayeong-eun/anaconda3/lib/python3.11/site-packages/sklearn/base.py:1151: DataConversionWarning: A column-vector y was passed when a 1d array was expected. Please change the shape of y to (n_samples,), for example using ravel().\n",
            "  return fit_method(estimator, *args, **kwargs)\n",
            "/Users/nayeong-eun/anaconda3/lib/python3.11/site-packages/sklearn/base.py:1151: DataConversionWarning: A column-vector y was passed when a 1d array was expected. Please change the shape of y to (n_samples,), for example using ravel().\n",
            "  return fit_method(estimator, *args, **kwargs)\n",
            "/Users/nayeong-eun/anaconda3/lib/python3.11/site-packages/sklearn/base.py:1151: DataConversionWarning: A column-vector y was passed when a 1d array was expected. Please change the shape of y to (n_samples,), for example using ravel().\n",
            "  return fit_method(estimator, *args, **kwargs)\n",
            "/Users/nayeong-eun/anaconda3/lib/python3.11/site-packages/sklearn/base.py:1151: DataConversionWarning: A column-vector y was passed when a 1d array was expected. Please change the shape of y to (n_samples,), for example using ravel().\n",
            "  return fit_method(estimator, *args, **kwargs)\n",
            "/Users/nayeong-eun/anaconda3/lib/python3.11/site-packages/sklearn/base.py:1151: DataConversionWarning: A column-vector y was passed when a 1d array was expected. Please change the shape of y to (n_samples,), for example using ravel().\n",
            "  return fit_method(estimator, *args, **kwargs)\n",
            "/Users/nayeong-eun/anaconda3/lib/python3.11/site-packages/sklearn/base.py:1151: DataConversionWarning: A column-vector y was passed when a 1d array was expected. Please change the shape of y to (n_samples,), for example using ravel().\n",
            "  return fit_method(estimator, *args, **kwargs)\n",
            "/Users/nayeong-eun/anaconda3/lib/python3.11/site-packages/sklearn/base.py:1151: DataConversionWarning: A column-vector y was passed when a 1d array was expected. Please change the shape of y to (n_samples,), for example using ravel().\n",
            "  return fit_method(estimator, *args, **kwargs)\n",
            "/Users/nayeong-eun/anaconda3/lib/python3.11/site-packages/sklearn/base.py:1151: DataConversionWarning: A column-vector y was passed when a 1d array was expected. Please change the shape of y to (n_samples,), for example using ravel().\n",
            "  return fit_method(estimator, *args, **kwargs)\n",
            "/Users/nayeong-eun/anaconda3/lib/python3.11/site-packages/sklearn/base.py:1151: DataConversionWarning: A column-vector y was passed when a 1d array was expected. Please change the shape of y to (n_samples,), for example using ravel().\n",
            "  return fit_method(estimator, *args, **kwargs)\n",
            "/Users/nayeong-eun/anaconda3/lib/python3.11/site-packages/sklearn/base.py:1151: DataConversionWarning: A column-vector y was passed when a 1d array was expected. Please change the shape of y to (n_samples,), for example using ravel().\n",
            "  return fit_method(estimator, *args, **kwargs)\n"
          ]
        },
        {
          "name": "stdout",
          "output_type": "stream",
          "text": [
            "최적 하이퍼 파라미터:\n",
            " {'max_depth': 10, 'min_samples_leaf': 8, 'min_samples_split': 8, 'n_estimators': 100}\n",
            "최고 예측 정확도: 0.9181\n"
          ]
        }
      ],
      "source": [
        "from sklearn.model_selection import GridSearchCV\n",
        "\n",
        "params = {\n",
        "    'n_estimators':[100],\n",
        "    'max_depth' : [6, 8, 10, 12],\n",
        "    'min_samples_leaf' : [8, 12, 18 ],\n",
        "    'min_samples_split' : [8, 16, 20]\n",
        "}\n",
        "# RandomForestClassifier 객체 생성 후 GridSearchCV 수행\n",
        "rf_clf = RandomForestClassifier(random_state=0, n_jobs=-1)\n",
        "grid_cv = GridSearchCV(rf_clf , param_grid=params , cv=2, n_jobs=-1 )\n",
        "grid_cv.fit(X_train , y_train)\n",
        "\n",
        "print('최적 하이퍼 파라미터:\\n', grid_cv.best_params_)\n",
        "print('최고 예측 정확도: {0:.4f}'.format(grid_cv.best_score_))"
      ]
    },
    {
      "cell_type": "code",
      "execution_count": null,
      "metadata": {
        "id": "BXFq3V3yBYc8",
        "outputId": "f0b9b686-8bdd-441b-9dc9-66087b7014d5"
      },
      "outputs": [
        {
          "name": "stdout",
          "output_type": "stream",
          "text": [
            "예측 정확도: 0.9169\n"
          ]
        }
      ],
      "source": [
        "rf_clf1 = RandomForestClassifier(n_estimators=300, max_depth=10, min_samples_leaf=8, \\\n",
        "                                 min_samples_split=8, random_state=0)\n",
        "rf_clf1.fit(X_train , y_train)\n",
        "pred = rf_clf1.predict(X_test)\n",
        "print('예측 정확도: {0:.4f}'.format(accuracy_score(y_test , pred)))"
      ]
    },
    {
      "cell_type": "code",
      "execution_count": null,
      "metadata": {
        "id": "ANEijH5jBYc9",
        "outputId": "39a503ca-d86c-49cd-ecbc-9a41900ee145"
      },
      "outputs": [
        {
          "data": {
            "image/png": "[encoded data removed]",
            "text/plain": [
              "<Figure size 800x600 with 1 Axes>"
            ]
          },
          "metadata": {},
          "output_type": "display_data"
        },
        {
          "data": {
            "text/plain": [
              "<Figure size 640x480 with 0 Axes>"
            ]
          },
          "metadata": {},
          "output_type": "display_data"
        }
      ],
      "source": [
        "import matplotlib.pyplot as plt\n",
        "import seaborn as sns\n",
        "%matplotlib inline\n",
        "\n",
        "ftr_importances_values = rf_clf1.feature_importances_\n",
        "ftr_importances = pd.Series(ftr_importances_values,index=X_train.columns  )\n",
        "ftr_top20 = ftr_importances.sort_values(ascending=False)[:20]\n",
        "\n",
        "plt.figure(figsize=(8,6))\n",
        "plt.title('Feature importances Top 20')\n",
        "sns.barplot(x=ftr_top20 , y = ftr_top20.index)\n",
        "fig1 = plt.gcf()\n",
        "plt.show()\n",
        "plt.draw()\n",
        "fig1.savefig('rf_feature_importances_top20.tif', format='tif', dpi=300, bbox_inches='tight')"
      ]
    },
    {
      "cell_type": "markdown",
      "metadata": {
        "id": "hk_DwrydBYc9"
      },
      "source": [
        "## 4.5 GBM(Gradient Boosting Machine)"
      ]
    },
    {
      "cell_type": "markdown",
      "metadata": {
        "id": "aQg_wleKBYc9"
      },
      "source": [
        "- adaboost: 오류 데이터에 가중치 부여\n",
        "- gbm: 가중치 업데이트를 경사하강법"
      ]
    },
    {
      "cell_type": "code",
      "execution_count": null,
      "metadata": {
        "id": "_jXvUY7yBYc-",
        "outputId": "2763b760-f6fb-4dec-db19-1a59ec9ef18b"
      },
      "outputs": [
        {
          "name": "stdout",
          "output_type": "stream",
          "text": [
            "GBM 정확도: 0.9386\n",
            "GBM 수행 시간: 1019.3 초 \n"
          ]
        }
      ],
      "source": [
        "from sklearn.ensemble import GradientBoostingClassifier\n",
        "import time\n",
        "import warnings\n",
        "warnings.filterwarnings('ignore')\n",
        "\n",
        "X_train, X_test, y_train, y_test = get_human_dataset()\n",
        "\n",
        "# GBM 수행 시간 측정을 위함. 시작 시간 설정.\n",
        "start_time = time.time()\n",
        "\n",
        "gb_clf = GradientBoostingClassifier(random_state=0)\n",
        "gb_clf.fit(X_train , y_train)\n",
        "gb_pred = gb_clf.predict(X_test)\n",
        "gb_accuracy = accuracy_score(y_test, gb_pred)\n",
        "\n",
        "print('GBM 정확도: {0:.4f}'.format(gb_accuracy))\n",
        "print(\"GBM 수행 시간: {0:.1f} 초 \".format(time.time() - start_time))\n"
      ]
    },
    {
      "cell_type": "code",
      "execution_count": null,
      "metadata": {
        "id": "HK82NpYpBYc-",
        "outputId": "0a26ce47-74d8-406a-ff5a-3a1606655a76"
      },
      "outputs": [
        {
          "name": "stdout",
          "output_type": "stream",
          "text": [
            "Fitting 2 folds for each of 4 candidates, totalling 8 fits\n"
          ]
        }
      ],
      "source": [
        "### 아래는 책에서 설명드리지는 않지만 GridSearchCV로 GBM의 하이퍼 파라미터 튜닝을 수행하는 예제 입니다.\n",
        "### 사이킷런이 1.X로 업그레이드 되며서 GBM의 학습 속도가 현저하게 저하되는 문제가 오히려 발생합니다.\n",
        "### 아래는 수행 시간이 오래 걸리므로 참고용으로만 사용하시면 좋을 것 같습니다.\n",
        "\n",
        "from sklearn.model_selection import GridSearchCV\n",
        "\n",
        "params = {\n",
        "    'n_estimators':[100, 500],\n",
        "    'learning_rate' : [ 0.05, 0.1]\n",
        "}\n",
        "grid_cv = GridSearchCV(gb_clf , param_grid=params , cv=2 ,verbose=1)\n",
        "grid_cv.fit(X_train , y_train)\n",
        "print('최적 하이퍼 파라미터:\\n', grid_cv.best_params_)\n",
        "print('최고 예측 정확도: {0:.4f}'.format(grid_cv.best_score_))"
      ]
    },
    {
      "cell_type": "code",
      "execution_count": null,
      "metadata": {
        "id": "LlwtywlVBYc-"
      },
      "outputs": [],
      "source": [
        "# GridSearchCV를 이용하여 최적으로 학습된 estimator로 predict 수행.\n",
        "gb_pred = grid_cv.best_estimator_.predict(X_test)\n",
        "gb_accuracy = accuracy_score(y_test, gb_pred)\n",
        "print('GBM 정확도: {0:.4f}'.format(gb_accuracy))"
      ]
    },
    {
      "cell_type": "markdown",
      "metadata": {
        "id": "KDGsSGAZBh46"
      },
      "source": [
        "* XGBoost 버전 확인"
      ]
    },
    {
      "cell_type": "code",
      "execution_count": null,
      "metadata": {
        "id": "JZJSiNu4Bh47",
        "outputId": "fdb4c3e2-2364-49e1-d8b5-e400b0a6353d"
      },
      "outputs": [
        {
          "name": "stdout",
          "output_type": "stream",
          "text": [
            "Collecting xgboost\n",
            "  Obtaining dependency information for xgboost from https://files.pythonhosted.org/packages/03/e6/4aef6799badc2693548559bad5b56d56cfe89eada337c815fdfe92175250/xgboost-2.0.3-py3-none-macosx_12_0_arm64.whl.metadata\n",
            "  Downloading xgboost-2.0.3-py3-none-macosx_12_0_arm64.whl.metadata (2.0 kB)\n",
            "Requirement already satisfied: numpy in /Users/nayeong-eun/anaconda3/lib/python3.11/site-packages (from xgboost) (1.24.3)\n",
            "Requirement already satisfied: scipy in /Users/nayeong-eun/anaconda3/lib/python3.11/site-packages (from xgboost) (1.11.1)\n",
            "Downloading xgboost-2.0.3-py3-none-macosx_12_0_arm64.whl (1.9 MB)\n",
            "\u001b[2K   \u001b[90m━━━━━━━━━━━━━━━━━━━━━━━━━━━━━━━━━━━━━━━━\u001b[0m \u001b[32m1.9/1.9 MB\u001b[0m \u001b[31m5.3 MB/s\u001b[0m eta \u001b[36m0:00:00\u001b[0ma \u001b[36m0:00:01\u001b[0m\n",
            "\u001b[?25hInstalling collected packages: xgboost\n",
            "Successfully installed xgboost-2.0.3\n",
            "Note: you may need to restart the kernel to use updated packages.\n"
          ]
        }
      ],
      "source": [
        "pip install xgboost"
      ]
    },
    {
      "cell_type": "code",
      "execution_count": null,
      "metadata": {
        "id": "0nvRh09ABh47"
      },
      "outputs": [],
      "source": [
        "import xgboost as xgb\n",
        "from xgboost import XGBClassifier"
      ]
    },
    {
      "cell_type": "code",
      "execution_count": null,
      "metadata": {
        "id": "Qp6kDVqZBh48",
        "outputId": "9efbdfbd-5dae-49dc-a939-8a605369513c"
      },
      "outputs": [
        {
          "name": "stdout",
          "output_type": "stream",
          "text": [
            "2.0.3\n"
          ]
        }
      ],
      "source": [
        "import xgboost\n",
        "\n",
        "print(xgboost.__version__)"
      ]
    },
    {
      "cell_type": "markdown",
      "metadata": {
        "id": "cyJXSgOZBh48"
      },
      "source": [
        "### 파이썬 래퍼 XGBoost 적용 – 위스콘신 유방암 예측"
      ]
    },
    {
      "cell_type": "code",
      "execution_count": null,
      "metadata": {
        "id": "GAgmFJHaBh48",
        "outputId": "e5bf67d2-009f-4c02-d9a2-f1d8e879141c"
      },
      "outputs": [
        {
          "data": {
            "text/html": [
              "<div>\n",
              "<style scoped>\n",
              "    .dataframe tbody tr th:only-of-type {\n",
              "        vertical-align: middle;\n",
              "    }\n",
              "\n",
              "    .dataframe tbody tr th {\n",
              "        vertical-align: top;\n",
              "    }\n",
              "\n",
              "    .dataframe thead th {\n",
              "        text-align: right;\n",
              "    }\n",
              "</style>\n",
              "<table border=\"1\" class=\"dataframe\">\n",
              "  <thead>\n",
              "    <tr style=\"text-align: right;\">\n",
              "      <th></th>\n",
              "      <th>mean radius</th>\n",
              "      <th>mean texture</th>\n",
              "      <th>mean perimeter</th>\n",
              "      <th>mean area</th>\n",
              "      <th>mean smoothness</th>\n",
              "      <th>mean compactness</th>\n",
              "      <th>mean concavity</th>\n",
              "      <th>mean concave points</th>\n",
              "      <th>mean symmetry</th>\n",
              "      <th>mean fractal dimension</th>\n",
              "      <th>...</th>\n",
              "      <th>worst texture</th>\n",
              "      <th>worst perimeter</th>\n",
              "      <th>worst area</th>\n",
              "      <th>worst smoothness</th>\n",
              "      <th>worst compactness</th>\n",
              "      <th>worst concavity</th>\n",
              "      <th>worst concave points</th>\n",
              "      <th>worst symmetry</th>\n",
              "      <th>worst fractal dimension</th>\n",
              "      <th>target</th>\n",
              "    </tr>\n",
              "  </thead>\n",
              "  <tbody>\n",
              "    <tr>\n",
              "      <th>0</th>\n",
              "      <td>17.99</td>\n",
              "      <td>10.38</td>\n",
              "      <td>122.8</td>\n",
              "      <td>1001.0</td>\n",
              "      <td>0.11840</td>\n",
              "      <td>0.27760</td>\n",
              "      <td>0.3001</td>\n",
              "      <td>0.14710</td>\n",
              "      <td>0.2419</td>\n",
              "      <td>0.07871</td>\n",
              "      <td>...</td>\n",
              "      <td>17.33</td>\n",
              "      <td>184.6</td>\n",
              "      <td>2019.0</td>\n",
              "      <td>0.1622</td>\n",
              "      <td>0.6656</td>\n",
              "      <td>0.7119</td>\n",
              "      <td>0.2654</td>\n",
              "      <td>0.4601</td>\n",
              "      <td>0.11890</td>\n",
              "      <td>0</td>\n",
              "    </tr>\n",
              "    <tr>\n",
              "      <th>1</th>\n",
              "      <td>20.57</td>\n",
              "      <td>17.77</td>\n",
              "      <td>132.9</td>\n",
              "      <td>1326.0</td>\n",
              "      <td>0.08474</td>\n",
              "      <td>0.07864</td>\n",
              "      <td>0.0869</td>\n",
              "      <td>0.07017</td>\n",
              "      <td>0.1812</td>\n",
              "      <td>0.05667</td>\n",
              "      <td>...</td>\n",
              "      <td>23.41</td>\n",
              "      <td>158.8</td>\n",
              "      <td>1956.0</td>\n",
              "      <td>0.1238</td>\n",
              "      <td>0.1866</td>\n",
              "      <td>0.2416</td>\n",
              "      <td>0.1860</td>\n",
              "      <td>0.2750</td>\n",
              "      <td>0.08902</td>\n",
              "      <td>0</td>\n",
              "    </tr>\n",
              "    <tr>\n",
              "      <th>2</th>\n",
              "      <td>19.69</td>\n",
              "      <td>21.25</td>\n",
              "      <td>130.0</td>\n",
              "      <td>1203.0</td>\n",
              "      <td>0.10960</td>\n",
              "      <td>0.15990</td>\n",
              "      <td>0.1974</td>\n",
              "      <td>0.12790</td>\n",
              "      <td>0.2069</td>\n",
              "      <td>0.05999</td>\n",
              "      <td>...</td>\n",
              "      <td>25.53</td>\n",
              "      <td>152.5</td>\n",
              "      <td>1709.0</td>\n",
              "      <td>0.1444</td>\n",
              "      <td>0.4245</td>\n",
              "      <td>0.4504</td>\n",
              "      <td>0.2430</td>\n",
              "      <td>0.3613</td>\n",
              "      <td>0.08758</td>\n",
              "      <td>0</td>\n",
              "    </tr>\n",
              "  </tbody>\n",
              "</table>\n",
              "<p>3 rows × 31 columns</p>\n",
              "</div>"
            ],
            "text/plain": [
              "   mean radius  mean texture  mean perimeter  mean area  mean smoothness  \\\n",
              "0        17.99         10.38           122.8     1001.0          0.11840   \n",
              "1        20.57         17.77           132.9     1326.0          0.08474   \n",
              "2        19.69         21.25           130.0     1203.0          0.10960   \n",
              "\n",
              "   mean compactness  mean concavity  mean concave points  mean symmetry  \\\n",
              "0           0.27760          0.3001              0.14710         0.2419   \n",
              "1           0.07864          0.0869              0.07017         0.1812   \n",
              "2           0.15990          0.1974              0.12790         0.2069   \n",
              "\n",
              "   mean fractal dimension  ...  worst texture  worst perimeter  worst area  \\\n",
              "0                 0.07871  ...          17.33            184.6      2019.0   \n",
              "1                 0.05667  ...          23.41            158.8      1956.0   \n",
              "2                 0.05999  ...          25.53            152.5      1709.0   \n",
              "\n",
              "   worst smoothness  worst compactness  worst concavity  worst concave points  \\\n",
              "0            0.1622             0.6656           0.7119                0.2654   \n",
              "1            0.1238             0.1866           0.2416                0.1860   \n",
              "2            0.1444             0.4245           0.4504                0.2430   \n",
              "\n",
              "   worst symmetry  worst fractal dimension  target  \n",
              "0          0.4601                  0.11890       0  \n",
              "1          0.2750                  0.08902       0  \n",
              "2          0.3613                  0.08758       0  \n",
              "\n",
              "[3 rows x 31 columns]"
            ]
          },
          "execution_count": 3,
          "metadata": {},
          "output_type": "execute_result"
        }
      ],
      "source": [
        "import xgboost as xgb\n",
        "from xgboost import plot_importance\n",
        "import pandas as pd\n",
        "import numpy as np\n",
        "from sklearn.datasets import load_breast_cancer\n",
        "from sklearn.model_selection import train_test_split\n",
        "import warnings\n",
        "warnings.filterwarnings('ignore')\n",
        "\n",
        "dataset = load_breast_cancer()\n",
        "X_features= dataset.data\n",
        "y_label = dataset.target\n",
        "\n",
        "cancer_df = pd.DataFrame(data=X_features, columns=dataset.feature_names)\n",
        "cancer_df['target']= y_label\n",
        "cancer_df.head(3)\n",
        "#악성 0 , 양성b 1"
      ]
    },
    {
      "cell_type": "code",
      "execution_count": null,
      "metadata": {
        "id": "ZdcXiRyyBh48",
        "outputId": "d99f7038-dd44-465b-a554-32e2f768419a"
      },
      "outputs": [
        {
          "name": "stdout",
          "output_type": "stream",
          "text": [
            "['malignant' 'benign']\n",
            "target\n",
            "1    357\n",
            "0    212\n",
            "Name: count, dtype: int64\n"
          ]
        }
      ],
      "source": [
        "print(dataset.target_names)\n",
        "print(cancer_df['target'].value_counts())"
      ]
    },
    {
      "cell_type": "code",
      "execution_count": null,
      "metadata": {
        "id": "75T5MSgKBh48",
        "outputId": "7c3b166a-497f-4149-b0f3-a85c26dd894c"
      },
      "outputs": [
        {
          "name": "stdout",
          "output_type": "stream",
          "text": [
            "(455, 30) (114, 30)\n",
            "(409, 30) (46, 30)\n"
          ]
        }
      ],
      "source": [
        "# cancer_df에서 feature용 DataFrame과 Label용 Series 객체 추출\n",
        "# 맨 마지막 칼럼이 Label임. Feature용 DataFrame은 cancer_df의 첫번째 칼럼에서 맨 마지막 두번째 칼럼까지를 :-1 슬라이싱으로 추출.\n",
        "X_features = cancer_df.iloc[:, :-1]\n",
        "y_label = cancer_df.iloc[:, -1]\n",
        "\n",
        "# 전체 데이터 중 80%는 학습용 데이터, 20%는 테스트용 데이터 추출\n",
        "X_train, X_test, y_train, y_test=train_test_split(X_features, y_label,\n",
        "                                         test_size=0.2, random_state=156 )\n",
        "\n",
        "# 위에서 만든 X_train, y_train을 다시 쪼개서 90%는 학습과 10%는 검증용 데이터로 분리\n",
        "X_tr, X_val, y_tr, y_val= train_test_split(X_train, y_train, test_size=0.1, random_state=156 )\n",
        "print(X_train.shape , X_test.shape)\n",
        "print(X_tr.shape, X_val.shape)"
      ]
    },
    {
      "cell_type": "code",
      "execution_count": null,
      "metadata": {
        "id": "3sMSepSOBh48"
      },
      "outputs": [],
      "source": [
        "# 만약 구버전 XGBoost에서 DataFrame으로 DMatrix 생성이 안될 경우 X_train.values로 넘파이 변환.\n",
        "# 학습, 검증, 테스트용 DMatrix를 생성.\n",
        "\n",
        "dtr = xgb.DMatrix(data=X_tr, label=y_tr)\n",
        "dval = xgb.DMatrix(data=X_val, label=y_val)\n",
        "dtest = xgb.DMatrix(data=X_test , label=y_test)"
      ]
    },
    {
      "cell_type": "code",
      "execution_count": null,
      "metadata": {
        "id": "YLW4JKSPBh48"
      },
      "outputs": [],
      "source": [
        "params = { 'max_depth':3,\n",
        "          'eta': 0.05, #학습률\n",
        "          'objective':'binary:logistic', #이진분류- 목적함수가 이진 로지스틱\n",
        "          'eval_metric':'logloss' # 오류 함수의 평가 성능 지표\n",
        "         }\n",
        "num_rounds = 400 #부스팅 반복 횟수"
      ]
    },
    {
      "cell_type": "code",
      "execution_count": null,
      "metadata": {
        "id": "hsxDZcoiBh48",
        "outputId": "50267ea9-4d82-44dc-8e83-2d71ff2dfe34"
      },
      "outputs": [
        {
          "name": "stdout",
          "output_type": "stream",
          "text": [
            "[0]\ttrain-logloss:0.62480\teval-logloss:0.63104\n",
            "[1]\ttrain-logloss:0.58674\teval-logloss:0.60478\n",
            "[2]\ttrain-logloss:0.55226\teval-logloss:0.58223\n",
            "[3]\ttrain-logloss:0.52086\teval-logloss:0.56184\n",
            "[4]\ttrain-logloss:0.49192\teval-logloss:0.54118\n",
            "[5]\ttrain-logloss:0.46537\teval-logloss:0.52223\n",
            "[6]\ttrain-logloss:0.44029\teval-logloss:0.50287\n",
            "[7]\ttrain-logloss:0.41666\teval-logloss:0.48620\n",
            "[8]\ttrain-logloss:0.39525\teval-logloss:0.46974\n",
            "[9]\ttrain-logloss:0.37542\teval-logloss:0.45497\n",
            "[10]\ttrain-logloss:0.35701\teval-logloss:0.44131\n",
            "[11]\ttrain-logloss:0.33982\teval-logloss:0.43134\n",
            "[12]\ttrain-logloss:0.32297\teval-logloss:0.41972\n",
            "[13]\ttrain-logloss:0.30725\teval-logloss:0.40902\n",
            "[14]\ttrain-logloss:0.29327\teval-logloss:0.39883\n",
            "[15]\ttrain-logloss:0.27946\teval-logloss:0.38968\n",
            "[16]\ttrain-logloss:0.26691\teval-logloss:0.38150\n",
            "[17]\ttrain-logloss:0.25473\teval-logloss:0.37368\n",
            "[18]\ttrain-logloss:0.24385\teval-logloss:0.36666\n",
            "[19]\ttrain-logloss:0.23338\teval-logloss:0.35994\n",
            "[20]\ttrain-logloss:0.22320\teval-logloss:0.35374\n",
            "[21]\ttrain-logloss:0.21363\teval-logloss:0.34704\n",
            "[22]\ttrain-logloss:0.20487\teval-logloss:0.34206\n",
            "[23]\ttrain-logloss:0.19634\teval-logloss:0.33621\n",
            "[24]\ttrain-logloss:0.18830\teval-logloss:0.33178\n",
            "[25]\ttrain-logloss:0.18093\teval-logloss:0.32774\n",
            "[26]\ttrain-logloss:0.17374\teval-logloss:0.32297\n",
            "[27]\ttrain-logloss:0.16695\teval-logloss:0.31855\n",
            "[28]\ttrain-logloss:0.16059\teval-logloss:0.31495\n",
            "[29]\ttrain-logloss:0.15450\teval-logloss:0.31173\n",
            "[30]\ttrain-logloss:0.14875\teval-logloss:0.30735\n",
            "[31]\ttrain-logloss:0.14329\teval-logloss:0.30463\n",
            "[32]\ttrain-logloss:0.13807\teval-logloss:0.30242\n",
            "[33]\ttrain-logloss:0.13325\teval-logloss:0.29922\n",
            "[34]\ttrain-logloss:0.12864\teval-logloss:0.29722\n",
            "[35]\ttrain-logloss:0.12429\teval-logloss:0.29540\n",
            "[36]\ttrain-logloss:0.12000\teval-logloss:0.29300\n",
            "[37]\ttrain-logloss:0.11581\teval-logloss:0.29010\n",
            "[38]\ttrain-logloss:0.11210\teval-logloss:0.28883\n",
            "[39]\ttrain-logloss:0.10838\teval-logloss:0.28769\n",
            "[40]\ttrain-logloss:0.10481\teval-logloss:0.28574\n",
            "[41]\ttrain-logloss:0.10160\teval-logloss:0.28434\n",
            "[42]\ttrain-logloss:0.09832\teval-logloss:0.28226\n",
            "[43]\ttrain-logloss:0.09534\teval-logloss:0.28006\n",
            "[44]\ttrain-logloss:0.09249\teval-logloss:0.27854\n",
            "[45]\ttrain-logloss:0.08972\teval-logloss:0.27747\n",
            "[46]\ttrain-logloss:0.08700\teval-logloss:0.27654\n",
            "[47]\ttrain-logloss:0.08461\teval-logloss:0.27598\n",
            "[48]\ttrain-logloss:0.08225\teval-logloss:0.27415\n",
            "[49]\ttrain-logloss:0.08001\teval-logloss:0.27245\n",
            "[50]\ttrain-logloss:0.07784\teval-logloss:0.27104\n",
            "[51]\ttrain-logloss:0.07578\teval-logloss:0.26958\n",
            "[52]\ttrain-logloss:0.07384\teval-logloss:0.26869\n",
            "[53]\ttrain-logloss:0.07196\teval-logloss:0.26760\n",
            "[54]\ttrain-logloss:0.07021\teval-logloss:0.26661\n",
            "[55]\ttrain-logloss:0.06833\teval-logloss:0.26680\n",
            "[56]\ttrain-logloss:0.06671\teval-logloss:0.26517\n",
            "[57]\ttrain-logloss:0.06519\teval-logloss:0.26412\n",
            "[58]\ttrain-logloss:0.06368\teval-logloss:0.26444\n",
            "[59]\ttrain-logloss:0.06202\teval-logloss:0.26434\n",
            "[60]\ttrain-logloss:0.06048\teval-logloss:0.26208\n",
            "[61]\ttrain-logloss:0.05898\teval-logloss:0.26139\n",
            "[62]\ttrain-logloss:0.05756\teval-logloss:0.26155\n",
            "[63]\ttrain-logloss:0.05614\teval-logloss:0.26114\n",
            "[64]\ttrain-logloss:0.05486\teval-logloss:0.25973\n",
            "[65]\ttrain-logloss:0.05372\teval-logloss:0.25878\n",
            "[66]\ttrain-logloss:0.05263\teval-logloss:0.25758\n",
            "[67]\ttrain-logloss:0.05140\teval-logloss:0.25664\n",
            "[68]\ttrain-logloss:0.05019\teval-logloss:0.25625\n",
            "[69]\ttrain-logloss:0.04910\teval-logloss:0.25593\n",
            "[70]\ttrain-logloss:0.04806\teval-logloss:0.25438\n",
            "[71]\ttrain-logloss:0.04704\teval-logloss:0.25373\n",
            "[72]\ttrain-logloss:0.04606\teval-logloss:0.25411\n",
            "[73]\ttrain-logloss:0.04514\teval-logloss:0.25316\n",
            "[74]\ttrain-logloss:0.04435\teval-logloss:0.25248\n",
            "[75]\ttrain-logloss:0.04347\teval-logloss:0.25271\n",
            "[76]\ttrain-logloss:0.04260\teval-logloss:0.25282\n",
            "[77]\ttrain-logloss:0.04178\teval-logloss:0.25165\n",
            "[78]\ttrain-logloss:0.04099\teval-logloss:0.25181\n",
            "[79]\ttrain-logloss:0.04022\teval-logloss:0.25210\n",
            "[80]\ttrain-logloss:0.03942\teval-logloss:0.25194\n",
            "[81]\ttrain-logloss:0.03875\teval-logloss:0.25254\n",
            "[82]\ttrain-logloss:0.03799\teval-logloss:0.25264\n",
            "[83]\ttrain-logloss:0.03727\teval-logloss:0.25280\n",
            "[84]\ttrain-logloss:0.03657\teval-logloss:0.25281\n",
            "[85]\ttrain-logloss:0.03586\teval-logloss:0.25219\n",
            "[86]\ttrain-logloss:0.03530\teval-logloss:0.25288\n",
            "[87]\ttrain-logloss:0.03464\teval-logloss:0.25226\n",
            "[88]\ttrain-logloss:0.03401\teval-logloss:0.25167\n",
            "[89]\ttrain-logloss:0.03347\teval-logloss:0.25258\n",
            "[90]\ttrain-logloss:0.03297\teval-logloss:0.25331\n",
            "[91]\ttrain-logloss:0.03240\teval-logloss:0.25373\n",
            "[92]\ttrain-logloss:0.03184\teval-logloss:0.25323\n",
            "[93]\ttrain-logloss:0.03136\teval-logloss:0.25240\n",
            "[94]\ttrain-logloss:0.03086\teval-logloss:0.25324\n",
            "[95]\ttrain-logloss:0.03035\teval-logloss:0.25280\n",
            "[96]\ttrain-logloss:0.02985\teval-logloss:0.25215\n",
            "[97]\ttrain-logloss:0.02937\teval-logloss:0.25179\n",
            "[98]\ttrain-logloss:0.02892\teval-logloss:0.25143\n",
            "[99]\ttrain-logloss:0.02853\teval-logloss:0.25180\n",
            "[100]\ttrain-logloss:0.02810\teval-logloss:0.25151\n",
            "[101]\ttrain-logloss:0.02769\teval-logloss:0.25158\n",
            "[102]\ttrain-logloss:0.02729\teval-logloss:0.25130\n",
            "[103]\ttrain-logloss:0.02689\teval-logloss:0.25094\n",
            "[104]\ttrain-logloss:0.02654\teval-logloss:0.25054\n",
            "[105]\ttrain-logloss:0.02617\teval-logloss:0.25030\n",
            "[106]\ttrain-logloss:0.02580\teval-logloss:0.24850\n",
            "[107]\ttrain-logloss:0.02545\teval-logloss:0.24829\n",
            "[108]\ttrain-logloss:0.02509\teval-logloss:0.24828\n",
            "[109]\ttrain-logloss:0.02475\teval-logloss:0.24881\n",
            "[110]\ttrain-logloss:0.02443\teval-logloss:0.24912\n",
            "[111]\ttrain-logloss:0.02405\teval-logloss:0.24791\n",
            "[112]\ttrain-logloss:0.02374\teval-logloss:0.24846\n",
            "[113]\ttrain-logloss:0.02341\teval-logloss:0.24931\n",
            "[114]\ttrain-logloss:0.02314\teval-logloss:0.24832\n",
            "[115]\ttrain-logloss:0.02286\teval-logloss:0.24889\n",
            "[116]\ttrain-logloss:0.02255\teval-logloss:0.24866\n",
            "[117]\ttrain-logloss:0.02227\teval-logloss:0.24925\n",
            "[118]\ttrain-logloss:0.02197\teval-logloss:0.24679\n",
            "[119]\ttrain-logloss:0.02172\teval-logloss:0.24787\n",
            "[120]\ttrain-logloss:0.02141\teval-logloss:0.24846\n",
            "[121]\ttrain-logloss:0.02112\teval-logloss:0.24683\n",
            "[122]\ttrain-logloss:0.02088\teval-logloss:0.24650\n",
            "[123]\ttrain-logloss:0.02061\teval-logloss:0.24497\n",
            "[124]\ttrain-logloss:0.02037\teval-logloss:0.24529\n",
            "[125]\ttrain-logloss:0.02012\teval-logloss:0.24516\n",
            "[126]\ttrain-logloss:0.01987\teval-logloss:0.24576\n",
            "[127]\ttrain-logloss:0.01967\teval-logloss:0.24576\n",
            "[128]\ttrain-logloss:0.01943\teval-logloss:0.24563\n",
            "[129]\ttrain-logloss:0.01922\teval-logloss:0.24533\n",
            "[130]\ttrain-logloss:0.01900\teval-logloss:0.24591\n",
            "[131]\ttrain-logloss:0.01881\teval-logloss:0.24593\n",
            "[132]\ttrain-logloss:0.01858\teval-logloss:0.24582\n",
            "[133]\ttrain-logloss:0.01839\teval-logloss:0.24619\n",
            "[134]\ttrain-logloss:0.01824\teval-logloss:0.24631\n",
            "[135]\ttrain-logloss:0.01805\teval-logloss:0.24669\n",
            "[136]\ttrain-logloss:0.01785\teval-logloss:0.24660\n",
            "[137]\ttrain-logloss:0.01770\teval-logloss:0.24584\n",
            "[138]\ttrain-logloss:0.01753\teval-logloss:0.24465\n",
            "[139]\ttrain-logloss:0.01734\teval-logloss:0.24458\n",
            "[140]\ttrain-logloss:0.01720\teval-logloss:0.24385\n",
            "[141]\ttrain-logloss:0.01703\teval-logloss:0.24422\n",
            "[142]\ttrain-logloss:0.01690\teval-logloss:0.24423\n",
            "[143]\ttrain-logloss:0.01673\teval-logloss:0.24408\n",
            "[144]\ttrain-logloss:0.01655\teval-logloss:0.24381\n",
            "[145]\ttrain-logloss:0.01641\teval-logloss:0.24311\n",
            "[146]\ttrain-logloss:0.01629\teval-logloss:0.24322\n",
            "[147]\ttrain-logloss:0.01614\teval-logloss:0.24360\n",
            "[148]\ttrain-logloss:0.01597\teval-logloss:0.24328\n",
            "[149]\ttrain-logloss:0.01582\teval-logloss:0.24314\n",
            "[150]\ttrain-logloss:0.01571\teval-logloss:0.24315\n",
            "[151]\ttrain-logloss:0.01556\teval-logloss:0.24289\n",
            "[152]\ttrain-logloss:0.01537\teval-logloss:0.24363\n",
            "[153]\ttrain-logloss:0.01523\teval-logloss:0.24404\n",
            "[154]\ttrain-logloss:0.01510\teval-logloss:0.24383\n",
            "[155]\ttrain-logloss:0.01493\teval-logloss:0.24435\n",
            "[156]\ttrain-logloss:0.01478\teval-logloss:0.24425\n",
            "[157]\ttrain-logloss:0.01467\teval-logloss:0.24361\n",
            "[158]\ttrain-logloss:0.01455\teval-logloss:0.24294\n",
            "[159]\ttrain-logloss:0.01440\teval-logloss:0.24340\n",
            "[160]\ttrain-logloss:0.01428\teval-logloss:0.24323\n",
            "[161]\ttrain-logloss:0.01417\teval-logloss:0.24310\n",
            "[162]\ttrain-logloss:0.01409\teval-logloss:0.24247\n",
            "[163]\ttrain-logloss:0.01393\teval-logloss:0.24311\n",
            "[164]\ttrain-logloss:0.01380\teval-logloss:0.24269\n",
            "[165]\ttrain-logloss:0.01368\teval-logloss:0.24268\n",
            "[166]\ttrain-logloss:0.01360\teval-logloss:0.24242\n",
            "[167]\ttrain-logloss:0.01345\teval-logloss:0.24306\n",
            "[168]\ttrain-logloss:0.01335\teval-logloss:0.24220\n",
            "[169]\ttrain-logloss:0.01328\teval-logloss:0.24116\n"
          ]
        },
        {
          "name": "stdout",
          "output_type": "stream",
          "text": [
            "[170]\ttrain-logloss:0.01317\teval-logloss:0.24117\n",
            "[171]\ttrain-logloss:0.01308\teval-logloss:0.24126\n",
            "[172]\ttrain-logloss:0.01299\teval-logloss:0.24046\n",
            "[173]\ttrain-logloss:0.01292\teval-logloss:0.23993\n",
            "[174]\ttrain-logloss:0.01284\teval-logloss:0.23985\n",
            "[175]\ttrain-logloss:0.01275\teval-logloss:0.23994\n",
            "[176]\ttrain-logloss:0.01268\teval-logloss:0.23986\n",
            "[177]\ttrain-logloss:0.01260\teval-logloss:0.23996\n",
            "[178]\ttrain-logloss:0.01253\teval-logloss:0.23943\n",
            "[179]\ttrain-logloss:0.01243\teval-logloss:0.23847\n",
            "[180]\ttrain-logloss:0.01236\teval-logloss:0.23842\n",
            "[181]\ttrain-logloss:0.01226\teval-logloss:0.23885\n",
            "[182]\ttrain-logloss:0.01220\teval-logloss:0.23828\n",
            "[183]\ttrain-logloss:0.01214\teval-logloss:0.23892\n",
            "[184]\ttrain-logloss:0.01205\teval-logloss:0.23804\n",
            "[185]\ttrain-logloss:0.01198\teval-logloss:0.23799\n",
            "[186]\ttrain-logloss:0.01191\teval-logloss:0.23809\n",
            "[187]\ttrain-logloss:0.01185\teval-logloss:0.23752\n",
            "[188]\ttrain-logloss:0.01176\teval-logloss:0.23662\n",
            "[189]\ttrain-logloss:0.01170\teval-logloss:0.23659\n",
            "[190]\ttrain-logloss:0.01163\teval-logloss:0.23668\n",
            "[191]\ttrain-logloss:0.01157\teval-logloss:0.23732\n",
            "[192]\ttrain-logloss:0.01152\teval-logloss:0.23726\n",
            "[193]\ttrain-logloss:0.01146\teval-logloss:0.23722\n",
            "[194]\ttrain-logloss:0.01141\teval-logloss:0.23715\n",
            "[195]\ttrain-logloss:0.01136\teval-logloss:0.23661\n",
            "[196]\ttrain-logloss:0.01128\teval-logloss:0.23673\n",
            "[197]\ttrain-logloss:0.01126\teval-logloss:0.23651\n",
            "[198]\ttrain-logloss:0.01120\teval-logloss:0.23628\n",
            "[199]\ttrain-logloss:0.01113\teval-logloss:0.23641\n",
            "[200]\ttrain-logloss:0.01108\teval-logloss:0.23554\n",
            "[201]\ttrain-logloss:0.01103\teval-logloss:0.23533\n",
            "[202]\ttrain-logloss:0.01097\teval-logloss:0.23543\n",
            "[203]\ttrain-logloss:0.01091\teval-logloss:0.23546\n",
            "[204]\ttrain-logloss:0.01086\teval-logloss:0.23588\n",
            "[205]\ttrain-logloss:0.01079\teval-logloss:0.23600\n",
            "[206]\ttrain-logloss:0.01074\teval-logloss:0.23578\n",
            "[207]\ttrain-logloss:0.01069\teval-logloss:0.23597\n",
            "[208]\ttrain-logloss:0.01064\teval-logloss:0.23601\n",
            "[209]\ttrain-logloss:0.01058\teval-logloss:0.23613\n",
            "[210]\ttrain-logloss:0.01054\teval-logloss:0.23592\n",
            "[211]\ttrain-logloss:0.01047\teval-logloss:0.23605\n",
            "[212]\ttrain-logloss:0.01045\teval-logloss:0.23586\n",
            "[213]\ttrain-logloss:0.01041\teval-logloss:0.23626\n",
            "[214]\ttrain-logloss:0.01036\teval-logloss:0.23646\n",
            "[215]\ttrain-logloss:0.01031\teval-logloss:0.23649\n",
            "[216]\ttrain-logloss:0.01026\teval-logloss:0.23697\n",
            "[217]\ttrain-logloss:0.01024\teval-logloss:0.23679\n",
            "[218]\ttrain-logloss:0.01019\teval-logloss:0.23689\n",
            "[219]\ttrain-logloss:0.01014\teval-logloss:0.23693\n",
            "[220]\ttrain-logloss:0.01011\teval-logloss:0.23714\n",
            "[221]\ttrain-logloss:0.01006\teval-logloss:0.23732\n",
            "[222]\ttrain-logloss:0.01004\teval-logloss:0.23714\n",
            "[223]\ttrain-logloss:0.01001\teval-logloss:0.23736\n",
            "[224]\ttrain-logloss:0.00999\teval-logloss:0.23711\n",
            "[225]\ttrain-logloss:0.00997\teval-logloss:0.23703\n",
            "[226]\ttrain-logloss:0.00994\teval-logloss:0.23757\n",
            "[227]\ttrain-logloss:0.00992\teval-logloss:0.23740\n",
            "[228]\ttrain-logloss:0.00986\teval-logloss:0.23673\n",
            "[229]\ttrain-logloss:0.00984\teval-logloss:0.23649\n",
            "[230]\ttrain-logloss:0.00981\teval-logloss:0.23670\n",
            "[231]\ttrain-logloss:0.00979\teval-logloss:0.23653\n",
            "[232]\ttrain-logloss:0.00975\teval-logloss:0.23671\n",
            "[233]\ttrain-logloss:0.00971\teval-logloss:0.23674\n",
            "[234]\ttrain-logloss:0.00968\teval-logloss:0.23696\n",
            "[235]\ttrain-logloss:0.00966\teval-logloss:0.23673\n",
            "[236]\ttrain-logloss:0.00964\teval-logloss:0.23656\n",
            "[237]\ttrain-logloss:0.00961\teval-logloss:0.23708\n",
            "[238]\ttrain-logloss:0.00957\teval-logloss:0.23764\n",
            "[239]\ttrain-logloss:0.00954\teval-logloss:0.23766\n",
            "[240]\ttrain-logloss:0.00949\teval-logloss:0.23778\n",
            "[241]\ttrain-logloss:0.00948\teval-logloss:0.23775\n",
            "[242]\ttrain-logloss:0.00945\teval-logloss:0.23796\n",
            "[243]\ttrain-logloss:0.00943\teval-logloss:0.23780\n",
            "[244]\ttrain-logloss:0.00941\teval-logloss:0.23827\n",
            "[245]\ttrain-logloss:0.00940\teval-logloss:0.23819\n",
            "[246]\ttrain-logloss:0.00937\teval-logloss:0.23840\n",
            "[247]\ttrain-logloss:0.00935\teval-logloss:0.23838\n",
            "[248]\ttrain-logloss:0.00933\teval-logloss:0.23821\n",
            "[249]\ttrain-logloss:0.00931\teval-logloss:0.23872\n",
            "[250]\ttrain-logloss:0.00925\teval-logloss:0.23805\n"
          ]
        }
      ],
      "source": [
        "# 학습 데이터 셋은 'train' 또는 평가 데이터 셋은 'eval' 로 명기합니다.\n",
        "eval_list = [(dtr,'train'),(dval,'eval')] # 또는 eval_list = [(dval,'eval')] 만 명기해도 무방.\n",
        "\n",
        "# 하이퍼 파라미터와 early stopping 파라미터를 train( ) 함수의 파라미터로 전달\n",
        "xgb_model = xgb.train(params = params , dtrain=dtr , num_boost_round=num_rounds , \\\n",
        "                      early_stopping_rounds=50, evals=eval_list )\n",
        "#조기중단 #early _stopping: 조기 중단 할 수 있는 최소 반복 횟수\n"
      ]
    },
    {
      "cell_type": "code",
      "execution_count": null,
      "metadata": {
        "id": "SWN6EMMQBh49",
        "outputId": "371377a9-f622-4298-ba88-79ebd641b0c2"
      },
      "outputs": [
        {
          "name": "stdout",
          "output_type": "stream",
          "text": [
            "predict( ) 수행 결과값을 10개만 표시, 예측 확률 값으로 표시됨\n",
            "[0.938 0.004 0.75  0.049 0.98  1.    0.999 0.999 0.998 0.001]\n",
            "예측값 10개만 표시: [1, 0, 1, 0, 1, 1, 1, 1, 1, 0]\n"
          ]
        }
      ],
      "source": [
        "pred_probs = xgb_model.predict(dtest)\n",
        "print('predict( ) 수행 결과값을 10개만 표시, 예측 확률 값으로 표시됨')\n",
        "print(np.round(pred_probs[:10],3))\n",
        "\n",
        "# 예측 확률이 0.5 보다 크면 1 , 그렇지 않으면 0 으로 예측값 결정하여 List 객체인 preds에 저장\n",
        "preds = [ 1 if x > 0.5 else 0 for x in pred_probs ]\n",
        "print('예측값 10개만 표시:',preds[:10])"
      ]
    },
    {
      "cell_type": "code",
      "execution_count": null,
      "metadata": {
        "id": "JXclERQpBh49"
      },
      "outputs": [],
      "source": [
        "from sklearn.metrics import confusion_matrix, accuracy_score\n",
        "from sklearn.metrics import precision_score, recall_score\n",
        "from sklearn.metrics import f1_score, roc_auc_score\n",
        "\n",
        "def get_clf_eval(y_test, pred=None, pred_proba=None):\n",
        "    confusion = confusion_matrix( y_test, pred)\n",
        "    accuracy = accuracy_score(y_test , pred)\n",
        "    precision = precision_score(y_test , pred)\n",
        "    recall = recall_score(y_test , pred)\n",
        "    f1 = f1_score(y_test,pred)\n",
        "    # ROC-AUC 추가\n",
        "    roc_auc = roc_auc_score(y_test, pred_proba)\n",
        "    print('오차 행렬')\n",
        "    print(confusion)\n",
        "    # ROC-AUC print 추가\n",
        "    print('정확도: {0:.4f}, 정밀도: {1:.4f}, 재현율: {2:.4f},\\\n",
        "    F1: {3:.4f}, AUC:{4:.4f}'.format(accuracy, precision, recall, f1, roc_auc))"
      ]
    },
    {
      "cell_type": "code",
      "execution_count": null,
      "metadata": {
        "id": "mO9K-awfBh49",
        "outputId": "8a768b3a-3c0b-43f5-b9d2-c330e9cdee9e"
      },
      "outputs": [
        {
          "name": "stdout",
          "output_type": "stream",
          "text": [
            "오차 행렬\n",
            "[[35  2]\n",
            " [ 2 75]]\n",
            "정확도: 0.9649, 정밀도: 0.9740, 재현율: 0.9740,    F1: 0.9740, AUC:0.9965\n"
          ]
        }
      ],
      "source": [
        "get_clf_eval(y_test , preds, pred_probs)"
      ]
    },
    {
      "cell_type": "code",
      "execution_count": null,
      "metadata": {
        "id": "YOf5LqtWBh49",
        "outputId": "7fdc6333-6e07-49aa-8228-95f840f521f8"
      },
      "outputs": [
        {
          "data": {
            "image/png": "[encoded data removed]",
            "text/plain": [
              "<Figure size 1000x1200 with 1 Axes>"
            ]
          },
          "metadata": {},
          "output_type": "display_data"
        }
      ],
      "source": [
        "import matplotlib.pyplot as plt\n",
        "%matplotlib inline\n",
        "\n",
        "fig, ax = plt.subplots(figsize=(10, 12))\n",
        "plot_importance(xgb_model, ax=ax)\n",
        "plt.savefig('p239_xgb_feature_importance.tif', format='tif', dpi=300, bbox_inches='tight')"
      ]
    },
    {
      "cell_type": "markdown",
      "metadata": {
        "id": "MGhnIwdmBh49"
      },
      "source": [
        "### 사이킷런 래퍼 XGBoost의 개요 및 적용"
      ]
    },
    {
      "cell_type": "code",
      "execution_count": null,
      "metadata": {
        "id": "pqQiBSumBh49"
      },
      "outputs": [],
      "source": [
        "# 사이킷런 래퍼 XGBoost 클래스인 XGBClassifier 임포트\n",
        "from xgboost import XGBClassifier\n",
        "\n",
        "xgb_wrapper = XGBClassifier(n_estimators=400, learning_rate=0.1, max_depth=3)\n",
        "xgb_wrapper.fit(X_train, y_train)\n",
        "w_preds = xgb_wrapper.predict(X_test)\n",
        "w_pred_proba = xgb_wrapper.predict_proba(X_test)[:, 1]"
      ]
    },
    {
      "cell_type": "code",
      "execution_count": null,
      "metadata": {
        "id": "Zm3ckHKwBh49",
        "outputId": "8a9754b9-2f6c-4e8c-d2cc-751f31af30da"
      },
      "outputs": [
        {
          "name": "stdout",
          "output_type": "stream",
          "text": [
            "오차 행렬\n",
            "[[35  2]\n",
            " [ 1 76]]\n",
            "정확도: 0.9737, 정밀도: 0.9744, 재현율: 0.9870,    F1: 0.9806, AUC:0.9947\n"
          ]
        }
      ],
      "source": [
        "get_clf_eval(y_test , w_preds, w_pred_proba)"
      ]
    },
    {
      "cell_type": "code",
      "execution_count": null,
      "metadata": {
        "id": "gx9QAG1iBh49",
        "outputId": "4e983ebe-9517-44e3-92af-36c902f93a5c"
      },
      "outputs": [
        {
          "name": "stdout",
          "output_type": "stream",
          "text": [
            "[0]\tvalidation_0-logloss:0.56554\n",
            "[1]\tvalidation_0-logloss:0.50669\n",
            "[2]\tvalidation_0-logloss:0.45868\n",
            "[3]\tvalidation_0-logloss:0.41822\n",
            "[4]\tvalidation_0-logloss:0.38103\n",
            "[5]\tvalidation_0-logloss:0.35137\n",
            "[6]\tvalidation_0-logloss:0.32588\n",
            "[7]\tvalidation_0-logloss:0.30127\n",
            "[8]\tvalidation_0-logloss:0.28197\n",
            "[9]\tvalidation_0-logloss:0.26265\n",
            "[10]\tvalidation_0-logloss:0.24821\n",
            "[11]\tvalidation_0-logloss:0.23231\n",
            "[12]\tvalidation_0-logloss:0.22079\n",
            "[13]\tvalidation_0-logloss:0.20795\n",
            "[14]\tvalidation_0-logloss:0.19764\n",
            "[15]\tvalidation_0-logloss:0.18950\n",
            "[16]\tvalidation_0-logloss:0.18052\n",
            "[17]\tvalidation_0-logloss:0.17246\n",
            "[18]\tvalidation_0-logloss:0.16512\n",
            "[19]\tvalidation_0-logloss:0.15828\n",
            "[20]\tvalidation_0-logloss:0.15436\n",
            "[21]\tvalidation_0-logloss:0.14633\n",
            "[22]\tvalidation_0-logloss:0.13936\n",
            "[23]\tvalidation_0-logloss:0.13393\n",
            "[24]\tvalidation_0-logloss:0.13015\n",
            "[25]\tvalidation_0-logloss:0.12489\n",
            "[26]\tvalidation_0-logloss:0.12206\n",
            "[27]\tvalidation_0-logloss:0.11890\n",
            "[28]\tvalidation_0-logloss:0.11637\n",
            "[29]\tvalidation_0-logloss:0.11293\n",
            "[30]\tvalidation_0-logloss:0.11040\n",
            "[31]\tvalidation_0-logloss:0.10826\n",
            "[32]\tvalidation_0-logloss:0.10452\n",
            "[33]\tvalidation_0-logloss:0.10322\n",
            "[34]\tvalidation_0-logloss:0.10059\n",
            "[35]\tvalidation_0-logloss:0.09869\n",
            "[36]\tvalidation_0-logloss:0.09658\n",
            "[37]\tvalidation_0-logloss:0.09487\n",
            "[38]\tvalidation_0-logloss:0.09443\n",
            "[39]\tvalidation_0-logloss:0.09374\n",
            "[40]\tvalidation_0-logloss:0.09239\n",
            "[41]\tvalidation_0-logloss:0.09159\n",
            "[42]\tvalidation_0-logloss:0.09004\n",
            "[43]\tvalidation_0-logloss:0.09029\n",
            "[44]\tvalidation_0-logloss:0.08966\n",
            "[45]\tvalidation_0-logloss:0.08808\n",
            "[46]\tvalidation_0-logloss:0.08783\n",
            "[47]\tvalidation_0-logloss:0.08756\n",
            "[48]\tvalidation_0-logloss:0.08682\n",
            "[49]\tvalidation_0-logloss:0.08829\n",
            "[50]\tvalidation_0-logloss:0.08882\n",
            "[51]\tvalidation_0-logloss:0.08871\n",
            "[52]\tvalidation_0-logloss:0.08780\n",
            "[53]\tvalidation_0-logloss:0.08766\n",
            "[54]\tvalidation_0-logloss:0.08825\n",
            "[55]\tvalidation_0-logloss:0.08882\n",
            "[56]\tvalidation_0-logloss:0.08785\n",
            "[57]\tvalidation_0-logloss:0.08813\n",
            "[58]\tvalidation_0-logloss:0.08871\n",
            "[59]\tvalidation_0-logloss:0.08760\n",
            "[60]\tvalidation_0-logloss:0.08712\n",
            "[61]\tvalidation_0-logloss:0.08795\n",
            "[62]\tvalidation_0-logloss:0.08799\n",
            "[63]\tvalidation_0-logloss:0.08808\n",
            "[64]\tvalidation_0-logloss:0.08749\n",
            "[65]\tvalidation_0-logloss:0.08760\n",
            "[66]\tvalidation_0-logloss:0.08708\n",
            "[67]\tvalidation_0-logloss:0.08668\n",
            "[68]\tvalidation_0-logloss:0.08654\n",
            "[69]\tvalidation_0-logloss:0.08630\n",
            "[70]\tvalidation_0-logloss:0.08574\n",
            "[71]\tvalidation_0-logloss:0.08696\n",
            "[72]\tvalidation_0-logloss:0.08626\n",
            "[73]\tvalidation_0-logloss:0.08685\n",
            "[74]\tvalidation_0-logloss:0.08663\n",
            "[75]\tvalidation_0-logloss:0.08780\n",
            "[76]\tvalidation_0-logloss:0.08713\n",
            "[77]\tvalidation_0-logloss:0.08822\n",
            "[78]\tvalidation_0-logloss:0.08758\n",
            "[79]\tvalidation_0-logloss:0.08728\n",
            "[80]\tvalidation_0-logloss:0.08703\n",
            "[81]\tvalidation_0-logloss:0.08719\n",
            "[82]\tvalidation_0-logloss:0.08662\n",
            "[83]\tvalidation_0-logloss:0.08637\n",
            "[84]\tvalidation_0-logloss:0.08570\n",
            "[85]\tvalidation_0-logloss:0.08590\n",
            "[86]\tvalidation_0-logloss:0.08587\n",
            "[87]\tvalidation_0-logloss:0.08614\n",
            "[88]\tvalidation_0-logloss:0.08635\n",
            "[89]\tvalidation_0-logloss:0.08646\n",
            "[90]\tvalidation_0-logloss:0.08583\n",
            "[91]\tvalidation_0-logloss:0.08583\n",
            "[92]\tvalidation_0-logloss:0.08564\n",
            "[93]\tvalidation_0-logloss:0.08669\n",
            "[94]\tvalidation_0-logloss:0.08692\n",
            "[95]\tvalidation_0-logloss:0.08687\n",
            "[96]\tvalidation_0-logloss:0.08641\n",
            "[97]\tvalidation_0-logloss:0.08584\n",
            "[98]\tvalidation_0-logloss:0.08568\n",
            "[99]\tvalidation_0-logloss:0.08552\n",
            "[100]\tvalidation_0-logloss:0.08548\n",
            "[101]\tvalidation_0-logloss:0.08630\n",
            "[102]\tvalidation_0-logloss:0.08658\n",
            "[103]\tvalidation_0-logloss:0.08656\n",
            "[104]\tvalidation_0-logloss:0.08742\n",
            "[105]\tvalidation_0-logloss:0.08779\n",
            "[106]\tvalidation_0-logloss:0.08777\n",
            "[107]\tvalidation_0-logloss:0.08738\n",
            "[108]\tvalidation_0-logloss:0.08729\n",
            "[109]\tvalidation_0-logloss:0.08736\n",
            "[110]\tvalidation_0-logloss:0.08722\n",
            "[111]\tvalidation_0-logloss:0.08774\n",
            "[112]\tvalidation_0-logloss:0.08864\n",
            "[113]\tvalidation_0-logloss:0.08871\n",
            "[114]\tvalidation_0-logloss:0.08836\n",
            "[115]\tvalidation_0-logloss:0.08865\n",
            "[116]\tvalidation_0-logloss:0.08874\n",
            "[117]\tvalidation_0-logloss:0.08861\n",
            "[118]\tvalidation_0-logloss:0.08819\n",
            "[119]\tvalidation_0-logloss:0.08901\n",
            "[120]\tvalidation_0-logloss:0.08894\n",
            "[121]\tvalidation_0-logloss:0.08869\n",
            "[122]\tvalidation_0-logloss:0.08880\n",
            "[123]\tvalidation_0-logloss:0.08848\n",
            "[124]\tvalidation_0-logloss:0.08858\n",
            "[125]\tvalidation_0-logloss:0.08849\n",
            "[126]\tvalidation_0-logloss:0.08909\n",
            "[127]\tvalidation_0-logloss:0.08886\n",
            "[128]\tvalidation_0-logloss:0.08861\n",
            "[129]\tvalidation_0-logloss:0.08942\n",
            "[130]\tvalidation_0-logloss:0.08934\n",
            "[131]\tvalidation_0-logloss:0.08918\n",
            "[132]\tvalidation_0-logloss:0.08880\n",
            "[133]\tvalidation_0-logloss:0.08956\n",
            "[134]\tvalidation_0-logloss:0.08949\n",
            "[135]\tvalidation_0-logloss:0.08934\n",
            "[136]\tvalidation_0-logloss:0.08891\n",
            "[137]\tvalidation_0-logloss:0.08949\n",
            "[138]\tvalidation_0-logloss:0.08962\n",
            "[139]\tvalidation_0-logloss:0.08969\n",
            "[140]\tvalidation_0-logloss:0.08963\n",
            "[141]\tvalidation_0-logloss:0.08948\n",
            "[142]\tvalidation_0-logloss:0.08961\n",
            "[143]\tvalidation_0-logloss:0.09038\n",
            "[144]\tvalidation_0-logloss:0.09033\n",
            "[145]\tvalidation_0-logloss:0.08991\n",
            "[146]\tvalidation_0-logloss:0.08955\n",
            "[147]\tvalidation_0-logloss:0.08994\n",
            "[148]\tvalidation_0-logloss:0.09002\n",
            "[149]\tvalidation_0-logloss:0.09004\n",
            "[150]\tvalidation_0-logloss:0.09000\n",
            "[151]\tvalidation_0-logloss:0.08985\n",
            "[152]\tvalidation_0-logloss:0.08947\n",
            "[153]\tvalidation_0-logloss:0.08979\n",
            "[154]\tvalidation_0-logloss:0.09010\n",
            "[155]\tvalidation_0-logloss:0.09022\n",
            "[156]\tvalidation_0-logloss:0.09018\n",
            "[157]\tvalidation_0-logloss:0.08997\n",
            "[158]\tvalidation_0-logloss:0.09000\n",
            "[159]\tvalidation_0-logloss:0.08977\n",
            "[160]\tvalidation_0-logloss:0.08976\n",
            "[161]\tvalidation_0-logloss:0.08985\n",
            "[162]\tvalidation_0-logloss:0.08988\n",
            "[163]\tvalidation_0-logloss:0.08959\n",
            "[164]\tvalidation_0-logloss:0.08955\n",
            "[165]\tvalidation_0-logloss:0.08958\n",
            "[166]\tvalidation_0-logloss:0.08930\n",
            "[167]\tvalidation_0-logloss:0.08926\n",
            "[168]\tvalidation_0-logloss:0.08913\n",
            "[169]\tvalidation_0-logloss:0.08915\n",
            "[170]\tvalidation_0-logloss:0.08893\n",
            "[171]\tvalidation_0-logloss:0.08896\n",
            "[172]\tvalidation_0-logloss:0.08908\n",
            "[173]\tvalidation_0-logloss:0.08886\n",
            "[174]\tvalidation_0-logloss:0.08886\n",
            "[175]\tvalidation_0-logloss:0.08895\n",
            "[176]\tvalidation_0-logloss:0.08899\n",
            "[177]\tvalidation_0-logloss:0.08895\n",
            "[178]\tvalidation_0-logloss:0.08867\n",
            "[179]\tvalidation_0-logloss:0.08856\n",
            "[180]\tvalidation_0-logloss:0.08844\n",
            "[181]\tvalidation_0-logloss:0.08841\n",
            "[182]\tvalidation_0-logloss:0.08849\n",
            "[183]\tvalidation_0-logloss:0.08853\n",
            "[184]\tvalidation_0-logloss:0.08831\n",
            "[185]\tvalidation_0-logloss:0.08843\n",
            "[186]\tvalidation_0-logloss:0.08847\n",
            "[187]\tvalidation_0-logloss:0.08826\n",
            "[188]\tvalidation_0-logloss:0.08827\n",
            "[189]\tvalidation_0-logloss:0.08817\n",
            "[190]\tvalidation_0-logloss:0.08826\n",
            "[191]\tvalidation_0-logloss:0.08823\n",
            "[192]\tvalidation_0-logloss:0.08811\n",
            "[193]\tvalidation_0-logloss:0.08791\n",
            "[194]\tvalidation_0-logloss:0.08795\n",
            "[195]\tvalidation_0-logloss:0.08806\n",
            "[196]\tvalidation_0-logloss:0.08787\n",
            "[197]\tvalidation_0-logloss:0.08790\n",
            "[198]\tvalidation_0-logloss:0.08792\n",
            "[199]\tvalidation_0-logloss:0.08800\n",
            "[200]\tvalidation_0-logloss:0.08804\n"
          ]
        }
      ],
      "source": [
        "from xgboost import XGBClassifier\n",
        "\n",
        "xgb_wrapper = XGBClassifier(n_estimators=400, learning_rate=0.1, max_depth=3)\n",
        "evals = [(X_test, y_test)]\n",
        "xgb_wrapper.fit(X_train, y_train, early_stopping_rounds=100, eval_metric=\"logloss\",\n",
        "                eval_set=evals, verbose=True)\n",
        "\n",
        "ws100_preds = xgb_wrapper.predict(X_test)\n",
        "ws100_pred_proba = xgb_wrapper.predict_proba(X_test)[:, 1]"
      ]
    },
    {
      "cell_type": "code",
      "execution_count": null,
      "metadata": {
        "scrolled": true,
        "id": "a27RVSKkBh49",
        "outputId": "347962f1-85bb-4cb2-ba6b-f7613bbe8f17"
      },
      "outputs": [
        {
          "name": "stdout",
          "output_type": "stream",
          "text": [
            "오차 행렬\n",
            "[[34  3]\n",
            " [ 1 76]]\n",
            "정확도: 0.9649, 정밀도: 0.9620, 재현율: 0.9870,    F1: 0.9744, AUC:0.9951\n"
          ]
        }
      ],
      "source": [
        "get_clf_eval(y_test , ws100_preds, ws100_pred_proba)"
      ]
    },
    {
      "cell_type": "code",
      "execution_count": null,
      "metadata": {
        "id": "T2wsGaqFBh49",
        "outputId": "e3cdc5f2-9bf2-4d4b-932c-41cc7fd38c7b"
      },
      "outputs": [
        {
          "name": "stdout",
          "output_type": "stream",
          "text": [
            "[0]\tvalidation_0-logloss:0.56554\n",
            "[1]\tvalidation_0-logloss:0.50669\n",
            "[2]\tvalidation_0-logloss:0.45868\n",
            "[3]\tvalidation_0-logloss:0.41822\n",
            "[4]\tvalidation_0-logloss:0.38103\n",
            "[5]\tvalidation_0-logloss:0.35137\n",
            "[6]\tvalidation_0-logloss:0.32588\n",
            "[7]\tvalidation_0-logloss:0.30127\n",
            "[8]\tvalidation_0-logloss:0.28197\n",
            "[9]\tvalidation_0-logloss:0.26265\n",
            "[10]\tvalidation_0-logloss:0.24821\n",
            "[11]\tvalidation_0-logloss:0.23231\n",
            "[12]\tvalidation_0-logloss:0.22079\n",
            "[13]\tvalidation_0-logloss:0.20795\n",
            "[14]\tvalidation_0-logloss:0.19764\n",
            "[15]\tvalidation_0-logloss:0.18950\n",
            "[16]\tvalidation_0-logloss:0.18052\n",
            "[17]\tvalidation_0-logloss:0.17246\n",
            "[18]\tvalidation_0-logloss:0.16512\n",
            "[19]\tvalidation_0-logloss:0.15828\n",
            "[20]\tvalidation_0-logloss:0.15436\n",
            "[21]\tvalidation_0-logloss:0.14633\n",
            "[22]\tvalidation_0-logloss:0.13936\n",
            "[23]\tvalidation_0-logloss:0.13393\n",
            "[24]\tvalidation_0-logloss:0.13015\n",
            "[25]\tvalidation_0-logloss:0.12489\n",
            "[26]\tvalidation_0-logloss:0.12206\n",
            "[27]\tvalidation_0-logloss:0.11890\n",
            "[28]\tvalidation_0-logloss:0.11637\n",
            "[29]\tvalidation_0-logloss:0.11293\n",
            "[30]\tvalidation_0-logloss:0.11040\n",
            "[31]\tvalidation_0-logloss:0.10826\n",
            "[32]\tvalidation_0-logloss:0.10452\n",
            "[33]\tvalidation_0-logloss:0.10322\n",
            "[34]\tvalidation_0-logloss:0.10059\n",
            "[35]\tvalidation_0-logloss:0.09869\n",
            "[36]\tvalidation_0-logloss:0.09658\n",
            "[37]\tvalidation_0-logloss:0.09487\n",
            "[38]\tvalidation_0-logloss:0.09443\n",
            "[39]\tvalidation_0-logloss:0.09374\n",
            "[40]\tvalidation_0-logloss:0.09239\n",
            "[41]\tvalidation_0-logloss:0.09159\n",
            "[42]\tvalidation_0-logloss:0.09004\n",
            "[43]\tvalidation_0-logloss:0.09029\n",
            "[44]\tvalidation_0-logloss:0.08966\n",
            "[45]\tvalidation_0-logloss:0.08808\n",
            "[46]\tvalidation_0-logloss:0.08783\n",
            "[47]\tvalidation_0-logloss:0.08756\n",
            "[48]\tvalidation_0-logloss:0.08682\n",
            "[49]\tvalidation_0-logloss:0.08829\n",
            "[50]\tvalidation_0-logloss:0.08882\n",
            "[51]\tvalidation_0-logloss:0.08871\n",
            "[52]\tvalidation_0-logloss:0.08780\n",
            "[53]\tvalidation_0-logloss:0.08766\n",
            "[54]\tvalidation_0-logloss:0.08825\n",
            "[55]\tvalidation_0-logloss:0.08882\n",
            "[56]\tvalidation_0-logloss:0.08785\n",
            "[57]\tvalidation_0-logloss:0.08813\n",
            "오차 행렬\n",
            "[[34  3]\n",
            " [ 2 75]]\n",
            "정확도: 0.9561, 정밀도: 0.9615, 재현율: 0.9740,    F1: 0.9677, AUC:0.9954\n"
          ]
        }
      ],
      "source": [
        "# early_stopping_rounds를 10으로 설정하고 재 학습.\n",
        "xgb_wrapper.fit(X_train, y_train, early_stopping_rounds=10,\n",
        "                eval_metric=\"logloss\", eval_set=evals,verbose=True)\n",
        "\n",
        "ws10_preds = xgb_wrapper.predict(X_test)\n",
        "ws10_pred_proba = xgb_wrapper.predict_proba(X_test)[:, 1]\n",
        "get_clf_eval(y_test , ws10_preds, ws10_pred_proba)"
      ]
    },
    {
      "cell_type": "code",
      "execution_count": null,
      "metadata": {
        "id": "BkzItWS8Bh49",
        "outputId": "a610fa4e-4139-4962-f47e-ad16019cd2a3"
      },
      "outputs": [
        {
          "data": {
            "text/plain": [
              "<Axes: title={'center': 'Feature importance'}, xlabel='F score', ylabel='Features'>"
            ]
          },
          "execution_count": 21,
          "metadata": {},
          "output_type": "execute_result"
        },
        {
          "data": {
            "image/png": "[encoded data removed]",
            "text/plain": [
              "<Figure size 1000x1200 with 1 Axes>"
            ]
          },
          "metadata": {},
          "output_type": "display_data"
        }
      ],
      "source": [
        "from xgboost import plot_importance\n",
        "import matplotlib.pyplot as plt\n",
        "%matplotlib inline\n",
        "\n",
        "fig, ax = plt.subplots(figsize=(10, 12))\n",
        "# 사이킷런 래퍼 클래스를 입력해도 무방.\n",
        "plot_importance(xgb_wrapper, ax=ax)\n"
      ]
    }
  ],
  "metadata": {
    "kernelspec": {
      "display_name": "Python 3 (ipykernel)",
      "language": "python",
      "name": "python3"
    },
    "language_info": {
      "codemirror_mode": {
        "name": "ipython",
        "version": 3
      },
      "file_extension": ".py",
      "mimetype": "text/x-python",
      "name": "python",
      "nbconvert_exporter": "python",
      "pygments_lexer": "ipython3",
      "version": "3.11.5"
    },
    "colab": {
      "provenance": []
    }
  },
  "nbformat": 4,
  "nbformat_minor": 0
}