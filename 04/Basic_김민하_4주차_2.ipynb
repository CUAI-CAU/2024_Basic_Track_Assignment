{
  "nbformat": 4,
  "nbformat_minor": 0,
  "metadata": {
    "colab": {
      "provenance": []
    },
    "kernelspec": {
      "name": "python3",
      "display_name": "Python 3"
    },
    "language_info": {
      "name": "python"
    }
  },
  "cells": [
    {
      "cell_type": "markdown",
      "source": [
        "### **4.3 앙상블 학습**\n",
        "    여러 개의 분류기(Classifier)를 생성하고 그 예측을 결합함으로써 보다 정확한 최종 예측을 도출하는 기법\n",
        "\n",
        "    일반적으로 단일 ML 알고리즘보다 신뢰성이 높은 예측값을 얻을 수 있음"
      ],
      "metadata": {
        "id": "vfVTsJzDKucw"
      }
    },
    {
      "cell_type": "markdown",
      "source": [
        "    # 앙상블 학습의 유형\n",
        "    1) 보팅 Voting\n",
        "    : 동일한 데이터 셋에 대하여 서로 다른 알고리즘을 가진 여러 분류기가 학습을 수행.  투표를 통해 최종 예측 결과를 결정\n",
        "\n",
        "    2) 배깅 Bagging\n",
        "    : 데이터 샘플링을 서로 다르게 가져가면서 (부트스트래밍 분할 방식),\n",
        "    같은 유형의 알고리즘 기반의 여러 분류기가  투표를 통해 최종 에측 결과를 결정\n",
        "    \n",
        "    3) 부스팅 Boosting\n",
        "    : 여러 개의 분류기가 순차적으로 학습을 수행하되, 앞에서 예측이 틀린 데이터에 대해서는\n",
        "    올바르게 예측할 수 있도록 다음 분류기에는 가중치를 부여하면서 학습과 예측을 진행\n",
        "    ex. 그래디언트 부스트, XGBoost, LightGBM\n",
        "\n",
        "    4) 스태킹 Staacking\n",
        "    : 여러 가지 다른 모델의 예측 결과값을 다시 학습 데이터로 만들어서 다른 모델(메타 모델)로 재학습시켜 결과를 예측"
      ],
      "metadata": {
        "id": "b4Frj3dST1QB"
      }
    },
    {
      "cell_type": "markdown",
      "source": [
        "> 보팅 -> VotingClassifier\n",
        "\n",
        "    - 하드 보팅: 다수의 분류기가 결정한 예측값을 최종 보팅 결괏값으로 선정\n",
        "    - 소프트 보팅: 분류기들의 레이블 값 결정 확률을 평균내어 확률이 가장 높은 레이블 값을 최종 보팅 결과값으로 선정\n",
        "    \n",
        "    소프트 보팅이 일반적으로 예측 성능이 더 좋음 !"
      ],
      "metadata": {
        "id": "z9GwYZkQWFV2"
      }
    },
    {
      "cell_type": "code",
      "source": [
        " ## 위스콘신 유방암 데이터 세트 예측 분석\n",
        " # 유방암의 악성종양, 양성종양 여부를 결정하느 이진 분류 데이터 세트\n",
        " # 종양의 크기, 모양 등 형태와 관련한 피처"
      ],
      "metadata": {
        "id": "lAyFsKfsK3Sj"
      },
      "execution_count": 84,
      "outputs": []
    },
    {
      "cell_type": "code",
      "source": [
        "# 로지스틱 회귀, KNN 기반 소프트 보팅 방식의 보팅 분류기\n",
        "import pandas as pd\n",
        "\n",
        "from sklearn.ensemble import VotingClassifier\n",
        "from sklearn.linear_model import LogisticRegression\n",
        "from sklearn.neighbors import KNeighborsClassifier\n",
        "from sklearn.datasets import load_breast_cancer\n",
        "from sklearn.model_selection import train_test_split\n",
        "from sklearn.metrics import accuracy_score\n",
        "\n",
        "cancer = load_breast_cancer()\n",
        "\n",
        "data_df = pd.DataFrame(cancer.data, columns=cancer.feature_names)\n",
        "data_df.head(3)"
      ],
      "metadata": {
        "colab": {
          "base_uri": "https://localhost:8080/",
          "height": 228
        },
        "id": "UI4t2ytzXcxQ",
        "outputId": "4be6bdf7-b4b2-4d47-cca7-c05ad9c02984"
      },
      "execution_count": 85,
      "outputs": [
        {
          "output_type": "execute_result",
          "data": {
            "text/plain": [
              "   mean radius  mean texture  mean perimeter  mean area  mean smoothness  \\\n",
              "0        17.99         10.38           122.8     1001.0          0.11840   \n",
              "1        20.57         17.77           132.9     1326.0          0.08474   \n",
              "2        19.69         21.25           130.0     1203.0          0.10960   \n",
              "\n",
              "   mean compactness  mean concavity  mean concave points  mean symmetry  \\\n",
              "0           0.27760          0.3001              0.14710         0.2419   \n",
              "1           0.07864          0.0869              0.07017         0.1812   \n",
              "2           0.15990          0.1974              0.12790         0.2069   \n",
              "\n",
              "   mean fractal dimension  ...  worst radius  worst texture  worst perimeter  \\\n",
              "0                 0.07871  ...         25.38          17.33            184.6   \n",
              "1                 0.05667  ...         24.99          23.41            158.8   \n",
              "2                 0.05999  ...         23.57          25.53            152.5   \n",
              "\n",
              "   worst area  worst smoothness  worst compactness  worst concavity  \\\n",
              "0      2019.0            0.1622             0.6656           0.7119   \n",
              "1      1956.0            0.1238             0.1866           0.2416   \n",
              "2      1709.0            0.1444             0.4245           0.4504   \n",
              "\n",
              "   worst concave points  worst symmetry  worst fractal dimension  \n",
              "0                0.2654          0.4601                  0.11890  \n",
              "1                0.1860          0.2750                  0.08902  \n",
              "2                0.2430          0.3613                  0.08758  \n",
              "\n",
              "[3 rows x 30 columns]"
            ],
            "text/html": [
              "\n",
              "  <div id=\"df-3b358019-5f94-4b13-92f5-56515c509db7\" class=\"colab-df-container\">\n",
              "    <div>\n",
              "<style scoped>\n",
              "    .dataframe tbody tr th:only-of-type {\n",
              "        vertical-align: middle;\n",
              "    }\n",
              "\n",
              "    .dataframe tbody tr th {\n",
              "        vertical-align: top;\n",
              "    }\n",
              "\n",
              "    .dataframe thead th {\n",
              "        text-align: right;\n",
              "    }\n",
              "</style>\n",
              "<table border=\"1\" class=\"dataframe\">\n",
              "  <thead>\n",
              "    <tr style=\"text-align: right;\">\n",
              "      <th></th>\n",
              "      <th>mean radius</th>\n",
              "      <th>mean texture</th>\n",
              "      <th>mean perimeter</th>\n",
              "      <th>mean area</th>\n",
              "      <th>mean smoothness</th>\n",
              "      <th>mean compactness</th>\n",
              "      <th>mean concavity</th>\n",
              "      <th>mean concave points</th>\n",
              "      <th>mean symmetry</th>\n",
              "      <th>mean fractal dimension</th>\n",
              "      <th>...</th>\n",
              "      <th>worst radius</th>\n",
              "      <th>worst texture</th>\n",
              "      <th>worst perimeter</th>\n",
              "      <th>worst area</th>\n",
              "      <th>worst smoothness</th>\n",
              "      <th>worst compactness</th>\n",
              "      <th>worst concavity</th>\n",
              "      <th>worst concave points</th>\n",
              "      <th>worst symmetry</th>\n",
              "      <th>worst fractal dimension</th>\n",
              "    </tr>\n",
              "  </thead>\n",
              "  <tbody>\n",
              "    <tr>\n",
              "      <th>0</th>\n",
              "      <td>17.99</td>\n",
              "      <td>10.38</td>\n",
              "      <td>122.8</td>\n",
              "      <td>1001.0</td>\n",
              "      <td>0.11840</td>\n",
              "      <td>0.27760</td>\n",
              "      <td>0.3001</td>\n",
              "      <td>0.14710</td>\n",
              "      <td>0.2419</td>\n",
              "      <td>0.07871</td>\n",
              "      <td>...</td>\n",
              "      <td>25.38</td>\n",
              "      <td>17.33</td>\n",
              "      <td>184.6</td>\n",
              "      <td>2019.0</td>\n",
              "      <td>0.1622</td>\n",
              "      <td>0.6656</td>\n",
              "      <td>0.7119</td>\n",
              "      <td>0.2654</td>\n",
              "      <td>0.4601</td>\n",
              "      <td>0.11890</td>\n",
              "    </tr>\n",
              "    <tr>\n",
              "      <th>1</th>\n",
              "      <td>20.57</td>\n",
              "      <td>17.77</td>\n",
              "      <td>132.9</td>\n",
              "      <td>1326.0</td>\n",
              "      <td>0.08474</td>\n",
              "      <td>0.07864</td>\n",
              "      <td>0.0869</td>\n",
              "      <td>0.07017</td>\n",
              "      <td>0.1812</td>\n",
              "      <td>0.05667</td>\n",
              "      <td>...</td>\n",
              "      <td>24.99</td>\n",
              "      <td>23.41</td>\n",
              "      <td>158.8</td>\n",
              "      <td>1956.0</td>\n",
              "      <td>0.1238</td>\n",
              "      <td>0.1866</td>\n",
              "      <td>0.2416</td>\n",
              "      <td>0.1860</td>\n",
              "      <td>0.2750</td>\n",
              "      <td>0.08902</td>\n",
              "    </tr>\n",
              "    <tr>\n",
              "      <th>2</th>\n",
              "      <td>19.69</td>\n",
              "      <td>21.25</td>\n",
              "      <td>130.0</td>\n",
              "      <td>1203.0</td>\n",
              "      <td>0.10960</td>\n",
              "      <td>0.15990</td>\n",
              "      <td>0.1974</td>\n",
              "      <td>0.12790</td>\n",
              "      <td>0.2069</td>\n",
              "      <td>0.05999</td>\n",
              "      <td>...</td>\n",
              "      <td>23.57</td>\n",
              "      <td>25.53</td>\n",
              "      <td>152.5</td>\n",
              "      <td>1709.0</td>\n",
              "      <td>0.1444</td>\n",
              "      <td>0.4245</td>\n",
              "      <td>0.4504</td>\n",
              "      <td>0.2430</td>\n",
              "      <td>0.3613</td>\n",
              "      <td>0.08758</td>\n",
              "    </tr>\n",
              "  </tbody>\n",
              "</table>\n",
              "<p>3 rows × 30 columns</p>\n",
              "</div>\n",
              "    <div class=\"colab-df-buttons\">\n",
              "\n",
              "  <div class=\"colab-df-container\">\n",
              "    <button class=\"colab-df-convert\" onclick=\"convertToInteractive('df-3b358019-5f94-4b13-92f5-56515c509db7')\"\n",
              "            title=\"Convert this dataframe to an interactive table.\"\n",
              "            style=\"display:none;\">\n",
              "\n",
              "  <svg xmlns=\"http://www.w3.org/2000/svg\" height=\"24px\" viewBox=\"0 -960 960 960\">\n",
              "    <path d=\"M120-120v-720h720v720H120Zm60-500h600v-160H180v160Zm220 220h160v-160H400v160Zm0 220h160v-160H400v160ZM180-400h160v-160H180v160Zm440 0h160v-160H620v160ZM180-180h160v-160H180v160Zm440 0h160v-160H620v160Z\"/>\n",
              "  </svg>\n",
              "    </button>\n",
              "\n",
              "  <style>\n",
              "    .colab-df-container {\n",
              "      display:flex;\n",
              "      gap: 12px;\n",
              "    }\n",
              "\n",
              "    .colab-df-convert {\n",
              "      background-color: #E8F0FE;\n",
              "      border: none;\n",
              "      border-radius: 50%;\n",
              "      cursor: pointer;\n",
              "      display: none;\n",
              "      fill: #1967D2;\n",
              "      height: 32px;\n",
              "      padding: 0 0 0 0;\n",
              "      width: 32px;\n",
              "    }\n",
              "\n",
              "    .colab-df-convert:hover {\n",
              "      background-color: #E2EBFA;\n",
              "      box-shadow: 0px 1px 2px rgba(60, 64, 67, 0.3), 0px 1px 3px 1px rgba(60, 64, 67, 0.15);\n",
              "      fill: #174EA6;\n",
              "    }\n",
              "\n",
              "    .colab-df-buttons div {\n",
              "      margin-bottom: 4px;\n",
              "    }\n",
              "\n",
              "    [theme=dark] .colab-df-convert {\n",
              "      background-color: #3B4455;\n",
              "      fill: #D2E3FC;\n",
              "    }\n",
              "\n",
              "    [theme=dark] .colab-df-convert:hover {\n",
              "      background-color: #434B5C;\n",
              "      box-shadow: 0px 1px 3px 1px rgba(0, 0, 0, 0.15);\n",
              "      filter: drop-shadow(0px 1px 2px rgba(0, 0, 0, 0.3));\n",
              "      fill: #FFFFFF;\n",
              "    }\n",
              "  </style>\n",
              "\n",
              "    <script>\n",
              "      const buttonEl =\n",
              "        document.querySelector('#df-3b358019-5f94-4b13-92f5-56515c509db7 button.colab-df-convert');\n",
              "      buttonEl.style.display =\n",
              "        google.colab.kernel.accessAllowed ? 'block' : 'none';\n",
              "\n",
              "      async function convertToInteractive(key) {\n",
              "        const element = document.querySelector('#df-3b358019-5f94-4b13-92f5-56515c509db7');\n",
              "        const dataTable =\n",
              "          await google.colab.kernel.invokeFunction('convertToInteractive',\n",
              "                                                    [key], {});\n",
              "        if (!dataTable) return;\n",
              "\n",
              "        const docLinkHtml = 'Like what you see? Visit the ' +\n",
              "          '<a target=\"_blank\" href=https://colab.research.google.com/notebooks/data_table.ipynb>data table notebook</a>'\n",
              "          + ' to learn more about interactive tables.';\n",
              "        element.innerHTML = '';\n",
              "        dataTable['output_type'] = 'display_data';\n",
              "        await google.colab.output.renderOutput(dataTable, element);\n",
              "        const docLink = document.createElement('div');\n",
              "        docLink.innerHTML = docLinkHtml;\n",
              "        element.appendChild(docLink);\n",
              "      }\n",
              "    </script>\n",
              "  </div>\n",
              "\n",
              "\n",
              "<div id=\"df-d6747718-8fd3-4fac-abc3-88722fc64230\">\n",
              "  <button class=\"colab-df-quickchart\" onclick=\"quickchart('df-d6747718-8fd3-4fac-abc3-88722fc64230')\"\n",
              "            title=\"Suggest charts\"\n",
              "            style=\"display:none;\">\n",
              "\n",
              "<svg xmlns=\"http://www.w3.org/2000/svg\" height=\"24px\"viewBox=\"0 0 24 24\"\n",
              "     width=\"24px\">\n",
              "    <g>\n",
              "        <path d=\"M19 3H5c-1.1 0-2 .9-2 2v14c0 1.1.9 2 2 2h14c1.1 0 2-.9 2-2V5c0-1.1-.9-2-2-2zM9 17H7v-7h2v7zm4 0h-2V7h2v10zm4 0h-2v-4h2v4z\"/>\n",
              "    </g>\n",
              "</svg>\n",
              "  </button>\n",
              "\n",
              "<style>\n",
              "  .colab-df-quickchart {\n",
              "      --bg-color: #E8F0FE;\n",
              "      --fill-color: #1967D2;\n",
              "      --hover-bg-color: #E2EBFA;\n",
              "      --hover-fill-color: #174EA6;\n",
              "      --disabled-fill-color: #AAA;\n",
              "      --disabled-bg-color: #DDD;\n",
              "  }\n",
              "\n",
              "  [theme=dark] .colab-df-quickchart {\n",
              "      --bg-color: #3B4455;\n",
              "      --fill-color: #D2E3FC;\n",
              "      --hover-bg-color: #434B5C;\n",
              "      --hover-fill-color: #FFFFFF;\n",
              "      --disabled-bg-color: #3B4455;\n",
              "      --disabled-fill-color: #666;\n",
              "  }\n",
              "\n",
              "  .colab-df-quickchart {\n",
              "    background-color: var(--bg-color);\n",
              "    border: none;\n",
              "    border-radius: 50%;\n",
              "    cursor: pointer;\n",
              "    display: none;\n",
              "    fill: var(--fill-color);\n",
              "    height: 32px;\n",
              "    padding: 0;\n",
              "    width: 32px;\n",
              "  }\n",
              "\n",
              "  .colab-df-quickchart:hover {\n",
              "    background-color: var(--hover-bg-color);\n",
              "    box-shadow: 0 1px 2px rgba(60, 64, 67, 0.3), 0 1px 3px 1px rgba(60, 64, 67, 0.15);\n",
              "    fill: var(--button-hover-fill-color);\n",
              "  }\n",
              "\n",
              "  .colab-df-quickchart-complete:disabled,\n",
              "  .colab-df-quickchart-complete:disabled:hover {\n",
              "    background-color: var(--disabled-bg-color);\n",
              "    fill: var(--disabled-fill-color);\n",
              "    box-shadow: none;\n",
              "  }\n",
              "\n",
              "  .colab-df-spinner {\n",
              "    border: 2px solid var(--fill-color);\n",
              "    border-color: transparent;\n",
              "    border-bottom-color: var(--fill-color);\n",
              "    animation:\n",
              "      spin 1s steps(1) infinite;\n",
              "  }\n",
              "\n",
              "  @keyframes spin {\n",
              "    0% {\n",
              "      border-color: transparent;\n",
              "      border-bottom-color: var(--fill-color);\n",
              "      border-left-color: var(--fill-color);\n",
              "    }\n",
              "    20% {\n",
              "      border-color: transparent;\n",
              "      border-left-color: var(--fill-color);\n",
              "      border-top-color: var(--fill-color);\n",
              "    }\n",
              "    30% {\n",
              "      border-color: transparent;\n",
              "      border-left-color: var(--fill-color);\n",
              "      border-top-color: var(--fill-color);\n",
              "      border-right-color: var(--fill-color);\n",
              "    }\n",
              "    40% {\n",
              "      border-color: transparent;\n",
              "      border-right-color: var(--fill-color);\n",
              "      border-top-color: var(--fill-color);\n",
              "    }\n",
              "    60% {\n",
              "      border-color: transparent;\n",
              "      border-right-color: var(--fill-color);\n",
              "    }\n",
              "    80% {\n",
              "      border-color: transparent;\n",
              "      border-right-color: var(--fill-color);\n",
              "      border-bottom-color: var(--fill-color);\n",
              "    }\n",
              "    90% {\n",
              "      border-color: transparent;\n",
              "      border-bottom-color: var(--fill-color);\n",
              "    }\n",
              "  }\n",
              "</style>\n",
              "\n",
              "  <script>\n",
              "    async function quickchart(key) {\n",
              "      const quickchartButtonEl =\n",
              "        document.querySelector('#' + key + ' button');\n",
              "      quickchartButtonEl.disabled = true;  // To prevent multiple clicks.\n",
              "      quickchartButtonEl.classList.add('colab-df-spinner');\n",
              "      try {\n",
              "        const charts = await google.colab.kernel.invokeFunction(\n",
              "            'suggestCharts', [key], {});\n",
              "      } catch (error) {\n",
              "        console.error('Error during call to suggestCharts:', error);\n",
              "      }\n",
              "      quickchartButtonEl.classList.remove('colab-df-spinner');\n",
              "      quickchartButtonEl.classList.add('colab-df-quickchart-complete');\n",
              "    }\n",
              "    (() => {\n",
              "      let quickchartButtonEl =\n",
              "        document.querySelector('#df-d6747718-8fd3-4fac-abc3-88722fc64230 button');\n",
              "      quickchartButtonEl.style.display =\n",
              "        google.colab.kernel.accessAllowed ? 'block' : 'none';\n",
              "    })();\n",
              "  </script>\n",
              "</div>\n",
              "\n",
              "    </div>\n",
              "  </div>\n"
            ],
            "application/vnd.google.colaboratory.intrinsic+json": {
              "type": "dataframe",
              "variable_name": "data_df"
            }
          },
          "metadata": {},
          "execution_count": 85
        }
      ]
    },
    {
      "cell_type": "code",
      "source": [
        "# 개별 모델은 로지스틱 회귀와 KNN\n",
        "lr_clf = LogisticRegression(solver='liblinear')\n",
        "knn_clf = KNeighborsClassifier(n_neighbors=8)\n",
        "\n",
        "# 개별 모델을 소프트 보팅 기반의 앙상블 모델로 구현한 분류기\n",
        "vo_clf = VotingClassifier(estimators=[('LR', lr_clf), ('KNN', knn_clf)], voting='soft')\n",
        "\n",
        "X_train, X_test, y_train, y_test = train_test_split(cancer.data, cancer.target,\n",
        "                                                    test_size=0.2, random_state=156)\n",
        "\n",
        "# VotingClassifier 학습/예측/평가\n",
        "vo_clf.fit(X_train, y_train)\n",
        "pred = vo_clf.predict(X_test)\n",
        "print('Voting 분류기 정확도: {0:4f}'.format(accuracy_score(y_test, pred)))\n",
        "\n",
        "# 개별 모델의 학습/예측/평가\n",
        "classifiers = [lr_clf, knn_clf]\n",
        "for classifier in classifiers:\n",
        "    classifier.fit(X_train, y_train)\n",
        "    pred = classifier.predict(X_test)\n",
        "    class_name = classifier.__class__.__name__\n",
        "    print('{0} 정확도: {1:4f}'.format(class_name, accuracy_score(y_test, pred)))"
      ],
      "metadata": {
        "colab": {
          "base_uri": "https://localhost:8080/"
        },
        "id": "o-gBNQ9MYRx4",
        "outputId": "4949bf67-fda9-442b-9232-eb931a367339"
      },
      "execution_count": 86,
      "outputs": [
        {
          "output_type": "stream",
          "name": "stdout",
          "text": [
            "Voting 분류기 정확도: 0.956140\n",
            "LogisticRegression 정확도: 0.947368\n",
            "KNeighborsClassifier 정확도: 0.938596\n"
          ]
        }
      ]
    },
    {
      "cell_type": "code",
      "source": [
        "# 보팅으로 여러 개의 기반 분류기를 결합한다고 무조건 기반 분류기보다 예측 성능이 향상되지는 않지만,\n",
        "# 전반적으로 다른 단일 ML 알고리즘보다 뛰어난 예측 성능을 가지는 경우가 많다 !\n",
        "\n",
        "# 다양한 변수와 예측이 어려운 규칙에 대한 '높은 유연성'을 가지고 있기 때문"
      ],
      "metadata": {
        "id": "E_laHH8rZ2w0"
      },
      "execution_count": 87,
      "outputs": []
    },
    {
      "cell_type": "markdown",
      "source": [
        "### **4.4 랜덤 포레스트**\n",
        "    - 대표적인 배깅 (Bagging) 알고리즘\n",
        "    - 결정 트리를 기반 알고리즘으로 사용\n",
        "    - 개별 트리가 학습하는 데이터 세트는 전체 데이터에서 일부가 중첩되게 샘플링 된 데이터 세트 > 부트스트래핑\n",
        "    - 샘플링된 서브세트의 데이터 건수는 전체 데이터 건수와 동일\n",
        "\n",
        "    RandomForestClassifier 클래스"
      ],
      "metadata": {
        "id": "a5gT0NDPaa_M"
      }
    },
    {
      "cell_type": "markdown",
      "source": [
        "> 데이터 로딩"
      ],
      "metadata": {
        "id": "XMcPG01lt0Pe"
      }
    },
    {
      "cell_type": "code",
      "source": [
        "def get_new_feature_name_df(old_feature_name_df):\n",
        "    feature_dup_df = pd.DataFrame(data=old_feature_name_df.groupby('column_name').cumcount(),\n",
        "                                  columns=['dup_cnt'])\n",
        "    feature_dup_df = feature_dup_df.reset_index()\n",
        "    new_feature_name_df = pd.merge(old_feature_name_df.reset_index(), feature_dup_df, how='outer')\n",
        "    new_feature_name_df['column_name'] = new_feature_name_df[['column_name', 'dup_cnt']].apply(lambda x : x[0]+'_'+str(x[1])\n",
        "                                                                                         if x[1] >0 else x[0] ,  axis=1)\n",
        "    new_feature_name_df = new_feature_name_df.drop(['index'], axis=1)\n",
        "    return new_feature_name_df"
      ],
      "metadata": {
        "id": "UWml4b1YaZ8U"
      },
      "execution_count": 88,
      "outputs": []
    },
    {
      "cell_type": "code",
      "source": [
        "import pandas as pd\n",
        "\n",
        "def get_human_dataset():\n",
        "    # 각 데이터 파일은 공백으로 분리되어 있으므로 read_csv에서 공백 문자를 sep으로 할당\n",
        "    feature_name_df = pd.read_csv('/content/features.txt', sep='\\s+',\n",
        "                                  header=None, names=['column_index', 'column_name'])\n",
        "\n",
        "    # 중복된 피처명을 수정하는 get_new_feature_name_df()를 이용, 신규 피처명 DataFrame 생성\n",
        "    new_feature_name_df = get_new_feature_name_df(feature_name_df)\n",
        "\n",
        "    # DataFrame에 피처명을 칼럼으로 부여하기 위해 리스트 객체로 다시 변환\n",
        "    feature_name = new_feature_name_df.iloc[:,1].values.tolist()\n",
        "\n",
        "    # 학습 피처 데이터세트와 테스트 피처 데이터를 DataFrame으로 로딩. 칼럼명은 feature_name 적용\n",
        "    X_train = pd.read_csv('/content/X_train.txt', sep='\\s+', names=feature_name)\n",
        "    X_test = pd.read_csv('/content/X_test.txt', sep='\\s+', names=feature_name)\n",
        "\n",
        "    # 학습 레이블과 테스트 레이블 데이터를 DataFrame으로 로딩하고 칼럼명은 action으로 부여\n",
        "    y_train = pd.read_csv('/content/y_train.txt', sep='\\s+', header=None, names=['action'])\n",
        "    y_test = pd.read_csv('/content/y_test.txt', sep='\\s+', header=None, names=['action'])\n",
        "\n",
        "    return X_train, X_test, y_train, y_test\n",
        "\n",
        "X_train, X_test, y_train, y_test = get_human_dataset()"
      ],
      "metadata": {
        "id": "tfZWnYBgtV5O"
      },
      "execution_count": 89,
      "outputs": []
    },
    {
      "cell_type": "code",
      "source": [
        "from sklearn.ensemble import RandomForestClassifier\n",
        "from sklearn.metrics import accuracy_score\n",
        "import pandas as pd\n",
        "import warnings\n",
        "warnings.filterwarnings('ignore')"
      ],
      "metadata": {
        "id": "vs51ZuAjtx_i"
      },
      "execution_count": 90,
      "outputs": []
    },
    {
      "cell_type": "code",
      "source": [
        "# 결정 트리에서 사용한 get_human_dataset()를 이용해 학습/테스트용 DataFrame 반환\n",
        "X_train, X_test, y_train, y_test = get_human_dataset()\n",
        "\n",
        "# 랜덤 포레스트 학습 및 별도의 테스트 데이터 세트로 예측 성능 평가\n",
        "rf_clf = RandomForestClassifier(random_state=0, max_depth=8)\n",
        "rf_clf.fit(X_train, y_train)\n",
        "pred = rf_clf.predict(X_test)\n",
        "accuracy = accuracy_score(y_test, pred)\n",
        "print('랜덤 포레스트 정확도: {0:4f}'.format(accuracy))"
      ],
      "metadata": {
        "colab": {
          "base_uri": "https://localhost:8080/"
        },
        "id": "PD5mPAcntyCX",
        "outputId": "f67f606c-bb6c-4e83-ec70-783fbb3327d4"
      },
      "execution_count": 91,
      "outputs": [
        {
          "output_type": "stream",
          "name": "stdout",
          "text": [
            "랜덤 포레스트 정확도: 0.919579\n"
          ]
        }
      ]
    },
    {
      "cell_type": "markdown",
      "source": [
        "> 랜덤 포레스트 하이퍼 파라미터 및 튜닝\n",
        "\n",
        "    # 트리 기반의 앙상블 알고리즘의 단점\n",
        "    1) 하이퍼 파라미터가 너무 많다\n",
        "    2) 튜닝 시간이 오래 걸린다\n",
        "    3) 그럼에도 예측 성능이 크게 향상되는 경우는 드물다"
      ],
      "metadata": {
        "id": "gTNaA3AGvsNh"
      }
    },
    {
      "cell_type": "code",
      "source": [
        "from sklearn.model_selection import GridSearchCV\n",
        "\n",
        "params = {'max_depth' : [8,16,24],\n",
        "          'min_samples_leaf' : [1,6,12],\n",
        "          'min_samples_split' : [2,8,16]}\n",
        "\n",
        "# RandomForestClassifier 객체 생성 후 GridSearchCV 수행\n",
        "rf_clf = RandomForestClassifier(n_estimators=100, random_state=0, n_jobs=-1)\n",
        "grid_cv = GridSearchCV(rf_clf, param_grid=params, cv=2, n_jobs=-1)\n",
        "grid_cv.fit(X_train, y_train)\n",
        "\n",
        "print('최적 하이퍼 파라미터:\\n', grid_cv.best_params_)\n",
        "print('최고 예측 정확도: {0:4f}'.format(grid_cv.best_score_))"
      ],
      "metadata": {
        "colab": {
          "base_uri": "https://localhost:8080/"
        },
        "id": "1IRRquVatyE_",
        "outputId": "abcb99a7-140b-4c25-cd69-f493e2cebb1f"
      },
      "execution_count": 92,
      "outputs": [
        {
          "output_type": "stream",
          "name": "stdout",
          "text": [
            "최적 하이퍼 파라미터:\n",
            " {'max_depth': 16, 'min_samples_leaf': 6, 'min_samples_split': 2}\n",
            "최고 예측 정확도: 0.916485\n"
          ]
        }
      ]
    },
    {
      "cell_type": "markdown",
      "source": [
        "    최적 하이퍼 파라미터: {'max_depth': 16, 'min_samples_leaf': 6, 'min_samples_split': 2}\n",
        "    최고 예측 정확도: 0.916485"
      ],
      "metadata": {
        "id": "hapSH_gNyDnI"
      }
    },
    {
      "cell_type": "code",
      "source": [
        "# 최적 하이퍼 파라미터로 RandomForestClassifier 재학습\n",
        "rf_clf1 = RandomForestClassifier(n_estimators=100, min_samples_leaf=6, max_depth=16,\n",
        "                                min_samples_split=2, random_state=0)\n",
        "rf_clf1.fit(X_train, y_train)\n",
        "pred = rf_clf1.predict(X_test)\n",
        "print('예측 정확도: {0:4f}'.format(accuracy_score(y_test, pred)))"
      ],
      "metadata": {
        "colab": {
          "base_uri": "https://localhost:8080/"
        },
        "id": "FSh8RNRYwx7M",
        "outputId": "fe362f73-f2b7-4bba-9815-6b404ab03853"
      },
      "execution_count": 93,
      "outputs": [
        {
          "output_type": "stream",
          "name": "stdout",
          "text": [
            "예측 정확도: 0.926026\n"
          ]
        }
      ]
    },
    {
      "cell_type": "markdown",
      "source": [
        "> 각 피처의 중요도를 feature_importances_로 확인"
      ],
      "metadata": {
        "id": "Ix4hNOf6yQtg"
      }
    },
    {
      "cell_type": "code",
      "source": [
        "import matplotlib.pyplot as plt\n",
        "import seaborn as sns\n",
        "%matplotlib inline\n",
        "\n",
        "ftr_importances_value = rf_clf1.feature_importances_\n",
        "ftr_importances = pd.Series(ftr_importances_value, index=X_train.columns)\n",
        "ftr_top20 = ftr_importances.sort_values(ascending=False)[:20]\n",
        "\n",
        "plt.figure(figsize=(8,6))\n",
        "plt.title('Feature importances Top 20')\n",
        "sns.barplot(x=ftr_top20, y=ftr_top20.index)\n",
        "plt.show()"
      ],
      "metadata": {
        "colab": {
          "base_uri": "https://localhost:8080/",
          "height": 523
        },
        "id": "URe2i_MDyVr0",
        "outputId": "edb610f9-66e5-4579-93fe-b697b448f33b"
      },
      "execution_count": 94,
      "outputs": [
        {
          "output_type": "display_data",
          "data": {
            "text/plain": [
              "<Figure size 800x600 with 1 Axes>"
            ],
            "image/png": "[encoded data removed]"
          },
          "metadata": {}
        }
      ]
    },
    {
      "cell_type": "markdown",
      "source": [
        "### **4.5 GBM (Gradient Boosting Machine)**\n",
        "    # 대표적인 부스팅 알고리즘\n",
        "    1) AdaBoost (Adaptive boosting)\n",
        "    \n",
        "    2) 그래디언트 부스트 (GBM)\n",
        "    : 경사하강법으로 가중치 업데이트\n",
        "    GradientBoostingClassifier 클래스"
      ],
      "metadata": {
        "id": "k_e5AnC8z5bP"
      }
    },
    {
      "cell_type": "code",
      "source": [
        "from sklearn.ensemble import GradientBoostingClassifier\n",
        "import time\n",
        "import warnings\n",
        "warnings.filterwarnings('ignore')"
      ],
      "metadata": {
        "id": "dllhUbMFzJtZ"
      },
      "execution_count": 95,
      "outputs": []
    },
    {
      "cell_type": "code",
      "source": [
        "X_train, X_test, y_train, y_test = get_human_dataset()\n",
        "\n",
        "# GBM 수행 시간 측정을 위해 시작 시간 설정\n",
        "start_time = time.time()\n",
        "\n",
        "gb_clf = GradientBoostingClassifier(random_state=0)\n",
        "gb_clf.fit(X_train, y_train)\n",
        "gb_pred = gb_clf.predict(X_test)\n",
        "gb_accuracy = accuracy_score(X_test, gb_pred)\n",
        "\n",
        "print('GBM 정확도: {0:4f}'.format(gb_accuracy))\n",
        "print('GBM 수행 시간: {0:.1f}'.format(time.time()-start_time))\n",
        "# 시간이 너무 오래 걸리는 관계로 실행 중단"
      ],
      "metadata": {
        "colab": {
          "base_uri": "https://localhost:8080/",
          "height": 373
        },
        "id": "sVfmouP916zt",
        "outputId": "d4b8e103-11f1-4fc9-f436-a566bf2be275"
      },
      "execution_count": 96,
      "outputs": [
        {
          "output_type": "error",
          "ename": "KeyboardInterrupt",
          "evalue": "",
          "traceback": [
            "\u001b[0;31m---------------------------------------------------------------------------\u001b[0m",
            "\u001b[0;31mKeyboardInterrupt\u001b[0m                         Traceback (most recent call last)",
            "\u001b[0;32m<ipython-input-96-b037b3aaefbf>\u001b[0m in \u001b[0;36m<cell line: 7>\u001b[0;34m()\u001b[0m\n\u001b[1;32m      5\u001b[0m \u001b[0;34m\u001b[0m\u001b[0m\n\u001b[1;32m      6\u001b[0m \u001b[0mgb_clf\u001b[0m \u001b[0;34m=\u001b[0m \u001b[0mGradientBoostingClassifier\u001b[0m\u001b[0;34m(\u001b[0m\u001b[0mrandom_state\u001b[0m\u001b[0;34m=\u001b[0m\u001b[0;36m0\u001b[0m\u001b[0;34m)\u001b[0m\u001b[0;34m\u001b[0m\u001b[0;34m\u001b[0m\u001b[0m\n\u001b[0;32m----> 7\u001b[0;31m \u001b[0mgb_clf\u001b[0m\u001b[0;34m.\u001b[0m\u001b[0mfit\u001b[0m\u001b[0;34m(\u001b[0m\u001b[0mX_train\u001b[0m\u001b[0;34m,\u001b[0m \u001b[0my_train\u001b[0m\u001b[0;34m)\u001b[0m\u001b[0;34m\u001b[0m\u001b[0;34m\u001b[0m\u001b[0m\n\u001b[0m\u001b[1;32m      8\u001b[0m \u001b[0mgb_pred\u001b[0m \u001b[0;34m=\u001b[0m \u001b[0mgb_clf\u001b[0m\u001b[0;34m.\u001b[0m\u001b[0mpredict\u001b[0m\u001b[0;34m(\u001b[0m\u001b[0mX_test\u001b[0m\u001b[0;34m)\u001b[0m\u001b[0;34m\u001b[0m\u001b[0;34m\u001b[0m\u001b[0m\n\u001b[1;32m      9\u001b[0m \u001b[0mgb_accuracy\u001b[0m \u001b[0;34m=\u001b[0m \u001b[0maccuracy_score\u001b[0m\u001b[0;34m(\u001b[0m\u001b[0mX_test\u001b[0m\u001b[0;34m,\u001b[0m \u001b[0mgb_pred\u001b[0m\u001b[0;34m)\u001b[0m\u001b[0;34m\u001b[0m\u001b[0;34m\u001b[0m\u001b[0m\n",
            "\u001b[0;32m/usr/local/lib/python3.10/dist-packages/sklearn/ensemble/_gb.py\u001b[0m in \u001b[0;36mfit\u001b[0;34m(self, X, y, sample_weight, monitor)\u001b[0m\n\u001b[1;32m    536\u001b[0m \u001b[0;34m\u001b[0m\u001b[0m\n\u001b[1;32m    537\u001b[0m         \u001b[0;31m# fit the boosting stages\u001b[0m\u001b[0;34m\u001b[0m\u001b[0;34m\u001b[0m\u001b[0m\n\u001b[0;32m--> 538\u001b[0;31m         n_stages = self._fit_stages(\n\u001b[0m\u001b[1;32m    539\u001b[0m             \u001b[0mX\u001b[0m\u001b[0;34m,\u001b[0m\u001b[0;34m\u001b[0m\u001b[0;34m\u001b[0m\u001b[0m\n\u001b[1;32m    540\u001b[0m             \u001b[0my\u001b[0m\u001b[0;34m,\u001b[0m\u001b[0;34m\u001b[0m\u001b[0;34m\u001b[0m\u001b[0m\n",
            "\u001b[0;32m/usr/local/lib/python3.10/dist-packages/sklearn/ensemble/_gb.py\u001b[0m in \u001b[0;36m_fit_stages\u001b[0;34m(self, X, y, raw_predictions, sample_weight, random_state, X_val, y_val, sample_weight_val, begin_at_stage, monitor)\u001b[0m\n\u001b[1;32m    613\u001b[0m \u001b[0;34m\u001b[0m\u001b[0m\n\u001b[1;32m    614\u001b[0m             \u001b[0;31m# fit next stage of trees\u001b[0m\u001b[0;34m\u001b[0m\u001b[0;34m\u001b[0m\u001b[0m\n\u001b[0;32m--> 615\u001b[0;31m             raw_predictions = self._fit_stage(\n\u001b[0m\u001b[1;32m    616\u001b[0m                 \u001b[0mi\u001b[0m\u001b[0;34m,\u001b[0m\u001b[0;34m\u001b[0m\u001b[0;34m\u001b[0m\u001b[0m\n\u001b[1;32m    617\u001b[0m                 \u001b[0mX\u001b[0m\u001b[0;34m,\u001b[0m\u001b[0;34m\u001b[0m\u001b[0;34m\u001b[0m\u001b[0m\n",
            "\u001b[0;32m/usr/local/lib/python3.10/dist-packages/sklearn/ensemble/_gb.py\u001b[0m in \u001b[0;36m_fit_stage\u001b[0;34m(self, i, X, y, raw_predictions, sample_weight, sample_mask, random_state, X_csc, X_csr)\u001b[0m\n\u001b[1;32m    255\u001b[0m \u001b[0;34m\u001b[0m\u001b[0m\n\u001b[1;32m    256\u001b[0m             \u001b[0mX\u001b[0m \u001b[0;34m=\u001b[0m \u001b[0mX_csr\u001b[0m \u001b[0;32mif\u001b[0m \u001b[0mX_csr\u001b[0m \u001b[0;32mis\u001b[0m \u001b[0;32mnot\u001b[0m \u001b[0;32mNone\u001b[0m \u001b[0;32melse\u001b[0m \u001b[0mX\u001b[0m\u001b[0;34m\u001b[0m\u001b[0;34m\u001b[0m\u001b[0m\n\u001b[0;32m--> 257\u001b[0;31m             \u001b[0mtree\u001b[0m\u001b[0;34m.\u001b[0m\u001b[0mfit\u001b[0m\u001b[0;34m(\u001b[0m\u001b[0mX\u001b[0m\u001b[0;34m,\u001b[0m \u001b[0mresidual\u001b[0m\u001b[0;34m,\u001b[0m \u001b[0msample_weight\u001b[0m\u001b[0;34m=\u001b[0m\u001b[0msample_weight\u001b[0m\u001b[0;34m,\u001b[0m \u001b[0mcheck_input\u001b[0m\u001b[0;34m=\u001b[0m\u001b[0;32mFalse\u001b[0m\u001b[0;34m)\u001b[0m\u001b[0;34m\u001b[0m\u001b[0;34m\u001b[0m\u001b[0m\n\u001b[0m\u001b[1;32m    258\u001b[0m \u001b[0;34m\u001b[0m\u001b[0m\n\u001b[1;32m    259\u001b[0m             \u001b[0;31m# update tree leaves\u001b[0m\u001b[0;34m\u001b[0m\u001b[0;34m\u001b[0m\u001b[0m\n",
            "\u001b[0;32m/usr/local/lib/python3.10/dist-packages/sklearn/tree/_classes.py\u001b[0m in \u001b[0;36mfit\u001b[0;34m(self, X, y, sample_weight, check_input)\u001b[0m\n\u001b[1;32m   1245\u001b[0m         \"\"\"\n\u001b[1;32m   1246\u001b[0m \u001b[0;34m\u001b[0m\u001b[0m\n\u001b[0;32m-> 1247\u001b[0;31m         super().fit(\n\u001b[0m\u001b[1;32m   1248\u001b[0m             \u001b[0mX\u001b[0m\u001b[0;34m,\u001b[0m\u001b[0;34m\u001b[0m\u001b[0;34m\u001b[0m\u001b[0m\n\u001b[1;32m   1249\u001b[0m             \u001b[0my\u001b[0m\u001b[0;34m,\u001b[0m\u001b[0;34m\u001b[0m\u001b[0;34m\u001b[0m\u001b[0m\n",
            "\u001b[0;32m/usr/local/lib/python3.10/dist-packages/sklearn/tree/_classes.py\u001b[0m in \u001b[0;36mfit\u001b[0;34m(self, X, y, sample_weight, check_input)\u001b[0m\n\u001b[1;32m    377\u001b[0m             )\n\u001b[1;32m    378\u001b[0m \u001b[0;34m\u001b[0m\u001b[0m\n\u001b[0;32m--> 379\u001b[0;31m         \u001b[0mbuilder\u001b[0m\u001b[0;34m.\u001b[0m\u001b[0mbuild\u001b[0m\u001b[0;34m(\u001b[0m\u001b[0mself\u001b[0m\u001b[0;34m.\u001b[0m\u001b[0mtree_\u001b[0m\u001b[0;34m,\u001b[0m \u001b[0mX\u001b[0m\u001b[0;34m,\u001b[0m \u001b[0my\u001b[0m\u001b[0;34m,\u001b[0m \u001b[0msample_weight\u001b[0m\u001b[0;34m)\u001b[0m\u001b[0;34m\u001b[0m\u001b[0;34m\u001b[0m\u001b[0m\n\u001b[0m\u001b[1;32m    380\u001b[0m \u001b[0;34m\u001b[0m\u001b[0m\n\u001b[1;32m    381\u001b[0m         \u001b[0;32mif\u001b[0m \u001b[0mself\u001b[0m\u001b[0;34m.\u001b[0m\u001b[0mn_outputs_\u001b[0m \u001b[0;34m==\u001b[0m \u001b[0;36m1\u001b[0m \u001b[0;32mand\u001b[0m \u001b[0mis_classifier\u001b[0m\u001b[0;34m(\u001b[0m\u001b[0mself\u001b[0m\u001b[0;34m)\u001b[0m\u001b[0;34m:\u001b[0m\u001b[0;34m\u001b[0m\u001b[0;34m\u001b[0m\u001b[0m\n",
            "\u001b[0;31mKeyboardInterrupt\u001b[0m: "
          ]
        }
      ]
    },
    {
      "cell_type": "code",
      "source": [
        "# 일반적으로 GBM이 랜덤 포레스트보다 예측 성능이 조금 뛰어난 경우가 많다\n",
        "# 하지만, 수행 시간이 오래 걸리고 하이퍼 파라미터의 튜닝 노력도 더 필요하다"
      ],
      "metadata": {
        "id": "_aNhTKqB2z3t"
      },
      "execution_count": 97,
      "outputs": []
    },
    {
      "cell_type": "markdown",
      "source": [
        "> GBM 하이퍼 파라미터"
      ],
      "metadata": {
        "id": "lwyU0u5C3Gv_"
      }
    },
    {
      "cell_type": "markdown",
      "source": [
        "    - loss: 경사하강법에서 사용할 비용함수 지정, 디폴트 deviance\n",
        "    - learning_rate: 학습률\n",
        "    - n_estimators: weak learner의 개수, 디폴트 100\n",
        "    - subsample: weak learner가 학습에 사용하는 데이터의 샘플링 비율"
      ],
      "metadata": {
        "id": "c0teH68R3LE2"
      }
    },
    {
      "cell_type": "markdown",
      "source": [
        "### **4.6 XGBoost (eXtra Gradient Boost)**\n",
        "    GBM에 기반하고 있지만,\n",
        "    GBM의 단점인 느린 수행 시간 및 과적합 규제(Regularization) 부재 등의 문제를 해결해 매우 각광을 받고 있다\n",
        "\n",
        "    1. 뛰어난 예측 성능\n",
        "    2. GBM 대비 빠른 수행 시간\n",
        "    3. 과적합 규제 (Regularization)\n",
        "    4. Tree pruning (나무 가지치기)\n",
        "    5. 자체 내장된 교차 검증\n",
        "    6. 결손값 자체 처리\n",
        "\n",
        "    - 파이썬 래퍼 XGBoost 모듈: 초기의 독자적인 XGBoost 프레임워크 기반의 XGBoost\n",
        "    - 사이킷런 래퍼 XGBoost 모듈: 사이킷런과 연동되는 모듈"
      ],
      "metadata": {
        "id": "mI9ydUQA3pZl"
      }
    },
    {
      "cell_type": "code",
      "source": [
        "import xgboost as xgb\n",
        "from xgboost import XGBClassifier"
      ],
      "metadata": {
        "id": "w9VWOgOm3KeT"
      },
      "execution_count": 125,
      "outputs": []
    },
    {
      "cell_type": "markdown",
      "source": [
        "> **파이썬 래퍼 XGBoost 하이퍼 파라미터**"
      ],
      "metadata": {
        "id": "gcV1bzPUF73b"
      }
    },
    {
      "cell_type": "markdown",
      "source": [
        "    # 주요 일반 파라미터\n",
        "    - booster: gbtree(tree based model, 디폴트) 또는 gblinear(linear model) 선택\n",
        "    - silent: 출력 메시지를 나타내고 싶지 않을 경우 1로 설정, 디폴트 0\n",
        "    - nthread: CPU의 실행 스레드 개수, 디폴트 CPU의 전체 스레드 사용\n",
        "\n",
        "    # 주요 부스터 파라미터\n",
        "    - eta [default=0.3, alias: learning_rate]: GBM의 학습률과 같은 파라미터, 보통 0.01 ~ 0.2 사용\n",
        "    - num_boost_rounds: GBM의 n_estimators와 같은 파라미터\n",
        "    - min_child_weight[defualt=1]: 트리에서 추가적으로 가지를 나눌지를 결정하기 위해 필요한 데이터들의 weight 총합 (과적합 조절)\n",
        "    - gamma [default=0, alias: min_split_loss]: 트리의 리프 노드를 추가적으로 나눌지를 결정할 최소 손실 감소 값 (과적합 조절)\n",
        "    - max_depth [default=6]: 보통 3~10 사용\n",
        "    - sub_sample[default=1]: GBM의 subsample과 동일\n",
        "    -  colsample_bytree[default=1]: GBM의 max_features와 유사, 트리 생성에 필요한 피처를 임의로 샘플링 (과적합 조절)\n",
        "    - lambda [default=1, alias: reg_lambda]: L2 Regularization 적용 값 (과적합 조절)\n",
        "    - alpha [default=0, alias: reg_alpha]: L1 Regularization 적용 값 (과적합 조절)\n",
        "    - scale_pos_weight [default=1]: 특정 값으로 치우친 비대칭한 클래스로 구성된 데이터 세트의 균형을 유지하기 위한 파라미터\n",
        "\n",
        "    # 학습 태스크 파라미터\n",
        "    - objective: 최솟값을 가져야 할 손실 함수를 정의\n",
        "    - binary:logistic: 이진 분류일 때 적용\n",
        "    - multi:softmax: 다중 분류일 때 적용\n",
        "    - multi:softprob: multi:softmax와 유사하나, 개별 레이블 클래스의 해당되는 예측 확률을 반환\n",
        "    - eval_metric: 검증에 사용되는 함수 정의, 디폴트 회귀(rmse), 분류(error)\n",
        "                   rmse(Root MSE) / mae(Mean Absolute Error) / logloss(Negative log likelihood) /\n",
        "                   error (Binary classification error rate) / merror(Multiclass classification error rate) /\n",
        "                   mlogloss(Multiclass logloss) / auc(Area under the curve)"
      ],
      "metadata": {
        "id": "eKTpyLsZGDxi"
      }
    },
    {
      "cell_type": "markdown",
      "source": [
        "> 과적합 방지를 위해\n",
        "\n",
        "    - eta 값을 낮춘다 (반대로 num_round / n_estimators는 높인다)\n",
        "    - max_depth 값을 낮춘다\n",
        "    - min_child_weight 값을 높인다\n",
        "    - gamma 값을 높인다\n",
        "    - subsample, colsample_bytree 조정한다.\n",
        "\n",
        "> XGBoost의 조기 중단(Early Stopping) 기능\n",
        "\n",
        "    n_estimators에 지정한 부스팅 반복 횟수에 도달하지 않더라도\n",
        "    예측 오류가 더 이상 개선되지 않으면 반복을 끝까지 수행하지 않고 중지해 수행 시간을 개선"
      ],
      "metadata": {
        "id": "pz3M1piwJQas"
      }
    },
    {
      "cell_type": "markdown",
      "source": [
        "> 파이썬 래퍼 XGBoost 적용 - 위스콘신 유방암 예측\n",
        "\n",
        "> 악성종양(0), 양성종양(1) 이진분류"
      ],
      "metadata": {
        "id": "WJFP9mchKHhV"
      }
    },
    {
      "cell_type": "code",
      "source": [
        "import xgboost as xgb\n",
        "from xgboost import plot_importance\n",
        "import pandas as pd\n",
        "import numpy as np\n",
        "from sklearn.datasets import load_breast_cancer\n",
        "from sklearn.model_selection import train_test_split\n",
        "import warnings\n",
        "warnings.filterwarnings('ignore')"
      ],
      "metadata": {
        "id": "pemYYf5HKEUg"
      },
      "execution_count": 126,
      "outputs": []
    },
    {
      "cell_type": "code",
      "source": [
        "dataset = load_breast_cancer()\n",
        "features = dataset.data\n",
        "labels = dataset.target\n",
        "\n",
        "cancer_df = pd.DataFrame(data=features, columns=dataset.feature_names)\n",
        "cancer_df['target'] = labels\n",
        "cancer_df.head(3)"
      ],
      "metadata": {
        "colab": {
          "base_uri": "https://localhost:8080/",
          "height": 228
        },
        "id": "QJa7eCkaKxIX",
        "outputId": "b5e4ccd9-f457-40c8-d4f2-f6ef9416a954"
      },
      "execution_count": 127,
      "outputs": [
        {
          "output_type": "execute_result",
          "data": {
            "text/plain": [
              "   mean radius  mean texture  mean perimeter  mean area  mean smoothness  \\\n",
              "0        17.99         10.38           122.8     1001.0          0.11840   \n",
              "1        20.57         17.77           132.9     1326.0          0.08474   \n",
              "2        19.69         21.25           130.0     1203.0          0.10960   \n",
              "\n",
              "   mean compactness  mean concavity  mean concave points  mean symmetry  \\\n",
              "0           0.27760          0.3001              0.14710         0.2419   \n",
              "1           0.07864          0.0869              0.07017         0.1812   \n",
              "2           0.15990          0.1974              0.12790         0.2069   \n",
              "\n",
              "   mean fractal dimension  ...  worst texture  worst perimeter  worst area  \\\n",
              "0                 0.07871  ...          17.33            184.6      2019.0   \n",
              "1                 0.05667  ...          23.41            158.8      1956.0   \n",
              "2                 0.05999  ...          25.53            152.5      1709.0   \n",
              "\n",
              "   worst smoothness  worst compactness  worst concavity  worst concave points  \\\n",
              "0            0.1622             0.6656           0.7119                0.2654   \n",
              "1            0.1238             0.1866           0.2416                0.1860   \n",
              "2            0.1444             0.4245           0.4504                0.2430   \n",
              "\n",
              "   worst symmetry  worst fractal dimension  target  \n",
              "0          0.4601                  0.11890       0  \n",
              "1          0.2750                  0.08902       0  \n",
              "2          0.3613                  0.08758       0  \n",
              "\n",
              "[3 rows x 31 columns]"
            ],
            "text/html": [
              "\n",
              "  <div id=\"df-daf54ef3-c121-414b-b7c3-b66a3069f903\" class=\"colab-df-container\">\n",
              "    <div>\n",
              "<style scoped>\n",
              "    .dataframe tbody tr th:only-of-type {\n",
              "        vertical-align: middle;\n",
              "    }\n",
              "\n",
              "    .dataframe tbody tr th {\n",
              "        vertical-align: top;\n",
              "    }\n",
              "\n",
              "    .dataframe thead th {\n",
              "        text-align: right;\n",
              "    }\n",
              "</style>\n",
              "<table border=\"1\" class=\"dataframe\">\n",
              "  <thead>\n",
              "    <tr style=\"text-align: right;\">\n",
              "      <th></th>\n",
              "      <th>mean radius</th>\n",
              "      <th>mean texture</th>\n",
              "      <th>mean perimeter</th>\n",
              "      <th>mean area</th>\n",
              "      <th>mean smoothness</th>\n",
              "      <th>mean compactness</th>\n",
              "      <th>mean concavity</th>\n",
              "      <th>mean concave points</th>\n",
              "      <th>mean symmetry</th>\n",
              "      <th>mean fractal dimension</th>\n",
              "      <th>...</th>\n",
              "      <th>worst texture</th>\n",
              "      <th>worst perimeter</th>\n",
              "      <th>worst area</th>\n",
              "      <th>worst smoothness</th>\n",
              "      <th>worst compactness</th>\n",
              "      <th>worst concavity</th>\n",
              "      <th>worst concave points</th>\n",
              "      <th>worst symmetry</th>\n",
              "      <th>worst fractal dimension</th>\n",
              "      <th>target</th>\n",
              "    </tr>\n",
              "  </thead>\n",
              "  <tbody>\n",
              "    <tr>\n",
              "      <th>0</th>\n",
              "      <td>17.99</td>\n",
              "      <td>10.38</td>\n",
              "      <td>122.8</td>\n",
              "      <td>1001.0</td>\n",
              "      <td>0.11840</td>\n",
              "      <td>0.27760</td>\n",
              "      <td>0.3001</td>\n",
              "      <td>0.14710</td>\n",
              "      <td>0.2419</td>\n",
              "      <td>0.07871</td>\n",
              "      <td>...</td>\n",
              "      <td>17.33</td>\n",
              "      <td>184.6</td>\n",
              "      <td>2019.0</td>\n",
              "      <td>0.1622</td>\n",
              "      <td>0.6656</td>\n",
              "      <td>0.7119</td>\n",
              "      <td>0.2654</td>\n",
              "      <td>0.4601</td>\n",
              "      <td>0.11890</td>\n",
              "      <td>0</td>\n",
              "    </tr>\n",
              "    <tr>\n",
              "      <th>1</th>\n",
              "      <td>20.57</td>\n",
              "      <td>17.77</td>\n",
              "      <td>132.9</td>\n",
              "      <td>1326.0</td>\n",
              "      <td>0.08474</td>\n",
              "      <td>0.07864</td>\n",
              "      <td>0.0869</td>\n",
              "      <td>0.07017</td>\n",
              "      <td>0.1812</td>\n",
              "      <td>0.05667</td>\n",
              "      <td>...</td>\n",
              "      <td>23.41</td>\n",
              "      <td>158.8</td>\n",
              "      <td>1956.0</td>\n",
              "      <td>0.1238</td>\n",
              "      <td>0.1866</td>\n",
              "      <td>0.2416</td>\n",
              "      <td>0.1860</td>\n",
              "      <td>0.2750</td>\n",
              "      <td>0.08902</td>\n",
              "      <td>0</td>\n",
              "    </tr>\n",
              "    <tr>\n",
              "      <th>2</th>\n",
              "      <td>19.69</td>\n",
              "      <td>21.25</td>\n",
              "      <td>130.0</td>\n",
              "      <td>1203.0</td>\n",
              "      <td>0.10960</td>\n",
              "      <td>0.15990</td>\n",
              "      <td>0.1974</td>\n",
              "      <td>0.12790</td>\n",
              "      <td>0.2069</td>\n",
              "      <td>0.05999</td>\n",
              "      <td>...</td>\n",
              "      <td>25.53</td>\n",
              "      <td>152.5</td>\n",
              "      <td>1709.0</td>\n",
              "      <td>0.1444</td>\n",
              "      <td>0.4245</td>\n",
              "      <td>0.4504</td>\n",
              "      <td>0.2430</td>\n",
              "      <td>0.3613</td>\n",
              "      <td>0.08758</td>\n",
              "      <td>0</td>\n",
              "    </tr>\n",
              "  </tbody>\n",
              "</table>\n",
              "<p>3 rows × 31 columns</p>\n",
              "</div>\n",
              "    <div class=\"colab-df-buttons\">\n",
              "\n",
              "  <div class=\"colab-df-container\">\n",
              "    <button class=\"colab-df-convert\" onclick=\"convertToInteractive('df-daf54ef3-c121-414b-b7c3-b66a3069f903')\"\n",
              "            title=\"Convert this dataframe to an interactive table.\"\n",
              "            style=\"display:none;\">\n",
              "\n",
              "  <svg xmlns=\"http://www.w3.org/2000/svg\" height=\"24px\" viewBox=\"0 -960 960 960\">\n",
              "    <path d=\"M120-120v-720h720v720H120Zm60-500h600v-160H180v160Zm220 220h160v-160H400v160Zm0 220h160v-160H400v160ZM180-400h160v-160H180v160Zm440 0h160v-160H620v160ZM180-180h160v-160H180v160Zm440 0h160v-160H620v160Z\"/>\n",
              "  </svg>\n",
              "    </button>\n",
              "\n",
              "  <style>\n",
              "    .colab-df-container {\n",
              "      display:flex;\n",
              "      gap: 12px;\n",
              "    }\n",
              "\n",
              "    .colab-df-convert {\n",
              "      background-color: #E8F0FE;\n",
              "      border: none;\n",
              "      border-radius: 50%;\n",
              "      cursor: pointer;\n",
              "      display: none;\n",
              "      fill: #1967D2;\n",
              "      height: 32px;\n",
              "      padding: 0 0 0 0;\n",
              "      width: 32px;\n",
              "    }\n",
              "\n",
              "    .colab-df-convert:hover {\n",
              "      background-color: #E2EBFA;\n",
              "      box-shadow: 0px 1px 2px rgba(60, 64, 67, 0.3), 0px 1px 3px 1px rgba(60, 64, 67, 0.15);\n",
              "      fill: #174EA6;\n",
              "    }\n",
              "\n",
              "    .colab-df-buttons div {\n",
              "      margin-bottom: 4px;\n",
              "    }\n",
              "\n",
              "    [theme=dark] .colab-df-convert {\n",
              "      background-color: #3B4455;\n",
              "      fill: #D2E3FC;\n",
              "    }\n",
              "\n",
              "    [theme=dark] .colab-df-convert:hover {\n",
              "      background-color: #434B5C;\n",
              "      box-shadow: 0px 1px 3px 1px rgba(0, 0, 0, 0.15);\n",
              "      filter: drop-shadow(0px 1px 2px rgba(0, 0, 0, 0.3));\n",
              "      fill: #FFFFFF;\n",
              "    }\n",
              "  </style>\n",
              "\n",
              "    <script>\n",
              "      const buttonEl =\n",
              "        document.querySelector('#df-daf54ef3-c121-414b-b7c3-b66a3069f903 button.colab-df-convert');\n",
              "      buttonEl.style.display =\n",
              "        google.colab.kernel.accessAllowed ? 'block' : 'none';\n",
              "\n",
              "      async function convertToInteractive(key) {\n",
              "        const element = document.querySelector('#df-daf54ef3-c121-414b-b7c3-b66a3069f903');\n",
              "        const dataTable =\n",
              "          await google.colab.kernel.invokeFunction('convertToInteractive',\n",
              "                                                    [key], {});\n",
              "        if (!dataTable) return;\n",
              "\n",
              "        const docLinkHtml = 'Like what you see? Visit the ' +\n",
              "          '<a target=\"_blank\" href=https://colab.research.google.com/notebooks/data_table.ipynb>data table notebook</a>'\n",
              "          + ' to learn more about interactive tables.';\n",
              "        element.innerHTML = '';\n",
              "        dataTable['output_type'] = 'display_data';\n",
              "        await google.colab.output.renderOutput(dataTable, element);\n",
              "        const docLink = document.createElement('div');\n",
              "        docLink.innerHTML = docLinkHtml;\n",
              "        element.appendChild(docLink);\n",
              "      }\n",
              "    </script>\n",
              "  </div>\n",
              "\n",
              "\n",
              "<div id=\"df-7e72b6f6-300f-40fd-8724-1288c5214035\">\n",
              "  <button class=\"colab-df-quickchart\" onclick=\"quickchart('df-7e72b6f6-300f-40fd-8724-1288c5214035')\"\n",
              "            title=\"Suggest charts\"\n",
              "            style=\"display:none;\">\n",
              "\n",
              "<svg xmlns=\"http://www.w3.org/2000/svg\" height=\"24px\"viewBox=\"0 0 24 24\"\n",
              "     width=\"24px\">\n",
              "    <g>\n",
              "        <path d=\"M19 3H5c-1.1 0-2 .9-2 2v14c0 1.1.9 2 2 2h14c1.1 0 2-.9 2-2V5c0-1.1-.9-2-2-2zM9 17H7v-7h2v7zm4 0h-2V7h2v10zm4 0h-2v-4h2v4z\"/>\n",
              "    </g>\n",
              "</svg>\n",
              "  </button>\n",
              "\n",
              "<style>\n",
              "  .colab-df-quickchart {\n",
              "      --bg-color: #E8F0FE;\n",
              "      --fill-color: #1967D2;\n",
              "      --hover-bg-color: #E2EBFA;\n",
              "      --hover-fill-color: #174EA6;\n",
              "      --disabled-fill-color: #AAA;\n",
              "      --disabled-bg-color: #DDD;\n",
              "  }\n",
              "\n",
              "  [theme=dark] .colab-df-quickchart {\n",
              "      --bg-color: #3B4455;\n",
              "      --fill-color: #D2E3FC;\n",
              "      --hover-bg-color: #434B5C;\n",
              "      --hover-fill-color: #FFFFFF;\n",
              "      --disabled-bg-color: #3B4455;\n",
              "      --disabled-fill-color: #666;\n",
              "  }\n",
              "\n",
              "  .colab-df-quickchart {\n",
              "    background-color: var(--bg-color);\n",
              "    border: none;\n",
              "    border-radius: 50%;\n",
              "    cursor: pointer;\n",
              "    display: none;\n",
              "    fill: var(--fill-color);\n",
              "    height: 32px;\n",
              "    padding: 0;\n",
              "    width: 32px;\n",
              "  }\n",
              "\n",
              "  .colab-df-quickchart:hover {\n",
              "    background-color: var(--hover-bg-color);\n",
              "    box-shadow: 0 1px 2px rgba(60, 64, 67, 0.3), 0 1px 3px 1px rgba(60, 64, 67, 0.15);\n",
              "    fill: var(--button-hover-fill-color);\n",
              "  }\n",
              "\n",
              "  .colab-df-quickchart-complete:disabled,\n",
              "  .colab-df-quickchart-complete:disabled:hover {\n",
              "    background-color: var(--disabled-bg-color);\n",
              "    fill: var(--disabled-fill-color);\n",
              "    box-shadow: none;\n",
              "  }\n",
              "\n",
              "  .colab-df-spinner {\n",
              "    border: 2px solid var(--fill-color);\n",
              "    border-color: transparent;\n",
              "    border-bottom-color: var(--fill-color);\n",
              "    animation:\n",
              "      spin 1s steps(1) infinite;\n",
              "  }\n",
              "\n",
              "  @keyframes spin {\n",
              "    0% {\n",
              "      border-color: transparent;\n",
              "      border-bottom-color: var(--fill-color);\n",
              "      border-left-color: var(--fill-color);\n",
              "    }\n",
              "    20% {\n",
              "      border-color: transparent;\n",
              "      border-left-color: var(--fill-color);\n",
              "      border-top-color: var(--fill-color);\n",
              "    }\n",
              "    30% {\n",
              "      border-color: transparent;\n",
              "      border-left-color: var(--fill-color);\n",
              "      border-top-color: var(--fill-color);\n",
              "      border-right-color: var(--fill-color);\n",
              "    }\n",
              "    40% {\n",
              "      border-color: transparent;\n",
              "      border-right-color: var(--fill-color);\n",
              "      border-top-color: var(--fill-color);\n",
              "    }\n",
              "    60% {\n",
              "      border-color: transparent;\n",
              "      border-right-color: var(--fill-color);\n",
              "    }\n",
              "    80% {\n",
              "      border-color: transparent;\n",
              "      border-right-color: var(--fill-color);\n",
              "      border-bottom-color: var(--fill-color);\n",
              "    }\n",
              "    90% {\n",
              "      border-color: transparent;\n",
              "      border-bottom-color: var(--fill-color);\n",
              "    }\n",
              "  }\n",
              "</style>\n",
              "\n",
              "  <script>\n",
              "    async function quickchart(key) {\n",
              "      const quickchartButtonEl =\n",
              "        document.querySelector('#' + key + ' button');\n",
              "      quickchartButtonEl.disabled = true;  // To prevent multiple clicks.\n",
              "      quickchartButtonEl.classList.add('colab-df-spinner');\n",
              "      try {\n",
              "        const charts = await google.colab.kernel.invokeFunction(\n",
              "            'suggestCharts', [key], {});\n",
              "      } catch (error) {\n",
              "        console.error('Error during call to suggestCharts:', error);\n",
              "      }\n",
              "      quickchartButtonEl.classList.remove('colab-df-spinner');\n",
              "      quickchartButtonEl.classList.add('colab-df-quickchart-complete');\n",
              "    }\n",
              "    (() => {\n",
              "      let quickchartButtonEl =\n",
              "        document.querySelector('#df-7e72b6f6-300f-40fd-8724-1288c5214035 button');\n",
              "      quickchartButtonEl.style.display =\n",
              "        google.colab.kernel.accessAllowed ? 'block' : 'none';\n",
              "    })();\n",
              "  </script>\n",
              "</div>\n",
              "\n",
              "    </div>\n",
              "  </div>\n"
            ],
            "application/vnd.google.colaboratory.intrinsic+json": {
              "type": "dataframe",
              "variable_name": "cancer_df"
            }
          },
          "metadata": {},
          "execution_count": 127
        }
      ]
    },
    {
      "cell_type": "code",
      "source": [
        "# 레이블 값 분포 확인\n",
        "print(dataset.target_names)\n",
        "print(cancer_df.target.value_counts())"
      ],
      "metadata": {
        "colab": {
          "base_uri": "https://localhost:8080/"
        },
        "id": "5HZpqFrMLCVI",
        "outputId": "878efe6b-3149-4cf1-a4c4-b7cce119f68c"
      },
      "execution_count": 128,
      "outputs": [
        {
          "output_type": "stream",
          "name": "stdout",
          "text": [
            "['malignant' 'benign']\n",
            "1    357\n",
            "0    212\n",
            "Name: target, dtype: int64\n"
          ]
        }
      ]
    },
    {
      "cell_type": "code",
      "source": [
        "# cancer_df에서 feature용 DataFrame과 Label용 Series 객체 추출\n",
        "X_features = cancer_df.iloc[:,:-1]\n",
        "y_label = cancer_df.target\n",
        "\n",
        "# 전체 데이터 중 80% 학습용 데이터, 20% 테스트용 데이터 분할\n",
        "X_train, X_test, y_train, y_test = train_test_split(X_features, y_label, test_size=0.2, random_state=156)\n",
        "\n",
        "# 위에서 만든 X_train, y_train을 다시 쪼개서 90%는 학습과 10% 검증용 데이터로 분리\n",
        "X_tr, X_val, y_tr, y_val = train_test_split(X_train, y_train, test_size=0.1, random_state=156)\n",
        "\n",
        "print(X_train.shape, X_test.shape)\n",
        "print(X_tr.shape, X_val.shape)"
      ],
      "metadata": {
        "colab": {
          "base_uri": "https://localhost:8080/"
        },
        "id": "AVbi_2lMLYVc",
        "outputId": "2cbca040-3dbe-41a2-f344-480a682b7273"
      },
      "execution_count": 129,
      "outputs": [
        {
          "output_type": "stream",
          "name": "stdout",
          "text": [
            "(455, 30) (114, 30)\n",
            "(409, 30) (46, 30)\n"
          ]
        }
      ]
    },
    {
      "cell_type": "code",
      "source": [
        "# 파이썬 래퍼 XGBoost는 XGBoost만의 전용 데이터 객체인 DMatirx를 사용하므로 Numpy 또는 Pandas로 되어 있는 학습, 검증, 테스트용 데이터 세트를 모두 DMatirx로 생성하여 모델에 입력해 주어야 함!"
      ],
      "metadata": {
        "id": "2_9FLt5ML0GG"
      },
      "execution_count": 130,
      "outputs": []
    },
    {
      "cell_type": "code",
      "source": [
        "# 학습, 검증, 테스트용 DMatirx를 생성\n",
        "dtr = xgb.DMatrix(data=X_tr, label=y_tr)\n",
        "dval = xgb.DMatrix(data=X_val, label=y_val)\n",
        "dtest = xgb.DMatrix(data=X_test, label=y_test)"
      ],
      "metadata": {
        "id": "e4mR8PieM82M"
      },
      "execution_count": 131,
      "outputs": []
    },
    {
      "cell_type": "code",
      "source": [
        "# 하이퍼 파라미터 설정\n",
        "params = {'max_depth':3,\n",
        "          'eta':0.05,\n",
        "          'objective':'binary:logistic',\n",
        "          'eval_metirc':'logloss'}\n",
        "num_rounds=400"
      ],
      "metadata": {
        "id": "-pwySFPiNO_5"
      },
      "execution_count": 132,
      "outputs": []
    },
    {
      "cell_type": "code",
      "source": [
        "# 파이썬 래퍼 XGBoost는 xgboost 모듈의 train() 함수에 하이퍼 파라미터를 전달\n",
        "# 조기 중단의 성능 평가는 주로 별도의 검증 데이터 세트를 이용해 더 이상 지표 개선이 없을 경우 num_boost_round 횟수를 모두 채우지 않고 중간에 반복을 빠져 나올 수 있도록 함\n",
        "# 이때, train() 함수에 early_stopping_rounds 파라미터를 입력하여 조기 중단할 수 있는 최소 반복 횟수 설정 가능\n",
        "# 성능 평가를 위한 지표를 eval_metirc으로 설정해야 함"
      ],
      "metadata": {
        "id": "-6IpKh-ZNgrP"
      },
      "execution_count": 133,
      "outputs": []
    },
    {
      "cell_type": "code",
      "source": [
        "# 학습 데이터 셋은 'train' 또는 평가 데이터 셋은 'eval'로 명기합니다.\n",
        "eval_list = [(dtr, 'train'), (dval, 'eval')] # 또는 eval_list = [(dval, 'eval')]만 명기해도 무방\n",
        "\n",
        "# 하이퍼 파라미터와 early stopping 파라미터를 train() 함수의 파라미터로 전달하여 학습\n",
        "xgb_model = xgb.train(params=params, dtrain=dtr, num_boost_round=num_rounds, \\\n",
        "                      early_stopping_rounds=50, evals=eval_list)"
      ],
      "metadata": {
        "colab": {
          "base_uri": "https://localhost:8080/"
        },
        "id": "5DOAPNauOV0m",
        "outputId": "55a8dd5f-701e-45de-d690-ef7577652142"
      },
      "execution_count": 134,
      "outputs": [
        {
          "output_type": "stream",
          "name": "stdout",
          "text": [
            "[0]\ttrain-logloss:0.62480\teval-logloss:0.63104\n",
            "[1]\ttrain-logloss:0.58674\teval-logloss:0.60478\n",
            "[2]\ttrain-logloss:0.55226\teval-logloss:0.58223\n",
            "[3]\ttrain-logloss:0.52086\teval-logloss:0.56184\n",
            "[4]\ttrain-logloss:0.49192\teval-logloss:0.54118\n",
            "[5]\ttrain-logloss:0.46537\teval-logloss:0.52223\n",
            "[6]\ttrain-logloss:0.44029\teval-logloss:0.50287\n",
            "[7]\ttrain-logloss:0.41666\teval-logloss:0.48620\n",
            "[8]\ttrain-logloss:0.39525\teval-logloss:0.46974\n",
            "[9]\ttrain-logloss:0.37542\teval-logloss:0.45497\n",
            "[10]\ttrain-logloss:0.35701\teval-logloss:0.44131\n",
            "[11]\ttrain-logloss:0.33982\teval-logloss:0.43134\n",
            "[12]\ttrain-logloss:0.32297\teval-logloss:0.41972\n",
            "[13]\ttrain-logloss:0.30725\teval-logloss:0.40902\n",
            "[14]\ttrain-logloss:0.29327\teval-logloss:0.39883\n",
            "[15]\ttrain-logloss:0.27946\teval-logloss:0.38968\n",
            "[16]\ttrain-logloss:0.26691\teval-logloss:0.38150\n",
            "[17]\ttrain-logloss:0.25473\teval-logloss:0.37368\n",
            "[18]\ttrain-logloss:0.24385\teval-logloss:0.36666\n",
            "[19]\ttrain-logloss:0.23338\teval-logloss:0.35994\n",
            "[20]\ttrain-logloss:0.22320\teval-logloss:0.35374\n",
            "[21]\ttrain-logloss:0.21363\teval-logloss:0.34704\n",
            "[22]\ttrain-logloss:0.20487\teval-logloss:0.34206\n",
            "[23]\ttrain-logloss:0.19634\teval-logloss:0.33621\n",
            "[24]\ttrain-logloss:0.18830\teval-logloss:0.33178\n",
            "[25]\ttrain-logloss:0.18093\teval-logloss:0.32774\n",
            "[26]\ttrain-logloss:0.17374\teval-logloss:0.32297\n",
            "[27]\ttrain-logloss:0.16695\teval-logloss:0.31855\n",
            "[28]\ttrain-logloss:0.16059\teval-logloss:0.31495\n",
            "[29]\ttrain-logloss:0.15450\teval-logloss:0.31173\n",
            "[30]\ttrain-logloss:0.14875\teval-logloss:0.30735\n",
            "[31]\ttrain-logloss:0.14329\teval-logloss:0.30463\n",
            "[32]\ttrain-logloss:0.13807\teval-logloss:0.30242\n",
            "[33]\ttrain-logloss:0.13325\teval-logloss:0.29922\n",
            "[34]\ttrain-logloss:0.12864\teval-logloss:0.29722\n",
            "[35]\ttrain-logloss:0.12429\teval-logloss:0.29540\n",
            "[36]\ttrain-logloss:0.12000\teval-logloss:0.29300\n",
            "[37]\ttrain-logloss:0.11581\teval-logloss:0.29010\n",
            "[38]\ttrain-logloss:0.11210\teval-logloss:0.28883\n",
            "[39]\ttrain-logloss:0.10838\teval-logloss:0.28769\n",
            "[40]\ttrain-logloss:0.10481\teval-logloss:0.28574\n",
            "[41]\ttrain-logloss:0.10160\teval-logloss:0.28434\n",
            "[42]\ttrain-logloss:0.09832\teval-logloss:0.28226\n",
            "[43]\ttrain-logloss:0.09534\teval-logloss:0.28006\n",
            "[44]\ttrain-logloss:0.09249\teval-logloss:0.27854\n",
            "[45]\ttrain-logloss:0.08972\teval-logloss:0.27747\n",
            "[46]\ttrain-logloss:0.08700\teval-logloss:0.27654\n",
            "[47]\ttrain-logloss:0.08461\teval-logloss:0.27598\n",
            "[48]\ttrain-logloss:0.08225\teval-logloss:0.27415\n",
            "[49]\ttrain-logloss:0.08001\teval-logloss:0.27245\n",
            "[50]\ttrain-logloss:0.07784\teval-logloss:0.27104\n",
            "[51]\ttrain-logloss:0.07578\teval-logloss:0.26958\n",
            "[52]\ttrain-logloss:0.07384\teval-logloss:0.26869\n",
            "[53]\ttrain-logloss:0.07196\teval-logloss:0.26760\n",
            "[54]\ttrain-logloss:0.07021\teval-logloss:0.26661\n",
            "[55]\ttrain-logloss:0.06833\teval-logloss:0.26680\n",
            "[56]\ttrain-logloss:0.06671\teval-logloss:0.26517\n",
            "[57]\ttrain-logloss:0.06519\teval-logloss:0.26412\n",
            "[58]\ttrain-logloss:0.06368\teval-logloss:0.26444\n",
            "[59]\ttrain-logloss:0.06202\teval-logloss:0.26434\n",
            "[60]\ttrain-logloss:0.06048\teval-logloss:0.26208\n",
            "[61]\ttrain-logloss:0.05898\teval-logloss:0.26139\n",
            "[62]\ttrain-logloss:0.05756\teval-logloss:0.26155\n",
            "[63]\ttrain-logloss:0.05614\teval-logloss:0.26114\n",
            "[64]\ttrain-logloss:0.05486\teval-logloss:0.25973\n",
            "[65]\ttrain-logloss:0.05372\teval-logloss:0.25878\n",
            "[66]\ttrain-logloss:0.05263\teval-logloss:0.25758\n",
            "[67]\ttrain-logloss:0.05140\teval-logloss:0.25664\n",
            "[68]\ttrain-logloss:0.05019\teval-logloss:0.25625\n",
            "[69]\ttrain-logloss:0.04910\teval-logloss:0.25593\n",
            "[70]\ttrain-logloss:0.04806\teval-logloss:0.25438\n",
            "[71]\ttrain-logloss:0.04704\teval-logloss:0.25373\n",
            "[72]\ttrain-logloss:0.04606\teval-logloss:0.25411\n",
            "[73]\ttrain-logloss:0.04514\teval-logloss:0.25316\n",
            "[74]\ttrain-logloss:0.04435\teval-logloss:0.25248\n",
            "[75]\ttrain-logloss:0.04347\teval-logloss:0.25271\n",
            "[76]\ttrain-logloss:0.04260\teval-logloss:0.25282\n",
            "[77]\ttrain-logloss:0.04178\teval-logloss:0.25165\n",
            "[78]\ttrain-logloss:0.04099\teval-logloss:0.25181\n",
            "[79]\ttrain-logloss:0.04022\teval-logloss:0.25210\n",
            "[80]\ttrain-logloss:0.03942\teval-logloss:0.25194\n",
            "[81]\ttrain-logloss:0.03875\teval-logloss:0.25254\n",
            "[82]\ttrain-logloss:0.03799\teval-logloss:0.25264\n",
            "[83]\ttrain-logloss:0.03727\teval-logloss:0.25280\n",
            "[84]\ttrain-logloss:0.03657\teval-logloss:0.25281\n",
            "[85]\ttrain-logloss:0.03586\teval-logloss:0.25219\n",
            "[86]\ttrain-logloss:0.03530\teval-logloss:0.25288\n",
            "[87]\ttrain-logloss:0.03464\teval-logloss:0.25226\n",
            "[88]\ttrain-logloss:0.03401\teval-logloss:0.25167\n",
            "[89]\ttrain-logloss:0.03347\teval-logloss:0.25258\n",
            "[90]\ttrain-logloss:0.03297\teval-logloss:0.25331\n",
            "[91]\ttrain-logloss:0.03240\teval-logloss:0.25373\n",
            "[92]\ttrain-logloss:0.03184\teval-logloss:0.25323\n",
            "[93]\ttrain-logloss:0.03136\teval-logloss:0.25240\n",
            "[94]\ttrain-logloss:0.03086\teval-logloss:0.25324\n",
            "[95]\ttrain-logloss:0.03035\teval-logloss:0.25280\n",
            "[96]\ttrain-logloss:0.02985\teval-logloss:0.25215\n",
            "[97]\ttrain-logloss:0.02937\teval-logloss:0.25179\n",
            "[98]\ttrain-logloss:0.02892\teval-logloss:0.25143\n",
            "[99]\ttrain-logloss:0.02853\teval-logloss:0.25180\n",
            "[100]\ttrain-logloss:0.02810\teval-logloss:0.25151\n",
            "[101]\ttrain-logloss:0.02769\teval-logloss:0.25158\n",
            "[102]\ttrain-logloss:0.02729\teval-logloss:0.25130\n",
            "[103]\ttrain-logloss:0.02689\teval-logloss:0.25094\n",
            "[104]\ttrain-logloss:0.02654\teval-logloss:0.25054\n",
            "[105]\ttrain-logloss:0.02617\teval-logloss:0.25030\n",
            "[106]\ttrain-logloss:0.02580\teval-logloss:0.24850\n",
            "[107]\ttrain-logloss:0.02545\teval-logloss:0.24829\n",
            "[108]\ttrain-logloss:0.02509\teval-logloss:0.24828\n",
            "[109]\ttrain-logloss:0.02475\teval-logloss:0.24881\n",
            "[110]\ttrain-logloss:0.02443\teval-logloss:0.24912\n",
            "[111]\ttrain-logloss:0.02405\teval-logloss:0.24791\n",
            "[112]\ttrain-logloss:0.02374\teval-logloss:0.24846\n",
            "[113]\ttrain-logloss:0.02341\teval-logloss:0.24931\n",
            "[114]\ttrain-logloss:0.02314\teval-logloss:0.24832\n",
            "[115]\ttrain-logloss:0.02286\teval-logloss:0.24889\n",
            "[116]\ttrain-logloss:0.02255\teval-logloss:0.24866\n",
            "[117]\ttrain-logloss:0.02227\teval-logloss:0.24925\n",
            "[118]\ttrain-logloss:0.02197\teval-logloss:0.24679\n",
            "[119]\ttrain-logloss:0.02172\teval-logloss:0.24787\n",
            "[120]\ttrain-logloss:0.02141\teval-logloss:0.24846\n",
            "[121]\ttrain-logloss:0.02112\teval-logloss:0.24683\n",
            "[122]\ttrain-logloss:0.02088\teval-logloss:0.24650\n",
            "[123]\ttrain-logloss:0.02061\teval-logloss:0.24497\n",
            "[124]\ttrain-logloss:0.02037\teval-logloss:0.24529\n",
            "[125]\ttrain-logloss:0.02012\teval-logloss:0.24516\n",
            "[126]\ttrain-logloss:0.01987\teval-logloss:0.24576\n",
            "[127]\ttrain-logloss:0.01967\teval-logloss:0.24576\n",
            "[128]\ttrain-logloss:0.01943\teval-logloss:0.24563\n",
            "[129]\ttrain-logloss:0.01922\teval-logloss:0.24533\n",
            "[130]\ttrain-logloss:0.01900\teval-logloss:0.24591\n",
            "[131]\ttrain-logloss:0.01881\teval-logloss:0.24593\n",
            "[132]\ttrain-logloss:0.01858\teval-logloss:0.24582\n",
            "[133]\ttrain-logloss:0.01839\teval-logloss:0.24619\n",
            "[134]\ttrain-logloss:0.01824\teval-logloss:0.24631\n",
            "[135]\ttrain-logloss:0.01805\teval-logloss:0.24669\n",
            "[136]\ttrain-logloss:0.01785\teval-logloss:0.24660\n",
            "[137]\ttrain-logloss:0.01770\teval-logloss:0.24584\n",
            "[138]\ttrain-logloss:0.01753\teval-logloss:0.24465\n",
            "[139]\ttrain-logloss:0.01734\teval-logloss:0.24458\n",
            "[140]\ttrain-logloss:0.01720\teval-logloss:0.24385\n",
            "[141]\ttrain-logloss:0.01703\teval-logloss:0.24422\n",
            "[142]\ttrain-logloss:0.01690\teval-logloss:0.24423\n",
            "[143]\ttrain-logloss:0.01673\teval-logloss:0.24408\n",
            "[144]\ttrain-logloss:0.01655\teval-logloss:0.24381\n",
            "[145]\ttrain-logloss:0.01641\teval-logloss:0.24311\n",
            "[146]\ttrain-logloss:0.01629\teval-logloss:0.24322\n",
            "[147]\ttrain-logloss:0.01614\teval-logloss:0.24360\n",
            "[148]\ttrain-logloss:0.01597\teval-logloss:0.24328\n",
            "[149]\ttrain-logloss:0.01582\teval-logloss:0.24314\n",
            "[150]\ttrain-logloss:0.01571\teval-logloss:0.24315\n",
            "[151]\ttrain-logloss:0.01556\teval-logloss:0.24289\n",
            "[152]\ttrain-logloss:0.01537\teval-logloss:0.24363\n",
            "[153]\ttrain-logloss:0.01523\teval-logloss:0.24404\n",
            "[154]\ttrain-logloss:0.01510\teval-logloss:0.24383\n",
            "[155]\ttrain-logloss:0.01493\teval-logloss:0.24435\n",
            "[156]\ttrain-logloss:0.01478\teval-logloss:0.24425\n",
            "[157]\ttrain-logloss:0.01467\teval-logloss:0.24361\n",
            "[158]\ttrain-logloss:0.01455\teval-logloss:0.24294\n",
            "[159]\ttrain-logloss:0.01440\teval-logloss:0.24340\n",
            "[160]\ttrain-logloss:0.01428\teval-logloss:0.24323\n",
            "[161]\ttrain-logloss:0.01417\teval-logloss:0.24310\n",
            "[162]\ttrain-logloss:0.01409\teval-logloss:0.24247\n",
            "[163]\ttrain-logloss:0.01393\teval-logloss:0.24311\n",
            "[164]\ttrain-logloss:0.01380\teval-logloss:0.24269\n",
            "[165]\ttrain-logloss:0.01368\teval-logloss:0.24268\n",
            "[166]\ttrain-logloss:0.01360\teval-logloss:0.24242\n",
            "[167]\ttrain-logloss:0.01345\teval-logloss:0.24306\n",
            "[168]\ttrain-logloss:0.01335\teval-logloss:0.24220\n",
            "[169]\ttrain-logloss:0.01328\teval-logloss:0.24116\n",
            "[170]\ttrain-logloss:0.01317\teval-logloss:0.24117\n",
            "[171]\ttrain-logloss:0.01308\teval-logloss:0.24126\n",
            "[172]\ttrain-logloss:0.01299\teval-logloss:0.24046\n",
            "[173]\ttrain-logloss:0.01292\teval-logloss:0.23993\n",
            "[174]\ttrain-logloss:0.01284\teval-logloss:0.23985\n",
            "[175]\ttrain-logloss:0.01275\teval-logloss:0.23994\n",
            "[176]\ttrain-logloss:0.01268\teval-logloss:0.23986\n",
            "[177]\ttrain-logloss:0.01260\teval-logloss:0.23996\n",
            "[178]\ttrain-logloss:0.01253\teval-logloss:0.23943\n",
            "[179]\ttrain-logloss:0.01243\teval-logloss:0.23847\n",
            "[180]\ttrain-logloss:0.01236\teval-logloss:0.23842\n",
            "[181]\ttrain-logloss:0.01226\teval-logloss:0.23885\n",
            "[182]\ttrain-logloss:0.01220\teval-logloss:0.23828\n",
            "[183]\ttrain-logloss:0.01214\teval-logloss:0.23892\n",
            "[184]\ttrain-logloss:0.01205\teval-logloss:0.23804\n",
            "[185]\ttrain-logloss:0.01198\teval-logloss:0.23799\n",
            "[186]\ttrain-logloss:0.01191\teval-logloss:0.23809\n",
            "[187]\ttrain-logloss:0.01185\teval-logloss:0.23752\n",
            "[188]\ttrain-logloss:0.01176\teval-logloss:0.23662\n",
            "[189]\ttrain-logloss:0.01170\teval-logloss:0.23659\n",
            "[190]\ttrain-logloss:0.01163\teval-logloss:0.23668\n",
            "[191]\ttrain-logloss:0.01157\teval-logloss:0.23732\n",
            "[192]\ttrain-logloss:0.01152\teval-logloss:0.23726\n",
            "[193]\ttrain-logloss:0.01146\teval-logloss:0.23722\n",
            "[194]\ttrain-logloss:0.01141\teval-logloss:0.23715\n",
            "[195]\ttrain-logloss:0.01136\teval-logloss:0.23661\n",
            "[196]\ttrain-logloss:0.01128\teval-logloss:0.23673\n",
            "[197]\ttrain-logloss:0.01126\teval-logloss:0.23651\n",
            "[198]\ttrain-logloss:0.01120\teval-logloss:0.23628\n",
            "[199]\ttrain-logloss:0.01113\teval-logloss:0.23641\n",
            "[200]\ttrain-logloss:0.01108\teval-logloss:0.23554\n",
            "[201]\ttrain-logloss:0.01103\teval-logloss:0.23533\n",
            "[202]\ttrain-logloss:0.01097\teval-logloss:0.23543\n",
            "[203]\ttrain-logloss:0.01091\teval-logloss:0.23546\n",
            "[204]\ttrain-logloss:0.01086\teval-logloss:0.23588\n",
            "[205]\ttrain-logloss:0.01079\teval-logloss:0.23600\n",
            "[206]\ttrain-logloss:0.01074\teval-logloss:0.23578\n",
            "[207]\ttrain-logloss:0.01069\teval-logloss:0.23597\n",
            "[208]\ttrain-logloss:0.01064\teval-logloss:0.23601\n",
            "[209]\ttrain-logloss:0.01058\teval-logloss:0.23613\n",
            "[210]\ttrain-logloss:0.01054\teval-logloss:0.23592\n",
            "[211]\ttrain-logloss:0.01047\teval-logloss:0.23605\n",
            "[212]\ttrain-logloss:0.01045\teval-logloss:0.23586\n",
            "[213]\ttrain-logloss:0.01041\teval-logloss:0.23626\n",
            "[214]\ttrain-logloss:0.01036\teval-logloss:0.23646\n",
            "[215]\ttrain-logloss:0.01031\teval-logloss:0.23649\n",
            "[216]\ttrain-logloss:0.01026\teval-logloss:0.23697\n",
            "[217]\ttrain-logloss:0.01024\teval-logloss:0.23679\n",
            "[218]\ttrain-logloss:0.01019\teval-logloss:0.23689\n",
            "[219]\ttrain-logloss:0.01014\teval-logloss:0.23693\n",
            "[220]\ttrain-logloss:0.01011\teval-logloss:0.23714\n",
            "[221]\ttrain-logloss:0.01006\teval-logloss:0.23732\n",
            "[222]\ttrain-logloss:0.01004\teval-logloss:0.23714\n",
            "[223]\ttrain-logloss:0.01001\teval-logloss:0.23736\n",
            "[224]\ttrain-logloss:0.00999\teval-logloss:0.23711\n",
            "[225]\ttrain-logloss:0.00997\teval-logloss:0.23703\n",
            "[226]\ttrain-logloss:0.00994\teval-logloss:0.23757\n",
            "[227]\ttrain-logloss:0.00992\teval-logloss:0.23740\n",
            "[228]\ttrain-logloss:0.00986\teval-logloss:0.23673\n",
            "[229]\ttrain-logloss:0.00984\teval-logloss:0.23649\n",
            "[230]\ttrain-logloss:0.00981\teval-logloss:0.23670\n",
            "[231]\ttrain-logloss:0.00979\teval-logloss:0.23653\n",
            "[232]\ttrain-logloss:0.00975\teval-logloss:0.23671\n",
            "[233]\ttrain-logloss:0.00971\teval-logloss:0.23674\n",
            "[234]\ttrain-logloss:0.00968\teval-logloss:0.23696\n",
            "[235]\ttrain-logloss:0.00966\teval-logloss:0.23673\n",
            "[236]\ttrain-logloss:0.00964\teval-logloss:0.23656\n",
            "[237]\ttrain-logloss:0.00961\teval-logloss:0.23708\n",
            "[238]\ttrain-logloss:0.00957\teval-logloss:0.23764\n",
            "[239]\ttrain-logloss:0.00954\teval-logloss:0.23766\n",
            "[240]\ttrain-logloss:0.00949\teval-logloss:0.23778\n",
            "[241]\ttrain-logloss:0.00948\teval-logloss:0.23775\n",
            "[242]\ttrain-logloss:0.00945\teval-logloss:0.23796\n",
            "[243]\ttrain-logloss:0.00943\teval-logloss:0.23780\n",
            "[244]\ttrain-logloss:0.00941\teval-logloss:0.23827\n",
            "[245]\ttrain-logloss:0.00940\teval-logloss:0.23819\n",
            "[246]\ttrain-logloss:0.00937\teval-logloss:0.23840\n",
            "[247]\ttrain-logloss:0.00935\teval-logloss:0.23838\n",
            "[248]\ttrain-logloss:0.00933\teval-logloss:0.23821\n",
            "[249]\ttrain-logloss:0.00931\teval-logloss:0.23872\n",
            "[250]\ttrain-logloss:0.00925\teval-logloss:0.23805\n",
            "[251]\ttrain-logloss:0.00924\teval-logloss:0.23783\n"
          ]
        }
      ]
    },
    {
      "cell_type": "code",
      "source": [
        "# 201번째 반복에서 0.23533로 가장 낮고, 이후 251번째 반복까지 성능이 향상되지 않았으므로 조기 중단되었다."
      ],
      "metadata": {
        "id": "-1h9yuLsPQ6E"
      },
      "execution_count": 135,
      "outputs": []
    },
    {
      "cell_type": "code",
      "source": [
        "# 예측 수행\n",
        "pred_probs = xgb_model.predict(dtest)\n",
        "print('predict() 수행 결과값을 10개만 표시, 예측 확률 값으로 표시됨')\n",
        "print(np.round(pred_probs[:10], 3))\n",
        "\n",
        "# 예측 확률이 0.5보다 크면 1, 그렇지 않으면 0으로 예측값 결정하여 List 객체인 preds에 저장\n",
        "preds = [1 if x>0.5 else 0 for x in pred_probs]\n",
        "print('예측값 10개만 표시:', preds[:10])"
      ],
      "metadata": {
        "colab": {
          "base_uri": "https://localhost:8080/"
        },
        "id": "Qv6ZF7cUQF4l",
        "outputId": "90498d71-c781-422f-d726-52ebd4c1e514"
      },
      "execution_count": 136,
      "outputs": [
        {
          "output_type": "stream",
          "name": "stdout",
          "text": [
            "predict() 수행 결과값을 10개만 표시, 예측 확률 값으로 표시됨\n",
            "[0.938 0.004 0.75  0.049 0.98  1.    0.999 0.999 0.998 0.001]\n",
            "예측값 10개만 표시: [1, 0, 1, 0, 1, 1, 1, 1, 1, 0]\n"
          ]
        }
      ]
    },
    {
      "cell_type": "code",
      "source": [
        "# get_clf_eval() 함수를 이용해 XGBoost 모델의 예측 성능 평가"
      ],
      "metadata": {
        "id": "vwR5PUjFQqhs"
      },
      "execution_count": 137,
      "outputs": []
    },
    {
      "cell_type": "code",
      "source": [
        "from sklearn.metrics import accuracy_score, confusion_matrix, precision_score, recall_score, f1_score, roc_auc_score\n",
        "\n",
        "def get_clf_eval(y_test, pred=None, pred_proba=None):\n",
        "    confusion = confusion_matrix(y_test, pred)\n",
        "    accuracy = accuracy_score(y_test, pred)\n",
        "    precision = precision_score(y_test, pred)\n",
        "    recall = recall_score(y_test, pred)\n",
        "    f1 = f1_score(y_test, pred)\n",
        "\n",
        "    # ROC AUC 추가\n",
        "    roc_auc = roc_auc_score(y_test, pred_proba)\n",
        "\n",
        "    print('오차 행렬')\n",
        "    print(confusion)\n",
        "\n",
        "    print('정확도: {0:4f}, 정밀도: {1:4f}, 재현율: {2:4f}, \\\n",
        "        F1: {3:4f}, AUC: {4:4f}'.format(accuracy, precision, recall, f1, roc_auc))"
      ],
      "metadata": {
        "id": "7I08KKY-Q-qy"
      },
      "execution_count": 138,
      "outputs": []
    },
    {
      "cell_type": "code",
      "source": [
        "get_clf_eval(y_test, preds, pred_probs)"
      ],
      "metadata": {
        "colab": {
          "base_uri": "https://localhost:8080/"
        },
        "id": "3ddUQ-pARAI1",
        "outputId": "c85598dc-a95f-4884-afa1-98eed95600ab"
      },
      "execution_count": 139,
      "outputs": [
        {
          "output_type": "stream",
          "name": "stdout",
          "text": [
            "오차 행렬\n",
            "[[35  2]\n",
            " [ 2 75]]\n",
            "정확도: 0.964912, 정밀도: 0.974026, 재현율: 0.974026,         F1: 0.974026, AUC: 0.996490\n"
          ]
        }
      ]
    },
    {
      "cell_type": "code",
      "source": [
        "# xgboost 패키지에 내장된 시각화 기능을 통해 피처 중요도 확인\n",
        "# f 스코어를 기반으로 해당 피처의 중요도를 나타냄 > 해당 피처가 트리 분할 시 얼마나 자주 사용되었는지를 지표로 나타낸 값\n",
        "import matplotlib.pyplot as plt\n",
        "%matplotlib inline\n",
        "\n",
        "fig, ax = plt.subplots(figsize=(10,12))\n",
        "plot_importance(xgb_model, ax=ax)"
      ],
      "metadata": {
        "colab": {
          "base_uri": "https://localhost:8080/",
          "height": 887
        },
        "id": "nqaGz06YRE30",
        "outputId": "6d671596-d810-4bf2-ffe4-f8e49e59d076"
      },
      "execution_count": 140,
      "outputs": [
        {
          "output_type": "execute_result",
          "data": {
            "text/plain": [
              "<Axes: title={'center': 'Feature importance'}, xlabel='F score', ylabel='Features'>"
            ]
          },
          "metadata": {},
          "execution_count": 140
        },
        {
          "output_type": "display_data",
          "data": {
            "text/plain": [
              "<Figure size 1000x1200 with 1 Axes>"
            ],
            "image/png": "[encoded data removed]"
          },
          "metadata": {}
        }
      ]
    },
    {
      "cell_type": "code",
      "source": [
        "# 파이썬 래퍼 XGBoost는 사이킷런의 GridSearchCV와 유사하게 데이터 세트에 대한 교차 검증 수행 후 최적 파라미터를 구할 수 있는 cv() API를 제공한다.\n",
        "# xgboost.cv()"
      ],
      "metadata": {
        "id": "pC6vfYvAR02T"
      },
      "execution_count": 141,
      "outputs": []
    },
    {
      "cell_type": "markdown",
      "source": [
        "> **사이킷런 래퍼 XGBoost의 개요 및 적용**\n",
        "\n",
        "    eta > learning_rate\n",
        "    sub_sample > subsample\n",
        "    lambda > reg_lambda\n",
        "    alpha > reg_alpha"
      ],
      "metadata": {
        "id": "UsyXQPyRSe6c"
      }
    },
    {
      "cell_type": "code",
      "source": [
        "# 사이킷런 래퍼 XGBoost 클래스인 XGBClassifier 임포트\n",
        "from xgboost import XGBClassifier\n",
        "\n",
        "# Warning 메시지를 없애기 위해 eval_metirc 값을 XGBClassifier 생성 인자로 입력\n",
        "xgb_wrapper = XGBClassifier(n_estimators=400, learning_rate=0.05, max_depth=3, eval_metric='logloss')\n",
        "xgb_wrapper.fit(X_train, y_train, verbose=True)\n",
        "w_preds = xgb_wrapper.predict(X_test)\n",
        "w_preds_proba = xgb_wrapper.predict_proba(X_test)[:,1]"
      ],
      "metadata": {
        "id": "_R-Tt6uqSacx"
      },
      "execution_count": 158,
      "outputs": []
    },
    {
      "cell_type": "code",
      "source": [
        "# get_clf_eval() 함수를 이용해 사이킷런 XGBoost 모델의 예측 성능 평가\n",
        "get_clf_eval(y_test, w_preds, w_preds_proba)"
      ],
      "metadata": {
        "colab": {
          "base_uri": "https://localhost:8080/"
        },
        "id": "0Mot1MPrTXd1",
        "outputId": "fa6b364e-4326-4d4d-9d3f-bca0ea1fc813"
      },
      "execution_count": 159,
      "outputs": [
        {
          "output_type": "stream",
          "name": "stdout",
          "text": [
            "오차 행렬\n",
            "[[35  2]\n",
            " [ 1 76]]\n",
            "정확도: 0.973684, 정밀도: 0.974359, 재현율: 0.987013,         F1: 0.980645, AUC: 0.995437\n"
          ]
        }
      ]
    },
    {
      "cell_type": "code",
      "source": [
        "# 조기 중단을 한 파이썬 래퍼 XGBoost보다 더 좋은 평가 결과 (최종 학습 데이터 건수가 작기 때문)"
      ],
      "metadata": {
        "id": "x-7CZ3sbTyon"
      },
      "execution_count": 160,
      "outputs": []
    },
    {
      "cell_type": "code",
      "source": [
        "# 사이킷런 래퍼 XGBoost에서 조기 중단 수행 > .fit(early_stopping_rounds, eval_metric, eval_set)\n",
        "from xgboost import XGBClassifier\n",
        "\n",
        "xgb_wrapper = XGBClassifier(n_estimators=400, learning_rate=0.05, max_depth=3)\n",
        "evals = [(X_tr, y_tr), (X_val, y_val)]\n",
        "xgb_wrapper.fit(X_tr, y_tr, early_stopping_rounds=50, eval_metric=\"logloss\",\n",
        "                eval_set=evals, verbose=True)\n",
        "\n",
        "ws50_preds = xgb_wrapper.predict(X_test)\n",
        "ws50_pred_proba = xgb_wrapper.predict_proba(X_test)[:, 1]"
      ],
      "metadata": {
        "colab": {
          "base_uri": "https://localhost:8080/"
        },
        "id": "HczzAV8nUMex",
        "outputId": "bfd2f80c-41a8-4d3c-b13c-c5583bb3d590"
      },
      "execution_count": 168,
      "outputs": [
        {
          "output_type": "stream",
          "name": "stdout",
          "text": [
            "[0]\tvalidation_0-logloss:0.62480\tvalidation_1-logloss:0.63104\n",
            "[1]\tvalidation_0-logloss:0.58674\tvalidation_1-logloss:0.60478\n",
            "[2]\tvalidation_0-logloss:0.55226\tvalidation_1-logloss:0.58223\n",
            "[3]\tvalidation_0-logloss:0.52086\tvalidation_1-logloss:0.56184\n",
            "[4]\tvalidation_0-logloss:0.49192\tvalidation_1-logloss:0.54118\n",
            "[5]\tvalidation_0-logloss:0.46537\tvalidation_1-logloss:0.52223\n",
            "[6]\tvalidation_0-logloss:0.44029\tvalidation_1-logloss:0.50287\n",
            "[7]\tvalidation_0-logloss:0.41666\tvalidation_1-logloss:0.48620\n",
            "[8]\tvalidation_0-logloss:0.39525\tvalidation_1-logloss:0.46974\n",
            "[9]\tvalidation_0-logloss:0.37542\tvalidation_1-logloss:0.45497\n",
            "[10]\tvalidation_0-logloss:0.35701\tvalidation_1-logloss:0.44131\n",
            "[11]\tvalidation_0-logloss:0.33982\tvalidation_1-logloss:0.43134\n",
            "[12]\tvalidation_0-logloss:0.32297\tvalidation_1-logloss:0.41972\n",
            "[13]\tvalidation_0-logloss:0.30725\tvalidation_1-logloss:0.40902\n",
            "[14]\tvalidation_0-logloss:0.29327\tvalidation_1-logloss:0.39883\n",
            "[15]\tvalidation_0-logloss:0.27946\tvalidation_1-logloss:0.38968\n",
            "[16]\tvalidation_0-logloss:0.26691\tvalidation_1-logloss:0.38150\n",
            "[17]\tvalidation_0-logloss:0.25473\tvalidation_1-logloss:0.37368\n",
            "[18]\tvalidation_0-logloss:0.24385\tvalidation_1-logloss:0.36666\n",
            "[19]\tvalidation_0-logloss:0.23338\tvalidation_1-logloss:0.35994\n",
            "[20]\tvalidation_0-logloss:0.22320\tvalidation_1-logloss:0.35374\n",
            "[21]\tvalidation_0-logloss:0.21363\tvalidation_1-logloss:0.34704\n",
            "[22]\tvalidation_0-logloss:0.20487\tvalidation_1-logloss:0.34206\n",
            "[23]\tvalidation_0-logloss:0.19634\tvalidation_1-logloss:0.33621\n",
            "[24]\tvalidation_0-logloss:0.18830\tvalidation_1-logloss:0.33178\n",
            "[25]\tvalidation_0-logloss:0.18093\tvalidation_1-logloss:0.32774\n",
            "[26]\tvalidation_0-logloss:0.17374\tvalidation_1-logloss:0.32297\n",
            "[27]\tvalidation_0-logloss:0.16695\tvalidation_1-logloss:0.31855\n",
            "[28]\tvalidation_0-logloss:0.16059\tvalidation_1-logloss:0.31495\n",
            "[29]\tvalidation_0-logloss:0.15450\tvalidation_1-logloss:0.31173\n",
            "[30]\tvalidation_0-logloss:0.14875\tvalidation_1-logloss:0.30735\n",
            "[31]\tvalidation_0-logloss:0.14329\tvalidation_1-logloss:0.30463\n",
            "[32]\tvalidation_0-logloss:0.13807\tvalidation_1-logloss:0.30242\n",
            "[33]\tvalidation_0-logloss:0.13325\tvalidation_1-logloss:0.29922\n",
            "[34]\tvalidation_0-logloss:0.12864\tvalidation_1-logloss:0.29722\n",
            "[35]\tvalidation_0-logloss:0.12429\tvalidation_1-logloss:0.29540\n",
            "[36]\tvalidation_0-logloss:0.12000\tvalidation_1-logloss:0.29300\n",
            "[37]\tvalidation_0-logloss:0.11581\tvalidation_1-logloss:0.29010\n",
            "[38]\tvalidation_0-logloss:0.11210\tvalidation_1-logloss:0.28883\n",
            "[39]\tvalidation_0-logloss:0.10838\tvalidation_1-logloss:0.28769\n",
            "[40]\tvalidation_0-logloss:0.10481\tvalidation_1-logloss:0.28574\n",
            "[41]\tvalidation_0-logloss:0.10160\tvalidation_1-logloss:0.28434\n",
            "[42]\tvalidation_0-logloss:0.09832\tvalidation_1-logloss:0.28226\n",
            "[43]\tvalidation_0-logloss:0.09534\tvalidation_1-logloss:0.28006\n",
            "[44]\tvalidation_0-logloss:0.09249\tvalidation_1-logloss:0.27854\n",
            "[45]\tvalidation_0-logloss:0.08972\tvalidation_1-logloss:0.27747\n",
            "[46]\tvalidation_0-logloss:0.08700\tvalidation_1-logloss:0.27654\n",
            "[47]\tvalidation_0-logloss:0.08461\tvalidation_1-logloss:0.27598\n",
            "[48]\tvalidation_0-logloss:0.08225\tvalidation_1-logloss:0.27415\n",
            "[49]\tvalidation_0-logloss:0.08001\tvalidation_1-logloss:0.27245\n",
            "[50]\tvalidation_0-logloss:0.07784\tvalidation_1-logloss:0.27104\n",
            "[51]\tvalidation_0-logloss:0.07578\tvalidation_1-logloss:0.26958\n",
            "[52]\tvalidation_0-logloss:0.07384\tvalidation_1-logloss:0.26869\n",
            "[53]\tvalidation_0-logloss:0.07196\tvalidation_1-logloss:0.26760\n",
            "[54]\tvalidation_0-logloss:0.07021\tvalidation_1-logloss:0.26661\n",
            "[55]\tvalidation_0-logloss:0.06833\tvalidation_1-logloss:0.26680\n",
            "[56]\tvalidation_0-logloss:0.06671\tvalidation_1-logloss:0.26517\n",
            "[57]\tvalidation_0-logloss:0.06519\tvalidation_1-logloss:0.26412\n",
            "[58]\tvalidation_0-logloss:0.06368\tvalidation_1-logloss:0.26444\n",
            "[59]\tvalidation_0-logloss:0.06202\tvalidation_1-logloss:0.26434\n",
            "[60]\tvalidation_0-logloss:0.06048\tvalidation_1-logloss:0.26208\n",
            "[61]\tvalidation_0-logloss:0.05898\tvalidation_1-logloss:0.26139\n",
            "[62]\tvalidation_0-logloss:0.05756\tvalidation_1-logloss:0.26155\n",
            "[63]\tvalidation_0-logloss:0.05614\tvalidation_1-logloss:0.26114\n",
            "[64]\tvalidation_0-logloss:0.05486\tvalidation_1-logloss:0.25973\n",
            "[65]\tvalidation_0-logloss:0.05372\tvalidation_1-logloss:0.25878\n",
            "[66]\tvalidation_0-logloss:0.05263\tvalidation_1-logloss:0.25758\n",
            "[67]\tvalidation_0-logloss:0.05140\tvalidation_1-logloss:0.25664\n",
            "[68]\tvalidation_0-logloss:0.05019\tvalidation_1-logloss:0.25625\n",
            "[69]\tvalidation_0-logloss:0.04910\tvalidation_1-logloss:0.25593\n",
            "[70]\tvalidation_0-logloss:0.04806\tvalidation_1-logloss:0.25438\n",
            "[71]\tvalidation_0-logloss:0.04704\tvalidation_1-logloss:0.25373\n",
            "[72]\tvalidation_0-logloss:0.04606\tvalidation_1-logloss:0.25411\n",
            "[73]\tvalidation_0-logloss:0.04514\tvalidation_1-logloss:0.25316\n",
            "[74]\tvalidation_0-logloss:0.04435\tvalidation_1-logloss:0.25248\n",
            "[75]\tvalidation_0-logloss:0.04347\tvalidation_1-logloss:0.25271\n",
            "[76]\tvalidation_0-logloss:0.04260\tvalidation_1-logloss:0.25282\n",
            "[77]\tvalidation_0-logloss:0.04178\tvalidation_1-logloss:0.25165\n",
            "[78]\tvalidation_0-logloss:0.04099\tvalidation_1-logloss:0.25181\n",
            "[79]\tvalidation_0-logloss:0.04022\tvalidation_1-logloss:0.25210\n",
            "[80]\tvalidation_0-logloss:0.03942\tvalidation_1-logloss:0.25194\n",
            "[81]\tvalidation_0-logloss:0.03875\tvalidation_1-logloss:0.25254\n",
            "[82]\tvalidation_0-logloss:0.03799\tvalidation_1-logloss:0.25264\n",
            "[83]\tvalidation_0-logloss:0.03727\tvalidation_1-logloss:0.25280\n",
            "[84]\tvalidation_0-logloss:0.03657\tvalidation_1-logloss:0.25281\n",
            "[85]\tvalidation_0-logloss:0.03586\tvalidation_1-logloss:0.25219\n",
            "[86]\tvalidation_0-logloss:0.03530\tvalidation_1-logloss:0.25288\n",
            "[87]\tvalidation_0-logloss:0.03464\tvalidation_1-logloss:0.25226\n",
            "[88]\tvalidation_0-logloss:0.03401\tvalidation_1-logloss:0.25167\n",
            "[89]\tvalidation_0-logloss:0.03347\tvalidation_1-logloss:0.25258\n",
            "[90]\tvalidation_0-logloss:0.03297\tvalidation_1-logloss:0.25331\n",
            "[91]\tvalidation_0-logloss:0.03240\tvalidation_1-logloss:0.25373\n",
            "[92]\tvalidation_0-logloss:0.03184\tvalidation_1-logloss:0.25323\n",
            "[93]\tvalidation_0-logloss:0.03136\tvalidation_1-logloss:0.25240\n",
            "[94]\tvalidation_0-logloss:0.03086\tvalidation_1-logloss:0.25324\n",
            "[95]\tvalidation_0-logloss:0.03035\tvalidation_1-logloss:0.25280\n",
            "[96]\tvalidation_0-logloss:0.02985\tvalidation_1-logloss:0.25215\n",
            "[97]\tvalidation_0-logloss:0.02937\tvalidation_1-logloss:0.25179\n",
            "[98]\tvalidation_0-logloss:0.02892\tvalidation_1-logloss:0.25143\n",
            "[99]\tvalidation_0-logloss:0.02853\tvalidation_1-logloss:0.25180\n",
            "[100]\tvalidation_0-logloss:0.02810\tvalidation_1-logloss:0.25151\n",
            "[101]\tvalidation_0-logloss:0.02769\tvalidation_1-logloss:0.25158\n",
            "[102]\tvalidation_0-logloss:0.02729\tvalidation_1-logloss:0.25130\n",
            "[103]\tvalidation_0-logloss:0.02689\tvalidation_1-logloss:0.25094\n",
            "[104]\tvalidation_0-logloss:0.02654\tvalidation_1-logloss:0.25054\n",
            "[105]\tvalidation_0-logloss:0.02617\tvalidation_1-logloss:0.25030\n",
            "[106]\tvalidation_0-logloss:0.02580\tvalidation_1-logloss:0.24850\n",
            "[107]\tvalidation_0-logloss:0.02545\tvalidation_1-logloss:0.24829\n",
            "[108]\tvalidation_0-logloss:0.02509\tvalidation_1-logloss:0.24828\n",
            "[109]\tvalidation_0-logloss:0.02475\tvalidation_1-logloss:0.24881\n",
            "[110]\tvalidation_0-logloss:0.02443\tvalidation_1-logloss:0.24912\n",
            "[111]\tvalidation_0-logloss:0.02405\tvalidation_1-logloss:0.24791\n",
            "[112]\tvalidation_0-logloss:0.02374\tvalidation_1-logloss:0.24846\n",
            "[113]\tvalidation_0-logloss:0.02341\tvalidation_1-logloss:0.24931\n",
            "[114]\tvalidation_0-logloss:0.02314\tvalidation_1-logloss:0.24832\n",
            "[115]\tvalidation_0-logloss:0.02286\tvalidation_1-logloss:0.24889\n",
            "[116]\tvalidation_0-logloss:0.02255\tvalidation_1-logloss:0.24866\n",
            "[117]\tvalidation_0-logloss:0.02227\tvalidation_1-logloss:0.24925\n",
            "[118]\tvalidation_0-logloss:0.02197\tvalidation_1-logloss:0.24679\n",
            "[119]\tvalidation_0-logloss:0.02172\tvalidation_1-logloss:0.24787\n",
            "[120]\tvalidation_0-logloss:0.02141\tvalidation_1-logloss:0.24846\n",
            "[121]\tvalidation_0-logloss:0.02112\tvalidation_1-logloss:0.24683\n",
            "[122]\tvalidation_0-logloss:0.02088\tvalidation_1-logloss:0.24650\n",
            "[123]\tvalidation_0-logloss:0.02061\tvalidation_1-logloss:0.24497\n",
            "[124]\tvalidation_0-logloss:0.02037\tvalidation_1-logloss:0.24529\n",
            "[125]\tvalidation_0-logloss:0.02012\tvalidation_1-logloss:0.24516\n",
            "[126]\tvalidation_0-logloss:0.01987\tvalidation_1-logloss:0.24576\n",
            "[127]\tvalidation_0-logloss:0.01967\tvalidation_1-logloss:0.24576\n",
            "[128]\tvalidation_0-logloss:0.01943\tvalidation_1-logloss:0.24563\n",
            "[129]\tvalidation_0-logloss:0.01922\tvalidation_1-logloss:0.24533\n",
            "[130]\tvalidation_0-logloss:0.01900\tvalidation_1-logloss:0.24591\n",
            "[131]\tvalidation_0-logloss:0.01881\tvalidation_1-logloss:0.24593\n",
            "[132]\tvalidation_0-logloss:0.01858\tvalidation_1-logloss:0.24582\n",
            "[133]\tvalidation_0-logloss:0.01839\tvalidation_1-logloss:0.24619\n",
            "[134]\tvalidation_0-logloss:0.01824\tvalidation_1-logloss:0.24631\n",
            "[135]\tvalidation_0-logloss:0.01805\tvalidation_1-logloss:0.24669\n",
            "[136]\tvalidation_0-logloss:0.01785\tvalidation_1-logloss:0.24660\n",
            "[137]\tvalidation_0-logloss:0.01770\tvalidation_1-logloss:0.24584\n",
            "[138]\tvalidation_0-logloss:0.01753\tvalidation_1-logloss:0.24465\n",
            "[139]\tvalidation_0-logloss:0.01734\tvalidation_1-logloss:0.24458\n",
            "[140]\tvalidation_0-logloss:0.01720\tvalidation_1-logloss:0.24385\n",
            "[141]\tvalidation_0-logloss:0.01703\tvalidation_1-logloss:0.24422\n",
            "[142]\tvalidation_0-logloss:0.01690\tvalidation_1-logloss:0.24423\n",
            "[143]\tvalidation_0-logloss:0.01673\tvalidation_1-logloss:0.24408\n",
            "[144]\tvalidation_0-logloss:0.01655\tvalidation_1-logloss:0.24381\n",
            "[145]\tvalidation_0-logloss:0.01641\tvalidation_1-logloss:0.24311\n",
            "[146]\tvalidation_0-logloss:0.01629\tvalidation_1-logloss:0.24322\n",
            "[147]\tvalidation_0-logloss:0.01614\tvalidation_1-logloss:0.24360\n",
            "[148]\tvalidation_0-logloss:0.01597\tvalidation_1-logloss:0.24328\n",
            "[149]\tvalidation_0-logloss:0.01582\tvalidation_1-logloss:0.24314\n",
            "[150]\tvalidation_0-logloss:0.01571\tvalidation_1-logloss:0.24315\n",
            "[151]\tvalidation_0-logloss:0.01556\tvalidation_1-logloss:0.24289\n",
            "[152]\tvalidation_0-logloss:0.01537\tvalidation_1-logloss:0.24363\n",
            "[153]\tvalidation_0-logloss:0.01523\tvalidation_1-logloss:0.24404\n",
            "[154]\tvalidation_0-logloss:0.01510\tvalidation_1-logloss:0.24383\n",
            "[155]\tvalidation_0-logloss:0.01493\tvalidation_1-logloss:0.24435\n",
            "[156]\tvalidation_0-logloss:0.01478\tvalidation_1-logloss:0.24425\n",
            "[157]\tvalidation_0-logloss:0.01467\tvalidation_1-logloss:0.24361\n",
            "[158]\tvalidation_0-logloss:0.01455\tvalidation_1-logloss:0.24294\n",
            "[159]\tvalidation_0-logloss:0.01440\tvalidation_1-logloss:0.24340\n",
            "[160]\tvalidation_0-logloss:0.01428\tvalidation_1-logloss:0.24323\n",
            "[161]\tvalidation_0-logloss:0.01417\tvalidation_1-logloss:0.24310\n",
            "[162]\tvalidation_0-logloss:0.01409\tvalidation_1-logloss:0.24247\n",
            "[163]\tvalidation_0-logloss:0.01393\tvalidation_1-logloss:0.24311\n",
            "[164]\tvalidation_0-logloss:0.01380\tvalidation_1-logloss:0.24269\n",
            "[165]\tvalidation_0-logloss:0.01368\tvalidation_1-logloss:0.24268\n",
            "[166]\tvalidation_0-logloss:0.01360\tvalidation_1-logloss:0.24242\n",
            "[167]\tvalidation_0-logloss:0.01345\tvalidation_1-logloss:0.24306\n",
            "[168]\tvalidation_0-logloss:0.01335\tvalidation_1-logloss:0.24220\n",
            "[169]\tvalidation_0-logloss:0.01328\tvalidation_1-logloss:0.24116\n",
            "[170]\tvalidation_0-logloss:0.01317\tvalidation_1-logloss:0.24117\n",
            "[171]\tvalidation_0-logloss:0.01308\tvalidation_1-logloss:0.24126\n",
            "[172]\tvalidation_0-logloss:0.01299\tvalidation_1-logloss:0.24046\n",
            "[173]\tvalidation_0-logloss:0.01292\tvalidation_1-logloss:0.23993\n",
            "[174]\tvalidation_0-logloss:0.01284\tvalidation_1-logloss:0.23985\n",
            "[175]\tvalidation_0-logloss:0.01275\tvalidation_1-logloss:0.23994\n",
            "[176]\tvalidation_0-logloss:0.01268\tvalidation_1-logloss:0.23986\n",
            "[177]\tvalidation_0-logloss:0.01260\tvalidation_1-logloss:0.23996\n",
            "[178]\tvalidation_0-logloss:0.01253\tvalidation_1-logloss:0.23943\n",
            "[179]\tvalidation_0-logloss:0.01243\tvalidation_1-logloss:0.23847\n",
            "[180]\tvalidation_0-logloss:0.01236\tvalidation_1-logloss:0.23842\n",
            "[181]\tvalidation_0-logloss:0.01226\tvalidation_1-logloss:0.23885\n",
            "[182]\tvalidation_0-logloss:0.01220\tvalidation_1-logloss:0.23828\n",
            "[183]\tvalidation_0-logloss:0.01214\tvalidation_1-logloss:0.23892\n",
            "[184]\tvalidation_0-logloss:0.01205\tvalidation_1-logloss:0.23804\n",
            "[185]\tvalidation_0-logloss:0.01198\tvalidation_1-logloss:0.23799\n",
            "[186]\tvalidation_0-logloss:0.01191\tvalidation_1-logloss:0.23809\n",
            "[187]\tvalidation_0-logloss:0.01185\tvalidation_1-logloss:0.23752\n",
            "[188]\tvalidation_0-logloss:0.01176\tvalidation_1-logloss:0.23662\n",
            "[189]\tvalidation_0-logloss:0.01170\tvalidation_1-logloss:0.23659\n",
            "[190]\tvalidation_0-logloss:0.01163\tvalidation_1-logloss:0.23668\n",
            "[191]\tvalidation_0-logloss:0.01157\tvalidation_1-logloss:0.23732\n",
            "[192]\tvalidation_0-logloss:0.01152\tvalidation_1-logloss:0.23726\n",
            "[193]\tvalidation_0-logloss:0.01146\tvalidation_1-logloss:0.23722\n",
            "[194]\tvalidation_0-logloss:0.01141\tvalidation_1-logloss:0.23715\n",
            "[195]\tvalidation_0-logloss:0.01136\tvalidation_1-logloss:0.23661\n",
            "[196]\tvalidation_0-logloss:0.01128\tvalidation_1-logloss:0.23673\n",
            "[197]\tvalidation_0-logloss:0.01126\tvalidation_1-logloss:0.23651\n",
            "[198]\tvalidation_0-logloss:0.01120\tvalidation_1-logloss:0.23628\n",
            "[199]\tvalidation_0-logloss:0.01113\tvalidation_1-logloss:0.23641\n",
            "[200]\tvalidation_0-logloss:0.01108\tvalidation_1-logloss:0.23554\n",
            "[201]\tvalidation_0-logloss:0.01103\tvalidation_1-logloss:0.23533\n",
            "[202]\tvalidation_0-logloss:0.01097\tvalidation_1-logloss:0.23543\n",
            "[203]\tvalidation_0-logloss:0.01091\tvalidation_1-logloss:0.23546\n",
            "[204]\tvalidation_0-logloss:0.01086\tvalidation_1-logloss:0.23588\n",
            "[205]\tvalidation_0-logloss:0.01079\tvalidation_1-logloss:0.23600\n",
            "[206]\tvalidation_0-logloss:0.01074\tvalidation_1-logloss:0.23578\n",
            "[207]\tvalidation_0-logloss:0.01069\tvalidation_1-logloss:0.23597\n",
            "[208]\tvalidation_0-logloss:0.01064\tvalidation_1-logloss:0.23601\n",
            "[209]\tvalidation_0-logloss:0.01058\tvalidation_1-logloss:0.23613\n",
            "[210]\tvalidation_0-logloss:0.01054\tvalidation_1-logloss:0.23592\n",
            "[211]\tvalidation_0-logloss:0.01047\tvalidation_1-logloss:0.23605\n",
            "[212]\tvalidation_0-logloss:0.01045\tvalidation_1-logloss:0.23586\n",
            "[213]\tvalidation_0-logloss:0.01041\tvalidation_1-logloss:0.23626\n",
            "[214]\tvalidation_0-logloss:0.01036\tvalidation_1-logloss:0.23646\n",
            "[215]\tvalidation_0-logloss:0.01031\tvalidation_1-logloss:0.23649\n",
            "[216]\tvalidation_0-logloss:0.01026\tvalidation_1-logloss:0.23697\n",
            "[217]\tvalidation_0-logloss:0.01024\tvalidation_1-logloss:0.23679\n",
            "[218]\tvalidation_0-logloss:0.01019\tvalidation_1-logloss:0.23689\n",
            "[219]\tvalidation_0-logloss:0.01014\tvalidation_1-logloss:0.23693\n",
            "[220]\tvalidation_0-logloss:0.01011\tvalidation_1-logloss:0.23714\n",
            "[221]\tvalidation_0-logloss:0.01006\tvalidation_1-logloss:0.23732\n",
            "[222]\tvalidation_0-logloss:0.01004\tvalidation_1-logloss:0.23714\n",
            "[223]\tvalidation_0-logloss:0.01001\tvalidation_1-logloss:0.23736\n",
            "[224]\tvalidation_0-logloss:0.00999\tvalidation_1-logloss:0.23711\n",
            "[225]\tvalidation_0-logloss:0.00997\tvalidation_1-logloss:0.23703\n",
            "[226]\tvalidation_0-logloss:0.00994\tvalidation_1-logloss:0.23757\n",
            "[227]\tvalidation_0-logloss:0.00992\tvalidation_1-logloss:0.23740\n",
            "[228]\tvalidation_0-logloss:0.00986\tvalidation_1-logloss:0.23673\n",
            "[229]\tvalidation_0-logloss:0.00984\tvalidation_1-logloss:0.23649\n",
            "[230]\tvalidation_0-logloss:0.00981\tvalidation_1-logloss:0.23670\n",
            "[231]\tvalidation_0-logloss:0.00979\tvalidation_1-logloss:0.23653\n",
            "[232]\tvalidation_0-logloss:0.00975\tvalidation_1-logloss:0.23671\n",
            "[233]\tvalidation_0-logloss:0.00971\tvalidation_1-logloss:0.23674\n",
            "[234]\tvalidation_0-logloss:0.00968\tvalidation_1-logloss:0.23696\n",
            "[235]\tvalidation_0-logloss:0.00966\tvalidation_1-logloss:0.23673\n",
            "[236]\tvalidation_0-logloss:0.00964\tvalidation_1-logloss:0.23656\n",
            "[237]\tvalidation_0-logloss:0.00961\tvalidation_1-logloss:0.23708\n",
            "[238]\tvalidation_0-logloss:0.00957\tvalidation_1-logloss:0.23764\n",
            "[239]\tvalidation_0-logloss:0.00954\tvalidation_1-logloss:0.23766\n",
            "[240]\tvalidation_0-logloss:0.00949\tvalidation_1-logloss:0.23778\n",
            "[241]\tvalidation_0-logloss:0.00948\tvalidation_1-logloss:0.23775\n",
            "[242]\tvalidation_0-logloss:0.00945\tvalidation_1-logloss:0.23796\n",
            "[243]\tvalidation_0-logloss:0.00943\tvalidation_1-logloss:0.23780\n",
            "[244]\tvalidation_0-logloss:0.00941\tvalidation_1-logloss:0.23827\n",
            "[245]\tvalidation_0-logloss:0.00940\tvalidation_1-logloss:0.23819\n",
            "[246]\tvalidation_0-logloss:0.00937\tvalidation_1-logloss:0.23840\n",
            "[247]\tvalidation_0-logloss:0.00935\tvalidation_1-logloss:0.23838\n",
            "[248]\tvalidation_0-logloss:0.00933\tvalidation_1-logloss:0.23821\n",
            "[249]\tvalidation_0-logloss:0.00931\tvalidation_1-logloss:0.23872\n",
            "[250]\tvalidation_0-logloss:0.00925\tvalidation_1-logloss:0.23805\n"
          ]
        }
      ]
    },
    {
      "cell_type": "code",
      "source": [
        "# 파이썬 래퍼의 조기 중단과 동일하게 201번째 반복에서 0.23533로 가장 낮았고 이후 250번 반복까지 더 이상 성능이 향상되지 않아 조기종료되었다."
      ],
      "metadata": {
        "id": "gVJJgWTQU0Ju"
      },
      "execution_count": 162,
      "outputs": []
    },
    {
      "cell_type": "code",
      "source": [
        "# get_clf_eval() 함수를 이용해 XGBClassifier의 예측 성능 평가\n",
        "get_clf_eval(y_test, ws50_preds, ws50_pred_proba)"
      ],
      "metadata": {
        "colab": {
          "base_uri": "https://localhost:8080/"
        },
        "id": "FdH0x4SCWCra",
        "outputId": "2cb87eeb-e62c-4d8a-e04d-1d5d95e23133"
      },
      "execution_count": 163,
      "outputs": [
        {
          "output_type": "stream",
          "name": "stdout",
          "text": [
            "오차 행렬\n",
            "[[35  2]\n",
            " [ 2 75]]\n",
            "정확도: 0.964912, 정밀도: 0.974026, 재현율: 0.974026,         F1: 0.974026, AUC: 0.996139\n"
          ]
        }
      ]
    },
    {
      "cell_type": "code",
      "source": [
        "# 조기 중단 전보다 성능이 향상되지 않았다. > 데이터 세트가 워낙 작기 때문\n",
        "# 조기 중단을 위한 검증 데이터를 분리하면, 검증 데이터가 없는 학습 데이터를 사용했을 때보다 성능이 약간 저조하다."
      ],
      "metadata": {
        "id": "FomSRCtsWMBo"
      },
      "execution_count": 164,
      "outputs": []
    },
    {
      "cell_type": "code",
      "source": [
        "# 조기 중단값을 너무 급격하게 줄이면 예측 성능이 저하될 우려가 크다\n",
        "# early_stopping_rounds를 10으로 설정하고 재학습.\n",
        "xgb_wrapper.fit(X_tr, y_tr, early_stopping_rounds=10, eval_metric=\"logloss\",\n",
        "                eval_set=evals, verbose=True)\n",
        "\n",
        "ws10_preds = xgb_wrapper.predict(X_test)\n",
        "ws10_pred_proba = xgb_wrapper.predict_proba(X_test)[:, 1]\n",
        "get_clf_eval(y_test, ws10_preds, ws10_pred_proba)"
      ],
      "metadata": {
        "colab": {
          "base_uri": "https://localhost:8080/"
        },
        "id": "T5vFqimJWouC",
        "outputId": "8b739905-128b-41cd-fe23-624e4780b8e7"
      },
      "execution_count": 165,
      "outputs": [
        {
          "output_type": "stream",
          "name": "stdout",
          "text": [
            "[0]\tvalidation_0-logloss:0.62480\tvalidation_1-logloss:0.63104\n",
            "[1]\tvalidation_0-logloss:0.58674\tvalidation_1-logloss:0.60478\n",
            "[2]\tvalidation_0-logloss:0.55226\tvalidation_1-logloss:0.58223\n",
            "[3]\tvalidation_0-logloss:0.52086\tvalidation_1-logloss:0.56184\n",
            "[4]\tvalidation_0-logloss:0.49192\tvalidation_1-logloss:0.54118\n",
            "[5]\tvalidation_0-logloss:0.46537\tvalidation_1-logloss:0.52223\n",
            "[6]\tvalidation_0-logloss:0.44029\tvalidation_1-logloss:0.50287\n",
            "[7]\tvalidation_0-logloss:0.41666\tvalidation_1-logloss:0.48620\n",
            "[8]\tvalidation_0-logloss:0.39525\tvalidation_1-logloss:0.46974\n",
            "[9]\tvalidation_0-logloss:0.37542\tvalidation_1-logloss:0.45497\n",
            "[10]\tvalidation_0-logloss:0.35701\tvalidation_1-logloss:0.44131\n",
            "[11]\tvalidation_0-logloss:0.33982\tvalidation_1-logloss:0.43134\n",
            "[12]\tvalidation_0-logloss:0.32297\tvalidation_1-logloss:0.41972\n",
            "[13]\tvalidation_0-logloss:0.30725\tvalidation_1-logloss:0.40902\n",
            "[14]\tvalidation_0-logloss:0.29327\tvalidation_1-logloss:0.39883\n",
            "[15]\tvalidation_0-logloss:0.27946\tvalidation_1-logloss:0.38968\n",
            "[16]\tvalidation_0-logloss:0.26691\tvalidation_1-logloss:0.38150\n",
            "[17]\tvalidation_0-logloss:0.25473\tvalidation_1-logloss:0.37368\n",
            "[18]\tvalidation_0-logloss:0.24385\tvalidation_1-logloss:0.36666\n",
            "[19]\tvalidation_0-logloss:0.23338\tvalidation_1-logloss:0.35994\n",
            "[20]\tvalidation_0-logloss:0.22320\tvalidation_1-logloss:0.35374\n",
            "[21]\tvalidation_0-logloss:0.21363\tvalidation_1-logloss:0.34704\n",
            "[22]\tvalidation_0-logloss:0.20487\tvalidation_1-logloss:0.34206\n",
            "[23]\tvalidation_0-logloss:0.19634\tvalidation_1-logloss:0.33621\n",
            "[24]\tvalidation_0-logloss:0.18830\tvalidation_1-logloss:0.33178\n",
            "[25]\tvalidation_0-logloss:0.18093\tvalidation_1-logloss:0.32774\n",
            "[26]\tvalidation_0-logloss:0.17374\tvalidation_1-logloss:0.32297\n",
            "[27]\tvalidation_0-logloss:0.16695\tvalidation_1-logloss:0.31855\n",
            "[28]\tvalidation_0-logloss:0.16059\tvalidation_1-logloss:0.31495\n",
            "[29]\tvalidation_0-logloss:0.15450\tvalidation_1-logloss:0.31173\n",
            "[30]\tvalidation_0-logloss:0.14875\tvalidation_1-logloss:0.30735\n",
            "[31]\tvalidation_0-logloss:0.14329\tvalidation_1-logloss:0.30463\n",
            "[32]\tvalidation_0-logloss:0.13807\tvalidation_1-logloss:0.30242\n",
            "[33]\tvalidation_0-logloss:0.13325\tvalidation_1-logloss:0.29922\n",
            "[34]\tvalidation_0-logloss:0.12864\tvalidation_1-logloss:0.29722\n",
            "[35]\tvalidation_0-logloss:0.12429\tvalidation_1-logloss:0.29540\n",
            "[36]\tvalidation_0-logloss:0.12000\tvalidation_1-logloss:0.29300\n",
            "[37]\tvalidation_0-logloss:0.11581\tvalidation_1-logloss:0.29010\n",
            "[38]\tvalidation_0-logloss:0.11210\tvalidation_1-logloss:0.28883\n",
            "[39]\tvalidation_0-logloss:0.10838\tvalidation_1-logloss:0.28769\n",
            "[40]\tvalidation_0-logloss:0.10481\tvalidation_1-logloss:0.28574\n",
            "[41]\tvalidation_0-logloss:0.10160\tvalidation_1-logloss:0.28434\n",
            "[42]\tvalidation_0-logloss:0.09832\tvalidation_1-logloss:0.28226\n",
            "[43]\tvalidation_0-logloss:0.09534\tvalidation_1-logloss:0.28006\n",
            "[44]\tvalidation_0-logloss:0.09249\tvalidation_1-logloss:0.27854\n",
            "[45]\tvalidation_0-logloss:0.08972\tvalidation_1-logloss:0.27747\n",
            "[46]\tvalidation_0-logloss:0.08700\tvalidation_1-logloss:0.27654\n",
            "[47]\tvalidation_0-logloss:0.08461\tvalidation_1-logloss:0.27598\n",
            "[48]\tvalidation_0-logloss:0.08225\tvalidation_1-logloss:0.27415\n",
            "[49]\tvalidation_0-logloss:0.08001\tvalidation_1-logloss:0.27245\n",
            "[50]\tvalidation_0-logloss:0.07784\tvalidation_1-logloss:0.27104\n",
            "[51]\tvalidation_0-logloss:0.07578\tvalidation_1-logloss:0.26958\n",
            "[52]\tvalidation_0-logloss:0.07384\tvalidation_1-logloss:0.26869\n",
            "[53]\tvalidation_0-logloss:0.07196\tvalidation_1-logloss:0.26760\n",
            "[54]\tvalidation_0-logloss:0.07021\tvalidation_1-logloss:0.26661\n",
            "[55]\tvalidation_0-logloss:0.06833\tvalidation_1-logloss:0.26680\n",
            "[56]\tvalidation_0-logloss:0.06671\tvalidation_1-logloss:0.26517\n",
            "[57]\tvalidation_0-logloss:0.06519\tvalidation_1-logloss:0.26412\n",
            "[58]\tvalidation_0-logloss:0.06368\tvalidation_1-logloss:0.26444\n",
            "[59]\tvalidation_0-logloss:0.06202\tvalidation_1-logloss:0.26434\n",
            "[60]\tvalidation_0-logloss:0.06048\tvalidation_1-logloss:0.26208\n",
            "[61]\tvalidation_0-logloss:0.05898\tvalidation_1-logloss:0.26139\n",
            "[62]\tvalidation_0-logloss:0.05756\tvalidation_1-logloss:0.26155\n",
            "[63]\tvalidation_0-logloss:0.05614\tvalidation_1-logloss:0.26114\n",
            "[64]\tvalidation_0-logloss:0.05486\tvalidation_1-logloss:0.25973\n",
            "[65]\tvalidation_0-logloss:0.05372\tvalidation_1-logloss:0.25878\n",
            "[66]\tvalidation_0-logloss:0.05263\tvalidation_1-logloss:0.25758\n",
            "[67]\tvalidation_0-logloss:0.05140\tvalidation_1-logloss:0.25664\n",
            "[68]\tvalidation_0-logloss:0.05019\tvalidation_1-logloss:0.25625\n",
            "[69]\tvalidation_0-logloss:0.04910\tvalidation_1-logloss:0.25593\n",
            "[70]\tvalidation_0-logloss:0.04806\tvalidation_1-logloss:0.25438\n",
            "[71]\tvalidation_0-logloss:0.04704\tvalidation_1-logloss:0.25373\n",
            "[72]\tvalidation_0-logloss:0.04606\tvalidation_1-logloss:0.25411\n",
            "[73]\tvalidation_0-logloss:0.04514\tvalidation_1-logloss:0.25316\n",
            "[74]\tvalidation_0-logloss:0.04435\tvalidation_1-logloss:0.25248\n",
            "[75]\tvalidation_0-logloss:0.04347\tvalidation_1-logloss:0.25271\n",
            "[76]\tvalidation_0-logloss:0.04260\tvalidation_1-logloss:0.25282\n",
            "[77]\tvalidation_0-logloss:0.04178\tvalidation_1-logloss:0.25165\n",
            "[78]\tvalidation_0-logloss:0.04099\tvalidation_1-logloss:0.25181\n",
            "[79]\tvalidation_0-logloss:0.04022\tvalidation_1-logloss:0.25210\n",
            "[80]\tvalidation_0-logloss:0.03942\tvalidation_1-logloss:0.25194\n",
            "[81]\tvalidation_0-logloss:0.03875\tvalidation_1-logloss:0.25254\n",
            "[82]\tvalidation_0-logloss:0.03799\tvalidation_1-logloss:0.25264\n",
            "[83]\tvalidation_0-logloss:0.03727\tvalidation_1-logloss:0.25280\n",
            "[84]\tvalidation_0-logloss:0.03657\tvalidation_1-logloss:0.25281\n",
            "[85]\tvalidation_0-logloss:0.03586\tvalidation_1-logloss:0.25219\n",
            "[86]\tvalidation_0-logloss:0.03530\tvalidation_1-logloss:0.25288\n",
            "[87]\tvalidation_0-logloss:0.03464\tvalidation_1-logloss:0.25226\n",
            "오차 행렬\n",
            "[[36  1]\n",
            " [ 2 75]]\n",
            "정확도: 0.973684, 정밀도: 0.986842, 재현율: 0.974026,         F1: 0.980392, AUC: 0.995437\n"
          ]
        }
      ]
    },
    {
      "cell_type": "code",
      "source": [
        "# 77번째 반복에서 가장 낮게 측정되었고 이후 86번째 반복까지 성능 평가 지표가 향상되지 못해 조기종료\n",
        "# 정화도가 오히려 더 좋게 나왔다? xgboost 버전 차이 때문인가...?"
      ],
      "metadata": {
        "id": "Du6dMuIBW_e8"
      },
      "execution_count": 166,
      "outputs": []
    },
    {
      "cell_type": "code",
      "source": [
        "from xgboost import plot_importance\n",
        "import matplotlib.pyplot as plt\n",
        "%matplotlib inline\n",
        "\n",
        "fig, ax = plt.subplots(figsize=(10,12))\n",
        "# 사이킷런 래퍼 클래스를 입력해도 무방\n",
        "plot_importance(xgb_wrapper, ax=ax)"
      ],
      "metadata": {
        "colab": {
          "base_uri": "https://localhost:8080/",
          "height": 887
        },
        "id": "nMTP5ur6X1EM",
        "outputId": "c4eb3bc1-c4a0-4ee7-db06-1c0117e40bf8"
      },
      "execution_count": 167,
      "outputs": [
        {
          "output_type": "execute_result",
          "data": {
            "text/plain": [
              "<Axes: title={'center': 'Feature importance'}, xlabel='F score', ylabel='Features'>"
            ]
          },
          "metadata": {},
          "execution_count": 167
        },
        {
          "output_type": "display_data",
          "data": {
            "text/plain": [
              "<Figure size 1000x1200 with 1 Axes>"
            ],
            "image/png": "[encoded data removed]"
          },
          "metadata": {}
        }
      ]
    },
    {
      "cell_type": "code",
      "source": [],
      "metadata": {
        "id": "UnLxcicjYBl_"
      },
      "execution_count": 167,
      "outputs": []
    }
  ]
}