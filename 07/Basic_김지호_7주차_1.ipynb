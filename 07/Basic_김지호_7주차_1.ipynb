{
 "cells": [
  {
   "cell_type": "markdown",
   "id": "c201a294-5374-454f-9204-4e3a27a0b051",
   "metadata": {},
   "source": [
    "# 차원 축소\n",
    "차원축소: 매우 많은 피처로 구성된 다차원 데이터 세트의 차원을 축소해 새로운 차원의 데이터 세트를 생성하는 것  \n",
    "일반적으로 차원이 증가할수록 데이터 포인트 간의 거리가 기하급수적으로 멀어지고 희소한 구조를 가지게 됨  \n",
    "또한 피처가 많을 경우 개별 피처간에 상관관계가 높을 가능성이 큼  \n",
    "선형 회귀와 같은 선형 모델에서는 입력 변수 간 상관관계가 높을 경우 다중 공선성과 같은 문제가 발생"
   ]
  },
  {
   "cell_type": "markdown",
   "id": "6a313d82-cd70-4042-ad70-3f163045cd99",
   "metadata": {},
   "source": [
    "다차원의 피처를 차원 축소를 통해 피처 수를 줄이면 더 직관적으로 데이터 해석 가능  \n",
    "일반적으로 차원축소는 피처선택과 피처추출로 나눌 수 있음  \n",
    "피처 선택(특성 선택): 특정 피처에 종속성이 강한 불필요한 피처를 제거, 데이터의 특징을 잘 나타내는 주요 피처만 선택  \n",
    "피처 추출(특성 추출): 기존 피처를 저차원의 중요 피처로 압축해서 추출하는 것, 이렇게 새롭게 추출된 중요 피처는 기존의 피처와 완전히 다른 값"
   ]
  },
  {
   "cell_type": "markdown",
   "id": "a8d7a464-e63f-4ec1-aa63-e678623782e2",
   "metadata": {},
   "source": [
    "피처 추출은 기존 피처를 단순 압축이 아닌 피처를 함축적으로 더 잘 설명할 수 있는 또 다른 공간으로 매핑해 추출하는 것  \n",
    "이러한 함축적인 특성 추출은 기존 피처가 인지하기 어려웠던 잠재적인 요소를 추출하는 것을 의미  \n",
    "차원 축소는 데이터를 잘 설명할 수 있는 잠재적인 요소를 추출하는 것"
   ]
  },
  {
   "cell_type": "markdown",
   "id": "cc5f4239-13ef-4f88-8849-8d999637805a",
   "metadata": {},
   "source": [
    "PCA, SVD, NMF는 이처럼 잠재적인 요소를 찾는 대표적인 차원 축소 알고리즘"
   ]
  },
  {
   "cell_type": "markdown",
   "id": "a93ea97e-88e8-4424-af2c-cfedc89ae625",
   "metadata": {},
   "source": [
    "매우 많은 픽셀로 이루어진 이미지 데이터에서 잠재된 특성을 피처로 도출해 함축적 형태의 이미지 변환과 압축을 수행할 수 있음  \n",
    "이렇게 변환된 이미지는 원본 이미지보다 훨씬 적은 차원이기에 이미지 분류 등 분류 수행 시 과적합 영향력이 작아져 예측 성능을 끌어올릴 수 있음  \n",
    "\n",
    "텍스트 문서의 숨겨진 의미를 추출할 때도 사용  \n",
    "차원 축소 알고리즘은 문서 내 단어들의 구성에서 숨겨져 있는 시맨틱(SEMANTIC)의미나 토픽(TOPIC)을 잠재 요소로 간주하고 이를 찾아낼 수 있음  \n",
    "SVD나 NMF는 이러한 시맨틱 토픽 모델링을 위한 기반 알고리즘으로 사용"
   ]
  },
  {
   "cell_type": "markdown",
   "id": "de4a98e1-86bf-4079-a0e8-68e8c3a7b5bd",
   "metadata": {},
   "source": [
    "## PCA(Principal Component Analasis"
   ]
  },
  {
   "cell_type": "markdown",
   "id": "d292292f-74ce-424a-8767-69922d695170",
   "metadata": {},
   "source": [
    "PCA: 여러 변수 간에 존재하는 상관관계를 이용해 이를 대표하는 주성분(Principal Component)를 추출해 차원을 축소하는 기법  \n",
    "PCA로 차원을 축소할 때 기존 데이터의 정보 유실이 최소화되는 것이 당연  \n",
    "이를 위해 PCA는 가장 높은 분산을 가지는 데이터의 축을 찾아 이 축으로 차원을 축소, 이것이 PCA의 주성분"
   ]
  },
  {
   "cell_type": "markdown",
   "id": "a5d45846-570f-42b8-a182-37432b655307",
   "metadata": {},
   "source": [
    "PCA는 제일 먼저 가장 큰 데이터 변동성을 기반으로 첫 번째 벡터 축을 생성하고 두 번째 축은 이 벡터 축에 직각이 되는 벡터를 축으로 함  \n",
    "세 번째 축은 두 번째 축과 직각이 되는 벡터를 설정하는 방식으로 축을 생성  \n",
    "이렇게 생성된 벡터 축에 원본 데이터를 투영하면 벡터 축의 개수만큼의 차원으로 원본 데이터가 차원 축소\n",
    "PCA는 이처럼 원본 데이터의 피처 개수에 비해 매우 작은 주성분으로 원본 데이터의 총 변동성을 대부분 설명할 수 있는 분석법"
   ]
  },
  {
   "cell_type": "markdown",
   "id": "4615c7b6-eff4-4793-a57a-b459106673bb",
   "metadata": {},
   "source": [
    "입력 데이터의 공분산 행렬을 고유값 분해하고, 이렇게 구한 고유벡터에 입력 데이터를 선형 변환하는 것  \n",
    "이 고유 벡터가 PCA의 주성분 벡터로서 입력 데이터의 분산이 큰 방향을 나타냄  \n",
    "고윳값(eigenvalue)는 바로 이 고유 벡터의 크기이며 동시에 입력 데이터의 분산"
   ]
  },
  {
   "cell_type": "markdown",
   "id": "0bc28a15-133e-4eda-ae19-9d151efddc1d",
   "metadata": {},
   "source": [
    "공분산: 두 변수 간의 변동을 의미  \n",
    "공분산 행렬: 여러 변수와 관련된 공분산을 포함하는 정방형 행렬  \n",
    "고유벡터: 행렬A를 곱하더라도 방향이 변하지 않고 그 크기만 변하는 벡터를 지칭(Ax = ax, A는 행렬, x는 고유벡터, a는 스칼라 값)  \n",
    "고유벡터는 여러개가 존재하며 정방 행렬은 최대 그 차원의 수만큼 고유벡터를 가질 수 있음(2*2 행렬은 2개의 고유벡터, 3*3행렬은 3개의 고유벡터)  \n",
    "고유벡터는 행렬이 작용하는 힘의 방향과 관계가 있어 행렬을 분해하는 데 사용"
   ]
  },
  {
   "cell_type": "markdown",
   "id": "a32ff3e0-4bb3-4db3-b00d-d64a30c2a19a",
   "metadata": {},
   "source": [
    "공분산 행렬은 정방행렬과 대칭행렬  \n",
    "정방행렬: 열과 행이 같은 행렬을 지칭  \n",
    "정방행렬 중 대각 원소를 중심으로 원소 값이 대칭되는 행렬, 즉 A.T = A인 행렬을 대칭행렬이라고 부름  \n",
    "공분산 행렬 개별 분산값을 대각 원소로 하는 대칭행렬  \n",
    "대칭행렬은 항상 고유벡터를 직교행렬로, 고유값을 정방행렬로 대각화 할 수 있음"
   ]
  },
  {
   "cell_type": "markdown",
   "id": "d87e390a-e845-4f3f-b989-003ffcd1fa35",
   "metadata": {},
   "source": [
    "공분산C = 고유벡터 직교행렬 * 고유값 정방 행렬 * 고유벡터 직교행렬의 전치행렬 로 분해  \n",
    "### 입력 데이터의 공분산 행렬이 고유벡터와 고유값으로 분해될 수 있으며 이렇게 분해된 고유벡터를 통해 입력 데이터를 선형변환하는 방식이 PCA\n",
    "PCA 과정  \n",
    "1. 입력 데이터세트의 공분산 행렬을 생성\n",
    "2. 공분산 행렬의 고유벡터와 고유값을 계산\n",
    "3. 고유값이 가장 큰 순으로 K개(PCA 변환 차수만큼) 고유벡터를 추출\n",
    "4. 고유값이 가장 큰 순으로 추출된 고유벡터를 이용해 새롭게 입력 데이터를 변환"
   ]
  },
  {
   "cell_type": "code",
   "execution_count": 2,
   "id": "c3fd6ada-8afb-4cb5-8003-7c8204e280d0",
   "metadata": {},
   "outputs": [
    {
     "data": {
      "text/html": [
       "<div>\n",
       "<style scoped>\n",
       "    .dataframe tbody tr th:only-of-type {\n",
       "        vertical-align: middle;\n",
       "    }\n",
       "\n",
       "    .dataframe tbody tr th {\n",
       "        vertical-align: top;\n",
       "    }\n",
       "\n",
       "    .dataframe thead th {\n",
       "        text-align: right;\n",
       "    }\n",
       "</style>\n",
       "<table border=\"1\" class=\"dataframe\">\n",
       "  <thead>\n",
       "    <tr style=\"text-align: right;\">\n",
       "      <th></th>\n",
       "      <th>sepal_length</th>\n",
       "      <th>sepal_width</th>\n",
       "      <th>petal_length</th>\n",
       "      <th>petal_width</th>\n",
       "      <th>target</th>\n",
       "    </tr>\n",
       "  </thead>\n",
       "  <tbody>\n",
       "    <tr>\n",
       "      <th>0</th>\n",
       "      <td>5.1</td>\n",
       "      <td>3.5</td>\n",
       "      <td>1.4</td>\n",
       "      <td>0.2</td>\n",
       "      <td>0</td>\n",
       "    </tr>\n",
       "    <tr>\n",
       "      <th>1</th>\n",
       "      <td>4.9</td>\n",
       "      <td>3.0</td>\n",
       "      <td>1.4</td>\n",
       "      <td>0.2</td>\n",
       "      <td>0</td>\n",
       "    </tr>\n",
       "    <tr>\n",
       "      <th>2</th>\n",
       "      <td>4.7</td>\n",
       "      <td>3.2</td>\n",
       "      <td>1.3</td>\n",
       "      <td>0.2</td>\n",
       "      <td>0</td>\n",
       "    </tr>\n",
       "  </tbody>\n",
       "</table>\n",
       "</div>"
      ],
      "text/plain": [
       "   sepal_length  sepal_width  petal_length  petal_width  target\n",
       "0           5.1          3.5           1.4          0.2       0\n",
       "1           4.9          3.0           1.4          0.2       0\n",
       "2           4.7          3.2           1.3          0.2       0"
      ]
     },
     "execution_count": 2,
     "metadata": {},
     "output_type": "execute_result"
    }
   ],
   "source": [
    "from sklearn.datasets import load_iris\n",
    "import pandas as pd\n",
    "import matplotlib.pyplot as plt\n",
    "%matplotlib inline\n",
    "\n",
    "iris = load_iris()\n",
    "#넘파이 데이터 세트를 판다스 DF로 변환\n",
    "columns = ['sepal_length', 'sepal_width', 'petal_length', 'petal_width']\n",
    "irisDF = pd.DataFrame(iris.data, columns = columns)\n",
    "irisDF['target'] = iris.target\n",
    "irisDF.head(3)"
   ]
  },
  {
   "cell_type": "code",
   "execution_count": 3,
   "id": "513c5610-7a10-48bf-aefd-da7bbb67e23d",
   "metadata": {},
   "outputs": [
    {
     "data": {
      "image/png": "[encoded data removed]",
      "text/plain": [
       "<Figure size 640x480 with 1 Axes>"
      ]
     },
     "metadata": {},
     "output_type": "display_data"
    }
   ],
   "source": [
    "#품종에 따른 분포 시각화\n",
    "#setosa는 네모, versicolor는 네모. virginica는 동그라미로 표현\n",
    "markers = ['^', 's', 'o']\n",
    "\n",
    "#setosa의 target값은 0, versicolor는 1, virginica는 2, 각 target별로 다른 모양으로 산점도 표시\n",
    "for i, marker in enumerate(markers):\n",
    "    x_axis_data = irisDF[irisDF['target'] == i]['sepal_length']\n",
    "    y_axis_data = irisDF[irisDF['target'] == i]['sepal_width']\n",
    "    plt.scatter(x_axis_data, y_axis_data, marker = marker, label = iris.target_names[i])\n",
    "\n",
    "plt.legend()\n",
    "plt.xlabel('sepal length')\n",
    "plt.ylabel('sepal width')\n",
    "plt.show()"
   ]
  },
  {
   "cell_type": "code",
   "execution_count": 4,
   "id": "69b299b7-00c4-4e7b-aa27-c19d12ebd20d",
   "metadata": {},
   "outputs": [],
   "source": [
    "#versicolor와 virginica의 경우 sepal width와 sepal length로는 구분하기 어려운 조건\n",
    "#PCA로 4개 속성을 2개로 압축한 뒤 2개의 PCA속성으로 붓꽃 데이터의 품종 분포를 2차원으로 시각화\n",
    "#PCA는 여러 속성의 값을 연산해야 하므로 속성의 스케일에 영향을 받음\n",
    "#따라서 여러 속성을 PCA로 압축 하기 전 각 속성값을 동일한 스케일로 변환하는 것이 필요\n",
    "from sklearn.preprocessing import StandardScaler\n",
    "#Target값을 제외한 모든 속성 값을 StandardScaler를 이용해 표준 정규 분포를 가지는 값들로 변환\n",
    "iris_scaled = StandardScaler().fit_transform(irisDF.iloc[:, :-1])"
   ]
  },
  {
   "cell_type": "code",
   "execution_count": 5,
   "id": "0afcef2b-74ba-4640-811d-8ad2689a6823",
   "metadata": {},
   "outputs": [
    {
     "name": "stdout",
     "output_type": "stream",
     "text": [
      "(150, 2)\n"
     ]
    }
   ],
   "source": [
    "#PCA 데이터로 변환\n",
    "#사이킷런은 PCA변환을 위해 PCA 클래스를 제공\n",
    "#생성 파라미터로 n_components를 입력 (변환할 차원의 수)\n",
    "#이후 fit(입력 데이터세트)와 transform(입력 데이터세트)를 호출해 PCA로 변환 수행\n",
    "from sklearn.decomposition import PCA\n",
    "pca = PCA(n_components=2)\n",
    "\n",
    "#fit()과 transform()을 호출해 PCA 변환 데이터 반환\n",
    "pca.fit(iris_scaled)\n",
    "iris_pca = pca.transform(iris_scaled)\n",
    "print(iris_pca.shape)"
   ]
  },
  {
   "cell_type": "code",
   "execution_count": 6,
   "id": "9f932989-ffe7-45c1-bbe7-c93f0212d93c",
   "metadata": {},
   "outputs": [
    {
     "data": {
      "text/html": [
       "<div>\n",
       "<style scoped>\n",
       "    .dataframe tbody tr th:only-of-type {\n",
       "        vertical-align: middle;\n",
       "    }\n",
       "\n",
       "    .dataframe tbody tr th {\n",
       "        vertical-align: top;\n",
       "    }\n",
       "\n",
       "    .dataframe thead th {\n",
       "        text-align: right;\n",
       "    }\n",
       "</style>\n",
       "<table border=\"1\" class=\"dataframe\">\n",
       "  <thead>\n",
       "    <tr style=\"text-align: right;\">\n",
       "      <th></th>\n",
       "      <th>pca_component_1</th>\n",
       "      <th>pca_component_2</th>\n",
       "      <th>target</th>\n",
       "    </tr>\n",
       "  </thead>\n",
       "  <tbody>\n",
       "    <tr>\n",
       "      <th>0</th>\n",
       "      <td>-2.264703</td>\n",
       "      <td>0.480027</td>\n",
       "      <td>0</td>\n",
       "    </tr>\n",
       "    <tr>\n",
       "      <th>1</th>\n",
       "      <td>-2.080961</td>\n",
       "      <td>-0.674134</td>\n",
       "      <td>0</td>\n",
       "    </tr>\n",
       "    <tr>\n",
       "      <th>2</th>\n",
       "      <td>-2.364229</td>\n",
       "      <td>-0.341908</td>\n",
       "      <td>0</td>\n",
       "    </tr>\n",
       "  </tbody>\n",
       "</table>\n",
       "</div>"
      ],
      "text/plain": [
       "   pca_component_1  pca_component_2  target\n",
       "0        -2.264703         0.480027       0\n",
       "1        -2.080961        -0.674134       0\n",
       "2        -2.364229        -0.341908       0"
      ]
     },
     "execution_count": 6,
     "metadata": {},
     "output_type": "execute_result"
    }
   ],
   "source": [
    "#iris_pca는 변환된 PCA 데이터 세트를 150*2 넘파이 행렬로 가지고있음\n",
    "#이를 데이터프레임으로 변환한 뒤 데이터 값을 확인\n",
    "#PCA 변환된 데이터의 칼럼명을 각각 pca_component_1, pca_component_2로 명명\n",
    "pca_columns = ['pca_component_1', 'pca_component_2']\n",
    "irisDF_pca = pd.DataFrame(iris_pca, columns = pca_columns)\n",
    "irisDF_pca['target'] = iris.target\n",
    "irisDF_pca.head(3)"
   ]
  },
  {
   "cell_type": "code",
   "execution_count": 7,
   "id": "faceb29b-3397-4f75-86f9-f9caa7076f0b",
   "metadata": {},
   "outputs": [
    {
     "data": {
      "image/png": "[encoded data removed]",
      "text/plain": [
       "<Figure size 640x480 with 1 Axes>"
      ]
     },
     "metadata": {},
     "output_type": "display_data"
    }
   ],
   "source": [
    "#setosa 세모, versicolor 네모, virginica 동그라미\n",
    "markers = ['^', 's', 'o']\n",
    "\n",
    "#pca_component_1을 x축, pca_component_2를 y축으로 scatter_plot 수행\n",
    "for i, marker in enumerate(markers):\n",
    "    x_axis_data = irisDF_pca[irisDF_pca['target'] == i]['pca_component_1']\n",
    "    y_axis_data = irisDF_pca[irisDF_pca['target'] == i]['pca_component_2']\n",
    "    plt.scatter(x_axis_data, y_axis_data, marker = marker, label = iris.target_names[i])\n",
    "plt.legend()\n",
    "plt.xlabel('pca_component_1')\n",
    "plt.ylabel('pca_component_2')\n",
    "plt.show()"
   ]
  },
  {
   "cell_type": "markdown",
   "id": "0d3bb579-ac6a-4cb0-81e6-3b2c75585707",
   "metadata": {},
   "source": [
    "pca변환이후에도 pca_component_1을 기반으로 setosa품종은 명확하게 구분  \n",
    "versicolor와 virginica는 pca_component_1을 기반으로 약간 겹치지만 비교적 잘 구분  \n",
    "이는 pca의 첫번째 새로운 축인 pca_component_1이 원본 데이터의 변동성을 잘 반영했기 때문"
   ]
  },
  {
   "cell_type": "code",
   "execution_count": 8,
   "id": "fa241405-95d3-4ee4-bee0-5cf56c4484ba",
   "metadata": {},
   "outputs": [
    {
     "name": "stdout",
     "output_type": "stream",
     "text": [
      "[0.72962445 0.22850762]\n"
     ]
    }
   ],
   "source": [
    "#PCA변환을 수행한 PCA객체의 explained_variance_ratio_ 속성은 전체 변동성에서 개별 PCA 컴포넌트별로 차지하는 변동성 비율을 제공\n",
    "print(pca.explained_variance_ratio_)"
   ]
  },
  {
   "cell_type": "markdown",
   "id": "353c02f0-cf1c-4ef8-87c6-b6c789579b9e",
   "metadata": {},
   "source": [
    "첫번째 PCa 반환요소인 pca_component_1이 전체 변동성의 약 73%, 두번째인 pca_component_2가 약 23%를 차지  \n",
    "따라서 PCA를 2개 요소로만 변환해도 전체 데이터 변동성의 약 95%를 설명 가능"
   ]
  },
  {
   "cell_type": "markdown",
   "id": "ecfba7dc-3769-4026-b59b-dcba80d63de4",
   "metadata": {},
   "source": [
    "원본 데이터와 PCA 변환 데이터 세트에 각각 분류를 적용한 후 결과 비교"
   ]
  },
  {
   "cell_type": "code",
   "execution_count": 9,
   "id": "0acfa0c5-2c6d-4298-b059-f66673bff0d0",
   "metadata": {},
   "outputs": [
    {
     "name": "stdout",
     "output_type": "stream",
     "text": [
      "원본 데이터 교차 검증 개별 정확도: [0.98 0.94 0.96]\n",
      "원본 데이터 평균 정확도: 0.96\n"
     ]
    }
   ],
   "source": [
    "from sklearn.ensemble import RandomForestClassifier\n",
    "from sklearn.model_selection import cross_val_score\n",
    "import numpy as np\n",
    "\n",
    "rcf = RandomForestClassifier(random_state = 156)\n",
    "scores = cross_val_score(rcf, iris.data, iris.target, scoring = 'accuracy', cv = 3)\n",
    "print('원본 데이터 교차 검증 개별 정확도:', scores)\n",
    "print('원본 데이터 평균 정확도:', np.mean(scores))"
   ]
  },
  {
   "cell_type": "code",
   "execution_count": 10,
   "id": "3e00cfa7-afc3-4b63-a62b-6f9ae38c9fca",
   "metadata": {},
   "outputs": [
    {
     "name": "stdout",
     "output_type": "stream",
     "text": [
      "PCA 변환 데이터 교차 검증 개별 정확도: [0.88 0.88 0.88]\n",
      "PCA 변환 데이터 평균 정확도: 0.88\n"
     ]
    }
   ],
   "source": [
    "#pca변환 데이터세트\n",
    "pca_X = irisDF_pca[['pca_component_1', 'pca_component_2']]\n",
    "scores_pca = cross_val_score(rcf, pca_X, iris.target, scoring = 'accuracy', cv = 3)\n",
    "print('PCA 변환 데이터 교차 검증 개별 정확도:', scores_pca)\n",
    "print('PCA 변환 데이터 평균 정확도:', np.mean(scores_pca))"
   ]
  },
  {
   "cell_type": "markdown",
   "id": "58996773-ede0-4f56-a24a-c70e96772bf0",
   "metadata": {},
   "source": [
    "원본 데이터 대비 예측 정확도는 pca 변환 차원 개수에 따라 예측 성능이 떨어질 수 밖에 없음  \n",
    "4개의 속성이 2개로 감소한 것을 고려한다면 변환 후에도 원본 데이터의 특성을 상당 부분 유지하고 있음을 알 수 있음"
   ]
  },
  {
   "cell_type": "code",
   "execution_count": 11,
   "id": "d4f73bfe-cbd1-45ac-b399-2a2ce0066e25",
   "metadata": {},
   "outputs": [
    {
     "name": "stdout",
     "output_type": "stream",
     "text": [
      "Requirement already satisfied: xlrd in c:\\users\\motor\\anaconda3\\lib\\site-packages (2.0.1)\n",
      "(30000, 24)\n"
     ]
    },
    {
     "data": {
      "text/html": [
       "<div>\n",
       "<style scoped>\n",
       "    .dataframe tbody tr th:only-of-type {\n",
       "        vertical-align: middle;\n",
       "    }\n",
       "\n",
       "    .dataframe tbody tr th {\n",
       "        vertical-align: top;\n",
       "    }\n",
       "\n",
       "    .dataframe thead th {\n",
       "        text-align: right;\n",
       "    }\n",
       "</style>\n",
       "<table border=\"1\" class=\"dataframe\">\n",
       "  <thead>\n",
       "    <tr style=\"text-align: right;\">\n",
       "      <th></th>\n",
       "      <th>LIMIT_BAL</th>\n",
       "      <th>SEX</th>\n",
       "      <th>EDUCATION</th>\n",
       "      <th>MARRIAGE</th>\n",
       "      <th>AGE</th>\n",
       "      <th>PAY_0</th>\n",
       "      <th>PAY_2</th>\n",
       "      <th>PAY_3</th>\n",
       "      <th>PAY_4</th>\n",
       "      <th>PAY_5</th>\n",
       "      <th>...</th>\n",
       "      <th>BILL_AMT4</th>\n",
       "      <th>BILL_AMT5</th>\n",
       "      <th>BILL_AMT6</th>\n",
       "      <th>PAY_AMT1</th>\n",
       "      <th>PAY_AMT2</th>\n",
       "      <th>PAY_AMT3</th>\n",
       "      <th>PAY_AMT4</th>\n",
       "      <th>PAY_AMT5</th>\n",
       "      <th>PAY_AMT6</th>\n",
       "      <th>default payment next month</th>\n",
       "    </tr>\n",
       "  </thead>\n",
       "  <tbody>\n",
       "    <tr>\n",
       "      <th>0</th>\n",
       "      <td>20000</td>\n",
       "      <td>2</td>\n",
       "      <td>2</td>\n",
       "      <td>1</td>\n",
       "      <td>24</td>\n",
       "      <td>2</td>\n",
       "      <td>2</td>\n",
       "      <td>-1</td>\n",
       "      <td>-1</td>\n",
       "      <td>-2</td>\n",
       "      <td>...</td>\n",
       "      <td>0</td>\n",
       "      <td>0</td>\n",
       "      <td>0</td>\n",
       "      <td>0</td>\n",
       "      <td>689</td>\n",
       "      <td>0</td>\n",
       "      <td>0</td>\n",
       "      <td>0</td>\n",
       "      <td>0</td>\n",
       "      <td>1</td>\n",
       "    </tr>\n",
       "    <tr>\n",
       "      <th>1</th>\n",
       "      <td>120000</td>\n",
       "      <td>2</td>\n",
       "      <td>2</td>\n",
       "      <td>2</td>\n",
       "      <td>26</td>\n",
       "      <td>-1</td>\n",
       "      <td>2</td>\n",
       "      <td>0</td>\n",
       "      <td>0</td>\n",
       "      <td>0</td>\n",
       "      <td>...</td>\n",
       "      <td>3272</td>\n",
       "      <td>3455</td>\n",
       "      <td>3261</td>\n",
       "      <td>0</td>\n",
       "      <td>1000</td>\n",
       "      <td>1000</td>\n",
       "      <td>1000</td>\n",
       "      <td>0</td>\n",
       "      <td>2000</td>\n",
       "      <td>1</td>\n",
       "    </tr>\n",
       "    <tr>\n",
       "      <th>2</th>\n",
       "      <td>90000</td>\n",
       "      <td>2</td>\n",
       "      <td>2</td>\n",
       "      <td>2</td>\n",
       "      <td>34</td>\n",
       "      <td>0</td>\n",
       "      <td>0</td>\n",
       "      <td>0</td>\n",
       "      <td>0</td>\n",
       "      <td>0</td>\n",
       "      <td>...</td>\n",
       "      <td>14331</td>\n",
       "      <td>14948</td>\n",
       "      <td>15549</td>\n",
       "      <td>1518</td>\n",
       "      <td>1500</td>\n",
       "      <td>1000</td>\n",
       "      <td>1000</td>\n",
       "      <td>1000</td>\n",
       "      <td>5000</td>\n",
       "      <td>0</td>\n",
       "    </tr>\n",
       "  </tbody>\n",
       "</table>\n",
       "<p>3 rows × 24 columns</p>\n",
       "</div>"
      ],
      "text/plain": [
       "   LIMIT_BAL  SEX  EDUCATION  MARRIAGE  AGE  PAY_0  PAY_2  PAY_3  PAY_4  \\\n",
       "0      20000    2          2         1   24      2      2     -1     -1   \n",
       "1     120000    2          2         2   26     -1      2      0      0   \n",
       "2      90000    2          2         2   34      0      0      0      0   \n",
       "\n",
       "   PAY_5  ...  BILL_AMT4  BILL_AMT5  BILL_AMT6  PAY_AMT1  PAY_AMT2  PAY_AMT3  \\\n",
       "0     -2  ...          0          0          0         0       689         0   \n",
       "1      0  ...       3272       3455       3261         0      1000      1000   \n",
       "2      0  ...      14331      14948      15549      1518      1500      1000   \n",
       "\n",
       "   PAY_AMT4  PAY_AMT5  PAY_AMT6  default payment next month  \n",
       "0         0         0         0                           1  \n",
       "1      1000         0      2000                           1  \n",
       "2      1000      1000      5000                           0  \n",
       "\n",
       "[3 rows x 24 columns]"
      ]
     },
     "execution_count": 11,
     "metadata": {},
     "output_type": "execute_result"
    }
   ],
   "source": [
    "#header로 의미 없는 첫 행 제거, iloc로 기존 id 제거\n",
    "import pandas as pd\n",
    "!pip install xlrd\n",
    "df = pd.read_excel('pca_credit_card.xls', header = 1, sheet_name = 'Data').iloc[0:, 1:]\n",
    "print(df.shape)\n",
    "df.head(3)"
   ]
  },
  {
   "cell_type": "markdown",
   "id": "096ebbb2-2086-4e5a-9298-bd9dbccb5e85",
   "metadata": {},
   "source": [
    "default payment next month 속성이 target값으로 '다음달 연체 여부'를 의미  \n",
    "연체일 경우 1, 정상납부가 0  \n",
    "pay_0 칼럼을 pay_1로 변경하고 default payment next month칼럼을 default로 칼럼명 변경  \n",
    "이후 Target 속성인 'default'칼럼을 y_target변수로 별도 저장하고  \n",
    "피처 데이터는 이 default 칼럼을 제외한 별도의 DataFrame으로 만들기  "
   ]
  },
  {
   "cell_type": "code",
   "execution_count": 12,
   "id": "2f6b952e-97b3-4ff3-a49e-8d684c075df9",
   "metadata": {},
   "outputs": [],
   "source": [
    "df.rename(columns = {'PAY_0':'PAY_1', 'default payment next month':'default'}, inplace = True)\n",
    "y_target = df['default']\n",
    "X_features = df.drop('default', axis = 1)"
   ]
  },
  {
   "cell_type": "code",
   "execution_count": 13,
   "id": "64acd11f-ec1c-4d33-a9f1-39f737d175d2",
   "metadata": {},
   "outputs": [
    {
     "data": {
      "text/plain": [
       "<Axes: >"
      ]
     },
     "execution_count": 13,
     "metadata": {},
     "output_type": "execute_result"
    },
    {
     "data": {
      "image/png": "[encoded data removed]",
      "text/plain": [
       "<Figure size 1000x1400 with 2 Axes>"
      ]
     },
     "metadata": {},
     "output_type": "display_data"
    }
   ],
   "source": [
    "#상관관계 히트맵\n",
    "import seaborn as sns\n",
    "corr = X_features.corr()\n",
    "plt.figure(figsize = (10, 14))\n",
    "sns.heatmap(corr, annot = True, fmt = '.1g')"
   ]
  },
  {
   "cell_type": "markdown",
   "id": "50b70585-5258-4f5f-9bc1-88a2a4eafe77",
   "metadata": {},
   "source": [
    "높은 상관도를 가진 속성들은 소수의 PCA만으로도 자연스럽게 이 속성들의 변동성을 수용할 수 있다  \n",
    "이 BILL_AMT1 ~ BILL_AMT6까지 6개의 속성을 2개의 컴포넌트로 PCA 변환한 뒤 개별 컴포넌트의 변동성을 explained_variance_ratio 속성으로 알아보기"
   ]
  },
  {
   "cell_type": "code",
   "execution_count": 14,
   "id": "00d1385d-51f0-4e90-9b79-81864a9faae4",
   "metadata": {},
   "outputs": [
    {
     "name": "stdout",
     "output_type": "stream",
     "text": [
      "대상 속성명: ['BILL_AMT1', 'BILL_AMT2', 'BILL_AMT3', 'BILL_AMT4', 'BILL_AMT5', 'BILL_AMT6']\n",
      "PCA Component별 변동성: [0.90555253 0.0509867 ]\n"
     ]
    }
   ],
   "source": [
    "from sklearn.decomposition import PCA\n",
    "from sklearn.preprocessing import StandardScaler\n",
    "\n",
    "#BILL_AMT1 ~ BILL_AMT6까지 6개의 속성명 생성\n",
    "cols_bill = ['BILL_AMT' + str(i) for i in range(1,7)]\n",
    "print('대상 속성명:', cols_bill)\n",
    "\n",
    "#2개의 PCA 속성명을 가진 PCA객체 생성하고 explained_variance_ratio 계산 위해 fit() 호출\n",
    "scaler = StandardScaler()\n",
    "df_cols_scaled = scaler.fit_transform(X_features[cols_bill])\n",
    "pca = PCA(n_components=2)\n",
    "pca.fit(df_cols_scaled)\n",
    "print('PCA Component별 변동성:', pca.explained_variance_ratio_)"
   ]
  },
  {
   "cell_type": "markdown",
   "id": "57a375ea-33f7-4031-8152-aebacf0a9f2e",
   "metadata": {},
   "source": [
    "단 2개의 컴포넌트만으로 6개 속성의 변동성을 약 95% 이상 설명 가능  \n",
    "특히 첫번째 PCA축으로 90%이상의 변동성을 수용할 정도로 이 6개 속성의 상관도가 매우 높음"
   ]
  },
  {
   "cell_type": "markdown",
   "id": "b6142026-bd90-4851-9db5-f4d81d45ed27",
   "metadata": {},
   "source": [
    "원본 데이터세트와 6개의 컴포넌트로 PCA변환한 데이터 세트의 분류 예측 결과를 상호 비교"
   ]
  },
  {
   "cell_type": "code",
   "execution_count": 15,
   "id": "6aa0daca-03f3-4043-9eea-ed1115d6406e",
   "metadata": {},
   "outputs": [
    {
     "name": "stdout",
     "output_type": "stream",
     "text": [
      "CV=3인 경우의 개별 Fold별 정확도: [0.8083 0.8196 0.8232]\n",
      "평균 정확도: 0.817\n"
     ]
    }
   ],
   "source": [
    "import numpy as np\n",
    "from sklearn.ensemble import RandomForestClassifier\n",
    "from sklearn.model_selection import cross_val_score\n",
    "\n",
    "rcf = RandomForestClassifier(n_estimators = 300, random_state = 156)\n",
    "scores = cross_val_score(rcf, X_features, y_target, scoring = 'accuracy', cv = 3)\n",
    "print('CV=3인 경우의 개별 Fold별 정확도:', scores)\n",
    "print('평균 정확도: {:.3f}'.format(np.mean(scores)))"
   ]
  },
  {
   "cell_type": "code",
   "execution_count": 16,
   "id": "969bf170-ddfb-4e6c-93ea-5fad9505df70",
   "metadata": {},
   "outputs": [
    {
     "name": "stdout",
     "output_type": "stream",
     "text": [
      "CV=3인 경우의 PCA 변환된 개별 Fold 세트별 정확도: [0.7918 0.7955 0.8015]\n",
      "PCA 변환된 데이터 세트 평균 정확도:0.7963\n"
     ]
    }
   ],
   "source": [
    "#원본 데이터 세트에 먼저 StandardScaler 적용\n",
    "scaler = StandardScaler()\n",
    "df_scaled = scaler.fit_transform(X_features)\n",
    "\n",
    "#6개의 컴포넌트를 가진 PCA 변환을 수행하고 cross_val_score()로 분류 예측 수행\n",
    "pca = PCA(n_components = 6)\n",
    "df_pca = pca.fit_transform(df_scaled)\n",
    "scores_pca = cross_val_score(rcf, df_pca, y_target, scoring = 'accuracy', cv = 3)\n",
    "\n",
    "print('CV=3인 경우의 PCA 변환된 개별 Fold 세트별 정확도:', scores_pca)\n",
    "print('PCA 변환된 데이터 세트 평균 정확도:{0:.4f}'.format(np.mean(scores_pca)))"
   ]
  },
  {
   "cell_type": "markdown",
   "id": "c6bd17cd-6491-4dd1-96e3-25cdb88023e9",
   "metadata": {},
   "source": [
    "전체 23개 속성의 1/6수준인 6개의 PCA컴포넌트 만으로 원본 데이터 기반 분류 예측보다 1~2% 정도의 예측 성능 저하만 발생  "
   ]
  },
  {
   "cell_type": "code",
   "execution_count": null,
   "id": "4e190746-241a-4c0b-b9f7-e11e93fd8f5b",
   "metadata": {},
   "outputs": [],
   "source": []
  }
 ],
 "metadata": {
  "kernelspec": {
   "display_name": "Python 3 (ipykernel)",
   "language": "python",
   "name": "python3"
  },
  "language_info": {
   "codemirror_mode": {
    "name": "ipython",
    "version": 3
   },
   "file_extension": ".py",
   "mimetype": "text/x-python",
   "name": "python",
   "nbconvert_exporter": "python",
   "pygments_lexer": "ipython3",
   "version": "3.11.7"
  }
 },
 "nbformat": 4,
 "nbformat_minor": 5
}
