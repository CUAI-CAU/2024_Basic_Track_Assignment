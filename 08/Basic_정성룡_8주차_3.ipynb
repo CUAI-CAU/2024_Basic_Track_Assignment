{
  "cells": [
    {
      "cell_type": "markdown",
      "metadata": {
        "id": "d7wWwEcZHUzV"
      },
      "source": [
        "### Mean Shift 개요"
      ]
    },
    {
      "cell_type": "code",
      "execution_count": 1,
      "metadata": {
        "id": "i4y2ixmXHUzX",
        "outputId": "e89007cf-6b62-41a9-e562-3d4441e6e0e9",
        "colab": {
          "base_uri": "https://localhost:8080/"
        }
      },
      "outputs": [
        {
          "output_type": "stream",
          "name": "stdout",
          "text": [
            "cluster labels 유형: [0 1 2 3 4 5]\n"
          ]
        }
      ],
      "source": [
        "import numpy as np\n",
        "from sklearn.datasets import make_blobs\n",
        "from sklearn.cluster import MeanShift\n",
        "\n",
        "X, y = make_blobs(n_samples=200, n_features=2, centers=3,\n",
        "                  cluster_std=0.7, random_state=0)\n",
        "\n",
        "meanshift= MeanShift(bandwidth=0.8)\n",
        "cluster_labels = meanshift.fit_predict(X)\n",
        "print('cluster labels 유형:', np.unique(cluster_labels))"
      ]
    },
    {
      "cell_type": "code",
      "execution_count": 2,
      "metadata": {
        "id": "UN6nWu9rHUzZ",
        "outputId": "03f39c63-0751-4a6a-e07a-6a5077467479",
        "colab": {
          "base_uri": "https://localhost:8080/"
        }
      },
      "outputs": [
        {
          "output_type": "stream",
          "name": "stdout",
          "text": [
            "cluster labels 유형: [0 1 2]\n"
          ]
        }
      ],
      "source": [
        "meanshift= MeanShift(bandwidth=1)\n",
        "cluster_labels = meanshift.fit_predict(X)\n",
        "print('cluster labels 유형:', np.unique(cluster_labels))"
      ]
    },
    {
      "cell_type": "code",
      "execution_count": 3,
      "metadata": {
        "id": "GvrIQKuXHUzZ",
        "outputId": "bf5f64f7-8c73-406f-dc24-f9ff6576dda5",
        "colab": {
          "base_uri": "https://localhost:8080/"
        }
      },
      "outputs": [
        {
          "output_type": "stream",
          "name": "stdout",
          "text": [
            "bandwidth 값: 1.816\n"
          ]
        }
      ],
      "source": [
        "from sklearn.cluster import estimate_bandwidth\n",
        "\n",
        "bandwidth = estimate_bandwidth(X)\n",
        "print('bandwidth 값:', round(bandwidth,3))"
      ]
    },
    {
      "cell_type": "code",
      "execution_count": 4,
      "metadata": {
        "id": "LFUDeGNlHUza",
        "outputId": "63167940-6bc4-4fac-e88b-49eb2868c9f4",
        "colab": {
          "base_uri": "https://localhost:8080/"
        }
      },
      "outputs": [
        {
          "output_type": "stream",
          "name": "stdout",
          "text": [
            "cluster labels 유형: [0 1 2]\n"
          ]
        }
      ],
      "source": [
        "import pandas as pd\n",
        "\n",
        "\n",
        "clusterDF = pd.DataFrame(data=X, columns=['ftr1', 'ftr2'])\n",
        "clusterDF['target'] = y\n",
        "\n",
        "# estimate_bandwidth()로 최적의 bandwidth 계산\n",
        "best_bandwidth = estimate_bandwidth(X)\n",
        "\n",
        "meanshift= MeanShift(bandwidth=best_bandwidth)\n",
        "cluster_labels = meanshift.fit_predict(X)\n",
        "print('cluster labels 유형:',np.unique(cluster_labels))"
      ]
    },
    {
      "cell_type": "code",
      "execution_count": 5,
      "metadata": {
        "scrolled": true,
        "id": "sc4heL_mHUza",
        "outputId": "6c5efbb7-de7c-4312-c394-21439fff21ea",
        "colab": {
          "base_uri": "https://localhost:8080/",
          "height": 435
        }
      },
      "outputs": [
        {
          "output_type": "display_data",
          "data": {
            "text/plain": [
              "<Figure size 640x480 with 1 Axes>"
            ],
            "image/png": "[encoded data removed]"
          },
          "metadata": {}
        }
      ],
      "source": [
        "import matplotlib.pyplot as plt\n",
        "%matplotlib inline\n",
        "\n",
        "clusterDF['meanshift_label']  = cluster_labels\n",
        "centers = meanshift.cluster_centers_\n",
        "unique_labels = np.unique(cluster_labels)\n",
        "markers=['o', 's', '^', 'x', '*']\n",
        "\n",
        "for label in unique_labels:\n",
        "    label_cluster = clusterDF[clusterDF['meanshift_label']==label]\n",
        "    center_x_y = centers[label]\n",
        "    # 군집별로 다른 마커로 산점도 적용\n",
        "    plt.scatter(x=label_cluster['ftr1'], y=label_cluster['ftr2'], edgecolor='k', marker=markers[label] )\n",
        "\n",
        "    # 군집별 중심 표현\n",
        "    plt.scatter(x=center_x_y[0], y=center_x_y[1], s=200, color='gray', alpha=0.9, marker=markers[label])\n",
        "    plt.scatter(x=center_x_y[0], y=center_x_y[1], s=70, color='k', edgecolor='k', marker='$%d$' % label)\n",
        "\n",
        "plt.show()"
      ]
    },
    {
      "cell_type": "code",
      "execution_count": 6,
      "metadata": {
        "id": "2cNvQ8g0HUza",
        "outputId": "b5662312-21a6-4097-a2d1-4565c42dae37",
        "colab": {
          "base_uri": "https://localhost:8080/"
        }
      },
      "outputs": [
        {
          "output_type": "stream",
          "name": "stdout",
          "text": [
            "target  meanshift_label\n",
            "0       0                  67\n",
            "1       1                  67\n",
            "2       2                  66\n",
            "Name: count, dtype: int64\n"
          ]
        }
      ],
      "source": [
        "print(clusterDF.groupby('target')['meanshift_label'].value_counts())"
      ]
    },
    {
      "cell_type": "code",
      "execution_count": null,
      "metadata": {
        "id": "FyLflf4yHUzb"
      },
      "outputs": [],
      "source": []
    }
  ],
  "metadata": {
    "kernelspec": {
      "display_name": "Python 3 (ipykernel)",
      "language": "python",
      "name": "python3"
    },
    "language_info": {
      "codemirror_mode": {
        "name": "ipython",
        "version": 3
      },
      "file_extension": ".py",
      "mimetype": "text/x-python",
      "name": "python",
      "nbconvert_exporter": "python",
      "pygments_lexer": "ipython3",
      "version": "3.11.4"
    },
    "colab": {
      "provenance": []
    }
  },
  "nbformat": 4,
  "nbformat_minor": 0
}