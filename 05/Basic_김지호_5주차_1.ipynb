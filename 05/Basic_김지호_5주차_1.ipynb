{
 "cells": [
  {
   "cell_type": "markdown",
   "id": "5ef1c93b-9ade-4330-9686-398d32374bb6",
   "metadata": {},
   "source": [
    "# LightGBM\n",
    "일반 GBM 계열의 트리 분할 방법과 다르게 리프 중심 트리 분할(Leaf Wise) 방식을 사용  \n",
    "리프 중심 트리 분할: 최대 손실 값을 가지는 리프 노드를 지속적으로 분할하면서 트리의 깊이가 깊어지고 비대칭적인 규칙 트리가 생성  \n",
    "이렇게 최대 손실 값을 가지는 리프 노드를 지속적으로 분할해 생성된 규칙 트리는 학습을 반복할수록 결국 균형 트리 분할 방식보다 예측 오류 손실을 최소화 할 수 있음 "
   ]
  },
  {
   "cell_type": "markdown",
   "id": "b70fce81-6663-4c9e-85bb-7bea5d2ab0bf",
   "metadata": {},
   "source": [
    "## LightGBM 장점\n",
    "더 빠른 학습과 예측 수행 시간  \n",
    "더 작은 메모리 사용량  \n",
    "카테고리형 피처의 자동 변환과 최적 분할"
   ]
  },
  {
   "cell_type": "markdown",
   "id": "985a7475-929a-4d23-9c34-70c5785e694e",
   "metadata": {},
   "source": [
    "## LightGBM 하이퍼 파라미터\n",
    "XGBoost와 유사하나 특성에 맞는 하이퍼 파라미터 설정 필요  \n",
    "num_iterations(n_estimators, default = 100) : 반복 수행하려는 트리의 개수, 크게 설정할수록 예측 성능이 높아질 수 있으나 너무 크면 과적합  \n",
    "learning_rate(default = 0.01) : 학습률 값, 작게 해서 예측 성능 향상 가능하나 과적합 이슈 고려  \n",
    "max_depth(default = 1) : 트리 기반 알고리즘의 max_depth, 리프 중심 트리 분할 방식이므로 깊이가 상대적으로 더 깊다  \n",
    "min_data_in_leaf(min_child_samples, default = 20) : min_sample_leaf와 같은 파라미터, 최종 결정 클래스인 리프 노드가 되기 위해 최소한으로 필요한 레코드 수  \n",
    "num_leaves(default = 31) : 하나의 트리가 가질 수 있는 최대 리프 개수  \n",
    "boosting(default = gbdt) : 부스팅의 트리를 생성하는 알고리즘 gbdt: 일반적인 그래디언트 부스팅 결정트리, rf: 랜덤 포레스트  \n",
    "bagging_fraction(subsample, default = 1.0) : 트리가 커져 과적합되는 것을 제어하기 위해 데이터를 샘플링하는 비율 지정  \n",
    "feature_fraction(colsample_bytree, default = 1.0) : 개별 트리를 학습 할 대마다 무작위로 선택하는 피처의 비율  \n",
    "lambda_l2(reg_lambda, default = 0.0) : L2 regulation 제어를 위한 값, 피처 개수 많은 경우 적용 검토, 값이 클수록 과적합 방지  \n",
    "lambda_l1(reg_alpha, default = 0.0) : L1 regulation 제어를 위한 값, 과적합 방지  \n",
    "\n",
    "\n",
    "Learning Task 파라미터  \n",
    "onjective : 최솟값을 가져야 할 손실함수 정의, 회귀, 다중 클래스 분류, 이진 분류인지에 따라 objective인 손실함수가 지정"
   ]
  },
  {
   "cell_type": "markdown",
   "id": "8066c15a-dd14-4958-883e-370bb9e28c63",
   "metadata": {},
   "source": [
    "## 하이퍼 파라미터 튜닝 방안\n",
    "num_leaves의 개수를 중심으로 min_child_samples, max_depth를 함게 조정하면서 모델의 복잡도를 줄이는 것이 기본 튜닝 방안  \n",
    "learining_rate를 작게 하면서 n_estimators를 크게 하는 것은 부스팅계열 튜닝에서 기본적인 방안이므로 이를 적용하는 것도 좋음(n_estimators가 너무 크면 과적합 주의)  "
   ]
  },
  {
   "cell_type": "markdown",
   "id": "565d42d3-a195-460e-8e54-38c55b043e1e",
   "metadata": {},
   "source": [
    "## LightGBM 적용 - 위스콘신 유방암 예측"
   ]
  },
  {
   "cell_type": "code",
   "execution_count": 1,
   "id": "2310c205-85cc-41a1-9935-35ce6dfb23d3",
   "metadata": {},
   "outputs": [
    {
     "name": "stdout",
     "output_type": "stream",
     "text": [
      "[1]\ttraining's binary_logloss: 0.625671\tvalid_1's binary_logloss: 0.628248\n",
      "[2]\ttraining's binary_logloss: 0.588173\tvalid_1's binary_logloss: 0.601106\n",
      "[3]\ttraining's binary_logloss: 0.554518\tvalid_1's binary_logloss: 0.577587\n",
      "[4]\ttraining's binary_logloss: 0.523972\tvalid_1's binary_logloss: 0.556324\n",
      "[5]\ttraining's binary_logloss: 0.49615\tvalid_1's binary_logloss: 0.537407\n",
      "[6]\ttraining's binary_logloss: 0.470108\tvalid_1's binary_logloss: 0.519401\n",
      "[7]\ttraining's binary_logloss: 0.446647\tvalid_1's binary_logloss: 0.502637\n",
      "[8]\ttraining's binary_logloss: 0.425055\tvalid_1's binary_logloss: 0.488311\n",
      "[9]\ttraining's binary_logloss: 0.405125\tvalid_1's binary_logloss: 0.474664\n",
      "[10]\ttraining's binary_logloss: 0.386526\tvalid_1's binary_logloss: 0.461267\n",
      "[11]\ttraining's binary_logloss: 0.367027\tvalid_1's binary_logloss: 0.444274\n",
      "[12]\ttraining's binary_logloss: 0.350713\tvalid_1's binary_logloss: 0.432755\n",
      "[13]\ttraining's binary_logloss: 0.334601\tvalid_1's binary_logloss: 0.421371\n",
      "[14]\ttraining's binary_logloss: 0.319854\tvalid_1's binary_logloss: 0.411418\n",
      "[15]\ttraining's binary_logloss: 0.306374\tvalid_1's binary_logloss: 0.402989\n",
      "[16]\ttraining's binary_logloss: 0.293116\tvalid_1's binary_logloss: 0.393973\n",
      "[17]\ttraining's binary_logloss: 0.280812\tvalid_1's binary_logloss: 0.384801\n",
      "[18]\ttraining's binary_logloss: 0.268352\tvalid_1's binary_logloss: 0.376191\n",
      "[19]\ttraining's binary_logloss: 0.256942\tvalid_1's binary_logloss: 0.368378\n",
      "[20]\ttraining's binary_logloss: 0.246443\tvalid_1's binary_logloss: 0.362062\n",
      "[21]\ttraining's binary_logloss: 0.236874\tvalid_1's binary_logloss: 0.355162\n",
      "[22]\ttraining's binary_logloss: 0.227501\tvalid_1's binary_logloss: 0.348933\n",
      "[23]\ttraining's binary_logloss: 0.218988\tvalid_1's binary_logloss: 0.342819\n",
      "[24]\ttraining's binary_logloss: 0.210621\tvalid_1's binary_logloss: 0.337386\n",
      "[25]\ttraining's binary_logloss: 0.202076\tvalid_1's binary_logloss: 0.331523\n",
      "[26]\ttraining's binary_logloss: 0.194199\tvalid_1's binary_logloss: 0.326349\n",
      "[27]\ttraining's binary_logloss: 0.187107\tvalid_1's binary_logloss: 0.322785\n",
      "[28]\ttraining's binary_logloss: 0.180535\tvalid_1's binary_logloss: 0.317877\n",
      "[29]\ttraining's binary_logloss: 0.173834\tvalid_1's binary_logloss: 0.313928\n",
      "[30]\ttraining's binary_logloss: 0.167198\tvalid_1's binary_logloss: 0.310105\n",
      "[31]\ttraining's binary_logloss: 0.161229\tvalid_1's binary_logloss: 0.307107\n",
      "[32]\ttraining's binary_logloss: 0.155494\tvalid_1's binary_logloss: 0.303837\n",
      "[33]\ttraining's binary_logloss: 0.149125\tvalid_1's binary_logloss: 0.300315\n",
      "[34]\ttraining's binary_logloss: 0.144045\tvalid_1's binary_logloss: 0.297816\n",
      "[35]\ttraining's binary_logloss: 0.139341\tvalid_1's binary_logloss: 0.295387\n",
      "[36]\ttraining's binary_logloss: 0.134625\tvalid_1's binary_logloss: 0.293063\n",
      "[37]\ttraining's binary_logloss: 0.129167\tvalid_1's binary_logloss: 0.289127\n",
      "[38]\ttraining's binary_logloss: 0.12472\tvalid_1's binary_logloss: 0.288697\n",
      "[39]\ttraining's binary_logloss: 0.11974\tvalid_1's binary_logloss: 0.28576\n",
      "[40]\ttraining's binary_logloss: 0.115054\tvalid_1's binary_logloss: 0.282853\n",
      "[41]\ttraining's binary_logloss: 0.110662\tvalid_1's binary_logloss: 0.279441\n",
      "[42]\ttraining's binary_logloss: 0.106358\tvalid_1's binary_logloss: 0.28113\n",
      "[43]\ttraining's binary_logloss: 0.102324\tvalid_1's binary_logloss: 0.279139\n",
      "[44]\ttraining's binary_logloss: 0.0985699\tvalid_1's binary_logloss: 0.276465\n",
      "[45]\ttraining's binary_logloss: 0.094858\tvalid_1's binary_logloss: 0.275946\n",
      "[46]\ttraining's binary_logloss: 0.0912486\tvalid_1's binary_logloss: 0.272819\n",
      "[47]\ttraining's binary_logloss: 0.0883115\tvalid_1's binary_logloss: 0.272306\n",
      "[48]\ttraining's binary_logloss: 0.0849963\tvalid_1's binary_logloss: 0.270452\n",
      "[49]\ttraining's binary_logloss: 0.0821742\tvalid_1's binary_logloss: 0.268671\n",
      "[50]\ttraining's binary_logloss: 0.0789991\tvalid_1's binary_logloss: 0.267587\n",
      "[51]\ttraining's binary_logloss: 0.0761072\tvalid_1's binary_logloss: 0.26626\n",
      "[52]\ttraining's binary_logloss: 0.0732567\tvalid_1's binary_logloss: 0.265542\n",
      "[53]\ttraining's binary_logloss: 0.0706388\tvalid_1's binary_logloss: 0.264547\n",
      "[54]\ttraining's binary_logloss: 0.0683911\tvalid_1's binary_logloss: 0.26502\n",
      "[55]\ttraining's binary_logloss: 0.0659347\tvalid_1's binary_logloss: 0.264388\n",
      "[56]\ttraining's binary_logloss: 0.0636873\tvalid_1's binary_logloss: 0.263128\n",
      "[57]\ttraining's binary_logloss: 0.0613354\tvalid_1's binary_logloss: 0.26231\n",
      "[58]\ttraining's binary_logloss: 0.0591944\tvalid_1's binary_logloss: 0.262011\n",
      "[59]\ttraining's binary_logloss: 0.057033\tvalid_1's binary_logloss: 0.261454\n",
      "[60]\ttraining's binary_logloss: 0.0550801\tvalid_1's binary_logloss: 0.260746\n",
      "[61]\ttraining's binary_logloss: 0.0532381\tvalid_1's binary_logloss: 0.260236\n",
      "[62]\ttraining's binary_logloss: 0.0514074\tvalid_1's binary_logloss: 0.261586\n",
      "[63]\ttraining's binary_logloss: 0.0494837\tvalid_1's binary_logloss: 0.261797\n",
      "[64]\ttraining's binary_logloss: 0.0477826\tvalid_1's binary_logloss: 0.262533\n",
      "[65]\ttraining's binary_logloss: 0.0460364\tvalid_1's binary_logloss: 0.263305\n",
      "[66]\ttraining's binary_logloss: 0.0444552\tvalid_1's binary_logloss: 0.264072\n",
      "[67]\ttraining's binary_logloss: 0.0427638\tvalid_1's binary_logloss: 0.266223\n",
      "[68]\ttraining's binary_logloss: 0.0412449\tvalid_1's binary_logloss: 0.266817\n",
      "[69]\ttraining's binary_logloss: 0.0398589\tvalid_1's binary_logloss: 0.267819\n",
      "[70]\ttraining's binary_logloss: 0.0383095\tvalid_1's binary_logloss: 0.267484\n",
      "[71]\ttraining's binary_logloss: 0.0368803\tvalid_1's binary_logloss: 0.270233\n",
      "[72]\ttraining's binary_logloss: 0.0355637\tvalid_1's binary_logloss: 0.268442\n",
      "[73]\ttraining's binary_logloss: 0.0341747\tvalid_1's binary_logloss: 0.26895\n",
      "[74]\ttraining's binary_logloss: 0.0328302\tvalid_1's binary_logloss: 0.266958\n",
      "[75]\ttraining's binary_logloss: 0.0317853\tvalid_1's binary_logloss: 0.268091\n",
      "[76]\ttraining's binary_logloss: 0.0305626\tvalid_1's binary_logloss: 0.266419\n",
      "[77]\ttraining's binary_logloss: 0.0295001\tvalid_1's binary_logloss: 0.268588\n",
      "[78]\ttraining's binary_logloss: 0.0284699\tvalid_1's binary_logloss: 0.270964\n",
      "[79]\ttraining's binary_logloss: 0.0273953\tvalid_1's binary_logloss: 0.270293\n",
      "[80]\ttraining's binary_logloss: 0.0264668\tvalid_1's binary_logloss: 0.270523\n",
      "[81]\ttraining's binary_logloss: 0.0254636\tvalid_1's binary_logloss: 0.270683\n",
      "[82]\ttraining's binary_logloss: 0.0245911\tvalid_1's binary_logloss: 0.273187\n",
      "[83]\ttraining's binary_logloss: 0.0236486\tvalid_1's binary_logloss: 0.275994\n",
      "[84]\ttraining's binary_logloss: 0.0228047\tvalid_1's binary_logloss: 0.274053\n",
      "[85]\ttraining's binary_logloss: 0.0221693\tvalid_1's binary_logloss: 0.273211\n",
      "[86]\ttraining's binary_logloss: 0.0213043\tvalid_1's binary_logloss: 0.272626\n",
      "[87]\ttraining's binary_logloss: 0.0203934\tvalid_1's binary_logloss: 0.27534\n",
      "[88]\ttraining's binary_logloss: 0.0195552\tvalid_1's binary_logloss: 0.276228\n",
      "[89]\ttraining's binary_logloss: 0.0188623\tvalid_1's binary_logloss: 0.27525\n",
      "[90]\ttraining's binary_logloss: 0.0183664\tvalid_1's binary_logloss: 0.276485\n",
      "[91]\ttraining's binary_logloss: 0.0176788\tvalid_1's binary_logloss: 0.277052\n",
      "[92]\ttraining's binary_logloss: 0.0170059\tvalid_1's binary_logloss: 0.277686\n",
      "[93]\ttraining's binary_logloss: 0.0164317\tvalid_1's binary_logloss: 0.275332\n",
      "[94]\ttraining's binary_logloss: 0.015878\tvalid_1's binary_logloss: 0.276236\n",
      "[95]\ttraining's binary_logloss: 0.0152959\tvalid_1's binary_logloss: 0.274538\n",
      "[96]\ttraining's binary_logloss: 0.0147216\tvalid_1's binary_logloss: 0.275244\n",
      "[97]\ttraining's binary_logloss: 0.0141758\tvalid_1's binary_logloss: 0.275829\n",
      "[98]\ttraining's binary_logloss: 0.0136551\tvalid_1's binary_logloss: 0.276654\n",
      "[99]\ttraining's binary_logloss: 0.0131585\tvalid_1's binary_logloss: 0.277859\n",
      "[100]\ttraining's binary_logloss: 0.0126961\tvalid_1's binary_logloss: 0.279265\n",
      "[101]\ttraining's binary_logloss: 0.0122421\tvalid_1's binary_logloss: 0.276695\n",
      "[102]\ttraining's binary_logloss: 0.0118067\tvalid_1's binary_logloss: 0.278488\n",
      "[103]\ttraining's binary_logloss: 0.0113994\tvalid_1's binary_logloss: 0.278932\n",
      "[104]\ttraining's binary_logloss: 0.0109799\tvalid_1's binary_logloss: 0.280997\n",
      "[105]\ttraining's binary_logloss: 0.0105953\tvalid_1's binary_logloss: 0.281454\n",
      "[106]\ttraining's binary_logloss: 0.0102381\tvalid_1's binary_logloss: 0.282058\n",
      "[107]\ttraining's binary_logloss: 0.00986714\tvalid_1's binary_logloss: 0.279275\n",
      "[108]\ttraining's binary_logloss: 0.00950998\tvalid_1's binary_logloss: 0.281427\n",
      "[109]\ttraining's binary_logloss: 0.00915965\tvalid_1's binary_logloss: 0.280752\n",
      "[110]\ttraining's binary_logloss: 0.00882581\tvalid_1's binary_logloss: 0.282152\n",
      "[111]\ttraining's binary_logloss: 0.00850714\tvalid_1's binary_logloss: 0.280894\n"
     ]
    },
    {
     "name": "stderr",
     "output_type": "stream",
     "text": [
      "C:\\Users\\motor\\anaconda3\\Lib\\site-packages\\lightgbm\\sklearn.py:726: UserWarning: 'early_stopping_rounds' argument is deprecated and will be removed in a future release of LightGBM. Pass 'early_stopping()' callback via 'callbacks' argument instead.\n",
      "  _log_warning(\"'early_stopping_rounds' argument is deprecated and will be removed in a future release of LightGBM. \"\n",
      "C:\\Users\\motor\\anaconda3\\Lib\\site-packages\\lightgbm\\sklearn.py:736: UserWarning: 'verbose' argument is deprecated and will be removed in a future release of LightGBM. Pass 'log_evaluation()' callback via 'callbacks' argument instead.\n",
      "  _log_warning(\"'verbose' argument is deprecated and will be removed in a future release of LightGBM. \"\n"
     ]
    }
   ],
   "source": [
    "from lightgbm import LGBMClassifier\n",
    "import lightgbm\n",
    "import pandas as pd\n",
    "import numpy as np\n",
    "from sklearn.datasets import load_breast_cancer\n",
    "from sklearn.model_selection import train_test_split\n",
    "\n",
    "dataset = load_breast_cancer()\n",
    "\n",
    "cancer_df = pd.DataFrame(data = dataset.data, columns = dataset.feature_names)\n",
    "\n",
    "cancer_df['target'] = dataset.target\n",
    "X_features = cancer_df.iloc[:, :-1]\n",
    "y_label = cancer_df.iloc[:, -1]\n",
    "\n",
    "#전체 데이터 중 80%는 학습용 데이터, 20%는 테스트용 데이터 추출\n",
    "X_train, X_test, y_train, y_test = train_test_split(X_features, y_label, test_size = 0.2, random_state = 156)\n",
    "\n",
    "#위에서 만든 X_train, y_train을 다시 쪼개 90%는 학습용, 10%는 검증용 데이터로 다시 분리\n",
    "X_tr, X_val, y_tr, y_val = train_test_split(X_train, y_train, test_size = 0.1, random_state = 156)\n",
    "\n",
    "#앞에 XGBoost와 동일하게 n_estimators는 400으로 설정\n",
    "lgbm_wrapper = LGBMClassifier(n_estimators = 400, learning_rate = 0.05)\n",
    "\n",
    "#LightGBM도 조기 중단 수행 가능\n",
    "evals = [ (X_tr, y_tr), (X_val, y_val) ]\n",
    "lgbm_wrapper.fit(X_tr, y_tr, early_stopping_rounds = 50, eval_metric = 'logloss', eval_set = evals, verbose = True)\n",
    "preds = lgbm_wrapper.predict(X_test)\n",
    "pred_proba = lgbm_wrapper.predict_proba(X_test)[:, 1]"
   ]
  },
  {
   "cell_type": "code",
   "execution_count": 3,
   "id": "020c2c78-ea88-4d6f-881f-fd2b2b8794e6",
   "metadata": {},
   "outputs": [],
   "source": [
    "from sklearn.metrics import confusion_matrix, accuracy_score, precision_score, recall_score, f1_score, roc_auc_score\n",
    "def get_clf_eval(y_test, pred = None, pred_proba = None):\n",
    "    confusion = confusion_matrix(y_test, pred)\n",
    "    accuracy = accuracy_score(y_test, pred)\n",
    "    precision = precision_score(y_test, pred)\n",
    "    recall = recall_score(y_test, pred)\n",
    "    f1 = f1_score(y_test, pred)\n",
    "    #ROC AUC 스코어 추가\n",
    "    roc_auc = roc_auc_score(y_test, pred_proba)\n",
    "    print('오차 행렬')\n",
    "    print(confusion)\n",
    "    # ROC-AUC print 추가\n",
    "    print(f'정확도: {accuracy:.4f}, 정밀도: {precision:.4f}, 재현율: {recall:.4f}, F1: {f1:.4f}, AUC: {roc_auc:.4f}')"
   ]
  },
  {
   "cell_type": "code",
   "execution_count": 4,
   "id": "60061afc-23dd-4f90-a258-4b4c4cb2eced",
   "metadata": {},
   "outputs": [
    {
     "name": "stdout",
     "output_type": "stream",
     "text": [
      "오차 행렬\n",
      "[[34  3]\n",
      " [ 2 75]]\n",
      "정확도: 0.9561, 정밀도: 0.9615, 재현율: 0.9740, F1: 0.9677, AUC: 0.9877\n"
     ]
    }
   ],
   "source": [
    "get_clf_eval(y_test, preds, pred_proba)"
   ]
  },
  {
   "cell_type": "code",
   "execution_count": 6,
   "id": "3191d451-5d8e-4b48-b8ec-0a95d8743de1",
   "metadata": {},
   "outputs": [
    {
     "data": {
      "text/plain": [
       "<Axes: title={'center': 'Feature importance'}, xlabel='Feature importance', ylabel='Features'>"
      ]
     },
     "execution_count": 6,
     "metadata": {},
     "output_type": "execute_result"
    },
    {
     "data": {
      "image/png": "[encoded data removed]",
      "text/plain": [
       "<Figure size 1000x1200 with 1 Axes>"
      ]
     },
     "metadata": {},
     "output_type": "display_data"
    }
   ],
   "source": [
    "#plot_importance()를 이용하여 feature 중요도 시각화\n",
    "from lightgbm import plot_importance\n",
    "import matplotlib.pyplot as plt\n",
    "%matplotlib inline\n",
    "\n",
    "fig, ax = plt.subplots(figsize = (10,12))\n",
    "plot_importance(lgbm_wrapper, ax = ax)"
   ]
  },
  {
   "cell_type": "markdown",
   "id": "4ddf68b2-bcf4-4fca-b8e5-cebca99d0450",
   "metadata": {},
   "source": [
    "## 베이지안 최적화 기반의 HyperOpt를 활용한 하이퍼 파라미터 튜닝\n",
    "GridSearchCV의 경우 튜닝할 하이퍼 파라미터가 많을 경우 최적화 수행 시간이 오래 걸린다는 단점이 있음  \n",
    "때문에 XGBoost나 LightGBM의 하이퍼 파라미터 튜닝 시에는 GridSearch방식보다 다른 방식을 적용함  \n",
    "대표적으로 베이지안 최적화 기법"
   ]
  },
  {
   "cell_type": "markdown",
   "id": "ebf01d9f-ddb8-42b8-a842-635b8a5e33fd",
   "metadata": {},
   "source": [
    "### 베이지안 최적화\n",
    "베이지안 최적화는 목적 함수 식을 제대로 알 수 없는 블랙박스 형태의 함수에서 최대 또는 최소 함수 반환 값을 만드는 최적 입력값을 가능한 적은 시도를 통해 빠르고 효과적으로 찾아주는 방식  \n",
    "새로운 데이터를 입력받았을 때 최적 함수를 예측하는 사후 모델을 개선해 나가면서 최적 함수 모델을 만든다"
   ]
  },
  {
   "cell_type": "markdown",
   "id": "1e23c586-544b-4cf6-adf9-b1f0f6bbe52b",
   "metadata": {},
   "source": [
    "대체 모델: 획득 함수로부터 최적 함수를 예측할 수 있는 입력값을 추천 받은 뒤 이를 기반으로 최적 함수 모델 개선  \n",
    "획득 함수: 개선된 대체 모델을 기반으로 최적 입력값을 계산  \n",
    "베이지안 최적화를 하이퍼 파라미터 튜닝에 사용할 때 입력값은 하이퍼 파라미터  \n",
    "대체 모델은 획득 함수가 계산한 하이퍼 파라미터를 입력받으면서 점차적으로 개선되며 개선된 대체 모델을 기반으로 획득함수는 더 정확한 하이퍼 파라미터를 계산"
   ]
  },
  {
   "cell_type": "markdown",
   "id": "489dbf3f-5e0b-42c9-b088-18b6e383fe52",
   "metadata": {},
   "source": [
    "## HyperOpt 사용하기\n",
    "HyperOpt 활용하는 주요 로직  \n",
    "1. 입력 변수명과 입력값의 검색 공간 설정\n",
    "2. 목적함수의 설정\n",
    "3. 목적 함수의 반환 최솟값을 가지는 최적 입력값을 유추  \n",
    "다른 패키지와 달리 목적함수 반환값의 최댓값이 아닌 최솟값을 가지는 최적 입력값을 유추"
   ]
  },
  {
   "cell_type": "markdown",
   "id": "7f2169dd-3dda-40ea-8db4-1e8fd1974f4c",
   "metadata": {},
   "source": [
    "입력 변수명과 입력값 검색 공간: 파이썬 딕셔너리 형태로 설정  \n",
    "입력변수명:입력변수의 검색공간"
   ]
  },
  {
   "cell_type": "code",
   "execution_count": 17,
   "id": "c14be3b6-5ba9-43b1-977e-b86e921b737b",
   "metadata": {},
   "outputs": [],
   "source": [
    "from hyperopt import hp\n",
    "# -10 ~ 10까지 1간격을 가지는 입력 변수 x와 -15 ~ 15까지 1간격으로 입력 변수 y 설정\n",
    "search_space = {'x':hp.quniform('x', -10, 10, 1), 'y':hp.quniform('y', -15, 15, 1)}"
   ]
  },
  {
   "cell_type": "markdown",
   "id": "00f06ec7-c8a6-4cc8-9d60-ed5fe55f4808",
   "metadata": {},
   "source": [
    "hp.quniform(label, low, high, q): label로 지정된 입력값 변수 공간을 low에서 high까지 q 간격을 가지고 설정  \n",
    "<br>\n",
    "hp.uniform(label, low, high): low에서 high까지 정규분포 형태의 검색 공간 설정  \n",
    "<br>\n",
    "hp.randint(label, upper): 0에서 upper까지 랜덤 정숫값으로 검색 공간 설정  \n",
    "<br>\n",
    "hp.loguniform(label, low, high): exp(uniform(low, high))값을 반환하며 반환 값의 log 변환된 값은 정규 분포 형태를 가지는 검색 공간 설정  \n",
    "<br>\n",
    "hp.choice(label, opntions): 검색 값이 문자열 또는 문자열과 숫자값이 섞여있을 경우 설정. options는 리스트나 튜플 형태로 제공되며  \n",
    "hp.choice('tree_criterion',['gini','entropy'])와 같이 설정하면 tree_criterion의 값을 gini와 entropy로 설정하여 입력"
   ]
  },
  {
   "cell_type": "markdown",
   "id": "c8b0601e-cd4b-44ae-8aba-1834e2c47d40",
   "metadata": {},
   "source": [
    "목적 함수 생성  \n",
    "변숫값과 검색공간을 가지는 딕셔너리를 인자로 받고, 특정 값을 반환하는 구조"
   ]
  },
  {
   "cell_type": "code",
   "execution_count": 18,
   "id": "6efc2de8-45df-400b-a97d-63cb64bee2d7",
   "metadata": {},
   "outputs": [],
   "source": [
    "from hyperopt import STATUS_OK\n",
    "\n",
    "#목적함수를 생성. 변숫값과 변수 검색 공간을 가지는 딕셔너리를 인자로 받고 특정 값을 반환\n",
    "def objective_func(search_space):\n",
    "    x = search_space['x']\n",
    "    y = search_space['y']\n",
    "    retval = x**2 - 20*y\n",
    "    return retval"
   ]
  },
  {
   "cell_type": "markdown",
   "id": "93436199-f157-4d0b-a0e9-2a2cec32db8b",
   "metadata": {},
   "source": [
    "목적함수의 반환값이 최소가 될 수 있는 최적의 입력값 찾기  \n",
    "fmin(fn, space, algo, max_evals, trials)  \n",
    "fn: objective_func와 같은 목적함수  \n",
    "space: search_space와 같은 검색 공간 딕셔너리  \n",
    "algo: 베이지안 최적화 적용 알고리즘  \n",
    "max_evals: 최적 입력값을 찾기 위한 입력값 시도 횟수  \n",
    "trials: 최적 입력값을 찾기 위해 시도한 입력값 및 해당 입력값의 목적함수 반환값 결과를 저장하는 데 사용  \n",
    "rstate: 랜덤시드값"
   ]
  },
  {
   "cell_type": "code",
   "execution_count": 20,
   "id": "ce8f219b-53d4-4261-859a-ebf31a3dd9cc",
   "metadata": {},
   "outputs": [
    {
     "name": "stdout",
     "output_type": "stream",
     "text": [
      "100%|█████████████████████████████████████████████████████████████| 5/5 [00:00<00:00, 565.42trial/s, best loss: -224.0]\n",
      "best: {'x': -4.0, 'y': 12.0}\n"
     ]
    }
   ],
   "source": [
    "from hyperopt import fmin, tpe, Trials\n",
    "#입력 결괏값을 저장한 Trials 객체값 생성\n",
    "trial_val = Trials()\n",
    "\n",
    "#목적 함수의 최솟값을 반환하는 최적 입력 변숫값을 5번의 입력값 시도(max_evals=5)로 찾아냄\n",
    "best_01 = fmin(fn = objective_func, space = search_space, algo = tpe.suggest, max_evals = 5,\n",
    "               trials = trial_val, rstate = np.random.default_rng(seed = 0))\n",
    "print('best:', best_01)"
   ]
  },
  {
   "cell_type": "code",
   "execution_count": 23,
   "id": "3b1f48d5-577c-4e78-8e3f-de0859aa37b0",
   "metadata": {},
   "outputs": [
    {
     "name": "stdout",
     "output_type": "stream",
     "text": [
      "100%|███████████████████████████████████████████████████████████| 20/20 [00:00<00:00, 608.09trial/s, best loss: -296.0]\n",
      "best: {'x': 2.0, 'y': 15.0}\n"
     ]
    }
   ],
   "source": [
    "#x는 0에, y는 15에 가까울수록 반환값이 최소로 근사\n",
    "trial_val = Trials()\n",
    "#max_eval를 20으로 설정\n",
    "best_02 = fmin(fn = objective_func, space = search_space, algo = tpe.suggest, max_evals = 20,\n",
    "               trials = trial_val, rstate = np.random.default_rng(seed = 0))\n",
    "print('best:', best_02)"
   ]
  },
  {
   "cell_type": "markdown",
   "id": "5205d92a-c1dd-41fa-b68b-d9abf9f19267",
   "metadata": {},
   "source": [
    "fmin()함수 수행 시 인자로 들어가는 Trials객체는 함수의 반복 수행 시마다 입력되는 변숫값들과 함수 반환값을 속성으로 가지고 있음  \n",
    "Trials객체 주요 속성: results, vals  \n",
    "result: 함수의 반복 수행 시마다 반환되는 반환값을 가짐  \n",
    "vals: 함수의 반복 수행 시마다 입력되는 입력 변숫값  \n",
    "\n",
    "result는 리스트 형태이며 리스트 내 개별 원소는 {'loss':함수반환값, 'status':반환상태값'}과 같은 딕셔너리"
   ]
  },
  {
   "cell_type": "code",
   "execution_count": 27,
   "id": "fcd38d10-6c0e-46cb-a570-5e561d7a0338",
   "metadata": {},
   "outputs": [
    {
     "name": "stdout",
     "output_type": "stream",
     "text": [
      "[{'loss': -64.0, 'status': 'ok'}, {'loss': -184.0, 'status': 'ok'}, {'loss': 56.0, 'status': 'ok'}, {'loss': -224.0, 'status': 'ok'}, {'loss': 61.0, 'status': 'ok'}, {'loss': -296.0, 'status': 'ok'}, {'loss': -40.0, 'status': 'ok'}, {'loss': 281.0, 'status': 'ok'}, {'loss': 64.0, 'status': 'ok'}, {'loss': 100.0, 'status': 'ok'}, {'loss': 60.0, 'status': 'ok'}, {'loss': -39.0, 'status': 'ok'}, {'loss': 1.0, 'status': 'ok'}, {'loss': -164.0, 'status': 'ok'}, {'loss': 21.0, 'status': 'ok'}, {'loss': -56.0, 'status': 'ok'}, {'loss': 284.0, 'status': 'ok'}, {'loss': 176.0, 'status': 'ok'}, {'loss': -171.0, 'status': 'ok'}, {'loss': 0.0, 'status': 'ok'}]\n"
     ]
    }
   ],
   "source": [
    "#fmin()에 인자로 들어가는 Trials 객체의 result속성에 파이썬 리스트로 목적 함수 반환값들이 저장됨\n",
    "#리스트 내부의 개별 원소는 {'loss':함수반환값, 'status':반환상태값}와 같은 딕셔너리\n",
    "print(trial_val.results)\n",
    "#20회 반복수행했으므로 20개의 딕셔너리를 개별 원소로 가지는 리스트로 구성"
   ]
  },
  {
   "cell_type": "markdown",
   "id": "5d6958ad-0c46-4c5d-a2c7-389da065bf25",
   "metadata": {},
   "source": [
    "vals속성은 딕셔너리 형태  \n",
    "fmin()함수 수행 시마다 입력되는 입력 변숫값들을 {'입력변수명':개별 수행시마다 입력된 값의 리스트}와 같은 형태로 가지고 있음"
   ]
  },
  {
   "cell_type": "code",
   "execution_count": 29,
   "id": "508b67fc-db2a-49ef-be13-6d01cf6a789f",
   "metadata": {},
   "outputs": [
    {
     "name": "stdout",
     "output_type": "stream",
     "text": [
      "{'x': [-6.0, -4.0, 4.0, -4.0, 9.0, 2.0, 10.0, -9.0, -8.0, -0.0, -0.0, 1.0, 9.0, 6.0, 9.0, 2.0, -2.0, -4.0, 7.0, -0.0], 'y': [5.0, 10.0, -2.0, 12.0, 1.0, 15.0, 7.0, -10.0, 0.0, -5.0, -3.0, 2.0, 4.0, 10.0, 3.0, 3.0, -14.0, -8.0, 11.0, -0.0]}\n"
     ]
    }
   ],
   "source": [
    "# Trials객체의 vals속성에 {'입력변수명':개별수행시마다 입력된 값 리스트} 형태로 저장\n",
    "print(trial_val.vals)\n",
    "# x와 y의 value는 20회 반복 수행마다 사용되는 입력값들을 리스트 형태로 저장"
   ]
  },
  {
   "cell_type": "code",
   "execution_count": 30,
   "id": "89324fdf-c184-4e22-849b-9c4c6a2482a8",
   "metadata": {},
   "outputs": [
    {
     "data": {
      "text/html": [
       "<div>\n",
       "<style scoped>\n",
       "    .dataframe tbody tr th:only-of-type {\n",
       "        vertical-align: middle;\n",
       "    }\n",
       "\n",
       "    .dataframe tbody tr th {\n",
       "        vertical-align: top;\n",
       "    }\n",
       "\n",
       "    .dataframe thead th {\n",
       "        text-align: right;\n",
       "    }\n",
       "</style>\n",
       "<table border=\"1\" class=\"dataframe\">\n",
       "  <thead>\n",
       "    <tr style=\"text-align: right;\">\n",
       "      <th></th>\n",
       "      <th>x</th>\n",
       "      <th>y</th>\n",
       "      <th>losses</th>\n",
       "    </tr>\n",
       "  </thead>\n",
       "  <tbody>\n",
       "    <tr>\n",
       "      <th>0</th>\n",
       "      <td>-6.0</td>\n",
       "      <td>5.0</td>\n",
       "      <td>-64.0</td>\n",
       "    </tr>\n",
       "    <tr>\n",
       "      <th>1</th>\n",
       "      <td>-4.0</td>\n",
       "      <td>10.0</td>\n",
       "      <td>-184.0</td>\n",
       "    </tr>\n",
       "    <tr>\n",
       "      <th>2</th>\n",
       "      <td>4.0</td>\n",
       "      <td>-2.0</td>\n",
       "      <td>56.0</td>\n",
       "    </tr>\n",
       "    <tr>\n",
       "      <th>3</th>\n",
       "      <td>-4.0</td>\n",
       "      <td>12.0</td>\n",
       "      <td>-224.0</td>\n",
       "    </tr>\n",
       "    <tr>\n",
       "      <th>4</th>\n",
       "      <td>9.0</td>\n",
       "      <td>1.0</td>\n",
       "      <td>61.0</td>\n",
       "    </tr>\n",
       "    <tr>\n",
       "      <th>5</th>\n",
       "      <td>2.0</td>\n",
       "      <td>15.0</td>\n",
       "      <td>-296.0</td>\n",
       "    </tr>\n",
       "    <tr>\n",
       "      <th>6</th>\n",
       "      <td>10.0</td>\n",
       "      <td>7.0</td>\n",
       "      <td>-40.0</td>\n",
       "    </tr>\n",
       "    <tr>\n",
       "      <th>7</th>\n",
       "      <td>-9.0</td>\n",
       "      <td>-10.0</td>\n",
       "      <td>281.0</td>\n",
       "    </tr>\n",
       "    <tr>\n",
       "      <th>8</th>\n",
       "      <td>-8.0</td>\n",
       "      <td>0.0</td>\n",
       "      <td>64.0</td>\n",
       "    </tr>\n",
       "    <tr>\n",
       "      <th>9</th>\n",
       "      <td>-0.0</td>\n",
       "      <td>-5.0</td>\n",
       "      <td>100.0</td>\n",
       "    </tr>\n",
       "    <tr>\n",
       "      <th>10</th>\n",
       "      <td>-0.0</td>\n",
       "      <td>-3.0</td>\n",
       "      <td>60.0</td>\n",
       "    </tr>\n",
       "    <tr>\n",
       "      <th>11</th>\n",
       "      <td>1.0</td>\n",
       "      <td>2.0</td>\n",
       "      <td>-39.0</td>\n",
       "    </tr>\n",
       "    <tr>\n",
       "      <th>12</th>\n",
       "      <td>9.0</td>\n",
       "      <td>4.0</td>\n",
       "      <td>1.0</td>\n",
       "    </tr>\n",
       "    <tr>\n",
       "      <th>13</th>\n",
       "      <td>6.0</td>\n",
       "      <td>10.0</td>\n",
       "      <td>-164.0</td>\n",
       "    </tr>\n",
       "    <tr>\n",
       "      <th>14</th>\n",
       "      <td>9.0</td>\n",
       "      <td>3.0</td>\n",
       "      <td>21.0</td>\n",
       "    </tr>\n",
       "    <tr>\n",
       "      <th>15</th>\n",
       "      <td>2.0</td>\n",
       "      <td>3.0</td>\n",
       "      <td>-56.0</td>\n",
       "    </tr>\n",
       "    <tr>\n",
       "      <th>16</th>\n",
       "      <td>-2.0</td>\n",
       "      <td>-14.0</td>\n",
       "      <td>284.0</td>\n",
       "    </tr>\n",
       "    <tr>\n",
       "      <th>17</th>\n",
       "      <td>-4.0</td>\n",
       "      <td>-8.0</td>\n",
       "      <td>176.0</td>\n",
       "    </tr>\n",
       "    <tr>\n",
       "      <th>18</th>\n",
       "      <td>7.0</td>\n",
       "      <td>11.0</td>\n",
       "      <td>-171.0</td>\n",
       "    </tr>\n",
       "    <tr>\n",
       "      <th>19</th>\n",
       "      <td>-0.0</td>\n",
       "      <td>-0.0</td>\n",
       "      <td>0.0</td>\n",
       "    </tr>\n",
       "  </tbody>\n",
       "</table>\n",
       "</div>"
      ],
      "text/plain": [
       "       x     y  losses\n",
       "0   -6.0   5.0   -64.0\n",
       "1   -4.0  10.0  -184.0\n",
       "2    4.0  -2.0    56.0\n",
       "3   -4.0  12.0  -224.0\n",
       "4    9.0   1.0    61.0\n",
       "5    2.0  15.0  -296.0\n",
       "6   10.0   7.0   -40.0\n",
       "7   -9.0 -10.0   281.0\n",
       "8   -8.0   0.0    64.0\n",
       "9   -0.0  -5.0   100.0\n",
       "10  -0.0  -3.0    60.0\n",
       "11   1.0   2.0   -39.0\n",
       "12   9.0   4.0     1.0\n",
       "13   6.0  10.0  -164.0\n",
       "14   9.0   3.0    21.0\n",
       "15   2.0   3.0   -56.0\n",
       "16  -2.0 -14.0   284.0\n",
       "17  -4.0  -8.0   176.0\n",
       "18   7.0  11.0  -171.0\n",
       "19  -0.0  -0.0     0.0"
      ]
     },
     "execution_count": 30,
     "metadata": {},
     "output_type": "execute_result"
    }
   ],
   "source": [
    "#이를 데이터프레임으로 만들어서 확인\n",
    "#입력변수x값은 x칼럼, vals속성의 x 키값을 칼럼값으로\n",
    "#입력변수y값은 y칼럼, vals속성의 y 키값을 칼럼값으로\n",
    "#함수반환값은 loss칼럼, results속성의 loss 키값에 해당하는 밸류를 추출하여 칼럼값으로 생성\n",
    "import pandas as pd\n",
    "# results에서 loss 키 값에 해당하는 밸류들을 추출하여 list로 생성\n",
    "losses = [loss_dict['loss'] for loss_dict in trial_val.results]\n",
    "\n",
    "#DataFrame으로 생성\n",
    "result_df = pd.DataFrame({'x':trial_val.vals['x'],\n",
    "                          'y':trial_val.vals['y'],\n",
    "                          'losses':losses})\n",
    "result_df"
   ]
  },
  {
   "cell_type": "markdown",
   "id": "c70876b9-6e8a-4bda-a84b-918ea41ee3b7",
   "metadata": {},
   "source": [
    "## HyperOpt를 이용한 XGBoost 하이퍼 파리미터 최적화\n",
    "앞 예제와 크게 다르지 않으나 특정 하이퍼 파라미터는 정숫값만 입력을 받는데 HyperOpt는 입력값과 반환값이 모두 실수형이므로 형변환 필요  \n",
    "HyperOpt의 목적 함수는 최솟값을 반환할 수 있도록 최적화해야하기 때문에 성능값이 클수록 좋은 성능 지표일 경우 -1을 곱해줘야 함"
   ]
  },
  {
   "cell_type": "code",
   "execution_count": 31,
   "id": "39a5ce89-912d-4669-adf1-de8e0f264735",
   "metadata": {},
   "outputs": [],
   "source": [
    "#전체 데이터 중 80%는 학습용 데이터, 20%는 테스트용 데이터 추출\n",
    "X_train, X_test, y_train, y_test = train_test_split(X_features, y_label, test_size= 0.2, random_state = 156)\n",
    "\n",
    "#앞에서 추출한 학습 데이터를 다시 학습용, 검증용으로 분리\n",
    "X_tr, X_val, y_tr, y_val = train_test_split(X_train, y_train, test_size= 0.1, random_state = 156)"
   ]
  },
  {
   "cell_type": "code",
   "execution_count": 35,
   "id": "5b46f9e6-dff2-4535-9041-a24ce8508672",
   "metadata": {},
   "outputs": [],
   "source": [
    "from hyperopt import hp\n",
    "\n",
    "#max_depth는 5에서 20까지 1간격, min_child_weight는 1에서 2까지 1간격으로\n",
    "#colsample_bytree는 0.5에서 1사이, learning_rate는 0.01에서 0.2사이 정규분포된 값으로 검색\n",
    "xgb_search_space = {'max_depth':hp.quniform('max_depth',5,20,1),\n",
    "                    'min_child_weight':hp.quniform('min_child_weight',1,2,1),\n",
    "                    'learning_rate':hp.uniform('learning_rate',0.01,0.2),\n",
    "                    'colsample_bytree':hp.uniform('colsample_bytree',0.5,1)}"
   ]
  },
  {
   "cell_type": "markdown",
   "id": "c68c8472-af63-4d12-bfbd-b984346608ce",
   "metadata": {},
   "source": [
    "주의사항  \n",
    "1. 검색 공간에서 목적 함수로 입력되는 모든 인자들은 실수형 값이므로 이를 XGBClassifier 하이퍼 파라미터 값으로 설정할 때는 정수형으로 형변환 해야함\n",
    "2. HyperOpt의 목적 함수는 최솟값을 반환할 수 있도록 최적화해야하기 때문에 정확도와 같이 값이 클수록 좋은 성능 지표일 경우 -1을 곱한 뒤 봔환하여 더 큰 성능 지표가 더 작은 반환값이 되도록 설정"
   ]
  },
  {
   "cell_type": "code",
   "execution_count": 50,
   "id": "c52310db-7b0d-43e3-bdfa-b009e0b7ab12",
   "metadata": {},
   "outputs": [],
   "source": [
    "from sklearn.model_selection import cross_val_score\n",
    "from xgboost import XGBClassifier\n",
    "from hyperopt import STATUS_OK\n",
    "\n",
    "#fmin()에 입력된 search_space값으로 입력된 모든 값은 실수형임\n",
    "#XGBClassifier의 정수형 하이퍼 파라미터는 정수형 변환을 해줘야 함\n",
    "#정확도는 높을수록 더 좋은 수치이므로 -1을 곱해서 큰 정확도 값일수록 최소가 되도록 반환\n",
    "def objective_func(search_space):\n",
    "    #수행 시간 절약을 위해 nestimators는 100으로 축소\n",
    "    xgb_clf = XGBClassifier(n_estimators = 100, max_depth = int(search_space['max_depth']),\n",
    "                            min_child_weight = int(search_space['min_child_weight']),\n",
    "                            learning_rate = search_space['learning_rate'],\n",
    "                            colsample_bytree = search_space['colsample_bytree'],\n",
    "                            eval_metric = 'logloss')\n",
    "    accuracy = cross_val_score(xgb_clf, X_train, y_train, scoring = 'accuracy', cv = 3)\n",
    "\n",
    "    #accuracy는 cv=3 개수만큼 roc-auc결과를 리스트로 가짐. 이를 평균해서 반환하되 -1을 곱함\n",
    "    return { 'loss':-1*np.mean(accuracy), 'status':STATUS_OK }"
   ]
  },
  {
   "cell_type": "code",
   "execution_count": 52,
   "id": "ef15744d-0350-4899-9098-f26a510d6471",
   "metadata": {},
   "outputs": [
    {
     "name": "stdout",
     "output_type": "stream",
     "text": [
      "100%|███████████████████████████████████████████████| 50/50 [00:26<00:00,  1.90trial/s, best loss: -0.9670616939700244]\n",
      "best: {'colsample_bytree': 0.5424149213362504, 'learning_rate': 0.12601372924444681, 'max_depth': 17.0, 'min_child_weight': 2.0}\n"
     ]
    }
   ],
   "source": [
    "#fmin()을 이용해 최적 하이퍼파라미터 도출\n",
    "from hyperopt import fmin, tpe, Trials\n",
    "\n",
    "trial_val = Trials()\n",
    "\n",
    "best = fmin(fn = objective_func,\n",
    "            space = xgb_search_space,\n",
    "            algo = tpe.suggest,\n",
    "            max_evals = 50, #최대 반복 횟수 지정\n",
    "            trials = trial_val, rstate = np.random.default_rng(seed = 9))\n",
    "print('best:', best)\n",
    "\n",
    "#정수형 하이퍼파라미터인 max_depth, min_child_weight가 실수형 값으로 도출되었음에 유의"
   ]
  },
  {
   "cell_type": "code",
   "execution_count": 53,
   "id": "3f232c9a-f555-4185-8a29-64131117a087",
   "metadata": {},
   "outputs": [
    {
     "name": "stdout",
     "output_type": "stream",
     "text": [
      "colsample_bytree:0.54241, learning_rate:0.12601, max_depth:17, min_child_weight:2\n"
     ]
    }
   ],
   "source": [
    "#fmin()으로 추출된 하이퍼 파라미터를 직접 XGBClassifier에 인자로 입력하기 전에 정수형 하이퍼 파라미터는 정수형으로, 실수형 하이퍼 파라미터는 소수점 5자리까지만 변환 수 확인\n",
    "print('colsample_bytree:{0}, learning_rate:{1}, max_depth:{2}, min_child_weight:{3}'.format(round(best['colsample_bytree'], 5), round(best['learning_rate'],5),\n",
    "                                                                                            int(best['max_depth']), int(best['min_child_weight'])))"
   ]
  },
  {
   "cell_type": "code",
   "execution_count": 59,
   "id": "29e0406f-dcba-4e7c-a773-8bbc768f17b4",
   "metadata": {},
   "outputs": [
    {
     "name": "stdout",
     "output_type": "stream",
     "text": [
      "[15:10:42] WARNING: C:\\Users\\dev-admin\\croot2\\xgboost-split_1675461376218\\work\\src\\learner.cc:767: \n",
      "Parameters: { \"colsample_bytee\" } are not used.\n",
      "\n",
      "[0]\tvalidation_0-logloss:0.59003\tvalidation_1-logloss:0.62146\n",
      "[1]\tvalidation_0-logloss:0.50919\tvalidation_1-logloss:0.56750\n",
      "[2]\tvalidation_0-logloss:0.44256\tvalidation_1-logloss:0.51487\n",
      "[3]\tvalidation_0-logloss:0.38849\tvalidation_1-logloss:0.48449\n",
      "[4]\tvalidation_0-logloss:0.34293\tvalidation_1-logloss:0.44620\n",
      "[5]\tvalidation_0-logloss:0.30368\tvalidation_1-logloss:0.41606\n",
      "[6]\tvalidation_0-logloss:0.27108\tvalidation_1-logloss:0.38899\n",
      "[7]\tvalidation_0-logloss:0.24259\tvalidation_1-logloss:0.36614\n",
      "[8]\tvalidation_0-logloss:0.21930\tvalidation_1-logloss:0.35055\n",
      "[9]\tvalidation_0-logloss:0.19740\tvalidation_1-logloss:0.33662\n",
      "[10]\tvalidation_0-logloss:0.17946\tvalidation_1-logloss:0.32383\n",
      "[11]\tvalidation_0-logloss:0.16281\tvalidation_1-logloss:0.31202\n",
      "[12]\tvalidation_0-logloss:0.14843\tvalidation_1-logloss:0.30130\n",
      "[13]\tvalidation_0-logloss:0.13625\tvalidation_1-logloss:0.29519\n",
      "[14]\tvalidation_0-logloss:0.12533\tvalidation_1-logloss:0.28977\n",
      "[15]\tvalidation_0-logloss:0.11636\tvalidation_1-logloss:0.28392\n",
      "[16]\tvalidation_0-logloss:0.10731\tvalidation_1-logloss:0.27999\n",
      "[17]\tvalidation_0-logloss:0.09977\tvalidation_1-logloss:0.27967\n",
      "[18]\tvalidation_0-logloss:0.09276\tvalidation_1-logloss:0.27806\n",
      "[19]\tvalidation_0-logloss:0.08710\tvalidation_1-logloss:0.27960\n",
      "[20]\tvalidation_0-logloss:0.08017\tvalidation_1-logloss:0.27595\n",
      "[21]\tvalidation_0-logloss:0.07419\tvalidation_1-logloss:0.27351\n",
      "[22]\tvalidation_0-logloss:0.07017\tvalidation_1-logloss:0.27328\n",
      "[23]\tvalidation_0-logloss:0.06648\tvalidation_1-logloss:0.27123\n",
      "[24]\tvalidation_0-logloss:0.06315\tvalidation_1-logloss:0.27082\n",
      "[25]\tvalidation_0-logloss:0.05919\tvalidation_1-logloss:0.27157\n",
      "[26]\tvalidation_0-logloss:0.05579\tvalidation_1-logloss:0.26783\n",
      "[27]\tvalidation_0-logloss:0.05267\tvalidation_1-logloss:0.26955\n",
      "[28]\tvalidation_0-logloss:0.05027\tvalidation_1-logloss:0.26811\n",
      "[29]\tvalidation_0-logloss:0.04828\tvalidation_1-logloss:0.26861\n",
      "[30]\tvalidation_0-logloss:0.04550\tvalidation_1-logloss:0.26834\n",
      "[31]\tvalidation_0-logloss:0.04341\tvalidation_1-logloss:0.27172\n",
      "[32]\tvalidation_0-logloss:0.04136\tvalidation_1-logloss:0.26913\n",
      "[33]\tvalidation_0-logloss:0.03975\tvalidation_1-logloss:0.26991\n",
      "[34]\tvalidation_0-logloss:0.03785\tvalidation_1-logloss:0.27081\n",
      "[35]\tvalidation_0-logloss:0.03651\tvalidation_1-logloss:0.27059\n",
      "[36]\tvalidation_0-logloss:0.03538\tvalidation_1-logloss:0.27489\n",
      "[37]\tvalidation_0-logloss:0.03402\tvalidation_1-logloss:0.27810\n",
      "[38]\tvalidation_0-logloss:0.03282\tvalidation_1-logloss:0.27879\n",
      "[39]\tvalidation_0-logloss:0.03177\tvalidation_1-logloss:0.27778\n",
      "[40]\tvalidation_0-logloss:0.03052\tvalidation_1-logloss:0.27924\n",
      "[41]\tvalidation_0-logloss:0.02961\tvalidation_1-logloss:0.27864\n",
      "[42]\tvalidation_0-logloss:0.02876\tvalidation_1-logloss:0.27946\n",
      "[43]\tvalidation_0-logloss:0.02784\tvalidation_1-logloss:0.28277\n",
      "[44]\tvalidation_0-logloss:0.02725\tvalidation_1-logloss:0.27835\n",
      "[45]\tvalidation_0-logloss:0.02658\tvalidation_1-logloss:0.27908\n",
      "[46]\tvalidation_0-logloss:0.02607\tvalidation_1-logloss:0.27600\n",
      "[47]\tvalidation_0-logloss:0.02561\tvalidation_1-logloss:0.27802\n",
      "[48]\tvalidation_0-logloss:0.02511\tvalidation_1-logloss:0.27861\n",
      "[49]\tvalidation_0-logloss:0.02469\tvalidation_1-logloss:0.27698\n",
      "[50]\tvalidation_0-logloss:0.02431\tvalidation_1-logloss:0.27543\n",
      "[51]\tvalidation_0-logloss:0.02387\tvalidation_1-logloss:0.27653\n",
      "[52]\tvalidation_0-logloss:0.02352\tvalidation_1-logloss:0.27489\n",
      "[53]\tvalidation_0-logloss:0.02302\tvalidation_1-logloss:0.27179\n",
      "[54]\tvalidation_0-logloss:0.02266\tvalidation_1-logloss:0.27030\n",
      "[55]\tvalidation_0-logloss:0.02229\tvalidation_1-logloss:0.27090\n",
      "[56]\tvalidation_0-logloss:0.02191\tvalidation_1-logloss:0.27155\n",
      "[57]\tvalidation_0-logloss:0.02174\tvalidation_1-logloss:0.27341\n",
      "[58]\tvalidation_0-logloss:0.02159\tvalidation_1-logloss:0.27212\n",
      "[59]\tvalidation_0-logloss:0.02145\tvalidation_1-logloss:0.27218\n"
     ]
    },
    {
     "name": "stderr",
     "output_type": "stream",
     "text": [
      "C:\\Users\\motor\\anaconda3\\Lib\\site-packages\\xgboost\\sklearn.py:835: UserWarning: `eval_metric` in `fit` method is deprecated for better compatibility with scikit-learn, use `eval_metric` in constructor or`set_params` instead.\n",
      "  warnings.warn(\n",
      "C:\\Users\\motor\\anaconda3\\Lib\\site-packages\\xgboost\\sklearn.py:835: UserWarning: `early_stopping_rounds` in `fit` method is deprecated for better compatibility with scikit-learn, use `early_stopping_rounds` in constructor or`set_params` instead.\n",
      "  warnings.warn(\n"
     ]
    },
    {
     "name": "stdout",
     "output_type": "stream",
     "text": [
      "[60]\tvalidation_0-logloss:0.02130\tvalidation_1-logloss:0.27399\n",
      "[61]\tvalidation_0-logloss:0.02102\tvalidation_1-logloss:0.27467\n",
      "[62]\tvalidation_0-logloss:0.02088\tvalidation_1-logloss:0.27430\n",
      "[63]\tvalidation_0-logloss:0.02075\tvalidation_1-logloss:0.27308\n",
      "[64]\tvalidation_0-logloss:0.02061\tvalidation_1-logloss:0.27491\n",
      "[65]\tvalidation_0-logloss:0.02049\tvalidation_1-logloss:0.27378\n",
      "[66]\tvalidation_0-logloss:0.02036\tvalidation_1-logloss:0.27551\n",
      "[67]\tvalidation_0-logloss:0.02024\tvalidation_1-logloss:0.27517\n",
      "[68]\tvalidation_0-logloss:0.01989\tvalidation_1-logloss:0.27222\n",
      "[69]\tvalidation_0-logloss:0.01978\tvalidation_1-logloss:0.27226\n",
      "[70]\tvalidation_0-logloss:0.01966\tvalidation_1-logloss:0.27396\n",
      "[71]\tvalidation_0-logloss:0.01955\tvalidation_1-logloss:0.27283\n",
      "[72]\tvalidation_0-logloss:0.01945\tvalidation_1-logloss:0.27444\n",
      "[73]\tvalidation_0-logloss:0.01934\tvalidation_1-logloss:0.27448\n",
      "[74]\tvalidation_0-logloss:0.01924\tvalidation_1-logloss:0.27344\n",
      "[75]\tvalidation_0-logloss:0.01914\tvalidation_1-logloss:0.27344\n",
      "오차 행렬\n",
      "[[34  3]\n",
      " [ 3 74]]\n",
      "정확도: 0.9474, 정밀도: 0.9610, 재현율: 0.9610, F1: 0.9610, AUC: 0.9898\n"
     ]
    }
   ],
   "source": [
    "#도출된 최적 하이퍼 파라미터를 이용해 재학습 한 후 성능 평가 결과 확인\n",
    "#XGBoost의 조기중단을 검증 데이터 세트로 활용, n_estimators는 400으로 증가\n",
    "xgb_wrapper = XGBClassifier(n_estimators = 400,\n",
    "                            learning_rate = round(best['learning_rate'], 5),\n",
    "                            max_depth = int(best['max_depth']),\n",
    "                            min_child_weight = int(best['min_child_weight']),\n",
    "                            colsample_bytee = round(best['colsample_bytree'], 5))\n",
    "evals = [ (X_tr, y_tr), (X_val, y_val) ]\n",
    "xgb_wrapper.fit(X_tr, y_tr, early_stopping_rounds = 50, eval_metric = 'logloss',\n",
    "                eval_set = evals, verbose = True)\n",
    "\n",
    "preds = xgb_wrapper.predict(X_test)\n",
    "pred_proba = xgb_wrapper.predict_proba(X_test)[:, 1]\n",
    "\n",
    "get_clf_eval(y_test, preds, pred_proba)"
   ]
  },
  {
   "cell_type": "code",
   "execution_count": null,
   "id": "87266c83-ae24-4fb9-a5d2-7bc665f9c077",
   "metadata": {},
   "outputs": [],
   "source": []
  }
 ],
 "metadata": {
  "kernelspec": {
   "display_name": "Python 3 (ipykernel)",
   "language": "python",
   "name": "python3"
  },
  "language_info": {
   "codemirror_mode": {
    "name": "ipython",
    "version": 3
   },
   "file_extension": ".py",
   "mimetype": "text/x-python",
   "name": "python",
   "nbconvert_exporter": "python",
   "pygments_lexer": "ipython3",
   "version": "3.11.7"
  }
 },
 "nbformat": 4,
 "nbformat_minor": 5
}
