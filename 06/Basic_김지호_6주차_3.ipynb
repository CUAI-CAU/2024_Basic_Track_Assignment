{
 "cells": [
  {
   "cell_type": "markdown",
   "id": "66ca0a1f-b30b-4967-97ad-2590577c2ff1",
   "metadata": {},
   "source": [
    "# 다항 회귀와 과대적합/과소적합"
   ]
  },
  {
   "cell_type": "markdown",
   "id": "31043f7f-c1a4-4527-b6a2-efea8cfe4aa4",
   "metadata": {},
   "source": [
    "사이킷런은 다항 회귀를 위한 클래스를 명시적으로 제공하지 않음  \n",
    "대신 비선형 함수를 선형 모델에 적용시키는 방법을 사용해 구현  \n",
    "PolynomialFeatures 클래스를 통해 피처를 Polynomial(다항식)피처로 변환  \n",
    "PolynomialFeatures클래스는 degree 파라미터를 통해 입력받은 단항식 피처를 degree에 해당하는 다항식 피처로 변환"
   ]
  },
  {
   "cell_type": "code",
   "execution_count": 2,
   "id": "5568b1c8-cfc7-4a05-b93c-0a016ba84c3e",
   "metadata": {},
   "outputs": [
    {
     "name": "stdout",
     "output_type": "stream",
     "text": [
      "일차 단항식 계수 피처: \n",
      " [[0 1]\n",
      " [2 3]]\n",
      "변환된 2차 다항식 계수 피처:\n",
      " [[1. 0. 1. 0. 0. 1.]\n",
      " [1. 2. 3. 4. 6. 9.]]\n"
     ]
    }
   ],
   "source": [
    "from sklearn.preprocessing import PolynomialFeatures\n",
    "import numpy as np\n",
    "\n",
    "#다항식으로 변환한 단항식 생성, [[0,1], [2,3]]의 2X2 행렬 생성\n",
    "X = np.arange(4).reshape(2,2)\n",
    "print('일차 단항식 계수 피처: \\n', X)\n",
    "\n",
    "#degree = 2인 2차 다항식으로 변환하기 위해 PolynomialFeatures를 이용해 변환\n",
    "poly = PolynomialFeatures(degree = 2)\n",
    "poly.fit(X)\n",
    "poly_ftr = poly.transform(X)\n",
    "print('변환된 2차 다항식 계수 피처:\\n', poly_ftr)"
   ]
  },
  {
   "cell_type": "code",
   "execution_count": 3,
   "id": "5af18f6e-21ef-434f-b9cb-fe6605a0d15c",
   "metadata": {},
   "outputs": [
    {
     "name": "stdout",
     "output_type": "stream",
     "text": [
      "일차 단항식 계수 feature: \n",
      " [[0 1]\n",
      " [2 3]]\n",
      "삼차 단항식 결정값: \n",
      " [  5 125]\n"
     ]
    }
   ],
   "source": [
    "#3차 다항 회귀 함수를 임의로 설정하고 이의 회귀 계수 예측\n",
    "#y = 1 + 2x1 + 3x1^2 + 4x2^2로 설정하고 이를 위한 함수 polynomial_func()를 만듦\n",
    "def polynomial_func(X):\n",
    "    y = 1 + 2*X[:,0] + 3*X[:,0]**2 + 4*X[:,1]**3\n",
    "    return y\n",
    "X = np.arange(4).reshape(2,2)\n",
    "print('일차 단항식 계수 feature: \\n', X)\n",
    "y = polynomial_func(X)\n",
    "print('삼차 단항식 결정값: \\n', y)"
   ]
  },
  {
   "cell_type": "code",
   "execution_count": 4,
   "id": "5b615ac7-d9d3-4d7c-ab91-62624251e8c5",
   "metadata": {},
   "outputs": [
    {
     "name": "stdout",
     "output_type": "stream",
     "text": [
      "3차 다항식 계수 feature: \n",
      " [[ 1.  0.  1.  0.  0.  1.  0.  0.  0.  1.]\n",
      " [ 1.  2.  3.  4.  6.  9.  8. 12. 18. 27.]]\n",
      "Polynomial 회귀 계수\n",
      " [0.   0.18 0.18 0.36 0.54 0.72 0.72 1.08 1.62 2.34]\n",
      "Polynomial 회귀 Shape: (10,)\n"
     ]
    }
   ],
   "source": [
    "from sklearn.linear_model import LinearRegression\n",
    "#3차 다항식 변환\n",
    "poly_ftr = PolynomialFeatures(degree = 3).fit_transform(X)\n",
    "print('3차 다항식 계수 feature: \\n', poly_ftr)\n",
    "\n",
    "#Linear Regression에 3차 다항식 계수 feature와 3차 다항식 결정값으로 학습 후 회귀 계수 확인\n",
    "model = LinearRegression()\n",
    "model.fit(poly_ftr, y)\n",
    "print('Polynomial 회귀 계수\\n', np.round(model.coef_, 2))\n",
    "print('Polynomial 회귀 Shape:', model.coef_.shape)"
   ]
  },
  {
   "cell_type": "code",
   "execution_count": 5,
   "id": "6692d572-7e22-44c4-8e80-ce043c99d9a9",
   "metadata": {},
   "outputs": [
    {
     "name": "stdout",
     "output_type": "stream",
     "text": [
      "Polynomial 회귀 계수\n",
      " [0.   0.18 0.18 0.36 0.54 0.72 0.72 1.08 1.62 2.34]\n"
     ]
    }
   ],
   "source": [
    "#사이킷런의 Pipeline객체를 이용해 한 번에 다항회구 구현하는 것이 더 명료\n",
    "from sklearn.preprocessing import PolynomialFeatures\n",
    "from sklearn.linear_model import LinearRegression\n",
    "from sklearn.pipeline import Pipeline\n",
    "import numpy as np\n",
    "\n",
    "def polynomial_func(X):\n",
    "    y = 1 + 2*X[:,0] + 3*X[:,0]**2 + 4*X[:,1]**3\n",
    "    return y\n",
    "#Pipeline객체로 Streamline하게 Polynomial Feature 변환과 Linear Regression 연결\n",
    "model = Pipeline([('poly', PolynomialFeatures(degree = 3)),\n",
    "                  ('linear', LinearRegression())])\n",
    "X = np.arange(4).reshape(2,2)\n",
    "y = polynomial_func(X)\n",
    "\n",
    "model = model.fit(X,y)\n",
    "\n",
    "print('Polynomial 회귀 계수\\n', np.round(model.named_steps['linear'].coef_, 2))"
   ]
  },
  {
   "cell_type": "markdown",
   "id": "2330a8b0-380d-4629-adf2-ec402acef634",
   "metadata": {},
   "source": [
    "### 다항 회귀를 이용한 과소적합 및 과적합 이해\n",
    "다항 회귀의 차수(degree)를 높일 수록 과적합 문제가 크게 발생"
   ]
  },
  {
   "cell_type": "code",
   "execution_count": 6,
   "id": "a3732719-4d69-469a-9373-f741c0d2fe54",
   "metadata": {},
   "outputs": [],
   "source": [
    "import numpy as np\n",
    "import matplotlib.pyplot as plt\n",
    "from sklearn.pipeline import Pipeline\n",
    "from sklearn.preprocessing import PolynomialFeatures\n",
    "from sklearn.linear_model import LinearRegression\n",
    "from sklearn.model_selection import cross_val_score\n",
    "\n",
    "#임의의 값으로 구성된 X값에 대해 코사인 변환 값을 반환\n",
    "def true_fun(X):\n",
    "    return np.cos(1.5 * np.pi * X)\n",
    "#X는 0부터 1까지 30개의 임의의 값을 순서대로 샘플링한 데이터\n",
    "np.random.seed(0)\n",
    "n_samples = 30\n",
    "X = np.sort(np.random.rand(n_samples))\n",
    "\n",
    "#y값은 코사인 기반의 true_fun()에서 약간의 노이즈 변동 값을 더한 값\n",
    "y = true_fun(X) + np.random.randn(n_samples) * 0.1"
   ]
  },
  {
   "cell_type": "code",
   "execution_count": 12,
   "id": "37c051af-b777-4487-9d12-20be57131bc0",
   "metadata": {},
   "outputs": [
    {
     "name": "stdout",
     "output_type": "stream",
     "text": [
      "\n",
      "Degree 1 회귀 계수는 [-1.61] 입니다.\n",
      "Degree 1 MSE는 0.40772896250986845 입니다.\n",
      "\n",
      "Degree 4 회귀 계수는 [  0.47 -17.79  23.59  -7.26] 입니다.\n",
      "Degree 4 MSE는 0.0432087498723184 입니다.\n",
      "\n",
      "Degree 15 회귀 계수는 [-2.98294000e+03  1.03899850e+05 -1.87416981e+06  2.03717199e+07\n",
      " -1.44874017e+08  7.09319141e+08 -2.47067173e+09  6.24564702e+09\n",
      " -1.15677216e+10  1.56895933e+10 -1.54007040e+10  1.06457993e+10\n",
      " -4.91381016e+09  1.35920643e+09 -1.70382078e+08] 입니다.\n",
      "Degree 15 MSE는 182581084.8263125 입니다.\n"
     ]
    },
    {
     "data": {
      "image/png": "[encoded data removed]",
      "text/plain": [
       "<Figure size 1400x500 with 3 Axes>"
      ]
     },
     "metadata": {},
     "output_type": "display_data"
    }
   ],
   "source": [
    "#예측 결과를 비교할 다항식 차수를 1,4,15로 변경하며 결과 비교\n",
    "plt.figure(figsize = (14,5))\n",
    "degrees = [1,4,15]\n",
    "#다항 회귀의 차수(degree)를 1,4,15로 각각 변화시키면서 비교\n",
    "for i in range(len(degrees)):\n",
    "    ax = plt.subplot(1, len(degrees), i+1)\n",
    "    plt.setp(ax, xticks = (), yticks = ())\n",
    "\n",
    "    #개별 degree별로 Polynomial 변환\n",
    "    polynomial_features = PolynomialFeatures(degree = degrees[i], include_bias = False)\n",
    "    linear_regression = LinearRegression()\n",
    "    pipeline = Pipeline([('polynomial_feature', polynomial_features), ('linear_regression', linear_regression)])\n",
    "    pipeline.fit(X.reshape(-1,1), y)\n",
    "\n",
    "    #교차검증으로 다항회귀 평가\n",
    "    scores = cross_val_score(pipeline, X.reshape(-1,1), y, scoring = 'neg_mean_squared_error', cv = 10)\n",
    "    #Pipeline을 구성하는 세부 객체를 접근한ㄴ named_steps['객체명']을 이용해 회귀계수 추출\n",
    "    coefficients = pipeline.named_steps['linear_regression'].coef_\n",
    "    print('\\nDegree {0} 회귀 계수는 {1} 입니다.'.format(degrees[i], np.round(coefficients, 2)))\n",
    "    print('Degree {0} MSE는 {1} 입니다.'.format(degrees[i], -1 * np.mean(scores)))\n",
    "\n",
    "    #0부터 1까지 테스트 데이터 세트를 100개로 나눠 예측을 수행합니다\n",
    "    X_test = np.linspace(0,1,100)\n",
    "    #예측값 곡선\n",
    "    plt.plot(X_test, pipeline.predict(X_test[:, np.newaxis]), label = 'Model')\n",
    "    #실제 값 곡선\n",
    "    plt.plot(X_test, true_fun(X_test), '--', label = 'True function')\n",
    "    plt.scatter(X, y, edgecolor = 'b', s = 20, label = 'Samples')\n",
    "\n",
    "    plt.xlabel('x'); plt.ylabel('y'); plt.xlim((0,1)); plt.ylim((-2,2)); plt.legend(loc = 'best')\n",
    "    plt.title('Degree {}\\nMSE = {:.2e}(+/-{:.2e})'.format(degrees[i], -scores.mean(), scores.std()))\n",
    "plt.show()"
   ]
  },
  {
   "cell_type": "markdown",
   "id": "0c1fd28e-626c-4ee3-9bb1-b48ffc707afd",
   "metadata": {},
   "source": [
    "### 편향 분산 트레이드 오프\n",
    "일반적으로 편향과 분산은 한쪽이 높으면 한쪽이 낮아지는 경향이 있음  \n",
    "편향이 높으면 분산은 낮아지고(과소적합)  \n",
    "편향이 낮으면 분산은 높아짐(과적합)"
   ]
  },
  {
   "cell_type": "markdown",
   "id": "2e55c6bf-65a0-487c-b1f4-934ee9e7ce5c",
   "metadata": {},
   "source": [
    "## 규제 선형 모델 = 릿지, 라쏘, 엘라스틱넷\n",
    "규제: 비용함수에 alpha값으로 페널티를 부여해 회귀 계수 값의 크기를 감소시켜 과적합을 개선하는 방식  \n",
    "L2규제: W의 제곱에 페널티를 부여하는 방식, 릿지 회귀  \n",
    "L1규제: w의 절댓값에 페널티를 부여하는 방식, 라쏘 회귀, 영향력이 크지 않은 회귀 계수 값을 0으로 변환"
   ]
  },
  {
   "cell_type": "markdown",
   "id": "242cb320-0e6a-48e3-8735-58be286a3859",
   "metadata": {},
   "source": [
    "### 릿지 회귀\n",
    "주요 생성 파라미터: alpha - 릿지 회귀의 alpha L2 규제 계수"
   ]
  },
  {
   "cell_type": "code",
   "execution_count": 16,
   "id": "67b132f2-ac62-471c-aaea-b994b5e3bfef",
   "metadata": {},
   "outputs": [],
   "source": [
    "import pandas as pd\n",
    "data_url = \"http://lib.stat.cmu.edu/datasets/boston\"\n",
    "raw_df = pd.read_csv(data_url, sep=\"\\s+\", skiprows=22, header=None)\n",
    "data = np.hstack([raw_df.values[::2, :], raw_df.values[1::2, :2]])\n",
    "target = raw_df.values[1::2, 2]\n",
    "\n",
    "columns = ['CRIM', 'ZN', 'INDUS', 'CHAS', 'NOX', 'RM', 'AGE', 'DIS', 'RAD', 'TAX', 'PTRATIO', 'B', 'LSTAT']\n",
    "bostonDF = pd.DataFrame(data, columns = columns)\n",
    "bostonDF['PRICE'] = target\n",
    "\n",
    "y_target = bostonDF['PRICE']\n",
    "X_data = bostonDF.drop(['PRICE'], axis = 1, inplace = False)"
   ]
  },
  {
   "cell_type": "code",
   "execution_count": 18,
   "id": "1d4c938b-9c03-40dc-ae22-f73fed22f599",
   "metadata": {},
   "outputs": [
    {
     "name": "stdout",
     "output_type": "stream",
     "text": [
      "5 folds의 개별 Negative MSE scores: [-11.422 -24.294 -28.144 -74.599 -28.517]\n",
      "5 folds의 개별 RMSE scores: [3.38  4.929 5.305 8.637 5.34 ]\n",
      "5 folds의 평균 RMSE: 5.518\n"
     ]
    }
   ],
   "source": [
    "from sklearn.linear_model import Ridge\n",
    "from sklearn.model_selection import cross_val_score\n",
    "\n",
    "# alpha = 10으로 설정해 릿지 회귀 수행\n",
    "ridge = Ridge(alpha = 10)\n",
    "neg_mse_scores = cross_val_score(ridge, X_data, y_target, scoring = 'neg_mean_squared_error', cv = 5)\n",
    "rmse_scores = np.sqrt(-1 * neg_mse_scores)\n",
    "avg_rmse = np.mean(rmse_scores)\n",
    "\n",
    "print('5 folds의 개별 Negative MSE scores:', np.round(neg_mse_scores, 3))\n",
    "print('5 folds의 개별 RMSE scores:', np.round(rmse_scores, 3))\n",
    "print('5 folds의 평균 RMSE: {0:.3f}'.format(avg_rmse))"
   ]
  },
  {
   "cell_type": "code",
   "execution_count": 19,
   "id": "f2a55ff5-ca6c-4125-8ba4-1175b958076c",
   "metadata": {},
   "outputs": [
    {
     "name": "stdout",
     "output_type": "stream",
     "text": [
      "alpha 0 일 대 5 folds의 평균 RMSE: 5.829\n",
      "alpha 0.1 일 대 5 folds의 평균 RMSE: 5.788\n",
      "alpha 1 일 대 5 folds의 평균 RMSE: 5.653\n",
      "alpha 10 일 대 5 folds의 평균 RMSE: 5.518\n",
      "alpha 100 일 대 5 folds의 평균 RMSE: 5.330\n"
     ]
    }
   ],
   "source": [
    "alphas = [0, 0.1, 1, 10, 100]\n",
    "\n",
    "#alphas list 값을 반복하면서 alpha에 따른 평균 rmse를 구함\n",
    "for alpha in alphas:\n",
    "    ridge = Ridge(alpha = alpha)\n",
    "\n",
    "    #cross_val_score를 이용해 5 폴드의 평균 RMSE를 계산\n",
    "    neg_mse_scores = cross_val_score(ridge, X_data, y_target, scoring = 'neg_mean_squared_error', cv = 5)\n",
    "    avg_rmse = np.mean(np.sqrt(-1 * neg_mse_scores))\n",
    "    print('alpha {0} 일 대 5 folds의 평균 RMSE: {1:.3f}'.format(alpha, avg_rmse))"
   ]
  },
  {
   "cell_type": "code",
   "execution_count": 26,
   "id": "adc47c75-9f83-465e-b924-44096471d618",
   "metadata": {},
   "outputs": [
    {
     "data": {
      "image/png": "[encoded data removed]",
      "text/plain": [
       "<Figure size 1800x600 with 5 Axes>"
      ]
     },
     "metadata": {},
     "output_type": "display_data"
    }
   ],
   "source": [
    "import seaborn as sns\n",
    "#각 alpha에 따른 회귀 계수 값을 시각화하기 위해 5개의 열로 된 맷플롯립 축 생성\n",
    "fig, axs = plt.subplots(figsize = (18,6), nrows = 1, ncols = 5)\n",
    "#각 alpha에 따른 회귀 계수 값을 데이터로 저장하기 위한 DataFrame 생성\n",
    "coeff_df = pd.DataFrame()\n",
    "\n",
    "#alphas 리스트 값을 차례로 입력해 회귀 계수 값 시각화 및 데이터 저장. pos는 axis의 위치 지정\n",
    "for pos, alpha in enumerate(alphas):\n",
    "    ridge = Ridge(alpha = alpha)\n",
    "    ridge.fit(X_data, y_target)\n",
    "    #alpha에 따른 피처별로 회귀 계수를 Series로 변환하고 이를 DataFrame의 칼럼으로 추가\n",
    "    coeff = pd.Series(data = ridge.coef_, index = X_data.columns)\n",
    "    colname = 'alpha:' + str(alpha)\n",
    "    coeff_df[colname] = coeff\n",
    "    #막대 그래프로 각 alpha 값에서의 회귀 계수를 시각화, 회귀 계수 값이 높은 순으로 표현\n",
    "    coeff = coeff.sort_values(ascending = False)\n",
    "    axs[pos].set_title(colname)\n",
    "    axs[pos].set_xlim(-3, 6)\n",
    "    sns.barplot(x = coeff.values, y = coeff.index, ax = axs[pos])\n",
    "\n",
    "plt.show()"
   ]
  },
  {
   "cell_type": "code",
   "execution_count": 28,
   "id": "5eeb60eb-8953-46ea-b3a9-f6e4c72b210c",
   "metadata": {},
   "outputs": [
    {
     "data": {
      "text/html": [
       "<div>\n",
       "<style scoped>\n",
       "    .dataframe tbody tr th:only-of-type {\n",
       "        vertical-align: middle;\n",
       "    }\n",
       "\n",
       "    .dataframe tbody tr th {\n",
       "        vertical-align: top;\n",
       "    }\n",
       "\n",
       "    .dataframe thead th {\n",
       "        text-align: right;\n",
       "    }\n",
       "</style>\n",
       "<table border=\"1\" class=\"dataframe\">\n",
       "  <thead>\n",
       "    <tr style=\"text-align: right;\">\n",
       "      <th></th>\n",
       "      <th>alpha:0</th>\n",
       "      <th>alpha:0.1</th>\n",
       "      <th>alpha:1</th>\n",
       "      <th>alpha:10</th>\n",
       "      <th>alpha:100</th>\n",
       "    </tr>\n",
       "  </thead>\n",
       "  <tbody>\n",
       "    <tr>\n",
       "      <th>RM</th>\n",
       "      <td>3.809865</td>\n",
       "      <td>3.818233</td>\n",
       "      <td>3.854000</td>\n",
       "      <td>3.702272</td>\n",
       "      <td>2.334536</td>\n",
       "    </tr>\n",
       "    <tr>\n",
       "      <th>CHAS</th>\n",
       "      <td>2.686734</td>\n",
       "      <td>2.670019</td>\n",
       "      <td>2.552393</td>\n",
       "      <td>1.952021</td>\n",
       "      <td>0.638335</td>\n",
       "    </tr>\n",
       "    <tr>\n",
       "      <th>RAD</th>\n",
       "      <td>0.306049</td>\n",
       "      <td>0.303515</td>\n",
       "      <td>0.290142</td>\n",
       "      <td>0.279596</td>\n",
       "      <td>0.315358</td>\n",
       "    </tr>\n",
       "    <tr>\n",
       "      <th>ZN</th>\n",
       "      <td>0.046420</td>\n",
       "      <td>0.046572</td>\n",
       "      <td>0.047443</td>\n",
       "      <td>0.049579</td>\n",
       "      <td>0.054496</td>\n",
       "    </tr>\n",
       "    <tr>\n",
       "      <th>INDUS</th>\n",
       "      <td>0.020559</td>\n",
       "      <td>0.015999</td>\n",
       "      <td>-0.008805</td>\n",
       "      <td>-0.042962</td>\n",
       "      <td>-0.052826</td>\n",
       "    </tr>\n",
       "    <tr>\n",
       "      <th>B</th>\n",
       "      <td>0.009312</td>\n",
       "      <td>0.009368</td>\n",
       "      <td>0.009673</td>\n",
       "      <td>0.010037</td>\n",
       "      <td>0.009393</td>\n",
       "    </tr>\n",
       "    <tr>\n",
       "      <th>AGE</th>\n",
       "      <td>0.000692</td>\n",
       "      <td>-0.000269</td>\n",
       "      <td>-0.005415</td>\n",
       "      <td>-0.010707</td>\n",
       "      <td>0.001212</td>\n",
       "    </tr>\n",
       "    <tr>\n",
       "      <th>TAX</th>\n",
       "      <td>-0.012335</td>\n",
       "      <td>-0.012421</td>\n",
       "      <td>-0.012912</td>\n",
       "      <td>-0.013993</td>\n",
       "      <td>-0.015856</td>\n",
       "    </tr>\n",
       "    <tr>\n",
       "      <th>CRIM</th>\n",
       "      <td>-0.108011</td>\n",
       "      <td>-0.107474</td>\n",
       "      <td>-0.104595</td>\n",
       "      <td>-0.101435</td>\n",
       "      <td>-0.102202</td>\n",
       "    </tr>\n",
       "    <tr>\n",
       "      <th>LSTAT</th>\n",
       "      <td>-0.524758</td>\n",
       "      <td>-0.525966</td>\n",
       "      <td>-0.533343</td>\n",
       "      <td>-0.559366</td>\n",
       "      <td>-0.660764</td>\n",
       "    </tr>\n",
       "    <tr>\n",
       "      <th>PTRATIO</th>\n",
       "      <td>-0.952747</td>\n",
       "      <td>-0.940759</td>\n",
       "      <td>-0.876074</td>\n",
       "      <td>-0.797945</td>\n",
       "      <td>-0.829218</td>\n",
       "    </tr>\n",
       "    <tr>\n",
       "      <th>DIS</th>\n",
       "      <td>-1.475567</td>\n",
       "      <td>-1.459626</td>\n",
       "      <td>-1.372654</td>\n",
       "      <td>-1.248808</td>\n",
       "      <td>-1.153390</td>\n",
       "    </tr>\n",
       "    <tr>\n",
       "      <th>NOX</th>\n",
       "      <td>-17.766611</td>\n",
       "      <td>-16.684645</td>\n",
       "      <td>-10.777015</td>\n",
       "      <td>-2.371619</td>\n",
       "      <td>-0.262847</td>\n",
       "    </tr>\n",
       "  </tbody>\n",
       "</table>\n",
       "</div>"
      ],
      "text/plain": [
       "           alpha:0  alpha:0.1    alpha:1  alpha:10  alpha:100\n",
       "RM        3.809865   3.818233   3.854000  3.702272   2.334536\n",
       "CHAS      2.686734   2.670019   2.552393  1.952021   0.638335\n",
       "RAD       0.306049   0.303515   0.290142  0.279596   0.315358\n",
       "ZN        0.046420   0.046572   0.047443  0.049579   0.054496\n",
       "INDUS     0.020559   0.015999  -0.008805 -0.042962  -0.052826\n",
       "B         0.009312   0.009368   0.009673  0.010037   0.009393\n",
       "AGE       0.000692  -0.000269  -0.005415 -0.010707   0.001212\n",
       "TAX      -0.012335  -0.012421  -0.012912 -0.013993  -0.015856\n",
       "CRIM     -0.108011  -0.107474  -0.104595 -0.101435  -0.102202\n",
       "LSTAT    -0.524758  -0.525966  -0.533343 -0.559366  -0.660764\n",
       "PTRATIO  -0.952747  -0.940759  -0.876074 -0.797945  -0.829218\n",
       "DIS      -1.475567  -1.459626  -1.372654 -1.248808  -1.153390\n",
       "NOX     -17.766611 -16.684645 -10.777015 -2.371619  -0.262847"
      ]
     },
     "execution_count": 28,
     "metadata": {},
     "output_type": "execute_result"
    }
   ],
   "source": [
    "ridge_alphas = [0, 0.1, 1, 10, 100]\n",
    "sort_column = 'alpha:'+str(ridge_alphas[0])\n",
    "coeff_df.sort_values(by = sort_column, ascending = False)"
   ]
  },
  {
   "cell_type": "markdown",
   "id": "c3e823d8-87bc-4f2a-8fe2-f84802dc6838",
   "metadata": {},
   "source": [
    "### 라쏘 회귀\n",
    "W의 절댓값에 페널티를 부여하는 L1 규제를 선형 회귀에 적용한 것이 라쏘 회귀  \n",
    "L1 규제는 불필요한 회귀 계수를 급격하게 감소시켜 0으로 만들고 제거  \n",
    "L1 규제는 적절한 피처만 회귀에 포함시키는 피처 선택의 특성을 가짐  "
   ]
  },
  {
   "cell_type": "code",
   "execution_count": 50,
   "id": "ff979612-8d17-4b4a-a092-953f21bacb59",
   "metadata": {},
   "outputs": [],
   "source": [
    "from sklearn.linear_model import Lasso, ElasticNet\n",
    "\n",
    "#alpha값에 따른 회귀 모델의 폴드 평균 RMSE를 출력하고 회귀 계수값들을 DataFrame으로 변환\n",
    "def get_linear_reg_eval(model_name, params = None, X_data_n = None, y_target_n = None, verbose = True, return_coeff = True):\n",
    "    coeff_df = pd.DataFrame()\n",
    "    if verbose : print('#####', model_name, '#####')\n",
    "    for param in params:\n",
    "        if model_name == 'Ridge': model = Ridge(alpha = param)\n",
    "        elif model_name == 'Lasso': model = Lasso(alpha = param)\n",
    "        elif model_name == 'ElasticNet': model = ElasticNet(alpha = param, l1_ratio = 0.7)\n",
    "        neg_mse_scores = cross_val_score(model, X_data_n, y_target_n, scoring = 'neg_mean_squared_error', cv = 5)\n",
    "        avg_rmse = np.mean(np.sqrt(-1 * neg_mse_scores))\n",
    "        print('alpha {0} 일 때 5 폴드 세트의 평균 RMSE: {1:.3f}'.format(param, avg_rmse))\n",
    "        #cross_val_score는 evaluation matric만 반환하므로 모델을 다시 학습하여 회귀 추출\n",
    "        model.fit(X_data_n, y_target_n)\n",
    "        if return_coeff:\n",
    "            #alpha에 따른 피처별 회귀 계수를 Series로 변환하고 이를 DataFrame의 칼럼으로 추가\n",
    "            coeff = pd.Series(data = model.coef_, index = X_data_n.columns)\n",
    "            colname = 'alpha:' + str(param)\n",
    "            coeff_df[colname] = coeff\n",
    "\n",
    "    return coeff_df"
   ]
  },
  {
   "cell_type": "code",
   "execution_count": 51,
   "id": "f0442bf2-aee3-4caf-ad9d-ab25839b075d",
   "metadata": {},
   "outputs": [
    {
     "name": "stdout",
     "output_type": "stream",
     "text": [
      "##### Lasso #####\n",
      "alpha 0.07 일 때 5 폴드 세트의 평균 RMSE: 5.612\n",
      "alpha 0.1 일 때 5 폴드 세트의 평균 RMSE: 5.615\n",
      "alpha 0.5 일 때 5 폴드 세트의 평균 RMSE: 5.669\n",
      "alpha 1 일 때 5 폴드 세트의 평균 RMSE: 5.776\n",
      "alpha 3 일 때 5 폴드 세트의 평균 RMSE: 6.189\n"
     ]
    }
   ],
   "source": [
    "lasso_alphas = [0.07, 0.1, 0.5, 1, 3]\n",
    "coeff_lasso_df = get_linear_reg_eval('Lasso', params = lasso_alphas, X_data_n = X_data, y_target_n = y_target)"
   ]
  },
  {
   "cell_type": "markdown",
   "id": "c2d47154-f6d8-420b-afea-84899bf2ab62",
   "metadata": {},
   "source": [
    "### 엘라스틱넷 회귀\n",
    "L2규제와 L1규제를 결합한 회귀  \n",
    "라쏘 회귀가 서로 상관관계가 높은 피처들의 경우 이들 중 중요 피처만 셀렉션하고 다른 피처들은 모두 회귀 계수를 0으로 만듦  \n",
    "이러한 이유로 alpha값에 따라 회귀 계수의 값이 급격히 변동할 수 있는데 엘라스틱넷 회귀는 이를 완화하기 위해 L2규제를 라쏘 회귀에 추가  \n",
    "단점은 수행시간이 오래 걸림"
   ]
  },
  {
   "cell_type": "markdown",
   "id": "b3b5764a-b5b5-4f5e-836f-41d84878d6b7",
   "metadata": {},
   "source": [
    "ElasticNet 클래스의 생성 파라미터는 alpha와 l1_ratio  \n",
    "엘라스틱넷의 규제는 a * L1 + b * L2로 정의  \n",
    "이때 a는 L1 규제의 alpha값, b는 L2 규제의 alpha값  \n",
    "따라서 ElasticNet 클래스의 alpha파라미터 값은 a+b  \n",
    "ElasticNet의 l1_ratio 파라미터 값은 a / (a+b)  \n",
    "l1_ratio가 0이면 a가 0이므로 L2규제와 동일  \n",
    "l1_ratio가 1이면 b가 0이므로 L1규제와 동일"
   ]
  },
  {
   "cell_type": "code",
   "execution_count": 52,
   "id": "9cda6049-a0d8-4481-8978-33b989b84e07",
   "metadata": {},
   "outputs": [
    {
     "name": "stdout",
     "output_type": "stream",
     "text": [
      "##### ElasticNet #####\n",
      "alpha 0.07 일 때 5 폴드 세트의 평균 RMSE: 5.542\n",
      "alpha 0.1 일 때 5 폴드 세트의 평균 RMSE: 5.526\n",
      "alpha 0.5 일 때 5 폴드 세트의 평균 RMSE: 5.467\n",
      "alpha 1 일 때 5 폴드 세트의 평균 RMSE: 5.597\n",
      "alpha 3 일 때 5 폴드 세트의 평균 RMSE: 6.068\n"
     ]
    }
   ],
   "source": [
    "#엘라스틱넷에 사용될 alpha 파라미터의 값들을 정의하고 get_linear_reg_eval()함수 호출\n",
    "#l1_ratio는 0.7로 고정\n",
    "elastic_alphas = [0.07, 0.1, 0.5, 1, 3]\n",
    "coeff_elastic_df = get_linear_reg_eval('ElasticNet', params = elastic_alphas,\n",
    "                                       X_data_n = X_data, y_target_n = y_target)"
   ]
  },
  {
   "cell_type": "code",
   "execution_count": 53,
   "id": "e900012c-aebf-4848-848f-f7302e927263",
   "metadata": {},
   "outputs": [
    {
     "data": {
      "text/html": [
       "<div>\n",
       "<style scoped>\n",
       "    .dataframe tbody tr th:only-of-type {\n",
       "        vertical-align: middle;\n",
       "    }\n",
       "\n",
       "    .dataframe tbody tr th {\n",
       "        vertical-align: top;\n",
       "    }\n",
       "\n",
       "    .dataframe thead th {\n",
       "        text-align: right;\n",
       "    }\n",
       "</style>\n",
       "<table border=\"1\" class=\"dataframe\">\n",
       "  <thead>\n",
       "    <tr style=\"text-align: right;\">\n",
       "      <th></th>\n",
       "      <th>alpha:0.07</th>\n",
       "      <th>alpha:0.1</th>\n",
       "      <th>alpha:0.5</th>\n",
       "      <th>alpha:1</th>\n",
       "      <th>alpha:3</th>\n",
       "    </tr>\n",
       "  </thead>\n",
       "  <tbody>\n",
       "    <tr>\n",
       "      <th>RM</th>\n",
       "      <td>3.574162</td>\n",
       "      <td>3.414154</td>\n",
       "      <td>1.918419</td>\n",
       "      <td>0.938789</td>\n",
       "      <td>0.000000</td>\n",
       "    </tr>\n",
       "    <tr>\n",
       "      <th>CHAS</th>\n",
       "      <td>1.330724</td>\n",
       "      <td>0.979706</td>\n",
       "      <td>0.000000</td>\n",
       "      <td>0.000000</td>\n",
       "      <td>0.000000</td>\n",
       "    </tr>\n",
       "    <tr>\n",
       "      <th>RAD</th>\n",
       "      <td>0.278880</td>\n",
       "      <td>0.283443</td>\n",
       "      <td>0.300761</td>\n",
       "      <td>0.289299</td>\n",
       "      <td>0.146846</td>\n",
       "    </tr>\n",
       "    <tr>\n",
       "      <th>ZN</th>\n",
       "      <td>0.050107</td>\n",
       "      <td>0.050617</td>\n",
       "      <td>0.052878</td>\n",
       "      <td>0.052136</td>\n",
       "      <td>0.038268</td>\n",
       "    </tr>\n",
       "    <tr>\n",
       "      <th>B</th>\n",
       "      <td>0.010122</td>\n",
       "      <td>0.010067</td>\n",
       "      <td>0.009114</td>\n",
       "      <td>0.008320</td>\n",
       "      <td>0.007020</td>\n",
       "    </tr>\n",
       "    <tr>\n",
       "      <th>AGE</th>\n",
       "      <td>-0.010116</td>\n",
       "      <td>-0.008276</td>\n",
       "      <td>0.007760</td>\n",
       "      <td>0.020348</td>\n",
       "      <td>0.043446</td>\n",
       "    </tr>\n",
       "    <tr>\n",
       "      <th>TAX</th>\n",
       "      <td>-0.014522</td>\n",
       "      <td>-0.014814</td>\n",
       "      <td>-0.016046</td>\n",
       "      <td>-0.016218</td>\n",
       "      <td>-0.011417</td>\n",
       "    </tr>\n",
       "    <tr>\n",
       "      <th>INDUS</th>\n",
       "      <td>-0.044855</td>\n",
       "      <td>-0.042719</td>\n",
       "      <td>-0.023252</td>\n",
       "      <td>-0.000000</td>\n",
       "      <td>-0.000000</td>\n",
       "    </tr>\n",
       "    <tr>\n",
       "      <th>CRIM</th>\n",
       "      <td>-0.099468</td>\n",
       "      <td>-0.099213</td>\n",
       "      <td>-0.089070</td>\n",
       "      <td>-0.073577</td>\n",
       "      <td>-0.019058</td>\n",
       "    </tr>\n",
       "    <tr>\n",
       "      <th>NOX</th>\n",
       "      <td>-0.175072</td>\n",
       "      <td>-0.000000</td>\n",
       "      <td>-0.000000</td>\n",
       "      <td>-0.000000</td>\n",
       "      <td>-0.000000</td>\n",
       "    </tr>\n",
       "    <tr>\n",
       "      <th>LSTAT</th>\n",
       "      <td>-0.574822</td>\n",
       "      <td>-0.587702</td>\n",
       "      <td>-0.693861</td>\n",
       "      <td>-0.760457</td>\n",
       "      <td>-0.800368</td>\n",
       "    </tr>\n",
       "    <tr>\n",
       "      <th>PTRATIO</th>\n",
       "      <td>-0.779498</td>\n",
       "      <td>-0.784725</td>\n",
       "      <td>-0.790969</td>\n",
       "      <td>-0.738672</td>\n",
       "      <td>-0.423065</td>\n",
       "    </tr>\n",
       "    <tr>\n",
       "      <th>DIS</th>\n",
       "      <td>-1.189438</td>\n",
       "      <td>-1.173647</td>\n",
       "      <td>-0.975902</td>\n",
       "      <td>-0.725174</td>\n",
       "      <td>-0.031208</td>\n",
       "    </tr>\n",
       "  </tbody>\n",
       "</table>\n",
       "</div>"
      ],
      "text/plain": [
       "         alpha:0.07  alpha:0.1  alpha:0.5   alpha:1   alpha:3\n",
       "RM         3.574162   3.414154   1.918419  0.938789  0.000000\n",
       "CHAS       1.330724   0.979706   0.000000  0.000000  0.000000\n",
       "RAD        0.278880   0.283443   0.300761  0.289299  0.146846\n",
       "ZN         0.050107   0.050617   0.052878  0.052136  0.038268\n",
       "B          0.010122   0.010067   0.009114  0.008320  0.007020\n",
       "AGE       -0.010116  -0.008276   0.007760  0.020348  0.043446\n",
       "TAX       -0.014522  -0.014814  -0.016046 -0.016218 -0.011417\n",
       "INDUS     -0.044855  -0.042719  -0.023252 -0.000000 -0.000000\n",
       "CRIM      -0.099468  -0.099213  -0.089070 -0.073577 -0.019058\n",
       "NOX       -0.175072  -0.000000  -0.000000 -0.000000 -0.000000\n",
       "LSTAT     -0.574822  -0.587702  -0.693861 -0.760457 -0.800368\n",
       "PTRATIO   -0.779498  -0.784725  -0.790969 -0.738672 -0.423065\n",
       "DIS       -1.189438  -1.173647  -0.975902 -0.725174 -0.031208"
      ]
     },
     "execution_count": 53,
     "metadata": {},
     "output_type": "execute_result"
    }
   ],
   "source": [
    "#반환된 coeff_elasitc_df를 첫 번째 칼럼 순으로 내림차순 정렬해 회귀계수 DF 출력\n",
    "sort_column = 'alpha:' + str(elastic_alphas[0])\n",
    "coeff_elastic_df.sort_values(by = sort_column, ascending = False)"
   ]
  },
  {
   "cell_type": "markdown",
   "id": "5c2ae028-b533-4bfb-9272-6bf7103e708b",
   "metadata": {},
   "source": [
    "## 선형 회귀 모델을 위한 데이터 변환\n",
    "선형 회귀 모델은 피처값과 타깃값의 분포가 정규분포형태를 매우 선호  \n",
    "사이킷런 이용해 피처 데이터 세트에 적용하는 변환 작업  \n",
    "1. StandardScaler를 이용해 표준 정규분포를 가진 데이터셋으로 변환하거나 MinMaxScaler클래스를 이용해 최솟값0, 최댓값1인 값으로 정규화\n",
    "2. 스케일링/정규화를 수행한 데이터셋에 다시 다항 특성을 적용하여 변환\n",
    "3. 원래 값에 log함수를 적용하면 보다 정규분포에 가까운 형태로 값이 분포. log변환\n",
    "\n",
    "타깃값의 경우 일반적으로 로그 변환을 수행  "
   ]
  },
  {
   "cell_type": "code",
   "execution_count": 56,
   "id": "3dd223e4-0c35-4af1-bb07-f24005fea2bb",
   "metadata": {},
   "outputs": [],
   "source": [
    "from sklearn.preprocessing import StandardScaler, MinMaxScaler, PolynomialFeatures\n",
    "\n",
    "#method는 Standard, MinMax, Log 결정\n",
    "#p_degree는 다항식 특성을 추가할 때 적용, p_degree는 2이상 부여하지 않음\n",
    "def get_scaled_data(method = 'None', p_degree = None, input_data = None):\n",
    "    if method == 'Standard':\n",
    "        scaled_data = StandardScaler().fit_transform(input_data)\n",
    "    elif method == 'MinMax':\n",
    "        scaled_data = MinMaxScaler().fit_transform(input_data)\n",
    "    elif method == 'Log':\n",
    "        scaled_data = np.log1p(input_data)\n",
    "    else:\n",
    "        scaled_data = input_data\n",
    "    if p_degree != None:\n",
    "        scaled_data = PolynomialFeatures(degree = p_degree,\n",
    "                                         include_bias = False).fit_transform(scaled_data)\n",
    "    return scaled_data"
   ]
  },
  {
   "cell_type": "code",
   "execution_count": 57,
   "id": "bd6e38b0-2f54-47e6-8bf0-633851e34b8b",
   "metadata": {},
   "outputs": [
    {
     "name": "stdout",
     "output_type": "stream",
     "text": [
      "\n",
      "## 변환 유형:None, Polynomial Degree:None\n",
      "alpha 0.1 일 때 5 폴드 세트의 평균 RMSE: 5.788\n",
      "alpha 1 일 때 5 폴드 세트의 평균 RMSE: 5.653\n",
      "alpha 10 일 때 5 폴드 세트의 평균 RMSE: 5.518\n",
      "alpha 100 일 때 5 폴드 세트의 평균 RMSE: 5.330\n",
      "\n",
      "## 변환 유형:Standard, Polynomial Degree:None\n",
      "alpha 0.1 일 때 5 폴드 세트의 평균 RMSE: 5.826\n",
      "alpha 1 일 때 5 폴드 세트의 평균 RMSE: 5.803\n",
      "alpha 10 일 때 5 폴드 세트의 평균 RMSE: 5.637\n",
      "alpha 100 일 때 5 폴드 세트의 평균 RMSE: 5.421\n",
      "\n",
      "## 변환 유형:Standard, Polynomial Degree:2\n",
      "alpha 0.1 일 때 5 폴드 세트의 평균 RMSE: 8.827\n",
      "alpha 1 일 때 5 폴드 세트의 평균 RMSE: 6.871\n",
      "alpha 10 일 때 5 폴드 세트의 평균 RMSE: 5.485\n",
      "alpha 100 일 때 5 폴드 세트의 평균 RMSE: 4.634\n",
      "\n",
      "## 변환 유형:MinMax, Polynomial Degree:None\n",
      "alpha 0.1 일 때 5 폴드 세트의 평균 RMSE: 5.764\n",
      "alpha 1 일 때 5 폴드 세트의 평균 RMSE: 5.465\n",
      "alpha 10 일 때 5 폴드 세트의 평균 RMSE: 5.754\n",
      "alpha 100 일 때 5 폴드 세트의 평균 RMSE: 7.635\n",
      "\n",
      "## 변환 유형:MinMax, Polynomial Degree:2\n",
      "alpha 0.1 일 때 5 폴드 세트의 평균 RMSE: 5.298\n",
      "alpha 1 일 때 5 폴드 세트의 평균 RMSE: 4.323\n",
      "alpha 10 일 때 5 폴드 세트의 평균 RMSE: 5.185\n",
      "alpha 100 일 때 5 폴드 세트의 평균 RMSE: 6.538\n",
      "\n",
      "## 변환 유형:Log, Polynomial Degree:None\n",
      "alpha 0.1 일 때 5 폴드 세트의 평균 RMSE: 4.770\n",
      "alpha 1 일 때 5 폴드 세트의 평균 RMSE: 4.676\n",
      "alpha 10 일 때 5 폴드 세트의 평균 RMSE: 4.836\n",
      "alpha 100 일 때 5 폴드 세트의 평균 RMSE: 6.241\n"
     ]
    }
   ],
   "source": [
    "#Ridge의 alpha값을 다르게 적용하고 다양한 데이터 변환 방법에 따른 RMSE 추출\n",
    "alphas = [0.1, 1, 10, 100]\n",
    "#5개 방식으로 변환, 먼저 원본 그대로, 표준정규분포, 표준정규분포+다항식 특성\n",
    "#최대/최소 정규화, 최대/최소 정규화+다항식 특성, 로그변환\n",
    "scale_methods = [(None, None), ('Standard', None), ('Standard', 2), ('MinMax', None), ('MinMax', 2), ('Log', None)]\n",
    "for scale_method in scale_methods:\n",
    "    X_data_scaled = get_scaled_data(method = scale_method[0], p_degree = scale_method[1],\n",
    "                                    input_data = X_data)\n",
    "    print('\\n## 변환 유형:{0}, Polynomial Degree:{1}'.format(scale_method[0], scale_method[1]))\n",
    "    get_linear_reg_eval('Ridge', params = alphas, X_data_n = X_data_scaled, y_target_n = y_target, verbose = False, return_coeff = False)"
   ]
  },
  {
   "cell_type": "code",
   "execution_count": null,
   "id": "a92c224f-348f-46bb-9b64-bd06d243febb",
   "metadata": {},
   "outputs": [],
   "source": []
  }
 ],
 "metadata": {
  "kernelspec": {
   "display_name": "Python 3 (ipykernel)",
   "language": "python",
   "name": "python3"
  },
  "language_info": {
   "codemirror_mode": {
    "name": "ipython",
    "version": 3
   },
   "file_extension": ".py",
   "mimetype": "text/x-python",
   "name": "python",
   "nbconvert_exporter": "python",
   "pygments_lexer": "ipython3",
   "version": "3.11.7"
  }
 },
 "nbformat": 4,
 "nbformat_minor": 5
}
